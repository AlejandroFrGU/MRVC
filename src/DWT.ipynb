{
 "cells": [
  {
   "cell_type": "markdown",
   "metadata": {},
   "source": [
    "# Testing DWT.py"
   ]
  },
  {
   "cell_type": "markdown",
   "metadata": {},
   "source": [
    "## Parameters"
   ]
  },
  {
   "cell_type": "code",
   "execution_count": null,
   "metadata": {},
   "outputs": [],
   "source": [
    "%matplotlib inline\n",
    "\n",
    "import matplotlib\n",
    "import matplotlib.pyplot as plt\n",
    "import matplotlib.axes as ax\n",
    "import math\n",
    "import numpy as np\n",
    "from scipy import signal\n",
    "import cv2\n",
    "import os\n",
    "import pywt\n",
    "import pylab\n",
    "!ln -sf ~/quantization/deadzone_quantizer.py .\n",
    "import image_1\n",
    "import image_3\n",
    "import DWT"
   ]
  },
  {
   "cell_type": "code",
   "execution_count": null,
   "metadata": {},
   "outputs": [],
   "source": [
    "#prefix = \"/home/vruiz/MRVC/sequences/stockholm/\"\n",
    "prefix = \"/home/vruiz/MRVC/sequences/lena_color/\"\n",
    "frame = image_3.read(prefix, 0)"
   ]
  },
  {
   "cell_type": "code",
   "execution_count": null,
   "metadata": {},
   "outputs": [],
   "source": [
    "image_3.show(frame, prefix)"
   ]
  },
  {
   "cell_type": "markdown",
   "metadata": {},
   "source": [
    "## Testing reversebility and structure of a decomposition\n",
    "In the RGB domain."
   ]
  },
  {
   "cell_type": "code",
   "execution_count": null,
   "metadata": {},
   "outputs": [],
   "source": [
    "color_decomposition = DWT.analyze(frame, N_levels=3)\n",
    "reconstructed_frame = DWT.synthesize(color_decomposition, N_levels=3).astype(np.int16)\n",
    "(frame == reconstructed_frame).all()"
   ]
  },
  {
   "cell_type": "code",
   "execution_count": null,
   "metadata": {},
   "outputs": [],
   "source": [
    "type(color_decomposition)"
   ]
  },
  {
   "cell_type": "code",
   "execution_count": null,
   "metadata": {},
   "outputs": [],
   "source": [
    "len(color_decomposition)"
   ]
  },
  {
   "cell_type": "code",
   "execution_count": null,
   "metadata": {},
   "outputs": [],
   "source": [
    "type(color_decomposition[0])"
   ]
  },
  {
   "cell_type": "code",
   "execution_count": null,
   "metadata": {},
   "outputs": [],
   "source": [
    "color_decomposition[0].shape"
   ]
  },
  {
   "cell_type": "code",
   "execution_count": null,
   "metadata": {},
   "outputs": [],
   "source": [
    "color_decomposition[0].dtype"
   ]
  },
  {
   "cell_type": "code",
   "execution_count": null,
   "metadata": {},
   "outputs": [],
   "source": [
    "type(color_decomposition[1])"
   ]
  },
  {
   "cell_type": "code",
   "execution_count": null,
   "metadata": {},
   "outputs": [],
   "source": [
    "len(color_decomposition[1])"
   ]
  },
  {
   "cell_type": "code",
   "execution_count": null,
   "metadata": {},
   "outputs": [],
   "source": [
    "lowest_resolution = color_decomposition[0]\n",
    "print(type(lowest_resolution), lowest_resolution.shape)\n",
    "for resolution in color_decomposition[1:]:\n",
    "    print(type(resolution))\n",
    "    for subband in resolution:\n",
    "        print(type(subband), subband.shape)"
   ]
  },
  {
   "cell_type": "code",
   "execution_count": null,
   "metadata": {},
   "outputs": [],
   "source": [
    "reconstructed_frame.shape"
   ]
  },
  {
   "cell_type": "code",
   "execution_count": null,
   "metadata": {},
   "outputs": [],
   "source": [
    "image_3.show(frame, \"original\")"
   ]
  },
  {
   "cell_type": "code",
   "execution_count": null,
   "metadata": {},
   "outputs": [],
   "source": [
    "image_3.show(reconstructed_frame, \"reconstruction\")"
   ]
  },
  {
   "cell_type": "code",
   "execution_count": null,
   "metadata": {
    "scrolled": false
   },
   "outputs": [],
   "source": [
    "image_3.show(image_3.normalize(frame - reconstructed_frame), \"difference\")"
   ]
  },
  {
   "cell_type": "markdown",
   "metadata": {},
   "source": [
    "### Showing (glued) decompositions"
   ]
  },
  {
   "cell_type": "code",
   "execution_count": null,
   "metadata": {},
   "outputs": [],
   "source": [
    "def _extract_decomposition(color_decomposition, component_I):\n",
    "    '''Extract a component (in form of a decomposition) from a color\n",
    "decomposition.\n",
    "\n",
    "    Parameters\n",
    "    ----------\n",
    "    color_decomposition : Python-list\n",
    "        An input list of color SRLs.\n",
    "    component_index : int\n",
    "        The component to extract.\n",
    "\n",
    "    Returns\n",
    "    -------\n",
    "    A (monochromatic) decomposition: list\n",
    "\n",
    "    '''\n",
    "    decomposition = [color_decomposition[0][..., component_I]]\n",
    "    for color_resolution in color_decomposition[1:]:\n",
    "        resolution = [] \n",
    "        for color_subband in color_resolution:\n",
    "            resolution.append(color_subband[..., component_I])\n",
    "        decomposition.append(tuple(resolution))\n",
    "    return decomposition\n",
    "\n",
    "def _glue_decomposition(decomposition):\n",
    "    '''Convert a list of (monocromatic) subbands to a (row, column) NumPy array.\n",
    "\n",
    "    Parameters\n",
    "    ----------\n",
    "    decomposition : Python-list\n",
    "        The input decomposition to convert in a np.ndarray.\n",
    "\n",
    "    Returns\n",
    "    -------\n",
    "    The glued decomposition : a (row, column) np.ndarray.\n",
    "        A single monochromatic image with all the wavelet coefficients.\n",
    "    The generated slices : a Python-list.\n",
    "        The data structure in the \"wavedec2\" format that describes the original decomposition.\n",
    "    '''\n",
    "    glued_decomposition, slices = pywt.coeffs_to_array(decomposition)\n",
    "    return glued_decomposition, slices\n",
    "\n",
    "def _glue_color_decomposition(color_decomposition):\n",
    "    '''Convert a list of color SRLs to a (row, column, component) NumPy array.\n",
    "\n",
    "    Parameters\n",
    "    ----------\n",
    "    color_decomposition : Python-list\n",
    "        The input decomposition to convert in a np.ndarray.\n",
    "\n",
    "    Returns\n",
    "    -------\n",
    "    The glued color decomposition : a [row, column, component] np.ndarray.\n",
    "        A single color image with all the wavelet coefficients.\n",
    "    The list of the generated slices : a Python-list (with one item per component).\n",
    "        The description of the data structure in the \"wavedec2\" format that describes the original decomposition.\n",
    "    '''\n",
    "    N_comps = color_decomposition[0].shape[2]\n",
    "    glued_decompositions = []\n",
    "    slices = [None]*3\n",
    "    for component_I in range(N_comps):\n",
    "        decomposition  = extract_decomposition(color_decomposition, component_I)\n",
    "        glued_decomposition, slices[component_I] = glue_decomposition(decomposition)\n",
    "        glued_decompositions.append(glued_decomposition)\n",
    "    N_rows = glued_decompositions[0].shape[0]\n",
    "    N_cols = glued_decompositions[0].shape[1]\n",
    "    glued_color_decomposition = np.empty(shape=(N_rows, N_cols, N_comps), dtype=np.float64)\n",
    "    for component_I in range(N_comps):\n",
    "        glued_color_decomposition[..., component_I] = glued_decompositions[component_I][:]\n",
    "    return glued_color_decomposition, slices\n",
    "\n",
    "glued_color_decomposition = DWT.glue_color_decomposition(color_decomposition)[0]"
   ]
  },
  {
   "cell_type": "code",
   "execution_count": null,
   "metadata": {},
   "outputs": [],
   "source": [
    "image_3.show(image_3.normalize(glued_color_decomposition))"
   ]
  },
  {
   "cell_type": "markdown",
   "metadata": {},
   "source": [
    "### Reading and writting decompositions"
   ]
  },
  {
   "cell_type": "code",
   "execution_count": null,
   "metadata": {},
   "outputs": [],
   "source": [
    "def add(decomposition, val=32768, dtype=np.uint16):\n",
    "    new_decomp = [(decomposition[0] + val).astype(dtype)]\n",
    "    for resolution in decomposition[1:]:\n",
    "        new_resol = []\n",
    "        for subband in resolution:\n",
    "            new_resol.append((subband + val).astype(dtype))\n",
    "        new_decomp.append(tuple(new_resol))\n",
    "    return new_decomp\n",
    "\n",
    "def set_type(decomposition, dtype):\n",
    "    new_decomp = [decomposition[0].astype(dtype)]\n",
    "    for resolution in decomposition[1:]:\n",
    "        new_resol = []\n",
    "        for subband in resolution:\n",
    "            new_resol.append(subband.astype(dtype))\n",
    "        new_decomp.append(tuple(new_resol))\n",
    "    return new_decomp\n",
    "\n",
    "def copy(decomposition):\n",
    "    new_decomp = [decomposition[0].copy()]\n",
    "    for resolution in decomposition[1:]:\n",
    "        new_resol = []\n",
    "        for subband in resolution:\n",
    "            new_resol.append(subband.copy())\n",
    "            "
   ]
  },
  {
   "cell_type": "code",
   "execution_count": null,
   "metadata": {},
   "outputs": [],
   "source": [
    "DWT.write_decomposition(DWT.add(color_decomposition, 32768, np.uint16), \"/tmp/\", 0, N_levels=3)"
   ]
  },
  {
   "cell_type": "code",
   "execution_count": null,
   "metadata": {
    "scrolled": true
   },
   "outputs": [],
   "source": [
    "_N_levels = 5\n",
    "def read_decomposition(prefix, image_number=0, N_levels=_N_levels):\n",
    "    '''Read a color decomposition from the disk (one file per color subband).\n",
    "\n",
    "    Parameters\n",
    "    ----------\n",
    "    prefix : A Python-string.\n",
    "        The prefix of the input files.\n",
    "    image_number : A signed integer.\n",
    "        The image number in a possible sequence of images (frames).\n",
    "\n",
    "    Returns\n",
    "    -------\n",
    "    color_decomposition : A Python-list of color SRLs.\n",
    "        The color decomposition read from the disk.\n",
    "\n",
    "    '''\n",
    "    #LL = L.read(f\"{prefix}_{N_levels+1}\", image_number)\n",
    "    LL = image_3.read(f\"{prefix}LL{N_levels}\", image_number)\n",
    "    color_decomposition = [LL]\n",
    "    resolution_I = N_levels\n",
    "    for l in range(N_levels, 0, -1):\n",
    "        subband_names = [\"LH\", \"HL\", \"HH\"]\n",
    "        sb = 0\n",
    "        resolution = []\n",
    "        for sbn in subband_names:\n",
    "            resolution.append(image_3.read(f\"{prefix}{sbn}{resolution_I}\", image_number))\n",
    "            sb += 1\n",
    "        color_decomposition.append(tuple(resolution))\n",
    "        resolution_I -= 1    \n",
    "\n",
    "_color_decomposition = DWT.read_decomposition(\"/tmp/\", 0, N_levels=3)"
   ]
  },
  {
   "cell_type": "markdown",
   "metadata": {},
   "source": [
    "### Reading and writing glued decompositions"
   ]
  },
  {
   "cell_type": "code",
   "execution_count": null,
   "metadata": {},
   "outputs": [],
   "source": [
    "def extract_decomposition(color_decomposition, component_I):\n",
    "    '''Extract a component (in form of a decomposition) from a color\n",
    "decomposition.\n",
    "\n",
    "    Parameters\n",
    "    ----------\n",
    "    color_decomposition : Python-list\n",
    "        An input list of color SRLs.\n",
    "    component_index : int\n",
    "        The component to extract.\n",
    "\n",
    "    Returns\n",
    "    -------\n",
    "    A (monochromatic) decomposition: list\n",
    "\n",
    "    '''\n",
    "    decomposition = [color_decomposition[0][..., component_I]]\n",
    "    for color_resolution in color_decomposition[1:]:\n",
    "        resolution = [] \n",
    "        for color_subband in color_resolution:\n",
    "            resolution.append(color_subband[..., component_I])\n",
    "        decomposition.append(tuple(resolution))\n",
    "    return decomposition\n",
    "\n",
    "def glue_decomposition(decomposition):\n",
    "    '''Convert a list of (monocromatic) subbands to a (row, column) NumPy array.\n",
    "\n",
    "    Parameters\n",
    "    ----------\n",
    "    decomposition : Python-list\n",
    "        The input decomposition to convert in a np.ndarray.\n",
    "\n",
    "    Returns\n",
    "    -------\n",
    "    The glued decomposition : a (row, column) np.ndarray.\n",
    "        A single monochromatic image with all the wavelet coefficients.\n",
    "    The generated slices : a Python-list.\n",
    "        The data structure in the \"wavedec2\" format that describes the original decomposition.\n",
    "    '''\n",
    "    glued_decomposition, slices = pywt.coeffs_to_array(decomposition)\n",
    "    return glued_decomposition, slices\n",
    "\n",
    "def glue_color_decomposition(color_decomposition):\n",
    "    '''Convert a list of color SRLs to a (row, column, component) NumPy array.\n",
    "\n",
    "    Parameters\n",
    "    ----------\n",
    "    color_decomposition : Python-list\n",
    "        The input decomposition to convert in a np.ndarray.\n",
    "\n",
    "    Returns\n",
    "    -------\n",
    "    The glued color decomposition : a [row, column, component] np.ndarray.\n",
    "        A single color image with all the wavelet coefficients.\n",
    "    The list of the generated slices : a Python-list (with one item per component).\n",
    "        The description of the data structure in the \"wavedec2\" format that describes the original decomposition.\n",
    "    '''\n",
    "    N_comps = color_decomposition[0].shape[2]\n",
    "    dtype = color_decomposition[0].dtype\n",
    "    glued_decompositions = []\n",
    "    slices = [None]*3\n",
    "    for component_I in range(N_comps):\n",
    "        decomposition  = extract_decomposition(color_decomposition, component_I)\n",
    "        glued_decomposition, slices[component_I] = glue_decomposition(decomposition)\n",
    "        glued_decompositions.append(glued_decomposition)\n",
    "    N_rows = glued_decompositions[0].shape[0]\n",
    "    N_cols = glued_decompositions[0].shape[1]\n",
    "    glued_color_decomposition = np.empty(shape=(N_rows, N_cols, N_comps), dtype=dtype)\n",
    "    for component_I in range(N_comps):\n",
    "        glued_color_decomposition[..., component_I] = glued_decompositions[component_I][:]\n",
    "    return glued_color_decomposition, slices\n",
    "\n",
    "def write(color_decomposition, prefix=str, image_number=0):\n",
    "    '''Write a color decomposition into disk file, as a single color\n",
    "image, in glued format.\n",
    "\n",
    "    Parameters\n",
    "    ----------\n",
    "    color_decomposition : A Python-list of color SRLs.\n",
    "        The color decomposition to write in disk.\n",
    "    prefix : A Python-string.\n",
    "        The prefix of the output file.\n",
    "    image_number : A signed integer.\n",
    "        The image number in a possible sequence of images (frames).\n",
    "\n",
    "    Returns\n",
    "    -------\n",
    "    The list of slices that describes the structure of the decomposition of each component.\n",
    "\n",
    "    '''\n",
    "    glued_color_decomposition, slices = glue_color_decomposition(color_decomposition)\n",
    "    output_length = image_3.write(glued_color_decomposition, prefix, image_number)\n",
    "    return output_length, slices\n",
    "\n",
    "N_bytes, slices = DWT.write(DWT.add(color_decomposition, 32768, np.uint16), \"/tmp/\", 0)"
   ]
  },
  {
   "cell_type": "code",
   "execution_count": null,
   "metadata": {},
   "outputs": [],
   "source": [
    "def unglue_decomposition(glued_decomposition, slices):\n",
    "    '''Convert a glued decomposition (a (row, column) np.array) in a list of tuples\n",
    "of subbands (each one a (row, column) np.ndarray).\n",
    "    Parameters\n",
    "    ----------\n",
    "    glued_decomposition : np.ndarray\n",
    "        The glued decomposition to split.\n",
    "    slices : list\n",
    "        The structure of the decomposition in \"wavdec2\" format.\n",
    "    Returns\n",
    "    -------\n",
    "    The decomposition : a Python-list of SRLs.\n",
    "    '''\n",
    "    decomposition = pywt.array_to_coeffs(glued_decomposition, coeff_slices=slices, output_format='wavedec2')\n",
    "    return decomposition\n",
    "\n",
    "def unglue_color_decomposition(glued_color_decomposition, slices):\n",
    "    '''Convert a (row, column, component) NumPy array in a list of color\n",
    "SRLs.\n",
    "\n",
    "    Parameters\n",
    "    ----------\n",
    "    glued_color_decomposition : a (row, column, component) NumPy array.\n",
    "        The glued color decomposition to split.\n",
    "    slices : list\n",
    "        The description of the structures (one per component)  of the decomposition in \"wavdec2\" format.\n",
    "\n",
    "    Returns\n",
    "    -------\n",
    "    The color decomposition : a Python-list of SRLs.\n",
    "       The same structure as analyze().\n",
    "    '''\n",
    "\n",
    "    N_levels = len(slices)\n",
    "    N_comps = glued_color_decomposition.shape[2]\n",
    "    decompositions = []\n",
    "    for component_I in range(N_comps):\n",
    "        decompositions.append(unglue_decomposition(glued_color_decomposition[..., component_I], slices[component_I]))\n",
    "    # \"decompositions\" is a list with three decompositions.\n",
    "\n",
    "    ########### notice that the following code is used also un analyze() ##############\n",
    "    color_decomposition = []\n",
    "    # LL^N_levels and H^N_levels subbands (both have the same resolution)\n",
    "    N_rows_subband, N_columns_subband = decompositions[0][0].shape # All subbands in the SRL with the same shape\n",
    "    LL = np.empty(shape=(N_rows_subband, N_columns_subband, N_comps), dtype=np.float64)\n",
    "    LH = np.zeros(shape=(N_rows_subband, N_columns_subband, N_comps), dtype=np.float64)\n",
    "    HL = np.zeros(shape=(N_rows_subband, N_columns_subband, N_comps), dtype=np.float64)\n",
    "    HH = np.zeros(shape=(N_rows_subband, N_columns_subband, N_comps), dtype=np.float64)\n",
    "    for component_I in range(N_comps):\n",
    "        LL[:,:, component_I] = decompositions[component_I][0][:,:]\n",
    "        LH[:,:, component_I] = decompositions[component_I][1][0][:,:]\n",
    "        HL[:,:, component_I] = decompositions[component_I][1][1][:,:]\n",
    "        HH[:,:, component_I] = decompositions[component_I][1][2][:,:]\n",
    "    color_decomposition.append(LL)\n",
    "    color_decomposition.append((LH, HL, HH))\n",
    "    \n",
    "    # For the rest of SRLs (have increasing resolutions)\n",
    "    for resolution_I in range(2, N_levels+1):\n",
    "        N_rows_subband, N_columns_subband = decompositions[0][resolution_I][0].shape\n",
    "        prev_N_columns_subband = N_columns_subband\n",
    "        LH = np.zeros(shape=(N_rows_subband, N_columns_subband, N_comps), dtype=np.float64)\n",
    "        HL = np.zeros(shape=(N_rows_subband, N_columns_subband, N_comps), dtype=np.float64)\n",
    "        HH = np.zeros(shape=(N_rows_subband, N_columns_subband, N_comps), dtype=np.float64)\n",
    "        for component_I in range(N_comps):\n",
    "            LH[:,:, component_I] = decompositions[component_I][resolution_I][0][:,:]\n",
    "            HL[:,:, component_I] = decompositions[component_I][resolution_I][1][:,:]\n",
    "            HH[:,:, component_I] = decompositions[component_I][resolution_I][2][:,:]\n",
    "        color_decomposition.append((LH, HL, HH))\n",
    "    return color_decomposition\n",
    "\n",
    "def read(slices, prefix, image_number=0):\n",
    "    '''Read a color decomposition from a disk file.\n",
    "\n",
    "    Parameters\n",
    "    ----------\n",
    "    slices : a Python-list\n",
    "        The structure of the decomposition of each component.\n",
    "    prefid: A Python-string\n",
    "        The prefix of the inputf¡ file.\n",
    "    image_number : A signed integer.\n",
    "        The image number in a possible sequence of images (frames).\n",
    "\n",
    "    Returns\n",
    "    -------\n",
    "    A color decomposition : a Python-list of color subbands.\n",
    "    '''\n",
    "    glued_color_decomposition = image_3.read(prefix, image_number)\n",
    "    color_decomposition = unglue_color_decomposition(glued_color_decomposition, slices)\n",
    "    return color_decomposition\n",
    "\n",
    "_color_decomposition = DWT.read(slices, \"/tmp/\", 0)"
   ]
  },
  {
   "cell_type": "code",
   "execution_count": null,
   "metadata": {},
   "outputs": [],
   "source": [
    "glued_color_decomposition = DWT.glue_color_decomposition(_color_decomposition)[0]\n",
    "image_3.show(image_3.normalize(glued_color_decomposition))"
   ]
  },
  {
   "cell_type": "markdown",
   "metadata": {},
   "source": [
    "### In the YCoCg domain"
   ]
  },
  {
   "cell_type": "code",
   "execution_count": null,
   "metadata": {},
   "outputs": [],
   "source": [
    "YCoCg_frame = YCoCg.from_RGB(RGB_frame.astype(np.int16))\n",
    "YCoCg_decomposition = DWT.analyze(YCoCg_frame, N_levels=2)\n",
    "YCoCg_reconstructed_frame = DWT.synthesize(YCoCg_decomposition, N_levels=2)\n",
    "RGB_reconstructed_frame = YCoCg.to_RGB(YCoCg_reconstructed_frame).astype(np.int16)\n",
    "(RGB_frame == RGB_reconstructed_frame).all()"
   ]
  },
  {
   "cell_type": "code",
   "execution_count": null,
   "metadata": {},
   "outputs": [],
   "source": [
    "image.show(RGB_frame, \"original\") "
   ]
  },
  {
   "cell_type": "code",
   "execution_count": null,
   "metadata": {},
   "outputs": [],
   "source": [
    "image.show(RGB_reconstructed_frame, \"reconstruction\")"
   ]
  },
  {
   "cell_type": "code",
   "execution_count": null,
   "metadata": {},
   "outputs": [],
   "source": [
    "show(RGB_frame - RGB_reconstructed_frame, \"difference\")"
   ]
  },
  {
   "cell_type": "markdown",
   "metadata": {},
   "source": [
    "### Reading and writting decompositions"
   ]
  },
  {
   "cell_type": "code",
   "execution_count": null,
   "metadata": {},
   "outputs": [],
   "source": [
    "DWT.write(RGB_decomposition, \"/tmp/\", 0, N_levels=2)"
   ]
  },
  {
   "cell_type": "code",
   "execution_count": null,
   "metadata": {
    "scrolled": true
   },
   "outputs": [],
   "source": [
    "RGB_decomposition = DWT.read(\"/tmp/\", 0, N_levels=2)"
   ]
  },
  {
   "cell_type": "code",
   "execution_count": null,
   "metadata": {},
   "outputs": [],
   "source": [
    "YCoCg_reconstructed_frame = DWT.synthesize(YCoCg_decomposition, N_levels=2)\n",
    "RGB_reconstructed_frame = YCoCg.to_RGB(YCoCg_reconstructed_frame).astype(np.int16)\n",
    "image.show(RGB_reconstructed_frame, \"reconstruction\")"
   ]
  },
  {
   "cell_type": "markdown",
   "metadata": {},
   "source": [
    "## Quantizing the RGB domain"
   ]
  },
  {
   "cell_type": "code",
   "execution_count": null,
   "metadata": {},
   "outputs": [],
   "source": [
    "RGB_points = []\n",
    "with open('../05-RGB_compression/RGB.txt', 'r') as f:\n",
    "    for line in f:\n",
    "        rate, _distortion = line.split('\\t')\n",
    "        RGB_points.append((float(rate), float(_distortion)))"
   ]
  },
  {
   "cell_type": "markdown",
   "metadata": {},
   "source": [
    "## Quantizing the YCoCg domain"
   ]
  },
  {
   "cell_type": "code",
   "execution_count": null,
   "metadata": {},
   "outputs": [],
   "source": [
    "YCoCg_points = []\n",
    "with open('../06-YUV_compression/YCoCg.txt', 'r') as f:\n",
    "    for line in f:\n",
    "        rate, _distortion = line.split('\\t')\n",
    "        YCoCg_points.append((float(rate), float(_distortion)))"
   ]
  },
  {
   "cell_type": "markdown",
   "metadata": {},
   "source": [
    "## Quantizing the YCoCg+DCT domain"
   ]
  },
  {
   "cell_type": "code",
   "execution_count": null,
   "metadata": {},
   "outputs": [],
   "source": [
    "DCT_points = []\n",
    "with open('../07-DCT/DCT.txt', 'r') as f:\n",
    "    for line in f:\n",
    "        rate, _distortion = line.split('\\t')\n",
    "        DCT_points.append((float(rate), float(_distortion)))"
   ]
  },
  {
   "cell_type": "markdown",
   "metadata": {},
   "source": [
    "## Quantizing the YCoCg/DWT domain"
   ]
  },
  {
   "cell_type": "code",
   "execution_count": null,
   "metadata": {},
   "outputs": [],
   "source": [
    "def bytes_per_frame(img):\n",
    "    frame.write(img, \"/tmp/frame\")\n",
    "    length_in_bytes = os.path.getsize(\"/tmp/frame.png\")\n",
    "    return length_in_bytes\n",
    "\n",
    "def bits_per_pixel(img):\n",
    "    return 8*bytes_per_frame(img)/np.size(img)\n",
    "\n",
    "def bytes_per_grayframe(img):\n",
    "    cv2.imwrite(\"/tmp/frame.png\", img)\n",
    "    length_in_bytes = os.path.getsize(\"/tmp/frame.png\")\n",
    "    return length_in_bytes\n",
    "\n",
    "def bits_per_graypixel(img):\n",
    "    return 8*bytes_per_grayframe(img)/np.size(img)"
   ]
  },
  {
   "cell_type": "code",
   "execution_count": null,
   "metadata": {},
   "outputs": [],
   "source": [
    "N_LEVELS = 3\n",
    "def _DWT_RD_curve(RGB_frame, n_levels=N_LEVELS):\n",
    "    n_channels = RGB_frame.shape[2]\n",
    "    RD_points = []\n",
    "    for q_step in range(0, 8):\n",
    "        YCoCg_frame = YCoCg.from_RGB(RGB_frame.astype(np.int16))\n",
    "        YCoCg_decomposition = DWT.analyze(YCoCg_frame, n_levels=n_levels)\n",
    "        dequantized_YCoCg_decomposition = []\n",
    "        rate = 0\n",
    "        for channel in range(n_channels):\n",
    "            # In a channel there is a decomposition\n",
    "            decomposition = YCoCg_decomposition[channel]\n",
    "            cAn = decomposition[0]\n",
    "            k, dequantized_cAn = q_deq(cAn, 1<<q_step)\n",
    "            k = k.astype(np.uint8)\n",
    "            dequantized_decomposition = [dequantized_cAn]\n",
    "            rate += bytes_per_frame(k)\n",
    "            rest_of_resolutions = decomposition[1:]\n",
    "            for resolution in rest_of_resolutions:\n",
    "                # In a resolution there is/are one/three subbands\n",
    "                dequantized_resolution = []\n",
    "                for subband in resolution:\n",
    "                    k, dequantized_subband = q_deq(subband, 1<<q_step)\n",
    "                    k = k.astype(np.uint8)\n",
    "                    rate += bytes_per_grayframe(k)\n",
    "                    dequantized_resolution.append(dequantized_subband)\n",
    "                dequantized_decomposition.append(tuple(dequantized_resolution))\n",
    "            dequantized_YCoCg_decomposition.append(dequantized_decomposition)\n",
    "        reconstructed_YCoCg_frame = DWT.synthesize(dequantized_YCoCg_decomposition)\n",
    "        reconstructed_RGB_frame = YCoCg.to_RGB(reconstructed_YCoCg_frame)\n",
    "        distortion = MSE(RGB_frame, reconstructed_RGB_frame)\n",
    "        print(f\"q_step={1<<q_step:>3}, rate={rate:>7} bytes, distortion={distortion:>6.1f}\")\n",
    "        RD_points.append((rate, distortion))\n",
    "    return RD_points\n",
    "\n",
    "def DWT_RD_curve(RGB_frame, N_levels):\n",
    "    n_channels = RGB_frame.shape[2]\n",
    "    RD_points = []\n",
    "    for q_step in range(0, 8):\n",
    "        YUV_frame = YCoCg.from_RGB(RGB_frame.astype(np.int16))\n",
    "        YUV_decomposition = DWT.analyze(YUV_frame, N_levels=N_levels)\n",
    "        dequantized_YUV_decomposition = []\n",
    "        rate = 0\n",
    "        cAn = YUV_decomposition[0]\n",
    "        dequantized_cAn, k = q_deq(cAn, 1<<q_step)\n",
    "        #rate += bytes_per_frame(k.astype(np.uint8))\n",
    "        rate += image.write((k + 128).astype(np.uint8), f\"/tmp/{q_step}_\", 0)\n",
    "        dequantized_YUV_decomposition.append(dequantized_cAn)\n",
    "        rest_of_resolutions = YUV_decomposition[1:]\n",
    "        for resolution in rest_of_resolutions:\n",
    "            dequantized_resolution = []\n",
    "            for subband in resolution:\n",
    "                dequantized_subband, k  = q_deq(subband, 1<<q_step)\n",
    "                #rate += bytes_per_frame(k.astype(np.uint8))\n",
    "                rate += image.write((k + 128).astype(np.uint8), f\"/tmp/{q_step}_\", 0)\n",
    "                dequantized_resolution.append(dequantized_subband)\n",
    "            dequantized_YUV_decomposition.append(tuple(dequantized_resolution))\n",
    "        reconstructed_YUV_frame = DWT.synthesize(dequantized_YUV_decomposition, N_levels=N_levels)\n",
    "        reconstructed_RGB_frame = YCoCg.to_RGB(reconstructed_YUV_frame)\n",
    "        _distortion = distortion.MSE(RGB_frame, reconstructed_RGB_frame)\n",
    "        print(f\"q_step={1<<q_step:>3}, rate={rate:>7} bytes, distortion={_distortion:>6.1f}\")\n",
    "        RD_points.append((8*rate/RGB_frame.size, _distortion))\n",
    "    return RD_points\n",
    "\n",
    "DWT_points_1 = DWT_RD_curve(RGB_frame, N_levels=1)\n",
    "DWT_points_2 = DWT_RD_curve(RGB_frame, N_levels=2)\n",
    "DWT_points_3 = DWT_RD_curve(RGB_frame, N_levels=3)"
   ]
  },
  {
   "cell_type": "code",
   "execution_count": null,
   "metadata": {},
   "outputs": [],
   "source": [
    "pylab.figure(dpi=150)\n",
    "pylab.plot(*zip(*DWT_points_1), c='r', marker=\"x\", label='DWT(n_levels=1)')\n",
    "pylab.plot(*zip(*DWT_points_2), c='g', marker=\"x\", label='DWT(n_levels=2)')\n",
    "pylab.plot(*zip(*DWT_points_3), c='b', marker=\"x\", label='DWT(n_levels=3)')\n",
    "pylab.title(\"Impact of the Number of Levels\")\n",
    "pylab.xlabel(\"Bits/Pixel\")\n",
    "pylab.ylabel(\"MSE\")\n",
    "plt.legend(loc='upper right')\n",
    "pylab.show()"
   ]
  },
  {
   "cell_type": "code",
   "execution_count": null,
   "metadata": {},
   "outputs": [],
   "source": [
    "pylab.figure(dpi=150)\n",
    "#pylab.plot(*zip(*RGB_points), c='b', marker=\"x\", label='RGB')\n",
    "#pylab.plot(*zip(*YCoCg_points), c='g', marker=\"x\", label='YCoCg')\n",
    "pylab.plot(*zip(*DWT_points_3), c='r', marker=\"x\", label='YCoCg+DWT')\n",
    "pylab.plot(*zip(*DCT_points), c='m', marker=\"x\", label='DCT')\n",
    "pylab.title(\"Global Performance\")\n",
    "pylab.xlabel(\"Bits/Pixel\")\n",
    "pylab.ylabel(\"MSE\")\n",
    "plt.legend(loc='upper right')\n",
    "#plt.yscale('log')\n",
    "pylab.show()"
   ]
  },
  {
   "cell_type": "code",
   "execution_count": null,
   "metadata": {},
   "outputs": [],
   "source": [
    "with open('DWT3.txt', 'w') as f:\n",
    "    for item in DWT_points_3:\n",
    "        f.write(f\"{item[0]}\\t{item[1]}\\n\")"
   ]
  },
  {
   "cell_type": "markdown",
   "metadata": {},
   "source": [
    "## Ignore the rest"
   ]
  },
  {
   "cell_type": "code",
   "execution_count": null,
   "metadata": {},
   "outputs": [],
   "source": [
    "def RGB_to_YCoCg(RGB_frame):\n",
    "    R, G, B = RGB_frame[:,:,0], RGB_frame[:,:,1], RGB_frame[:,:,2]\n",
    "    YCoCg_frame = np.empty_like(RGB_frame)\n",
    "    YCoCg_frame[:,:,0] =  R/4 + G/2 + B/4 \n",
    "    YCoCg_frame[:,:,1] =  R/2       - B/2\n",
    "    YCoCg_frame[:,:,2] = -R/4 + G/2 - B/4\n",
    "    return YCoCg_frame\n",
    "\n",
    "def YCoCg_to_RGB(YCoCg_frame):\n",
    "    Y, Co, Cg = YCoCg_frame[:,:,0], YCoCg_frame[:,:,1], YCoCg_frame[:,:,2]\n",
    "    RGB_frame = np.empty_like(YCoCg_frame)\n",
    "    RGB_frame[:,:,0] = Y + Co - Cg \n",
    "    RGB_frame[:,:,1] = Y      + Cg\n",
    "    RGB_frame[:,:,2] = Y - Co - Cg\n",
    "    return RGB_frame"
   ]
  },
  {
   "cell_type": "code",
   "execution_count": null,
   "metadata": {},
   "outputs": [],
   "source": [
    "def _average_energy(x):\n",
    "    return np.sum(x.astype(np.double)*x.astype(np.double))/(np.size(x))\n",
    "\n",
    "def _MSE(x, y):\n",
    "    error_signal = x.astype(np.float32) - y\n",
    "    return average_energy(error_signal)\n",
    "\n",
    "def _RMSE(x, y):\n",
    "    error_signal = x.astype(np.float32) - y\n",
    "    return math.sqrt(MSE(error_signal))"
   ]
  },
  {
   "cell_type": "code",
   "execution_count": null,
   "metadata": {},
   "outputs": [],
   "source": [
    "def bytes_per_frame(_frame):\n",
    "    frame.write(_frame, \"/tmp/frame\")\n",
    "    length_in_bytes = os.path.getsize(\"/tmp/frame.png\")\n",
    "    return length_in_bytes\n",
    "\n",
    "def bits_per_pixel(img):\n",
    "    return 8*bytes_per_frame(img)/np.size(img)\n",
    "\n",
    "def bytes_per_grayframe(_frame):\n",
    "    cv2.imwrite(\"/tmp/frame.png\", _frame)\n",
    "    length_in_bytes = os.path.getsize(\"/tmp/frame.png\")\n",
    "    return length_in_bytes\n",
    "\n",
    "def bits_per_graypixel(img):\n",
    "    return 8*bytes_per_grayframe(img)/np.size(img)"
   ]
  },
  {
   "cell_type": "code",
   "execution_count": null,
   "metadata": {},
   "outputs": [],
   "source": [
    "WAVELET = pywt.Wavelet(\"db5\")\n",
    "#WAVELET = pywt.Wavelet(\"bior3.5\")\n",
    "N_LEVELS = 3\n",
    "\n",
    "def color_DWT_analyze(color_frame, wavelet=WAVELET, n_levels=N_LEVELS):\n",
    "    n_channels = color_frame.shape[2]\n",
    "    color_decomposition = [None]*n_channels\n",
    "    for c in range(n_channels):\n",
    "        color_decomposition[c] = pywt.wavedec2(data=color_frame[:,:,c], wavelet=wavelet, mode='per', level=n_levels)\n",
    "    return color_decomposition # A list of \"gray\" decompositions\n",
    "\n",
    "def _color_DWT_analyze(color_frame, wavelet=WAVELET, n_levels=N_LEVELS):\n",
    "    n_channels = color_frame.shape[0]\n",
    "    color_decomposition = [None]*n_channels\n",
    "    for c in range(n_channels):\n",
    "        color_decomposition[c] = pywt.wavedec2(data=color_frame[c], wavelet=wavelet, mode='per', level=n_levels)\n",
    "    return color_decomposition # A list of \"gray\" decompositions\n",
    "\n",
    "def color_DWT_synthesize(color_decomposition, wavelet=WAVELET):\n",
    "    n_channels = len(color_decomposition)\n",
    "    #n_levels = len(color_decomposition[0])-1\n",
    "    # color_decomposition[0] <- First channel\n",
    "    # color_decomposition[0][0] <- cAn (lowest frequecy subband) of the first channel\n",
    "    # color_decomposition[0][1] <- (cHn, cVn, cDn) (lowest high-frequency subbands) of the first channel\n",
    "    # color_decomposition[0][1][0] <- cHn (LH subband) of the first channel\n",
    "    # See https://pywavelets.readthedocs.io/en/latest/ref/2d-dwt-and-idwt.html#d-multilevel-decomposition-using-wavedec2\n",
    "    _color_frame = []\n",
    "    for c in range(n_channels):\n",
    "        frame = pywt.waverec2(color_decomposition[c], wavelet=wavelet, mode='per')\n",
    "        _color_frame.append(frame)\n",
    "    n_rows = _color_frame[0].shape[0]\n",
    "    n_columns = _color_frame[0].shape[1]\n",
    "    color_frame = np.ndarray((n_rows, n_columns, n_channels), np.float64)\n",
    "    for c in range(n_channels):\n",
    "        color_frame[:,:,c] = _color_frame[c][:,:]\n",
    "    return color_frame\n",
    "\n",
    "def _color_DWT_synthesize(color_decomposition, wavelet=WAVELET):\n",
    "    n_channels = len(color_decomposition)\n",
    "    #n_levels = len(color_decomposition[0])-1\n",
    "    # color_decomposition[0] <- First channel\n",
    "    # color_decomposition[0][0] <- cAn (lowest frequecy subband) of the first channel\n",
    "    # color_decomposition[0][1] <- (cHn, cVn, cDn) (lowest high-frequency subbands) of the first channel\n",
    "    # color_decomposition[0][1][0] <- cHn (LH subband) of the first channel\n",
    "    # See https://pywavelets.readthedocs.io/en/latest/ref/2d-dwt-and-idwt.html#d-multilevel-decomposition-using-wavedec2\n",
    "    _color_frame = []\n",
    "    for c in range(n_channels):\n",
    "        _frame = pywt.waverec2(color_decomposition[c], wavelet=wavelet, mode='per')\n",
    "        _color_frame.append(_frame)\n",
    "    #n_rows = _color_frame[1].shape[0]\n",
    "    #n_columns = _color_frame[2].shape[1]\n",
    "    #color_frame = np.ndarray((n_channels, n_rows, n_columns), np.float64)\n",
    "    #for c in range(n_channels):\n",
    "    #    color_frame[c] = _color_frame[c][:,:]\n",
    "    return np.array(_color_frame)"
   ]
  },
  {
   "cell_type": "code",
   "execution_count": null,
   "metadata": {},
   "outputs": [],
   "source": []
  }
 ],
 "metadata": {
  "kernelspec": {
   "display_name": "Python 3",
   "language": "python",
   "name": "python3"
  },
  "language_info": {
   "codemirror_mode": {
    "name": "ipython",
    "version": 3
   },
   "file_extension": ".py",
   "mimetype": "text/x-python",
   "name": "python",
   "nbconvert_exporter": "python",
   "pygments_lexer": "ipython3",
   "version": "3.9.9"
  }
 },
 "nbformat": 4,
 "nbformat_minor": 4
}
