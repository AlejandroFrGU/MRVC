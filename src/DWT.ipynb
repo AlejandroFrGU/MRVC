{
 "cells": [
  {
   "cell_type": "markdown",
   "metadata": {},
   "source": [
    "# DWT (Discrete Wavelet Transform)"
   ]
  },
  {
   "cell_type": "code",
   "execution_count": null,
   "metadata": {},
   "outputs": [],
   "source": [
    "import numpy as np\n",
    "import matplotlib\n",
    "import matplotlib.pyplot as plt\n",
    "import pylab\n",
    "%matplotlib inline\n",
    "import image\n",
    "import DWT\n",
    "import pywt\n",
    "import distortion\n",
    "import YCoCg as YUV\n",
    "import deadzone as Q"
   ]
  },
  {
   "cell_type": "code",
   "execution_count": null,
   "metadata": {},
   "outputs": [],
   "source": [
    "wavelet = pywt.Wavelet(\"Haar\")\n",
    "#wavelet = pywt.Wavelet(\"db1\")\n",
    "#wavelet = pywt.Wavelet(\"db5\")\n",
    "#wavelet = pywt.Wavelet(\"bior3.1\")\n",
    "wavelet = pywt.Wavelet(\"bior3.3\")\n",
    "print(wavelet)"
   ]
  },
  {
   "cell_type": "code",
   "execution_count": null,
   "metadata": {},
   "outputs": [],
   "source": [
    "test_image = \"../sequences/lena_color/\""
   ]
  },
  {
   "cell_type": "code",
   "execution_count": null,
   "metadata": {},
   "outputs": [],
   "source": [
    "N_levels = 5"
   ]
  },
  {
   "cell_type": "code",
   "execution_count": null,
   "metadata": {},
   "outputs": [],
   "source": [
    "Q_steps = [128, 64, 32, 16, 8, 4, 2, 1]"
   ]
  },
  {
   "cell_type": "markdown",
   "metadata": {},
   "source": [
    "## First ... some handy routines"
   ]
  },
  {
   "cell_type": "code",
   "execution_count": null,
   "metadata": {},
   "outputs": [],
   "source": [
    "def read_image(prefix):\n",
    "    x = image.read(prefix, 0)\n",
    "    if len(x.shape) == 2:\n",
    "        extended_x = np.zeros(shape=(x.shape[0],  x.shape[1], 3), dtype=np.uint16) \n",
    "        extended_x[..., 0] = x\n",
    "        return extended_x\n",
    "    else:\n",
    "        return x\n",
    "\n",
    "def write_compact_decomposition(decom, prefix, image_number):\n",
    "    rows = decom[len(decom)-1][0].shape[0]*2\n",
    "    cols = decom[len(decom)-1][0].shape[1]*2\n",
    "    coms = decom[0].shape[2]\n",
    "    image_shape = (rows, cols, coms)\n",
    "    view = np.empty(image_shape, np.uint16)\n",
    "    # LL subband\n",
    "    view[0:decom[0].shape[0],\n",
    "         0:decom[0].shape[1]] = decom[0] + 32768\n",
    "\n",
    "    for l in range(len(decom)-1):\n",
    "\n",
    "        # LH\n",
    "        view[0:decom[l+1][0].shape[0],\n",
    "             decom[l+1][0].shape[1]:decom[l+1][0].shape[1]*2] =\\\n",
    "                decom[l+1][0] + 32768\n",
    "\n",
    "        # HL\n",
    "        view[decom[l+1][1].shape[0]:decom[l+1][1].shape[0]*2,\n",
    "             0:decom[l+1][1].shape[1]] =\\\n",
    "                decom[l+1][1] + 32768\n",
    "\n",
    "        # HH\n",
    "        view[decom[l+1][2].shape[0]:decom[l+1][2].shape[0]*2,\n",
    "             decom[l+1][2].shape[1]:decom[l+1][2].shape[1]*2] =\\\n",
    "                decom[l+1][2] + 32768\n",
    "            \n",
    "    return image.write(view, prefix, image_number)\n",
    "    \n",
    "def read_compact_decomposition(prefix, image_number, N_levels):\n",
    "    view = image.read(prefix, image_number)\n",
    "    wavelet = pywt.Wavelet(\"Haar\")\n",
    "    decom = DWT.analyze(np.zeros_like(view), wavelet, N_levels)\n",
    "    \n",
    "    # LL subband\n",
    "    decom[0][...] = view[0:decom[0].shape[0],\n",
    "                         0:decom[0].shape[1]] - 32768\n",
    "    \n",
    "    for l in range(len(N_levels)):\n",
    "        \n",
    "        # LH\n",
    "        decom[l+1][0] =\\\n",
    "            view[0:decom[l+1][0].shape[0],\n",
    "                 decom[l+1][0].shape[1]:decom[l+1][0].shape[1]*2] - 32668\n",
    "            \n",
    "        # HL\n",
    "        decom[l+1][1] =\\\n",
    "            view[decom[l+1][1].shape[0]:decom[l+1][1].shape[0]*2,\n",
    "                 0:decom[l+1][1].shape[1]] - 32768\n",
    "            \n",
    "        # HH\n",
    "        decom[l+1][2] =\\\n",
    "            view[decom[l+1][2].shape[0]:decom[l+1][2].shape[0]*2,\n",
    "                 decom[l+1][2].shape[1]:decom[l+1][2].shape[1]*2] - 32768\n",
    "\n",
    "    return decom"
   ]
  },
  {
   "cell_type": "markdown",
   "metadata": {},
   "source": [
    "## Testing `DWT.analyze_step()` and `DCT.synthesize_step()`"
   ]
  },
  {
   "cell_type": "code",
   "execution_count": null,
   "metadata": {},
   "outputs": [],
   "source": [
    "x = read_image(test_image)\n",
    "image.show_RGB_image(x, title=\"Original\")"
   ]
  },
  {
   "cell_type": "code",
   "execution_count": null,
   "metadata": {},
   "outputs": [],
   "source": [
    "L, H = DWT.analyze_step(x, wavelet)"
   ]
  },
  {
   "cell_type": "code",
   "execution_count": null,
   "metadata": {},
   "outputs": [],
   "source": [
    "image.show_RGB_image(255*image.normalize(L), \"LL DWT domain\")\n",
    "subbands = (\"LH\", \"HL\", \"HH\")\n",
    "for i, sb in enumerate(subbands):\n",
    "    image.show_RGB_image(255*image.normalize(H[i]), f\"{sb} DWT domain\")"
   ]
  },
  {
   "cell_type": "code",
   "execution_count": null,
   "metadata": {},
   "outputs": [],
   "source": [
    "z = DWT.synthesize_step(L, H, wavelet).astype(np.uint8)"
   ]
  },
  {
   "cell_type": "code",
   "execution_count": null,
   "metadata": {},
   "outputs": [],
   "source": [
    "r = x - z"
   ]
  },
  {
   "cell_type": "code",
   "execution_count": null,
   "metadata": {},
   "outputs": [],
   "source": [
    "image.show_RGB_image(255*image.normalize(r), f\"DWT finite precission error N_DWT_levels={N_levels}\")"
   ]
  },
  {
   "cell_type": "code",
   "execution_count": null,
   "metadata": {},
   "outputs": [],
   "source": [
    "r.max()"
   ]
  },
  {
   "cell_type": "markdown",
   "metadata": {},
   "source": [
    "The DWT is not fully reversible, but it is almost."
   ]
  },
  {
   "cell_type": "code",
   "execution_count": null,
   "metadata": {},
   "outputs": [],
   "source": [
    "image.show_RGB_image(z, \"Reconstructed image\")"
   ]
  },
  {
   "cell_type": "markdown",
   "metadata": {},
   "source": [
    "## Testing `DWT.analyze()` and `DCT.synthesize()`"
   ]
  },
  {
   "cell_type": "code",
   "execution_count": null,
   "metadata": {},
   "outputs": [],
   "source": [
    "y = DWT.analyze(x, wavelet, N_levels)\n",
    "z = DWT.synthesize(y, wavelet, N_levels).astype(np.uint8)"
   ]
  },
  {
   "cell_type": "code",
   "execution_count": null,
   "metadata": {},
   "outputs": [],
   "source": [
    "r = x - z"
   ]
  },
  {
   "cell_type": "code",
   "execution_count": null,
   "metadata": {},
   "outputs": [],
   "source": [
    "r.max()"
   ]
  },
  {
   "cell_type": "code",
   "execution_count": null,
   "metadata": {},
   "outputs": [],
   "source": [
    "image.show_RGB_image(255*image.normalize(r), f\"DWT finite precission error N_DWT_levels={N_levels}\")"
   ]
  },
  {
   "cell_type": "code",
   "execution_count": null,
   "metadata": {},
   "outputs": [],
   "source": [
    "distortion.MSE(x, z)"
   ]
  },
  {
   "cell_type": "code",
   "execution_count": null,
   "metadata": {},
   "outputs": [],
   "source": [
    "image.show_RGB_image(z, \"Reconstructed image\")"
   ]
  },
  {
   "cell_type": "code",
   "execution_count": null,
   "metadata": {},
   "outputs": [],
   "source": [
    "print(y[0].max(), y[0].min(), np.average(y[0]))\n",
    "for sr in y[1:]:\n",
    "    for sb in sr:\n",
    "        print(sb.max(), sb.min(), np.average(sb))"
   ]
  },
  {
   "cell_type": "markdown",
   "metadata": {},
   "source": [
    "## Transform gains\n",
    "\n",
    "This information measures whether the transform amplifies or attenuates the signal. If the forward transform amplifies the signal, the energy of the decomposition will be larger than the energy of the original signal, and viceversa. The same idea can be applied to the inverse transform."
   ]
  },
  {
   "cell_type": "code",
   "execution_count": null,
   "metadata": {},
   "outputs": [],
   "source": [
    "x = np.full(shape=(512, 512, 3), fill_value=1)\n",
    "x_energy = distortion.energy(x)\n",
    "y = DWT.analyze(x, wavelet, N_levels)\n",
    "#decom_energy = distortion.energy(y[0]) / y[0].size\n",
    "decom_energy = distortion.energy(y[0])\n",
    "z = DWT.synthesize(y, wavelet, N_levels)\n",
    "counter = 1\n",
    "for sr in y[1:]:\n",
    "    for sb in sr:\n",
    "        #decom_energy += (distortion.energy(sb) / sb.size)\n",
    "        decom_energy += distortion.energy(sb)\n",
    "        counter += 1\n",
    "z_energy = distortion.energy(z)\n",
    "print(wavelet)\n",
    "print(\"Energy of the original image:\", x_energy)\n",
    "print(\"Energy of the decomposition:\", decom_energy)\n",
    "print(\"Energy of the reconstucted image:\", z_energy)\n",
    "print(\"Average energy of the original image\", x_energy / x.size)\n",
    "print(\"Average energy of the decomposition:\", decom_energy / x.size)\n",
    "print(\"Average energy of the reconstructed image:\", z_energy / x.size)"
   ]
  },
  {
   "cell_type": "markdown",
   "metadata": {},
   "source": [
    "## Subband gains\n",
    "\n",
    "All the wavelet transforms implemented by PyWavelets are unitary (preserve the energy). However, this not means that the subbands have the same gain. We can determine the subbands gain of the inverse transform giving a fixed amount of energy to each subband and computing the energy of the inverse transform of the decomposition. Finally, considering that the inverse transform has a gain of one, the gains are scaled to sum 1.\n",
    "\n",
    "We are specially interested in the subband gains, considering the inverse transform, because in the compression process the subbands are quantized, and the quantization error is scaled by the gain of the subbands."
   ]
  },
  {
   "cell_type": "code",
   "execution_count": null,
   "metadata": {},
   "outputs": [],
   "source": [
    "gains = []\n",
    "x = np.zeros(shape=(512, 512, 3))\n",
    "y = DWT.analyze(x, wavelet, N_levels)\n",
    "coeff_value = y[0].size\n",
    "y[0][...] = coeff_value/y[0].size\n",
    "z = DWT.synthesize(y, wavelet, N_levels)\n",
    "gains.append(distortion.energy(z))\n",
    "prev_sb = y[0]\n",
    "for sr in y[1:]:\n",
    "    for sb in sr:\n",
    "        prev_sb[...] = 0.0\n",
    "        sb[...] = coeff_value/sb.size\n",
    "        z = DWT.synthesize(y, wavelet, N_levels)\n",
    "        gains.append(distortion.energy(z))\n",
    "        prev_sb = sb\n",
    "        \n",
    "x = np.empty(shape=(512, 512, 3))\n",
    "y = DWT.analyze(x, wavelet, N_levels)\n",
    "coeff_value = y[0].size\n",
    "y[0][...] = coeff_value/y[0].size\n",
    "for sr in y[1:]:\n",
    "    for sb in sr:\n",
    "        sb[...] = coeff_value/sb.size\n",
    "z = DWT.synthesize(y, wavelet, N_levels)\n",
    "z_energy = distortion.energy(z)\n",
    "\n",
    "gains = [gain/z_energy for gain in gains]\n",
    "print(\"Unitary (normalized) inverse transform subband gains:\", gains)\n",
    "np.testing.assert_almost_equal(sum(gains), 1.0)"
   ]
  },
  {
   "cell_type": "markdown",
   "metadata": {},
   "source": [
    "## RD performance considering (and not) the subband gains\n",
    "\n",
    "We compute the RD cuve of using scalar quantization when:\n",
    "1. All subbands are quantized using the same quantization step.\n",
    "2. The quantization step used in a subband is divided by the subband gain."
   ]
  },
  {
   "cell_type": "code",
   "execution_count": null,
   "metadata": {
    "scrolled": false
   },
   "outputs": [],
   "source": [
    "xx = read_image(test_image).astype(np.int16) - 128\n",
    "x = YUV.from_RGB(xx)\n",
    "\n",
    "constant_Q_points = []\n",
    "for Q_step in Q_steps:\n",
    "    y = DWT.analyze(x, wavelet, N_levels)\n",
    "    LL = y[0]\n",
    "    LL_k = Q.quantize(LL, Q_step)\n",
    "    y_k = [LL_k]\n",
    "    LL_dQ = Q.dequantize(LL_k, Q_step)\n",
    "    y_dQ = [LL_dQ]\n",
    "    for sr in y[1:]:\n",
    "        sr_k = []\n",
    "        sr_dQ = []\n",
    "        for sb in sr:\n",
    "            sb_k = Q.quantize(sb, Q_step)\n",
    "            sr_k.append(sb_k)\n",
    "            sb_dQ = Q.dequantize(sb_k, Q_step)\n",
    "            sr_dQ.append(sb_dQ)\n",
    "        y_k.append(tuple(sr_k))\n",
    "        y_dQ.append(tuple(sr_dQ))\n",
    "    BPP = (write_compact_decomposition(y_k, f\"/tmp/constant_{Q_step}\", 0)*8)/x.size\n",
    "    z_dQ = DWT.synthesize(y_dQ, wavelet, N_levels)\n",
    "    zz_dQ = np.clip(YUV.to_RGB(z_dQ), a_min=-128, a_max=127)\n",
    "    MSE = distortion.MSE(xx, zz_dQ)\n",
    "    print(f\"{Q_step} {BPP} {MSE}\")\n",
    "    constant_Q_points.append((BPP, MSE))\n",
    "    #image.show_RGB_image(zz_dQ + 128, f\"Reconstructed image (Q_step={Q_step})\")"
   ]
  },
  {
   "cell_type": "markdown",
   "metadata": {},
   "source": [
    "Let's suppose that the slope of the subband is proportional to the subband gain."
   ]
  },
  {
   "cell_type": "code",
   "execution_count": null,
   "metadata": {},
   "outputs": [],
   "source": [
    "def quantize(decomposition, Q_steps):\n",
    "    LL = decomposition[0]\n",
    "    LL_k = Q.quantize(LL, Q_steps[0])\n",
    "    decomposition_k = [LL_k]\n",
    "    counter = 1\n",
    "    for sr in decomposition[1:]:\n",
    "        sr_k = []\n",
    "        for sb in sr:\n",
    "            sb_k = Q.quantize(sb, Q_steps[counter])\n",
    "            sr_k.append(sb_k)\n",
    "            counter += 1\n",
    "        decomposition_k.append(tuple(sr_k))\n",
    "    return decomposition_k\n",
    "\n",
    "def dequantize(decomposition_k, Q_steps):\n",
    "    LL_k = decomposition_k[0]\n",
    "    LL_dQ = Q.dequantize(LL_k, Q_steps[0])\n",
    "    decomposition_dQ = [LL_dQ]\n",
    "    for sr_k in decomposition_k[1:]:\n",
    "        sr_dQ = []\n",
    "        for sb_k in sr_k:\n",
    "            sb_dQ = Q.dequantize(sb_k, Q_steps[counter])\n",
    "            sr_dQ.append(sb_dQ)\n",
    "            counter += 1\n",
    "        decomposition_dQ.append(tuple(sr_dQ))\n",
    "    return decomposition_dQ"
   ]
  },
  {
   "cell_type": "code",
   "execution_count": null,
   "metadata": {
    "scrolled": false
   },
   "outputs": [],
   "source": [
    "xx = read_image(test_image).astype(np.int16) - 128\n",
    "x = YUV.from_RGB(xx)\n",
    "\n",
    "relative_gains = [gain/gains[-1] for gain in gains]\n",
    "print(relative_gains)\n",
    "gains_Q_points = []\n",
    "for Q_step in Q_steps:\n",
    "    y = DWT.analyze(x, wavelet, N_levels)[::-1]\n",
    "    counter = len(y) - 1\n",
    "    for sr in y[:-1]:\n",
    "        sr_k = []\n",
    "        sr_dQ = []\n",
    "        for sb in sr:\n",
    "            _Q_step = Q_step / relative_gains[counter]\n",
    "            print(\"Q_step =\",_Q_step)\n",
    "            sb_k = Q.quantize(sb, _Q_step)\n",
    "            sr_k.append(sb_k)\n",
    "            sb_dQ = Q.dequantize(sb_k, _Q_step)\n",
    "            sr_dQ.append(sb_dQ)\n",
    "            counter -= 1\n",
    "        y_k.append(tuple(sr_k))\n",
    "        y_dQ.append(tuple(sr_dQ))\n",
    "    LL = y[-1]\n",
    "    _Q_step = Q_step / relative_gains[0]\n",
    "    print(_Q_step)\n",
    "    LL_k = Q.quantize(LL, _Q_step)\n",
    "    y_k = [LL_k]\n",
    "    LL_dQ = Q.dequantize(LL_k, _Q_step)\n",
    "    y_dQ = [LL_dQ]\n",
    "    BPP = (write_compact_decomposition(y_k, f\"/tmp/gains_{Q_step}\", 0)*8)/x.size\n",
    "    z_dQ = DWT.synthesize(y_dQ, wavelet, N_levels)\n",
    "    zz_dQ = np.clip(YUV.to_RGB(z_dQ), a_min=-128, a_max=127)\n",
    "    MSE = distortion.MSE(xx, zz_dQ)\n",
    "    print(f\"{Q_step} {BPP} {MSE}\")\n",
    "    gains_Q_points.append((BPP, MSE))\n",
    "    image.show_RGB_image(zz_dQ + 128, f\"Reconstructed image (Q_step={Q_step})\")"
   ]
  },
  {
   "cell_type": "code",
   "execution_count": null,
   "metadata": {},
   "outputs": [],
   "source": [
    "pylab.figure(dpi=150)\n",
    "pylab.plot(*zip(*constant_Q_points), label=f\"Constant Q\")\n",
    "pylab.plot(*zip(*gains_Q_points), label=f\"Gains Q\")\n",
    "pylab.title(test_image)\n",
    "pylab.xlabel(\"Bits/Pixel\")\n",
    "pylab.ylabel(\"MSE\")\n",
    "plt.legend(loc='upper right')\n",
    "pylab.show()"
   ]
  },
  {
   "cell_type": "markdown",
   "metadata": {},
   "source": [
    "## Optimal quantization progression\n",
    "\n",
    "The previous quantization is not (usually) optimal, because the RD constribution of each subband is not constant.\n",
    "Let's use now a different quantization step for each subband that operates (approximately) at the same RD slope."
   ]
  },
  {
   "cell_type": "markdown",
   "metadata": {},
   "source": [
    "## An example of uniform quantization\n",
    "\n",
    "We will measure also the distortion in both domains."
   ]
  },
  {
   "cell_type": "code",
   "execution_count": null,
   "metadata": {
    "scrolled": true
   },
   "outputs": [],
   "source": [
    "Q_step = 128\n",
    "x = read_image(test_image).astype(np.int16) #- 128\n",
    "#x = YUV.from_RGB(xx)\n",
    "y = DWT.analyze(x, wavelet, N_levels)\n",
    "\n",
    "LL = y[0]\n",
    "LL_k = Q.quantize(LL, Q_step)\n",
    "LL_dQ = Q.dequantize(LL_k, Q_step)\n",
    "dist = distortion.MSE(LL, LL_dQ)\n",
    "subband_ratio = LL.size / x.size\n",
    "print(subband_ratio)\n",
    "MSE_wavelet_domain = dist * subband_ratio #* gains[0]\n",
    "counter = 1\n",
    "y_dQ = [LL_dQ]\n",
    "for sr in y[1:]:\n",
    "    sr_dQ = []\n",
    "    for sb in sr:\n",
    "        sb_k = Q.quantize(sb, Q_step)\n",
    "        sb_dQ = Q.dequantize(sb_k, Q_step)\n",
    "        sr_dQ.append(sb_dQ)\n",
    "        dist = distortion.MSE(sb, sb_dQ)\n",
    "        subband_ratio = sb.size / x.size\n",
    "        print(subband_ratio)\n",
    "        MSE_wavelet_domain += dist * subband_ratio #* gains[counter]\n",
    "        counter += 1\n",
    "    y_dQ.append(tuple(sr_dQ))\n",
    "\n",
    "z_dQ = DWT.synthesize(y_dQ, wavelet, N_levels)\n",
    "cz_dQ = np.clip(z_dQ, a_min=0, a_max=255)\n",
    "#zz_dQ = np.clip( YUV.to_RGB(z_dQ) + 128, a_min=0, a_max=255)\n",
    "#zz_dQ = YUV.to_RGB(z_dQ) #+ 128\n",
    "#print(\"Distortion in the image domain:\", distortion.MSE(xx + 128, zz_dQ))\n",
    "print(\"Distortion in the image domain:\", distortion.MSE(x, cz_dQ))\n",
    "print(\"Distortion in the wavelet domain:\", MSE_wavelet_domain)\n",
    "image.show_RGB_image(cz_dQ, f\"Reconstructed image (Q_step={Q_step})\")"
   ]
  },
  {
   "cell_type": "markdown",
   "metadata": {},
   "source": [
    "## RD performance using \"constant\" quantization among subbands\n",
    "\n",
    "We compute the RD cuve of using uniform quantization in the wavelet domain, for different quantization steps. To measure the distortion we have two alternatives:\n",
    "1. Always considering that the transform is (bi)orthogonal and therefore, distortion amoung subbands is uncorrelated, we can measure the quantization error in the wavelet domain, inside of the quantized subband, considering the inverse transform gain of such subband.\n",
    "2. We can measure the distortion in the image domain, after inversely transforming the quantized decomposition. Obviously, this alternative is slower. However, this is the only choice is the transform is not (bi)orthogonal."
   ]
  },
  {
   "cell_type": "code",
   "execution_count": null,
   "metadata": {},
   "outputs": [],
   "source": [
    "xx = read_image(test_image).astype(np.int16) - 128\n",
    "x = YUV.from_RGB(xx)\n",
    "\n",
    "DWT_points = []\n",
    "for Q_step in Q_steps:\n",
    "    y = DWT.analyze(x, wavelet, N_levels)\n",
    "    y_k = []\n",
    "    LL = y[0]\n",
    "    LL_k = Q.quantize(LL, Q_step)\n",
    "    LL_dQ = Q.dequantize(LL_k, Q_step)\n",
    "    y_k.append(LL_k)\n",
    "    dist = distortion.MSE(LL, LL_dQ)\n",
    "    MSE = (gains[0] * (dist * LL.size))/x.size\n",
    "    #print(gains[0], dist, gains[0] * dist, MSE)\n",
    "    #for i in range(4):\n",
    "    #    for j in range(4):\n",
    "    #        print(LL[i, j], LL_dQ[i, j])\n",
    "    counter = 1\n",
    "    for sr in y[1:]:\n",
    "        sr_k = []\n",
    "        for sb in sr:\n",
    "            #print(MSE)\n",
    "            sb_k = Q.quantize(sb, Q_step)\n",
    "            sb_dQ = Q.dequantize(sb_k, Q_step)\n",
    "            sr_k.append(sb_k)\n",
    "            dist = distortion.MSE(sb, sb_dQ)\n",
    "            #print(gains[counter], dist, gains[counter] * dist, MSE)\n",
    "            MSE += (gains[counter] * (dist * sb.size))/x.size\n",
    "            counter += 1\n",
    "        y_k.append(tuple(sr_k))\n",
    "    BPP = (write_compact_decomposition(y_k, f\"/tmp/constant_{Q_step}\", 0)*8)/x.size\n",
    "    print(f\"{Q_step} {BPP} {MSE}\")\n",
    "    DWT_points.append((BPP, MSE))"
   ]
  },
  {
   "cell_type": "code",
   "execution_count": null,
   "metadata": {},
   "outputs": [],
   "source": [
    "DCT_points = []\n",
    "with open(\"DCT.txt\", 'r') as f:\n",
    "    for line in f:\n",
    "        rate, _distortion = line.split('\\t')\n",
    "        DCT_points.append((float(rate), float(_distortion)))"
   ]
  },
  {
   "cell_type": "code",
   "execution_count": null,
   "metadata": {},
   "outputs": [],
   "source": [
    "pylab.figure(dpi=150)\n",
    "pylab.plot(*zip(*DCT_points), label=f\"DCT optimal Q\")\n",
    "pylab.plot(*zip(*DWT_points), label=f\"DWT constant Q\")\n",
    "pylab.title(test_image)\n",
    "pylab.xlabel(\"Bits/Pixel\")\n",
    "pylab.ylabel(\"MSE\")\n",
    "plt.legend(loc='upper right')\n",
    "pylab.show()\n",
    "\n",
    "## Optimal quantization progression\n",
    "\n",
    "The previous quantization is not (usually) optimal, because the RD constribution of each subband is not constant.\n",
    "Let's use now a different quantization step for each subband that operates (approximately) at the same RD slope."
   ]
  },
  {
   "cell_type": "markdown",
   "metadata": {},
   "source": [
    "## An orthogonality test\n",
    "\n",
    "Orthogonality is necessary to avoid that the quantization error generated in a subband does not affect to the rest of subband. This will speed up the RD optimization because the distortion can be measured in the DWT domain.\n",
    "\n",
    "This orthogonality test does:\n",
    "1. Compute the DWT of an image.\n",
    "2. Set to zero all the subbands except one.\n",
    "3. Compute the inverse DWT.\n",
    "4. Compute the DWT again of the previous reconstruction.\n",
    "5. Test if the decomposition matches the one generated in the step 2.  If matches (with some maximum error), the transform is orthogonal."
   ]
  },
  {
   "cell_type": "code",
   "execution_count": null,
   "metadata": {},
   "outputs": [],
   "source": [
    "y = DWT.analyze(x, wavelet, N_levels)\n",
    "subband_to_keep = 5\n",
    "if subband_to_keep > DWT._N_levels:\n",
    "    print(\"No way, José\")\n",
    "y[0][...] = 0.0\n",
    "counter = 0\n",
    "for sr in y[1:]:\n",
    "    for sb in sr:\n",
    "        if counter != subband_to_keep:\n",
    "            sb[...] = 0.0\n",
    "        counter += 1\n",
    "z = DWT.synthesize(y, wavelet, N_levels)\n",
    "#image.show_RGB_image(z, \"Reconstructed image\")\n",
    "y2 = DWT.analyze(z, wavelet, N_levels)\n",
    "counter = 0\n",
    "orthogonal = True\n",
    "for sr, sr2 in zip(y[1:], y2[1:]):\n",
    "    for sb, sb2 in zip(sr, sr2):\n",
    "        #print((sb == sb2).allclose())\n",
    "        if not np.allclose(sb, sb2):\n",
    "            orthogonal = False\n",
    "        #if counter == subband_to_keep:\n",
    "        #    image.show_RGB_image(sb)\n",
    "        #    image.show_RGB_image(sb2)\n",
    "        counter += 1\n",
    "print(\"Orthogonal:\", orthogonal)"
   ]
  },
  {
   "cell_type": "markdown",
   "metadata": {},
   "source": [
    "Another way to know if the transform is orthogonal is compute the quantization distortion in the wavelet domain and see if it is the same than the distortion in the image domain. "
   ]
  },
  {
   "cell_type": "markdown",
   "metadata": {},
   "source": [
    "## Optimal quantization progression\n",
    "\n",
    "The previous quantization is not (usually) optimal, because the RD constribution of each subband is not constant.\n",
    "Let's use now a different quantization step for each subband that operates (approximately) at the same RD slope."
   ]
  },
  {
   "cell_type": "code",
   "execution_count": null,
   "metadata": {},
   "outputs": [],
   "source": []
  },
  {
   "cell_type": "markdown",
   "metadata": {},
   "source": [
    "This information is important to known if the transform is unitary or not (usually, biorthogonal transforms are not unitary, i.e., the energy of the decomposition is different to (usually larger than) the energy of the image). Notice that if the transform is not unitary, the distortion is measured differently in the image and the transform domain. For example, is the gain is larger than 1, then overall distortion should be divided by the gain."
   ]
  },
  {
   "cell_type": "code",
   "execution_count": null,
   "metadata": {},
   "outputs": [],
   "source": [
    "x = read_image(test_image)\n",
    "#x = YUV.from_RGB(xx)\n",
    "y = DWT.analyze(x, wavelet, N_levels)\n",
    "image_energy = distortion.energy(x)\n",
    "image_average_energy = image_energy / x.size\n",
    "print(\"Image average energy:\", image_average_energy)\n",
    "#decom_average_energy = distortion.average_energy(y[0])*y[0].size/x.size\n",
    "decom_energy = distortion.energy(y[0])\n",
    "counter = 1\n",
    "for sr in y[1:]:\n",
    "    for sb in sr:\n",
    "        #decom_energy += distortion.average_energy(sb)*sb.size/x.size\n",
    "        decom_energy += distortion.energy(sb)\n",
    "        counter += 1\n",
    "print(\"Decomposition energy\", decom_energy)\n",
    "decom_average_energy = decom_energy / x.size\n",
    "print(\"Decomposition average energy\", decom_average_energy)\n",
    "forward_transform_gain = decom_energy/image_energy\n",
    "print(\"Forward transform gain:\", forward_transform_gain)\n",
    "print(\"The transform is\", end=' ')\n",
    "try:\n",
    "    np.testing.assert_almost_equal(forward_transform_gain, 1.0)\n",
    "except AssertionError:\n",
    "    print(\"not unitary\")\n",
    "else:\n",
    "    print(\"unitary\")"
   ]
  }
 ],
 "metadata": {
  "kernelspec": {
   "display_name": "Python 3",
   "language": "python",
   "name": "python3"
  },
  "language_info": {
   "codemirror_mode": {
    "name": "ipython",
    "version": 3
   },
   "file_extension": ".py",
   "mimetype": "text/x-python",
   "name": "python",
   "nbconvert_exporter": "python",
   "pygments_lexer": "ipython3",
   "version": "3.9.4"
  }
 },
 "nbformat": 4,
 "nbformat_minor": 4
}
