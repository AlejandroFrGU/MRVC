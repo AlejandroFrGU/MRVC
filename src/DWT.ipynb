{
 "cells": [
  {
   "cell_type": "markdown",
   "metadata": {},
   "source": [
    "# Testing DWT.py\n",
    "All tests are performed in the RGB domain."
   ]
  },
  {
   "cell_type": "markdown",
   "metadata": {},
   "source": [
    "## Parameters"
   ]
  },
  {
   "cell_type": "code",
   "execution_count": null,
   "metadata": {},
   "outputs": [],
   "source": [
    "%matplotlib inline\n",
    "\n",
    "import matplotlib\n",
    "import matplotlib.pyplot as plt\n",
    "import matplotlib.axes as ax\n",
    "import math\n",
    "import numpy as np\n",
    "from scipy import signal\n",
    "import cv2\n",
    "import os\n",
    "import pywt\n",
    "import pylab\n",
    "#!ln -sf ~/quantization/deadzone_quantizer.py .\n",
    "import image_1\n",
    "import image_3\n",
    "import DWT\n",
    "!ln -sf ~/quantization/information.py .\n",
    "!ln -sf ~/quantization/distortion.py .\n",
    "import distortion"
   ]
  },
  {
   "cell_type": "code",
   "execution_count": null,
   "metadata": {},
   "outputs": [],
   "source": [
    "#wavelet = pywt.Wavelet(\"Haar\")\n",
    "#wavelet = pywt.Wavelet(\"db1\")\n",
    "#wavelet = pywt.Wavelet(\"db5\")\n",
    "#wavelet = pywt.Wavelet(\"db15\")\n",
    "#wavelet = pywt.Wavelet(\"bior3.1\")\n",
    "#wavelet = pywt.Wavelet(\"bior3.3\")\n",
    "wavelet = pywt.Wavelet(\"bior5.5\")\n",
    "print(wavelet)"
   ]
  },
  {
   "cell_type": "code",
   "execution_count": null,
   "metadata": {},
   "outputs": [],
   "source": [
    "N_levels = 3\n",
    "N_components = 3"
   ]
  },
  {
   "cell_type": "code",
   "execution_count": null,
   "metadata": {},
   "outputs": [],
   "source": [
    "#prefix = \"/home/vruiz/MRVC/sequences/stockholm/\"\n",
    "prefix = \"/home/vruiz/MRVC/sequences/lena_color/\"\n",
    "img = image_3.read(prefix, 0)"
   ]
  },
  {
   "cell_type": "code",
   "execution_count": null,
   "metadata": {},
   "outputs": [],
   "source": [
    "image_3.show(img, prefix)"
   ]
  },
  {
   "cell_type": "markdown",
   "metadata": {},
   "source": [
    "## Reversibility of the transform step"
   ]
  },
  {
   "cell_type": "code",
   "execution_count": null,
   "metadata": {},
   "outputs": [],
   "source": [
    "L, H = DWT.analyze_step(img, wavelet)"
   ]
  },
  {
   "cell_type": "code",
   "execution_count": null,
   "metadata": {},
   "outputs": [],
   "source": [
    "image_3.show(image_3.normalize(L), \"LL DWT domain\")\n",
    "subbands = (\"LH\", \"HL\", \"HH\")\n",
    "for i, sb in enumerate(subbands):\n",
    "    image_3.show(image_3.normalize(H[i]), f\"{sb} DWT domain\")"
   ]
  },
  {
   "cell_type": "code",
   "execution_count": null,
   "metadata": {},
   "outputs": [],
   "source": [
    "z = DWT.synthesize_step(L, H, wavelet)#.astype(np.int16)"
   ]
  },
  {
   "cell_type": "code",
   "execution_count": null,
   "metadata": {},
   "outputs": [],
   "source": [
    "image_3.show(image_3.normalize(z), \"Reconstructed image\")"
   ]
  },
  {
   "cell_type": "code",
   "execution_count": null,
   "metadata": {},
   "outputs": [],
   "source": [
    "e = img - z"
   ]
  },
  {
   "cell_type": "code",
   "execution_count": null,
   "metadata": {
    "scrolled": true
   },
   "outputs": [],
   "source": [
    "image_3.show(image_3.normalize(e), f\"DWT finite precission error N_DWT_levels={1}\")"
   ]
  },
  {
   "cell_type": "markdown",
   "metadata": {},
   "source": [
    "## Reversibility of the multilevel transform"
   ]
  },
  {
   "cell_type": "code",
   "execution_count": null,
   "metadata": {},
   "outputs": [],
   "source": [
    "y = DWT.analyze(img, wavelet, N_levels)\n",
    "z = DWT.synthesize(y, wavelet, N_levels)#.astype(np.int16)\n",
    "(img == z).all()"
   ]
  },
  {
   "cell_type": "code",
   "execution_count": null,
   "metadata": {},
   "outputs": [],
   "source": [
    "image_3.show(image_3.normalize(z), \"Reconstructed image\")"
   ]
  },
  {
   "cell_type": "code",
   "execution_count": null,
   "metadata": {},
   "outputs": [],
   "source": [
    "e = img - z"
   ]
  },
  {
   "cell_type": "code",
   "execution_count": null,
   "metadata": {},
   "outputs": [],
   "source": [
    "print(e.max(), e.min())"
   ]
  },
  {
   "cell_type": "code",
   "execution_count": null,
   "metadata": {},
   "outputs": [],
   "source": [
    "image_3.show(image_3.normalize(e), f\"DWT finite precission error N_DWT_levels={N_levels}\")"
   ]
  },
  {
   "cell_type": "code",
   "execution_count": null,
   "metadata": {},
   "outputs": [],
   "source": [
    "distortion.RMSE(img, z)"
   ]
  },
  {
   "cell_type": "markdown",
   "metadata": {},
   "source": [
    "## Structure of a decomposition"
   ]
  },
  {
   "cell_type": "code",
   "execution_count": null,
   "metadata": {},
   "outputs": [],
   "source": [
    "color_decomposition = DWT.analyze(img, wavelet, N_levels)\n",
    "reconstructed_img = DWT.synthesize(color_decomposition, wavelet, N_levels)#.astype(np.int16)\n",
    "(img == reconstructed_img).all()"
   ]
  },
  {
   "cell_type": "code",
   "execution_count": null,
   "metadata": {},
   "outputs": [],
   "source": [
    "type(color_decomposition)"
   ]
  },
  {
   "cell_type": "code",
   "execution_count": null,
   "metadata": {},
   "outputs": [],
   "source": [
    "len(color_decomposition)"
   ]
  },
  {
   "cell_type": "code",
   "execution_count": null,
   "metadata": {},
   "outputs": [],
   "source": [
    "type(color_decomposition[0])"
   ]
  },
  {
   "cell_type": "code",
   "execution_count": null,
   "metadata": {},
   "outputs": [],
   "source": [
    "color_decomposition[0].shape"
   ]
  },
  {
   "cell_type": "code",
   "execution_count": null,
   "metadata": {},
   "outputs": [],
   "source": [
    "color_decomposition[0].dtype"
   ]
  },
  {
   "cell_type": "code",
   "execution_count": null,
   "metadata": {},
   "outputs": [],
   "source": [
    "type(color_decomposition[1])"
   ]
  },
  {
   "cell_type": "code",
   "execution_count": null,
   "metadata": {},
   "outputs": [],
   "source": [
    "len(color_decomposition[1])"
   ]
  },
  {
   "cell_type": "code",
   "execution_count": null,
   "metadata": {},
   "outputs": [],
   "source": [
    "lowest_resolution = color_decomposition[0]\n",
    "print(type(lowest_resolution), lowest_resolution.shape)\n",
    "for resolution in color_decomposition[1:]:\n",
    "    print(type(resolution))\n",
    "    for subband in resolution:\n",
    "        print(type(subband), subband.shape)"
   ]
  },
  {
   "cell_type": "code",
   "execution_count": null,
   "metadata": {},
   "outputs": [],
   "source": [
    "reconstructed_img.shape"
   ]
  },
  {
   "cell_type": "code",
   "execution_count": null,
   "metadata": {},
   "outputs": [],
   "source": [
    "image_3.show(img, \"original\")"
   ]
  },
  {
   "cell_type": "code",
   "execution_count": null,
   "metadata": {},
   "outputs": [],
   "source": [
    "image_3.show(image_3.normalize(reconstructed_img), \"reconstruction\")"
   ]
  },
  {
   "cell_type": "code",
   "execution_count": null,
   "metadata": {
    "scrolled": false
   },
   "outputs": [],
   "source": [
    "image_3.show(image_3.normalize(img - reconstructed_img), \"error\")"
   ]
  },
  {
   "cell_type": "markdown",
   "metadata": {},
   "source": [
    "### Showing \"glued\" decompositions"
   ]
  },
  {
   "cell_type": "code",
   "execution_count": null,
   "metadata": {},
   "outputs": [],
   "source": [
    "glued_color_decomposition = DWT.glue_color_decomposition(color_decomposition)[0]"
   ]
  },
  {
   "cell_type": "code",
   "execution_count": null,
   "metadata": {},
   "outputs": [],
   "source": [
    "image_3.show(image_3.normalize(glued_color_decomposition))"
   ]
  },
  {
   "cell_type": "markdown",
   "metadata": {},
   "source": [
    "### Reading and writting \"unglued\" decompositions"
   ]
  },
  {
   "cell_type": "code",
   "execution_count": null,
   "metadata": {},
   "outputs": [],
   "source": [
    "_, slices = DWT.write_unglued(DWT.set_type(DWT.add(color_decomposition, 32768), np.uint16), \"/tmp/\", 0) #, N_levels=3)\n",
    "slices"
   ]
  },
  {
   "cell_type": "code",
   "execution_count": null,
   "metadata": {
    "scrolled": true
   },
   "outputs": [],
   "source": [
    "_color_decomposition = DWT.read_unglued(slices, \"/tmp/\", 0)"
   ]
  },
  {
   "cell_type": "code",
   "execution_count": null,
   "metadata": {},
   "outputs": [],
   "source": [
    "x = DWT.set_type(_color_decomposition, np.float64)\n",
    "y = DWT.add(x, -32768)\n",
    "reconstructed_frame = DWT.synthesize(y, wavelet, N_levels).astype(np.int16)\n",
    "image_3.show(reconstructed_frame, \"reconstruction\")"
   ]
  },
  {
   "cell_type": "markdown",
   "metadata": {},
   "source": [
    "### Reading and writing \"glued\" decompositions"
   ]
  },
  {
   "cell_type": "code",
   "execution_count": null,
   "metadata": {},
   "outputs": [],
   "source": [
    "N_bytes, slices = DWT.write_glued(DWT.set_type(DWT.add(color_decomposition, 32768), np.uint16), \"/tmp/\", 0)"
   ]
  },
  {
   "cell_type": "code",
   "execution_count": null,
   "metadata": {},
   "outputs": [],
   "source": [
    "_color_decomposition = DWT.read_glued(slices, \"/tmp/\", 0)"
   ]
  },
  {
   "cell_type": "code",
   "execution_count": null,
   "metadata": {},
   "outputs": [],
   "source": [
    "glued_color_decomposition = DWT.glue_color_decomposition(_color_decomposition)[0]\n",
    "image_3.show(image_3.normalize(glued_color_decomposition))"
   ]
  },
  {
   "cell_type": "code",
   "execution_count": null,
   "metadata": {
    "scrolled": true
   },
   "outputs": [],
   "source": [
    "x = DWT.set_type(_color_decomposition, np.float64)\n",
    "y = DWT.add(x, -32768)\n",
    "reconstructed_frame = DWT.synthesize(y, wavelet, N_levels).astype(np.int16)\n",
    "image_3.show(reconstructed_frame, \"reconstruction\")"
   ]
  },
  {
   "cell_type": "markdown",
   "metadata": {},
   "source": [
    "## Ignore the rest"
   ]
  },
  {
   "cell_type": "markdown",
   "metadata": {},
   "source": [
    "### In the YCoCg domain"
   ]
  },
  {
   "cell_type": "code",
   "execution_count": null,
   "metadata": {},
   "outputs": [],
   "source": [
    "YCoCg_frame = YCoCg.from_RGB(RGB_frame.astype(np.int16))\n",
    "YCoCg_decomposition = DWT.analyze(YCoCg_frame, N_levels=2)\n",
    "YCoCg_reconstructed_frame = DWT.synthesize(YCoCg_decomposition, N_levels=2)\n",
    "RGB_reconstructed_frame = YCoCg.to_RGB(YCoCg_reconstructed_frame).astype(np.int16)\n",
    "(RGB_frame == RGB_reconstructed_frame).all()"
   ]
  },
  {
   "cell_type": "code",
   "execution_count": null,
   "metadata": {},
   "outputs": [],
   "source": [
    "image.show(RGB_frame, \"original\") "
   ]
  },
  {
   "cell_type": "code",
   "execution_count": null,
   "metadata": {},
   "outputs": [],
   "source": [
    "image.show(RGB_reconstructed_frame, \"reconstruction\")"
   ]
  },
  {
   "cell_type": "code",
   "execution_count": null,
   "metadata": {},
   "outputs": [],
   "source": [
    "show(RGB_frame - RGB_reconstructed_frame, \"difference\")"
   ]
  },
  {
   "cell_type": "markdown",
   "metadata": {},
   "source": [
    "### Reading and writting decompositions"
   ]
  },
  {
   "cell_type": "code",
   "execution_count": null,
   "metadata": {},
   "outputs": [],
   "source": [
    "DWT.write(RGB_decomposition, \"/tmp/\", 0, N_levels=3)"
   ]
  },
  {
   "cell_type": "code",
   "execution_count": null,
   "metadata": {
    "scrolled": true
   },
   "outputs": [],
   "source": [
    "RGB_decomposition = DWT.read(\"/tmp/\", 0, N_levels=3)"
   ]
  },
  {
   "cell_type": "code",
   "execution_count": null,
   "metadata": {},
   "outputs": [],
   "source": [
    "YCoCg_reconstructed_frame = DWT.synthesize(YCoCg_decomposition, N_levels=2)\n",
    "RGB_reconstructed_frame = YCoCg.to_RGB(YCoCg_reconstructed_frame).astype(np.int16)\n",
    "image.show(RGB_reconstructed_frame, \"reconstruction\")"
   ]
  },
  {
   "cell_type": "markdown",
   "metadata": {},
   "source": [
    "## Quantizing the RGB domain"
   ]
  },
  {
   "cell_type": "code",
   "execution_count": null,
   "metadata": {},
   "outputs": [],
   "source": [
    "RGB_points = []\n",
    "with open('../05-RGB_compression/RGB.txt', 'r') as f:\n",
    "    for line in f:\n",
    "        rate, _distortion = line.split('\\t')\n",
    "        RGB_points.append((float(rate), float(_distortion)))"
   ]
  },
  {
   "cell_type": "markdown",
   "metadata": {},
   "source": [
    "## Quantizing the YCoCg domain"
   ]
  },
  {
   "cell_type": "code",
   "execution_count": null,
   "metadata": {},
   "outputs": [],
   "source": [
    "YCoCg_points = []\n",
    "with open('../06-YUV_compression/YCoCg.txt', 'r') as f:\n",
    "    for line in f:\n",
    "        rate, _distortion = line.split('\\t')\n",
    "        YCoCg_points.append((float(rate), float(_distortion)))"
   ]
  },
  {
   "cell_type": "markdown",
   "metadata": {},
   "source": [
    "## Quantizing the YCoCg+DCT domain"
   ]
  },
  {
   "cell_type": "code",
   "execution_count": null,
   "metadata": {},
   "outputs": [],
   "source": [
    "DCT_points = []\n",
    "with open('../07-DCT/DCT.txt', 'r') as f:\n",
    "    for line in f:\n",
    "        rate, _distortion = line.split('\\t')\n",
    "        DCT_points.append((float(rate), float(_distortion)))"
   ]
  },
  {
   "cell_type": "markdown",
   "metadata": {},
   "source": [
    "## Quantizing the YCoCg/DWT domain"
   ]
  },
  {
   "cell_type": "code",
   "execution_count": null,
   "metadata": {},
   "outputs": [],
   "source": [
    "def bytes_per_frame(img):\n",
    "    frame.write(img, \"/tmp/frame\")\n",
    "    length_in_bytes = os.path.getsize(\"/tmp/frame.png\")\n",
    "    return length_in_bytes\n",
    "\n",
    "def bits_per_pixel(img):\n",
    "    return 8*bytes_per_frame(img)/np.size(img)\n",
    "\n",
    "def bytes_per_grayframe(img):\n",
    "    cv2.imwrite(\"/tmp/frame.png\", img)\n",
    "    length_in_bytes = os.path.getsize(\"/tmp/frame.png\")\n",
    "    return length_in_bytes\n",
    "\n",
    "def bits_per_graypixel(img):\n",
    "    return 8*bytes_per_grayframe(img)/np.size(img)"
   ]
  },
  {
   "cell_type": "code",
   "execution_count": null,
   "metadata": {},
   "outputs": [],
   "source": [
    "N_LEVELS = 3\n",
    "def _DWT_RD_curve(RGB_frame, n_levels=N_LEVELS):\n",
    "    n_channels = RGB_frame.shape[2]\n",
    "    RD_points = []\n",
    "    for q_step in range(0, 8):\n",
    "        YCoCg_frame = YCoCg.from_RGB(RGB_frame.astype(np.int16))\n",
    "        YCoCg_decomposition = DWT.analyze(YCoCg_frame, n_levels=n_levels)\n",
    "        dequantized_YCoCg_decomposition = []\n",
    "        rate = 0\n",
    "        for channel in range(n_channels):\n",
    "            # In a channel there is a decomposition\n",
    "            decomposition = YCoCg_decomposition[channel]\n",
    "            cAn = decomposition[0]\n",
    "            k, dequantized_cAn = q_deq(cAn, 1<<q_step)\n",
    "            k = k.astype(np.uint8)\n",
    "            dequantized_decomposition = [dequantized_cAn]\n",
    "            rate += bytes_per_frame(k)\n",
    "            rest_of_resolutions = decomposition[1:]\n",
    "            for resolution in rest_of_resolutions:\n",
    "                # In a resolution there is/are one/three subbands\n",
    "                dequantized_resolution = []\n",
    "                for subband in resolution:\n",
    "                    k, dequantized_subband = q_deq(subband, 1<<q_step)\n",
    "                    k = k.astype(np.uint8)\n",
    "                    rate += bytes_per_grayframe(k)\n",
    "                    dequantized_resolution.append(dequantized_subband)\n",
    "                dequantized_decomposition.append(tuple(dequantized_resolution))\n",
    "            dequantized_YCoCg_decomposition.append(dequantized_decomposition)\n",
    "        reconstructed_YCoCg_frame = DWT.synthesize(dequantized_YCoCg_decomposition)\n",
    "        reconstructed_RGB_frame = YCoCg.to_RGB(reconstructed_YCoCg_frame)\n",
    "        distortion = MSE(RGB_frame, reconstructed_RGB_frame)\n",
    "        print(f\"q_step={1<<q_step:>3}, rate={rate:>7} bytes, distortion={distortion:>6.1f}\")\n",
    "        RD_points.append((rate, distortion))\n",
    "    return RD_points\n",
    "\n",
    "def DWT_RD_curve(RGB_frame, N_levels):\n",
    "    n_channels = RGB_frame.shape[2]\n",
    "    RD_points = []\n",
    "    for q_step in range(0, 8):\n",
    "        YUV_frame = YCoCg.from_RGB(RGB_frame.astype(np.int16))\n",
    "        YUV_decomposition = DWT.analyze(YUV_frame, N_levels=N_levels)\n",
    "        dequantized_YUV_decomposition = []\n",
    "        rate = 0\n",
    "        cAn = YUV_decomposition[0]\n",
    "        dequantized_cAn, k = q_deq(cAn, 1<<q_step)\n",
    "        #rate += bytes_per_frame(k.astype(np.uint8))\n",
    "        rate += image.write((k + 128).astype(np.uint8), f\"/tmp/{q_step}_\", 0)\n",
    "        dequantized_YUV_decomposition.append(dequantized_cAn)\n",
    "        rest_of_resolutions = YUV_decomposition[1:]\n",
    "        for resolution in rest_of_resolutions:\n",
    "            dequantized_resolution = []\n",
    "            for subband in resolution:\n",
    "                dequantized_subband, k  = q_deq(subband, 1<<q_step)\n",
    "                #rate += bytes_per_frame(k.astype(np.uint8))\n",
    "                rate += image.write((k + 128).astype(np.uint8), f\"/tmp/{q_step}_\", 0)\n",
    "                dequantized_resolution.append(dequantized_subband)\n",
    "            dequantized_YUV_decomposition.append(tuple(dequantized_resolution))\n",
    "        reconstructed_YUV_frame = DWT.synthesize(dequantized_YUV_decomposition, N_levels=N_levels)\n",
    "        reconstructed_RGB_frame = YCoCg.to_RGB(reconstructed_YUV_frame)\n",
    "        _distortion = distortion.MSE(RGB_frame, reconstructed_RGB_frame)\n",
    "        print(f\"q_step={1<<q_step:>3}, rate={rate:>7} bytes, distortion={_distortion:>6.1f}\")\n",
    "        RD_points.append((8*rate/RGB_frame.size, _distortion))\n",
    "    return RD_points\n",
    "\n",
    "DWT_points_1 = DWT_RD_curve(RGB_frame, N_levels=1)\n",
    "DWT_points_2 = DWT_RD_curve(RGB_frame, N_levels=2)\n",
    "DWT_points_3 = DWT_RD_curve(RGB_frame, N_levels=3)"
   ]
  },
  {
   "cell_type": "code",
   "execution_count": null,
   "metadata": {},
   "outputs": [],
   "source": [
    "pylab.figure(dpi=150)\n",
    "pylab.plot(*zip(*DWT_points_1), c='r', marker=\"x\", label='DWT(n_levels=1)')\n",
    "pylab.plot(*zip(*DWT_points_2), c='g', marker=\"x\", label='DWT(n_levels=2)')\n",
    "pylab.plot(*zip(*DWT_points_3), c='b', marker=\"x\", label='DWT(n_levels=3)')\n",
    "pylab.title(\"Impact of the Number of Levels\")\n",
    "pylab.xlabel(\"Bits/Pixel\")\n",
    "pylab.ylabel(\"MSE\")\n",
    "plt.legend(loc='upper right')\n",
    "pylab.show()"
   ]
  },
  {
   "cell_type": "code",
   "execution_count": null,
   "metadata": {},
   "outputs": [],
   "source": [
    "pylab.figure(dpi=150)\n",
    "#pylab.plot(*zip(*RGB_points), c='b', marker=\"x\", label='RGB')\n",
    "#pylab.plot(*zip(*YCoCg_points), c='g', marker=\"x\", label='YCoCg')\n",
    "pylab.plot(*zip(*DWT_points_3), c='r', marker=\"x\", label='YCoCg+DWT')\n",
    "pylab.plot(*zip(*DCT_points), c='m', marker=\"x\", label='DCT')\n",
    "pylab.title(\"Global Performance\")\n",
    "pylab.xlabel(\"Bits/Pixel\")\n",
    "pylab.ylabel(\"MSE\")\n",
    "plt.legend(loc='upper right')\n",
    "#plt.yscale('log')\n",
    "pylab.show()"
   ]
  },
  {
   "cell_type": "code",
   "execution_count": null,
   "metadata": {},
   "outputs": [],
   "source": [
    "with open('DWT3.txt', 'w') as f:\n",
    "    for item in DWT_points_3:\n",
    "        f.write(f\"{item[0]}\\t{item[1]}\\n\")"
   ]
  },
  {
   "cell_type": "markdown",
   "metadata": {},
   "source": [
    "## Ignore the rest"
   ]
  },
  {
   "cell_type": "code",
   "execution_count": null,
   "metadata": {},
   "outputs": [],
   "source": [
    "def RGB_to_YCoCg(RGB_frame):\n",
    "    R, G, B = RGB_frame[:,:,0], RGB_frame[:,:,1], RGB_frame[:,:,2]\n",
    "    YCoCg_frame = np.empty_like(RGB_frame)\n",
    "    YCoCg_frame[:,:,0] =  R/4 + G/2 + B/4 \n",
    "    YCoCg_frame[:,:,1] =  R/2       - B/2\n",
    "    YCoCg_frame[:,:,2] = -R/4 + G/2 - B/4\n",
    "    return YCoCg_frame\n",
    "\n",
    "def YCoCg_to_RGB(YCoCg_frame):\n",
    "    Y, Co, Cg = YCoCg_frame[:,:,0], YCoCg_frame[:,:,1], YCoCg_frame[:,:,2]\n",
    "    RGB_frame = np.empty_like(YCoCg_frame)\n",
    "    RGB_frame[:,:,0] = Y + Co - Cg \n",
    "    RGB_frame[:,:,1] = Y      + Cg\n",
    "    RGB_frame[:,:,2] = Y - Co - Cg\n",
    "    return RGB_frame"
   ]
  },
  {
   "cell_type": "code",
   "execution_count": null,
   "metadata": {},
   "outputs": [],
   "source": [
    "def _average_energy(x):\n",
    "    return np.sum(x.astype(np.double)*x.astype(np.double))/(np.size(x))\n",
    "\n",
    "def _MSE(x, y):\n",
    "    error_signal = x.astype(np.float32) - y\n",
    "    return average_energy(error_signal)\n",
    "\n",
    "def _RMSE(x, y):\n",
    "    error_signal = x.astype(np.float32) - y\n",
    "    return math.sqrt(MSE(error_signal))"
   ]
  },
  {
   "cell_type": "code",
   "execution_count": null,
   "metadata": {},
   "outputs": [],
   "source": [
    "def bytes_per_frame(_frame):\n",
    "    frame.write(_frame, \"/tmp/frame\")\n",
    "    length_in_bytes = os.path.getsize(\"/tmp/frame.png\")\n",
    "    return length_in_bytes\n",
    "\n",
    "def bits_per_pixel(img):\n",
    "    return 8*bytes_per_frame(img)/np.size(img)\n",
    "\n",
    "def bytes_per_grayframe(_frame):\n",
    "    cv2.imwrite(\"/tmp/frame.png\", _frame)\n",
    "    length_in_bytes = os.path.getsize(\"/tmp/frame.png\")\n",
    "    return length_in_bytes\n",
    "\n",
    "def bits_per_graypixel(img):\n",
    "    return 8*bytes_per_grayframe(img)/np.size(img)"
   ]
  },
  {
   "cell_type": "code",
   "execution_count": null,
   "metadata": {},
   "outputs": [],
   "source": [
    "WAVELET = pywt.Wavelet(\"db5\")\n",
    "#WAVELET = pywt.Wavelet(\"bior3.5\")\n",
    "N_LEVELS = 3\n",
    "\n",
    "def color_DWT_analyze(color_frame, wavelet=WAVELET, n_levels=N_LEVELS):\n",
    "    n_channels = color_frame.shape[2]\n",
    "    color_decomposition = [None]*n_channels\n",
    "    for c in range(n_channels):\n",
    "        color_decomposition[c] = pywt.wavedec2(data=color_frame[:,:,c], wavelet=wavelet, mode='per', level=n_levels)\n",
    "    return color_decomposition # A list of \"gray\" decompositions\n",
    "\n",
    "def _color_DWT_analyze(color_frame, wavelet=WAVELET, n_levels=N_LEVELS):\n",
    "    n_channels = color_frame.shape[0]\n",
    "    color_decomposition = [None]*n_channels\n",
    "    for c in range(n_channels):\n",
    "        color_decomposition[c] = pywt.wavedec2(data=color_frame[c], wavelet=wavelet, mode='per', level=n_levels)\n",
    "    return color_decomposition # A list of \"gray\" decompositions\n",
    "\n",
    "def color_DWT_synthesize(color_decomposition, wavelet=WAVELET):\n",
    "    n_channels = len(color_decomposition)\n",
    "    #n_levels = len(color_decomposition[0])-1\n",
    "    # color_decomposition[0] <- First channel\n",
    "    # color_decomposition[0][0] <- cAn (lowest frequecy subband) of the first channel\n",
    "    # color_decomposition[0][1] <- (cHn, cVn, cDn) (lowest high-frequency subbands) of the first channel\n",
    "    # color_decomposition[0][1][0] <- cHn (LH subband) of the first channel\n",
    "    # See https://pywavelets.readthedocs.io/en/latest/ref/2d-dwt-and-idwt.html#d-multilevel-decomposition-using-wavedec2\n",
    "    _color_frame = []\n",
    "    for c in range(n_channels):\n",
    "        frame = pywt.waverec2(color_decomposition[c], wavelet=wavelet, mode='per')\n",
    "        _color_frame.append(frame)\n",
    "    n_rows = _color_frame[0].shape[0]\n",
    "    n_columns = _color_frame[0].shape[1]\n",
    "    color_frame = np.ndarray((n_rows, n_columns, n_channels), np.float64)\n",
    "    for c in range(n_channels):\n",
    "        color_frame[:,:,c] = _color_frame[c][:,:]\n",
    "    return color_frame\n",
    "\n",
    "def _color_DWT_synthesize(color_decomposition, wavelet=WAVELET):\n",
    "    n_channels = len(color_decomposition)\n",
    "    #n_levels = len(color_decomposition[0])-1\n",
    "    # color_decomposition[0] <- First channel\n",
    "    # color_decomposition[0][0] <- cAn (lowest frequecy subband) of the first channel\n",
    "    # color_decomposition[0][1] <- (cHn, cVn, cDn) (lowest high-frequency subbands) of the first channel\n",
    "    # color_decomposition[0][1][0] <- cHn (LH subband) of the first channel\n",
    "    # See https://pywavelets.readthedocs.io/en/latest/ref/2d-dwt-and-idwt.html#d-multilevel-decomposition-using-wavedec2\n",
    "    _color_frame = []\n",
    "    for c in range(n_channels):\n",
    "        _frame = pywt.waverec2(color_decomposition[c], wavelet=wavelet, mode='per')\n",
    "        _color_frame.append(_frame)\n",
    "    #n_rows = _color_frame[1].shape[0]\n",
    "    #n_columns = _color_frame[2].shape[1]\n",
    "    #color_frame = np.ndarray((n_channels, n_rows, n_columns), np.float64)\n",
    "    #for c in range(n_channels):\n",
    "    #    color_frame[c] = _color_frame[c][:,:]\n",
    "    return np.array(_color_frame)"
   ]
  },
  {
   "cell_type": "code",
   "execution_count": null,
   "metadata": {},
   "outputs": [],
   "source": []
  }
 ],
 "metadata": {
  "kernelspec": {
   "display_name": "Python 3",
   "language": "python",
   "name": "python3"
  },
  "language_info": {
   "codemirror_mode": {
    "name": "ipython",
    "version": 3
   },
   "file_extension": ".py",
   "mimetype": "text/x-python",
   "name": "python",
   "nbconvert_exporter": "python",
   "pygments_lexer": "ipython3",
   "version": "3.9.9"
  }
 },
 "nbformat": 4,
 "nbformat_minor": 4
}
