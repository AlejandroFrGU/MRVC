{
 "cells": [
  {
   "cell_type": "markdown",
   "metadata": {},
   "source": [
    "# Comparing H264 using 8 and 10 bits"
   ]
  },
  {
   "cell_type": "code",
   "execution_count": 7,
   "metadata": {},
   "outputs": [],
   "source": [
    "sequence = \"bus\""
   ]
  },
  {
   "cell_type": "code",
   "execution_count": 2,
   "metadata": {},
   "outputs": [
    {
     "name": "stdout",
     "output_type": "stream",
     "text": [
      "bus_cif.y4m exists.\n",
      "ffmpeg version n4.3.1 Copyright (c) 2000-2020 the FFmpeg developers\n",
      "  built with gcc 10.2.0 (GCC)\n",
      "  configuration: --prefix=/usr --disable-debug --disable-static --disable-stripping --enable-amf --enable-avisynth --enable-cuda-llvm --enable-lto --enable-fontconfig --enable-gmp --enable-gnutls --enable-gpl --enable-ladspa --enable-libaom --enable-libass --enable-libbluray --enable-libdav1d --enable-libdrm --enable-libfreetype --enable-libfribidi --enable-libgsm --enable-libiec61883 --enable-libjack --enable-libmfx --enable-libmodplug --enable-libmp3lame --enable-libopencore_amrnb --enable-libopencore_amrwb --enable-libopenjpeg --enable-libopus --enable-libpulse --enable-librav1e --enable-libsoxr --enable-libspeex --enable-libsrt --enable-libssh --enable-libtheora --enable-libv4l2 --enable-libvidstab --enable-libvmaf --enable-libvorbis --enable-libvpx --enable-libwebp --enable-libx264 --enable-libx265 --enable-libxcb --enable-libxml2 --enable-libxvid --enable-nvdec --enable-nvenc --enable-shared --enable-version3\n",
      "  libavutil      56. 51.100 / 56. 51.100\n",
      "  libavcodec     58. 91.100 / 58. 91.100\n",
      "  libavformat    58. 45.100 / 58. 45.100\n",
      "  libavdevice    58. 10.100 / 58. 10.100\n",
      "  libavfilter     7. 85.100 /  7. 85.100\n",
      "  libswscale      5.  7.100 /  5.  7.100\n",
      "  libswresample   3.  7.100 /  3.  7.100\n",
      "  libpostproc    55.  7.100 / 55.  7.100\n",
      "Input #0, yuv4mpegpipe, from 'bus_cif.y4m':\n",
      "  Duration: 00:00:05.00, start: 0.000000, bitrate: 36496 kb/s\n",
      "    Stream #0:0: Video: rawvideo (I420 / 0x30323449), yuv420p(progressive), 352x288, SAR 128:117 DAR 1408:1053, 30 fps, 30 tbr, 30 tbn, 30 tbc\n",
      "Stream mapping:\n",
      "  Stream #0:0 -> #0:0 (rawvideo (native) -> png (native))\n",
      "Press [q] to stop, [?] for help\n",
      "Output #0, image2, to '/tmp/original_%03d.png':\n",
      "  Metadata:\n",
      "    encoder         : Lavf58.45.100\n",
      "    Stream #0:0: Video: png, rgb24, 352x288 [SAR 128:117 DAR 1408:1053], q=2-31, 200 kb/s, 30 fps, 30 tbn, 30 tbc\n",
      "    Metadata:\n",
      "      encoder         : Lavc58.91.100 png\n",
      "frame=  150 fps=0.0 q=-0.0 Lsize=N/A time=00:00:05.00 bitrate=N/A speed=6.92x    \n",
      "video:33372kB audio:0kB subtitle:0kB other streams:0kB global headers:0kB muxing overhead: unknown\n"
     ]
    }
   ],
   "source": [
    "!../sequences/$sequence/runme.sh"
   ]
  },
  {
   "cell_type": "markdown",
   "metadata": {},
   "source": [
    "## 8 bpp"
   ]
  },
  {
   "cell_type": "code",
   "execution_count": 1,
   "metadata": {},
   "outputs": [],
   "source": [
    "!sed -z -i 's/\\nimport image_IPP as codec/\\n#import image_IPP as codec/g' RD_curve.py\n",
    "!sed -z -i 's/\\n#import image_IPP_adaptive as codec\\n/\\nimport image_IPP_adaptive as codec\\n/g' RD_curve.py\n",
    "!sed -z -i 's/\\nimport MP4 as codec\\n/\\n#import MP4 as codec\\n/g' RD_curve.py\n",
    "!sed -z -i 's/\\nimport IPP_compressor as codec\\n/\\n#import IPP_compressor as codec\\n/g' RD_curve.py\n",
    "\n",
    "!sed -z -i 's!\\ntransform = \"DWT\"\\n!\\n#transform = \"DWT\"\\n!g' config.py\n",
    "!sed -z -i 's!\\ntransform = \"LT\"\\n!\\n#transform = \"LT\"\\n!g' config.py\n",
    "!sed -z -i 's!\\n#transform = None\\n!\\ntransform = None\\n!g' config.py"
   ]
  },
  {
   "cell_type": "code",
   "execution_count": 2,
   "metadata": {},
   "outputs": [
    {
     "name": "stdout",
     "output_type": "stream",
     "text": [
      "     5\timport config\n",
      "     6\timport distortion\n",
      "     7\timport frame\n",
      "    10\t#import image_interpolated_IPP as codec\n",
      "    11\t#import image_IPP as codec\n",
      "    12\timport image_IPP_adaptive as codec\n",
      "    13\t#import MP4 as codec\n",
      "    14\t#import IPP_compressor as codec\n",
      "     3\t#transform = \"DWT\"\n",
      "     4\t#transform = \"LP\"\n",
      "     5\ttransform = None\n"
     ]
    }
   ],
   "source": [
    "!cat -n RD_curve.py | grep \"import\"\n",
    "!cat -n config.py | grep \"transform\""
   ]
  },
  {
   "cell_type": "code",
   "execution_count": 3,
   "metadata": {},
   "outputs": [],
   "source": [
    "!sed -z -i 's!self.E_codec5!self.E_codec4!g' image_IPP.py"
   ]
  },
  {
   "cell_type": "code",
   "execution_count": 5,
   "metadata": {},
   "outputs": [
    {
     "name": "stdout",
     "output_type": "stream",
     "text": [
      "    78\t                dequantized_E_k = self.E_codec4(E_k, f\"{video}texture_\", k, q_step) # (g and h)\r\n"
     ]
    }
   ],
   "source": [
    "!cat -n image_IPP.py | grep \"self.E_codec\" "
   ]
  },
  {
   "cell_type": "code",
   "execution_count": 6,
   "metadata": {
    "scrolled": true
   },
   "outputs": [
    {
     "name": "stdout",
     "output_type": "stream",
     "text": [
      "     1\tQ_step: 21 BPP: 0.3030916806958474 KBPS: 2765.36 Average AMSE: 66.85563304485831\r\n",
      "     2\tQ_step: 24 BPP: 0.22402935606060606 KBPS: 2044.008 Average AMSE: 108.56639068637763\r\n",
      "     3\tQ_step: 27 BPP: 0.16518045033670034 KBPS: 1507.08 Average AMSE: 170.7159631251753\r\n",
      "     4\tQ_step: 30 BPP: 0.12298944304152638 KBPS: 1122.136 Average AMSE: 258.73178902742706\r\n",
      "     5\tQ_step: 33 BPP: 0.09367283950617285 KBPS: 854.656 Average AMSE: 376.75967016080955\r\n",
      "     6\tQ_step: 36 BPP: 0.07480534511784512 KBPS: 682.5120000000001 Average AMSE: 524.6659754007085\r\n",
      "     7\tQ_step: 39 BPP: 0.06352500701459035 KBPS: 579.592 Average AMSE: 698.6472671594416\r\n"
     ]
    }
   ],
   "source": [
    "!python RD_curve.py 1> >(tee /tmp/output >&1) | grep BPP | grep Average | cat -n"
   ]
  },
  {
   "cell_type": "code",
   "execution_count": 8,
   "metadata": {},
   "outputs": [],
   "source": [
    "!grep BPP /tmp/output | grep Average | cut -d ' ' -f 4,9 | tr ' ' '\\t'  > /tmp/8bpp.txt"
   ]
  },
  {
   "cell_type": "code",
   "execution_count": 9,
   "metadata": {},
   "outputs": [
    {
     "name": "stdout",
     "output_type": "stream",
     "text": [
      "0.3030916806958474\t66.85563304485831\r\n",
      "0.22402935606060606\t108.56639068637763\r\n",
      "0.16518045033670034\t170.7159631251753\r\n",
      "0.12298944304152638\t258.73178902742706\r\n",
      "0.09367283950617285\t376.75967016080955\r\n",
      "0.07480534511784512\t524.6659754007085\r\n",
      "0.06352500701459035\t698.6472671594416\r\n"
     ]
    }
   ],
   "source": [
    "!cat /tmp/8bpp.txt"
   ]
  },
  {
   "cell_type": "code",
   "execution_count": 10,
   "metadata": {},
   "outputs": [],
   "source": [
    "RD_8bpp = []\n",
    "with open(\"/tmp/8bpp.txt\", 'r') as f:\n",
    "    for line in f:\n",
    "        rate, _distortion = line.split('\\t')\n",
    "        RD_8bpp.append((float(rate), float(_distortion)))"
   ]
  },
  {
   "cell_type": "markdown",
   "metadata": {},
   "source": [
    "## 16 bpp"
   ]
  },
  {
   "cell_type": "code",
   "execution_count": 11,
   "metadata": {},
   "outputs": [],
   "source": [
    "!sed -z -i 's/\\nimport image_IPP as codec/\\n#import image_IPP as codec/g' RD_curve.py\n",
    "!sed -z -i 's/\\n#import image_IPP_adaptive as codec\\n/\\nimport image_IPP_adaptive as codec\\n/g' RD_curve.py\n",
    "!sed -z -i 's/\\nimport MP4 as codec\\n/\\n#import MP4 as codec\\n/g' RD_curve.py\n",
    "!sed -z -i 's/\\nimport IPP_compressor as codec\\n/\\n#import IPP_compressor as codec\\n/g' RD_curve.py\n",
    "\n",
    "!sed -z -i 's!\\ntransform = \"DWT\"\\n!\\n#transform = \"DWT\"\\n!g' config.py\n",
    "!sed -z -i 's!\\ntransform = \"LT\"\\n!\\n#transform = \"LT\"\\n!g' config.py\n",
    "!sed -z -i 's!\\n#transform = None\\n!\\ntransform = None\\n!g' config.py"
   ]
  },
  {
   "cell_type": "code",
   "execution_count": 12,
   "metadata": {},
   "outputs": [
    {
     "name": "stdout",
     "output_type": "stream",
     "text": [
      "     5\timport config\n",
      "     6\timport distortion\n",
      "     7\timport frame\n",
      "    10\t#import image_interpolated_IPP as codec\n",
      "    11\t#import image_IPP as codec\n",
      "    12\timport image_IPP_adaptive as codec\n",
      "    13\t#import MP4 as codec\n",
      "    14\t#import IPP_compressor as codec\n",
      "     3\t#transform = \"DWT\"\n",
      "     4\t#transform = \"LP\"\n",
      "     5\ttransform = None\n"
     ]
    }
   ],
   "source": [
    "!cat -n RD_curve.py | grep \"import\"\n",
    "!cat -n config.py | grep \"transform\""
   ]
  },
  {
   "cell_type": "code",
   "execution_count": 13,
   "metadata": {},
   "outputs": [],
   "source": [
    "!sed -z -i 's!self.E_codec4!self.E_codec5!g' image_IPP.py"
   ]
  },
  {
   "cell_type": "code",
   "execution_count": 14,
   "metadata": {},
   "outputs": [
    {
     "name": "stdout",
     "output_type": "stream",
     "text": [
      "    78\t                dequantized_E_k = self.E_codec5(E_k, f\"{video}texture_\", k, q_step) # (g and h)\r\n"
     ]
    }
   ],
   "source": [
    "!cat -n image_IPP.py | grep \"self.E_codec\" "
   ]
  },
  {
   "cell_type": "code",
   "execution_count": 15,
   "metadata": {},
   "outputs": [
    {
     "name": "stdout",
     "output_type": "stream",
     "text": [
      "     1\tQ_step: 21 BPP: 0.3235795454545454 KBPS: 2952.288 Average AMSE: 72.41956840540824\r\n",
      "     2\tQ_step: 24 BPP: 0.24138608305274972 KBPS: 2202.368 Average AMSE: 113.92355806327164\r\n",
      "     3\tQ_step: 27 BPP: 0.17730780022446688 KBPS: 1617.728 Average AMSE: 175.81145526445007\r\n",
      "     4\tQ_step: 30 BPP: 0.13093258978675645 KBPS: 1194.608 Average AMSE: 262.57742759627524\r\n",
      "     5\tQ_step: 33 BPP: 0.09786054994388327 KBPS: 892.864 Average AMSE: 380.4232937008979\r\n",
      "     6\tQ_step: 36 BPP: 0.07596187570145903 KBPS: 693.064 Average AMSE: 532.7874720512416\r\n",
      "     7\tQ_step: 39 BPP: 0.06408792789001122 KBPS: 584.728 Average AMSE: 699.3235489662246\r\n"
     ]
    }
   ],
   "source": [
    "!python RD_curve.py 1> >(tee /tmp/output >&1) | grep BPP | grep Average | cat -n"
   ]
  },
  {
   "cell_type": "code",
   "execution_count": 16,
   "metadata": {},
   "outputs": [],
   "source": [
    "!grep BPP /tmp/output | grep Average | cut -d ' ' -f 4,9 | tr ' ' '\\t'  > /tmp/16bpp.txt"
   ]
  },
  {
   "cell_type": "code",
   "execution_count": 17,
   "metadata": {},
   "outputs": [
    {
     "name": "stdout",
     "output_type": "stream",
     "text": [
      "0.3235795454545454\t72.41956840540824\r\n",
      "0.24138608305274972\t113.92355806327164\r\n",
      "0.17730780022446688\t175.81145526445007\r\n",
      "0.13093258978675645\t262.57742759627524\r\n",
      "0.09786054994388327\t380.4232937008979\r\n",
      "0.07596187570145903\t532.7874720512416\r\n",
      "0.06408792789001122\t699.3235489662246\r\n"
     ]
    }
   ],
   "source": [
    "!cat /tmp/16bpp.txt"
   ]
  },
  {
   "cell_type": "code",
   "execution_count": 18,
   "metadata": {},
   "outputs": [],
   "source": [
    "RD_16bpp = []\n",
    "with open(\"/tmp/16bpp.txt\", 'r') as f:\n",
    "    for line in f:\n",
    "        rate, _distortion = line.split('\\t')\n",
    "        RD_16bpp.append((float(rate), float(_distortion)))"
   ]
  },
  {
   "cell_type": "markdown",
   "metadata": {},
   "source": [
    "## Comparison"
   ]
  },
  {
   "cell_type": "code",
   "execution_count": 19,
   "metadata": {},
   "outputs": [
    {
     "data": {
      "image/png": "[encoded data removed]",
      "text/plain": [
       "<Figure size 900x600 with 1 Axes>"
      ]
     },
     "metadata": {
      "needs_background": "light"
     },
     "output_type": "display_data"
    }
   ],
   "source": [
    "%matplotlib inline\n",
    "\n",
    "import matplotlib\n",
    "import matplotlib.pyplot as plt\n",
    "import matplotlib.axes as ax\n",
    "import pylab\n",
    "\n",
    "pylab.figure(dpi=150)\n",
    "pylab.plot(*zip(*RD_8bpp), label=\"8 BPP (clipping)\")\n",
    "pylab.plot(*zip(*RD_16bpp), label=\"16 BPP\")\n",
    "pylab.title(f\"{sequence}\")\n",
    "pylab.xlabel(\"Bits/Pixel\")\n",
    "pylab.ylabel(\"AMSE\")\n",
    "plt.legend(loc='upper right')\n",
    "pylab.show()"
   ]
  },
  {
   "cell_type": "code",
   "execution_count": null,
   "metadata": {},
   "outputs": [],
   "source": []
  }
 ],
 "metadata": {
  "kernelspec": {
   "display_name": "Python 3",
   "language": "python",
   "name": "python3"
  },
  "language_info": {
   "codemirror_mode": {
    "name": "ipython",
    "version": 3
   },
   "file_extension": ".py",
   "mimetype": "text/x-python",
   "name": "python",
   "nbconvert_exporter": "python",
   "pygments_lexer": "ipython3",
   "version": "3.9.2"
  }
 },
 "nbformat": 4,
 "nbformat_minor": 4
}
