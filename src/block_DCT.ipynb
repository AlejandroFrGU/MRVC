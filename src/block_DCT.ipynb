{
 "cells": [
  {
   "cell_type": "markdown",
   "metadata": {},
   "source": [
    "# Block DCT (Discrete Cosine Transform)"
   ]
  },
  {
   "cell_type": "code",
   "execution_count": null,
   "metadata": {},
   "outputs": [],
   "source": [
    "import numpy as np\n",
    "import matplotlib\n",
    "import matplotlib.pyplot as plt\n",
    "%matplotlib inline\n",
    "import frame\n",
    "import block_DCT\n",
    "import YCoCg as YUV\n",
    "import cv2\n",
    "import distortion\n",
    "import os\n",
    "import pylab"
   ]
  },
  {
   "cell_type": "markdown",
   "metadata": {},
   "source": [
    "## Testing `block_DCT.block_analyze()` and `block_DCT.block_synthesize()`"
   ]
  },
  {
   "cell_type": "code",
   "execution_count": null,
   "metadata": {},
   "outputs": [],
   "source": [
    "#a = np.random.randint(low=0, high=100, size=(4,4,3))\n",
    "a = np.full(shape=(4,4,3), fill_value=10, dtype=np.int16)"
   ]
  },
  {
   "cell_type": "code",
   "execution_count": null,
   "metadata": {},
   "outputs": [],
   "source": [
    "print(a)"
   ]
  },
  {
   "cell_type": "code",
   "execution_count": null,
   "metadata": {},
   "outputs": [],
   "source": [
    "b = block_DCT.block_analyze(a)"
   ]
  },
  {
   "cell_type": "code",
   "execution_count": null,
   "metadata": {},
   "outputs": [],
   "source": [
    "print(b.astype(np.int16))"
   ]
  },
  {
   "cell_type": "code",
   "execution_count": null,
   "metadata": {},
   "outputs": [],
   "source": [
    "c = block_DCT.block_synthesize(b)"
   ]
  },
  {
   "cell_type": "code",
   "execution_count": null,
   "metadata": {},
   "outputs": [],
   "source": [
    "print(c.astype(np.int16))"
   ]
  },
  {
   "cell_type": "markdown",
   "metadata": {},
   "source": [
    "## Some routines"
   ]
  },
  {
   "cell_type": "code",
   "execution_count": null,
   "metadata": {},
   "outputs": [],
   "source": [
    "def normalize(img):\n",
    "    max_component = np.max(img)\n",
    "    min_component = np.min(img)\n",
    "    max_min_component = max_component - min_component\n",
    "    #return 255*(img-min_component)/max_min_component\n",
    "    return (img-min_component)/max_min_component\n",
    "\n",
    "def print_stats(frame):\n",
    "    for i in range(frame.shape[2]):\n",
    "        print(\"component\", i, frame[..., i].max(), frame[..., i].min(), frame[..., i].dtype)\n",
    "\n",
    "def show_RGB_frame(frame, title=''):\n",
    "    plt.figure(figsize=(16,16))\n",
    "    plt.title(title, fontsize=20)\n",
    "    plt.imshow(cv2.cvtColor(frame.astype(np.uint8), cv2.COLOR_BGR2RGB))\n",
    "    print_stats(frame)\n",
    "\n",
    "def show_frame(frame, title=''):\n",
    "    plt.figure(figsize=(16,16))\n",
    "    plt.title(title, fontsize=20)\n",
    "    plt.imshow(frame)\n",
    "    print_stats(frame)"
   ]
  },
  {
   "cell_type": "markdown",
   "metadata": {},
   "source": [
    "## Testing `block_DCT.analyze()` and `block_DCT.synthesize()`"
   ]
  },
  {
   "cell_type": "code",
   "execution_count": null,
   "metadata": {
    "scrolled": false
   },
   "outputs": [],
   "source": [
    "x = frame.read(f\"../sequences/stockholm/\", 0)\n",
    "#show_frame(normalize(x))\n",
    "show_RGB_frame(x, title=\"Original\")"
   ]
  },
  {
   "cell_type": "code",
   "execution_count": null,
   "metadata": {},
   "outputs": [],
   "source": [
    "#x = YUV.from_RGB(x.astype(np.int16))\n",
    "#show_frame(x)"
   ]
  },
  {
   "cell_type": "code",
   "execution_count": null,
   "metadata": {},
   "outputs": [],
   "source": [
    "block_y_side = block_x_side = 8"
   ]
  },
  {
   "cell_type": "code",
   "execution_count": null,
   "metadata": {
    "scrolled": false
   },
   "outputs": [],
   "source": [
    "y = block_DCT.analyze(x, block_y_side, block_x_side)"
   ]
  },
  {
   "cell_type": "code",
   "execution_count": null,
   "metadata": {
    "scrolled": true
   },
   "outputs": [],
   "source": [
    "show_RGB_frame(255*normalize(y), \"Block DCT domain\")\n",
    "show_RGB_frame(255*normalize(y[:64, :64]), \"Block DCT domain (detail [0:64, 0:64])\")"
   ]
  },
  {
   "cell_type": "code",
   "execution_count": null,
   "metadata": {},
   "outputs": [],
   "source": [
    "z = block_DCT.synthesize(y, block_y_side, block_x_side)"
   ]
  },
  {
   "cell_type": "code",
   "execution_count": null,
   "metadata": {},
   "outputs": [],
   "source": [
    "(x-z).max()"
   ]
  },
  {
   "cell_type": "code",
   "execution_count": null,
   "metadata": {},
   "outputs": [],
   "source": [
    "r = x - z\n",
    "show_RGB_frame(255*normalize(r), \"Block DCT finite precission error\")"
   ]
  },
  {
   "cell_type": "code",
   "execution_count": null,
   "metadata": {},
   "outputs": [],
   "source": [
    "show_RGB_frame(z, \"Reconstructed image\")"
   ]
  },
  {
   "cell_type": "markdown",
   "metadata": {},
   "source": [
    "## Switching between blocks and subbands"
   ]
  },
  {
   "cell_type": "code",
   "execution_count": null,
   "metadata": {},
   "outputs": [],
   "source": [
    "block_y_side = block_x_side = 8\n",
    "Q_step = 32\n",
    "x = frame.read(f\"../sequences/stockholm/\", 0)\n",
    "y = block_DCT.analyze(x, block_y_side, block_x_side)\n",
    "q_y = block_DCT.constant_quantize(y, block_y_side, block_x_side, Q_step)\n",
    "dq_y = block_DCT.constant_dequantize(q_y, block_y_side, block_x_side, Q_step)\n",
    "cor_dq_y = block_DCT.get_subbands(dq_y, block_y_side, block_x_side)"
   ]
  },
  {
   "cell_type": "code",
   "execution_count": null,
   "metadata": {},
   "outputs": [],
   "source": [
    "show_RGB_frame(dq_y, \"Decorrelated (original) dequantized block DCT domain\")\n",
    "show_RGB_frame(255*normalize(cor_dq_y), \"Correlated dequantized block DCT domain\")\n",
    "blocks_in_y = x.shape[0]//block_y_side\n",
    "blocks_in_x = x.shape[1]//block_x_side\n",
    "show_RGB_frame(255*normalize(cor_dq_y[:blocks_in_y, :blocks_in_x]), f\"L{block_y_side}L{block_x_side} subband detail\")\n",
    "show_RGB_frame(255*normalize(cor_dq_y[:blocks_in_y, blocks_in_x:2*blocks_in_x]), f\"L{block_y_side}H{block_x_side-1} subband detail\")\n",
    "show_RGB_frame(255*normalize(cor_dq_y[blocks_in_y:2*blocks_in_y, :blocks_in_x]), f\"L{block_y_side-1}H{block_x_side} subband detail\")\n",
    "show_RGB_frame(255*normalize(cor_dq_y[blocks_in_y:2*blocks_in_y, blocks_in_x:2*blocks_in_x]), f\"L{block_y_side-1}H{block_x_side-1} subband detail\")"
   ]
  },
  {
   "cell_type": "code",
   "execution_count": null,
   "metadata": {},
   "outputs": [],
   "source": [
    "decor_dq_y = block_DCT.get_blocks(cor_dq_y, block_y_side, block_x_side)"
   ]
  },
  {
   "cell_type": "code",
   "execution_count": null,
   "metadata": {},
   "outputs": [],
   "source": [
    "show_RGB_frame(decor_dq_y)"
   ]
  },
  {
   "cell_type": "code",
   "execution_count": null,
   "metadata": {},
   "outputs": [],
   "source": [
    "(decor_dq_y == dq_y).all()"
   ]
  },
  {
   "cell_type": "markdown",
   "metadata": {},
   "source": [
    "## Testing `block_DCT.constant_quantize()` and `block_DCT.constant_dequantize()`"
   ]
  },
  {
   "cell_type": "code",
   "execution_count": null,
   "metadata": {},
   "outputs": [],
   "source": [
    "block_y_side = block_x_side = 64\n",
    "q_step = 128\n",
    "y = block_DCT.analyze(x, block_y_side, block_x_side)\n",
    "y = block_DCT.get_subbands(y, block_y_side, block_x_side)\n",
    "q_y = block_DCT.constant_quantize(y, block_y_side, block_x_side, 128)\n",
    "dq_y = block_DCT.constant_dequantize(q_y, block_y_side, block_x_side, 128)\n",
    "dq_y = block_DCT.get_blocks(dq_y, block_y_side, block_x_side)\n",
    "z = block_DCT.synthesize(dq_y, block_y_side, block_x_side)"
   ]
  },
  {
   "cell_type": "code",
   "execution_count": null,
   "metadata": {},
   "outputs": [],
   "source": [
    "show_RGB_frame(np.clip(z, a_max=255, a_min=0), \"Dequantized (in the block DCT domain and constant Q_step) image\")"
   ]
  },
  {
   "cell_type": "code",
   "execution_count": null,
   "metadata": {},
   "outputs": [],
   "source": [
    "r = x - z\n",
    "n = normalize(r)\n",
    "show_RGB_frame(255*n, \"Quantization error\")"
   ]
  },
  {
   "cell_type": "markdown",
   "metadata": {},
   "source": [
    "## Dynamic range of the subbands"
   ]
  },
  {
   "cell_type": "code",
   "execution_count": null,
   "metadata": {},
   "outputs": [],
   "source": [
    "block_y_side = block_x_side = 256\n",
    "y = block_DCT.analyze(x, block_y_side, block_x_side)\n",
    "y = block_DCT.get_subbands(y, block_y_side, block_x_side)\n",
    "max_, min_ = block_DCT.compute_max_min(y, block_y_side, block_x_side)"
   ]
  },
  {
   "cell_type": "code",
   "execution_count": null,
   "metadata": {},
   "outputs": [],
   "source": [
    "np.set_printoptions(edgeitems=8, linewidth=120, formatter=dict(float=lambda x: \"%.3g\" % x))\n",
    "print(max_.astype(np.int32))"
   ]
  },
  {
   "cell_type": "code",
   "execution_count": null,
   "metadata": {},
   "outputs": [],
   "source": [
    "print(min_.astype(np.int32))"
   ]
  },
  {
   "cell_type": "markdown",
   "metadata": {},
   "source": [
    "## Variances of the subbands"
   ]
  },
  {
   "cell_type": "code",
   "execution_count": null,
   "metadata": {},
   "outputs": [],
   "source": [
    "block_y_side = block_x_side = 256\n",
    "y = block_DCT.analyze(x, block_y_side, block_x_side)\n",
    "y = block_DCT.get_subbands(y, block_y_side, block_x_side)\n",
    "variances = block_DCT.compute_variances(y, block_y_side, block_x_side)"
   ]
  },
  {
   "cell_type": "code",
   "execution_count": null,
   "metadata": {},
   "outputs": [],
   "source": [
    "np.set_printoptions(edgeitems=5, linewidth=100, formatter=dict(float=lambda x: \"%.3g\" % x))\n",
    "print(variances.astype(np.int32))\n",
    "print(variances.max(), np.unravel_index(variances.argmax(), variances.shape))\n",
    "print(variances.min(), np.unravel_index(variances.argmin(), variances.shape))"
   ]
  },
  {
   "cell_type": "markdown",
   "metadata": {},
   "source": [
    "## R/D performance"
   ]
  },
  {
   "cell_type": "markdown",
   "metadata": {},
   "source": [
    "### Subbands vs blocks\n",
    "For simplicity, we will use constant quantization."
   ]
  },
  {
   "cell_type": "code",
   "execution_count": null,
   "metadata": {},
   "outputs": [],
   "source": [
    "xx = frame.read(f\"../sequences/stockholm/\", 0)\n",
    "x = YUV.from_RGB(xx.astype(np.int16))\n",
    "\n",
    "disperse_RD_points = []\n",
    "subband_RD_points = []\n",
    "block_y_side = block_x_side = 8\n",
    "for Q_step in [128,64,32,16,8,4,2,1]:\n",
    "    y = block_DCT.analyze(x, block_y_side, block_x_side)\n",
    "    # Notice that with constant_quantize() does not matter if the DCT domain\n",
    "    # is organized in subbands or blocks.\n",
    "    q_y = block_DCT.constant_quantize(y, block_y_side, block_x_side, Q_step)\n",
    "    dq_y = block_DCT.constant_dequantize(q_y, block_y_side, block_x_side, Q_step)\n",
    "    qd_z = block_DCT.synthesize(dq_y, block_y_side, block_x_side)\n",
    "    dq_zz = YUV.to_RGB(qd_z)\n",
    "    frame.write(q_y, f\"/tmp/{Q_step}_\", 0)\n",
    "    bits_per_pixel = os.path.getsize(f\"/tmp/{Q_step}_000.png\")*8/x.size\n",
    "    MSE = distortion.MSE(xx, dq_zz)\n",
    "    disperse_RD_points.append((bits_per_pixel, MSE))\n",
    "    subband_q_y = block_DCT.get_subbands(q_y, block_y_side, block_x_side)\n",
    "    frame.write(subband_q_y, f\"/tmp/{Q_step}_\", 0)\n",
    "    bits_per_pixel = os.path.getsize(f\"/tmp/{Q_step}_000.png\")*8/x.size\n",
    "    subband_RD_points.append((bits_per_pixel, MSE))\n",
    "    print(Q_step, end=' ', flush=True)"
   ]
  },
  {
   "cell_type": "code",
   "execution_count": null,
   "metadata": {},
   "outputs": [],
   "source": [
    "pylab.figure(dpi=150)\n",
    "pylab.plot(*zip(*disperse_RD_points), label=\"disperse B-DCT\")\n",
    "pylab.plot(*zip(*subband_RD_points), label=\"subband B-DCT\")\n",
    "pylab.title(\"YCoCg/B-DCT coding performance\")\n",
    "pylab.xlabel(\"Bits/Pixel\")\n",
    "pylab.ylabel(\"MSE\")\n",
    "plt.legend(loc=\"best\")\n",
    "pylab.show()"
   ]
  },
  {
   "cell_type": "markdown",
   "metadata": {},
   "source": [
    "## Quantizing depending on the variance\n",
    "The higher the variance, the lower the quantization step."
   ]
  },
  {
   "cell_type": "code",
   "execution_count": null,
   "metadata": {},
   "outputs": [],
   "source": [
    "xx = frame.read(f\"../sequences/stockholm/\", 0)\n",
    "x = YUV.from_RGB(xx.astype(np.int16))\n",
    "\n",
    "variance_RD_points = []\n",
    "block_y_side = block_x_side = 8\n",
    "for Q_step in [128,64,32,16,8,4,2,1]:\n",
    "    y = block_DCT.analyze(x, block_y_side, block_x_side)\n",
    "    y = block_DCT.get_subbands(y, block_y_side, block_x_side)\n",
    "    variances = np.sqrt(block_DCT.compute_variances(y, block_y_side, block_x_side))\n",
    "    normalized_variances = (variances - variances.min()) / (variances.max() - variances.min())\n",
    "    Q_steps = Q_step / np.log(normalized_variances + 1.5)\n",
    "    print(Q_steps.astype(np.int32))\n",
    "    q_y = block_DCT.quantize(y, block_y_side, block_x_side, Q_steps)\n",
    "    dq_y = block_DCT.dequantize(q_y, block_y_side, block_x_side, Q_steps)\n",
    "    dq_y = block_DCT.get_blocks(dq_y, block_y_side, block_x_side)\n",
    "    qd_z = block_DCT.synthesize(dq_y, block_y_side, block_x_side)\n",
    "    dq_zz = YUV.to_RGB(qd_z)\n",
    "    frame.write(q_y, f\"/tmp/{Q_step}_\", 0)\n",
    "    bits_per_pixel = os.path.getsize(f\"/tmp/{Q_step}_000.png\")*8/x.size\n",
    "    MSE = distortion.MSE(xx, dq_zz)\n",
    "    variance_RD_points.append((bits_per_pixel, MSE))\n",
    "    print(Q_step, end=' ', flush=True)"
   ]
  },
  {
   "cell_type": "code",
   "execution_count": null,
   "metadata": {},
   "outputs": [],
   "source": [
    "pylab.figure(dpi=150)\n",
    "pylab.plot(*zip(*subband_RD_points), label=\"constant quantization\")\n",
    "pylab.plot(*zip(*variance_RD_points), label=\"variance quantization\")\n",
    "pylab.title(\"YCoCg/B-DCT coding performance\")\n",
    "pylab.xlabel(\"Bits/Pixel\")\n",
    "pylab.ylabel(\"MSE\")\n",
    "plt.legend(loc=\"best\")\n",
    "pylab.show()"
   ]
  },
  {
   "cell_type": "markdown",
   "metadata": {},
   "source": [
    "## R/D optimization\n",
    "The quantization steps should operate in each subband with the same RD-slope."
   ]
  },
  {
   "cell_type": "code",
   "execution_count": null,
   "metadata": {},
   "outputs": [],
   "source": [
    "xx = frame.read(f\"../sequences/stockholm/\", 0)\n",
    "x = YUV.from_RGB(xx.astype(np.int16))\n",
    "\n",
    "optimal_RD_points = []\n",
    "block_y_side = block_x_side = 8\n",
    "for Q_step in [128,64,32,16,8,4,2,1]:\n",
    "    y = block_DCT.analyze(x, block_y_side, block_x_side)\n",
    "    y = block_DCT.get_subbands(y, block_y_side, block_x_side)\n",
    "    #slopes = block_DCT.get_slopes(y, block_y_side, block_x_side, Q_step)\n",
    "    Q_steps, slopes = block_DCT.find_optimal_Q_steps(y, block_y_side, block_x_side, Q_step)\n",
    "    print(Q_steps.astype(np.int32))\n",
    "    q_y = block_DCT.quantize(y, block_y_side, block_x_side, Q_steps)\n",
    "    dq_y = block_DCT.dequantize(q_y, block_y_side, block_x_side, Q_steps)\n",
    "    dq_y = block_DCT.get_blocks(dq_y, block_y_side, block_x_side)\n",
    "    qd_z = block_DCT.synthesize(dq_y, block_y_side, block_x_side)\n",
    "    dq_zz = YUV.to_RGB(qd_z)\n",
    "    frame.write(q_y, f\"/tmp/{Q_step}_\", 0)\n",
    "    bits_per_pixel = os.path.getsize(f\"/tmp/{Q_step}_000.png\")*8/x.size\n",
    "    MSE = distortion.MSE(xx, dq_zz)\n",
    "    optimal_RD_points.append((bits_per_pixel, MSE))\n",
    "    print(Q_step, end=' ', flush=True)"
   ]
  },
  {
   "cell_type": "code",
   "execution_count": null,
   "metadata": {},
   "outputs": [],
   "source": [
    "pylab.figure(dpi=150)\n",
    "pylab.plot(*zip(*variance_RD_points), label=\"variance quantization\")\n",
    "pylab.plot(*zip(*optimal_RD_points), label=\"optimal quantization\")\n",
    "pylab.title(\"YCoCg/B-DCT coding performance\")\n",
    "pylab.xlabel(\"Bits/Pixel\")\n",
    "pylab.ylabel(\"MSE\")\n",
    "plt.legend(loc=\"best\")\n",
    "pylab.show()"
   ]
  },
  {
   "cell_type": "markdown",
   "metadata": {},
   "source": [
    "### A special situation"
   ]
  },
  {
   "cell_type": "code",
   "execution_count": null,
   "metadata": {},
   "outputs": [],
   "source": []
  },
  {
   "cell_type": "code",
   "execution_count": null,
   "metadata": {},
   "outputs": [],
   "source": [
    "block_y_side = block_x_side = 256\n",
    "q_step = 128\n",
    "y = block_DCT.analyze(x, block_y_side, block_x_side)\n",
    "y = block_DCT.get_subbands(y, block_y_side, block_x_side)\n",
    "variances = block_DCT.compute_variances(y, block_y_side, block_x_side)\n",
    "print(variances.max(), np.unravel_index(variances.argmax(), variances.shape))"
   ]
  },
  {
   "cell_type": "markdown",
   "metadata": {},
   "source": [
    "## Testing `block_DCT.find_optimal_Q_steps()`"
   ]
  },
  {
   "cell_type": "code",
   "execution_count": null,
   "metadata": {},
   "outputs": [],
   "source": [
    "block_y_side = block_x_side = 64\n",
    "q_step = 16\n",
    "y = block_DCT.analyze(x, block_y_side, block_x_side)\n",
    "y = block_DCT.get_subbands(y, block_y_side, block_x_side)\n",
    "print(block_DCT.compute_slopes(y, block_y_side, block_x_side, Q_step).astype(np.int32))"
   ]
  },
  {
   "cell_type": "code",
   "execution_count": null,
   "metadata": {},
   "outputs": [],
   "source": [
    "Q_steps, slopes = block_DCT.find_optimal_Q_steps(y, block_y_side, block_x_side, Q_step)"
   ]
  },
  {
   "cell_type": "code",
   "execution_count": null,
   "metadata": {
    "scrolled": false
   },
   "outputs": [],
   "source": [
    "print(Q_steps, slopes.astype(np.int32))"
   ]
  },
  {
   "cell_type": "code",
   "execution_count": null,
   "metadata": {},
   "outputs": [],
   "source": [
    "q_y = block_DCT.quantize(y, block_y_side, block_x_side, Q_steps)\n",
    "dq_y = block_DCT.dequantize(q_y, block_y_side, block_x_side, Q_steps)\n",
    "dq_y = block_DCT.get_blocks(dq_y, block_y_side, block_x_side)\n",
    "z = block_DCT.synthesize(dq_y, block_y_side, block_x_side)"
   ]
  },
  {
   "cell_type": "code",
   "execution_count": null,
   "metadata": {},
   "outputs": [],
   "source": [
    "show_RGB_frame(np.clip(z, a_max=255, a_min=0), \"Dequantized (using optimal quantization steps) image\")"
   ]
  },
  {
   "cell_type": "markdown",
   "metadata": {},
   "source": [
    "## Computing the variance of the DCT coefficients"
   ]
  },
  {
   "cell_type": "code",
   "execution_count": null,
   "metadata": {},
   "outputs": [],
   "source": [
    "block_y_side = block_x_side = 64\n",
    "y = block_DCT.analyze(x, block_y_side, block_x_side)\n",
    "q_y = block_DCT.constant_quantize(y, block_y_side, block_x_side, 128)\n",
    "v = block_DCT.compute_variances(q_y, block_y_side, block_x_side)"
   ]
  },
  {
   "cell_type": "code",
   "execution_count": null,
   "metadata": {},
   "outputs": [],
   "source": [
    "print(v)"
   ]
  },
  {
   "cell_type": "markdown",
   "metadata": {},
   "source": [
    "## Quantizing the YCoCg/B-DCT domain"
   ]
  },
  {
   "cell_type": "markdown",
   "metadata": {},
   "source": [
    "### Using constant quantization"
   ]
  },
  {
   "cell_type": "markdown",
   "metadata": {},
   "source": [
    "### Using \"optimal\" quantization"
   ]
  },
  {
   "cell_type": "code",
   "execution_count": null,
   "metadata": {},
   "outputs": [],
   "source": [
    "xx = frame.read(f\"../sequences/stockholm/\", 0)\n",
    "x = YUV.from_RGB(xx.astype(np.int16))\n",
    "\n",
    "constant_RD_points = []\n",
    "optimal_RD_points = []\n",
    "block_y_side = block_x_side = 128\n",
    "for Q_step in [128,64,32,16,8,4,2,1]:\n",
    "    print(Q_step, end=' ', flush=True)\n",
    "    y = block_DCT.analyze(x, block_y_side, block_x_side)\n",
    "    \n",
    "    # Constant quantization\n",
    "    q_y = block_DCT.constant_quantize(y, block_y_side, block_x_side, Q_step)\n",
    "    dq_y = block_DCT.constant_dequantize(q_y, block_y_side, block_x_side, Q_step)\n",
    "    qd_z = block_DCT.synthesize(dq_y, block_y_side, block_x_side)\n",
    "    dq_zz = YUV.to_RGB(qd_z)\n",
    "    subband_q_y = block_DCT.create_subbands(q_y, block_y_side, block_x_side)\n",
    "    frame.write(subband_q_y, f\"/tmp/{Q_step}_\", 0)\n",
    "    bits_per_pixel = os.path.getsize(f\"/tmp/{Q_step}_000.png\")*8/x.size\n",
    "    MSE = distortion.MSE(xx, dq_zz)\n",
    "    constant_RD_points.append((bits_per_pixel, MSE))\n",
    "\n",
    "    # Optimal quantization\n",
    "    slopes, Q_steps = block_DCT.get_slopes(y, block_y_side, block_x_side, Q_step)\n",
    "    target_slope = np.median(slopes)\n",
    "    Q_steps, new_slopes = block_DCT.find_optimal_Q_steps(y, block_y_side, block_x_side, Q_steps, slopes, target_slope)\n",
    "    print(f\"current={slopes.astype(np.int16)}\\ntarget_slope={target_slope}\\nnew={new_slopes.astype(np.int16)}\\nQ_steps={Q_steps}\")\n",
    "    print(slopes.max(), slopes.min())\n",
    "    print(new_slopes.max(), new_slopes.min())\n",
    "    q_y = block_DCT.quantize(y, block_y_side, block_x_side, Q_steps)\n",
    "    dq_y = block_DCT.dequantize(q_y, block_y_side, block_x_side, Q_steps)\n",
    "    qd_z = block_DCT.synthesize(dq_y, block_y_side, block_x_side)\n",
    "    dq_zz = YUV.to_RGB(qd_z)\n",
    "    subband_q_y = block_DCT.create_subbands(q_y, block_y_side, block_x_side)\n",
    "    frame.write(subband_q_y, f\"/tmp/{Q_step}_\", 0)\n",
    "    bits_per_pixel = os.path.getsize(f\"/tmp/{Q_step}_000.png\")*8/x.size\n",
    "    MSE = distortion.MSE(xx, dq_zz)\n",
    "    optimal_RD_points.append((bits_per_pixel, MSE))"
   ]
  },
  {
   "cell_type": "code",
   "execution_count": null,
   "metadata": {},
   "outputs": [],
   "source": [
    "pylab.figure(dpi=150)\n",
    "pylab.plot(*zip(*constant_RD_points), label=\"constant quantized B-DCT\")\n",
    "pylab.plot(*zip(*optimal_RD_points), label=\"optimal quantized B-DCT\")\n",
    "pylab.title(\"YCoCg/B-DCT coding performance\")\n",
    "pylab.xlabel(\"Bits/Pixel\")\n",
    "pylab.ylabel(\"MSE\")\n",
    "plt.legend(loc=\"best\")\n",
    "pylab.show()"
   ]
  },
  {
   "cell_type": "code",
   "execution_count": null,
   "metadata": {},
   "outputs": [],
   "source": [
    "Q_steps"
   ]
  },
  {
   "cell_type": "code",
   "execution_count": null,
   "metadata": {},
   "outputs": [],
   "source": [
    "slopes"
   ]
  },
  {
   "cell_type": "code",
   "execution_count": null,
   "metadata": {},
   "outputs": [],
   "source": [
    "new_slopes"
   ]
  }
 ],
 "metadata": {
  "kernelspec": {
   "display_name": "Python 3",
   "language": "python",
   "name": "python3"
  },
  "language_info": {
   "codemirror_mode": {
    "name": "ipython",
    "version": 3
   },
   "file_extension": ".py",
   "mimetype": "text/x-python",
   "name": "python",
   "nbconvert_exporter": "python",
   "pygments_lexer": "ipython3",
   "version": "3.9.4"
  }
 },
 "nbformat": 4,
 "nbformat_minor": 4
}
