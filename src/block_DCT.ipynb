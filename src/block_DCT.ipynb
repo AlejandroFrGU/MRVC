{
 "cells": [
  {
   "cell_type": "code",
   "execution_count": null,
   "metadata": {},
   "outputs": [],
   "source": [
    "import numpy as np\n",
    "import matplotlib\n",
    "import matplotlib.pyplot as plt\n",
    "%matplotlib inline\n",
    "import frame\n",
    "import block_DCT\n",
    "import YCoCg as YUV\n",
    "import cv2"
   ]
  },
  {
   "cell_type": "markdown",
   "metadata": {},
   "source": [
    "## Testing `block_DCT.block_analyze()` and `block_DCT.block_synthesize()`"
   ]
  },
  {
   "cell_type": "code",
   "execution_count": null,
   "metadata": {},
   "outputs": [],
   "source": [
    "#a = np.random.randint(low=0, high=100, size=(4,4,3))\n",
    "a = np.full(shape=(4,4,3), fill_value=10, dtype=np.int16)"
   ]
  },
  {
   "cell_type": "code",
   "execution_count": null,
   "metadata": {},
   "outputs": [],
   "source": [
    "print(a)"
   ]
  },
  {
   "cell_type": "code",
   "execution_count": null,
   "metadata": {},
   "outputs": [],
   "source": [
    "b = block_DCT.block_analyze(a)"
   ]
  },
  {
   "cell_type": "code",
   "execution_count": null,
   "metadata": {},
   "outputs": [],
   "source": [
    "print(b.astype(np.int16))"
   ]
  },
  {
   "cell_type": "code",
   "execution_count": null,
   "metadata": {},
   "outputs": [],
   "source": [
    "c = block_DCT.block_synthesize(b)"
   ]
  },
  {
   "cell_type": "code",
   "execution_count": null,
   "metadata": {},
   "outputs": [],
   "source": [
    "print(c.astype(np.int16))"
   ]
  },
  {
   "cell_type": "markdown",
   "metadata": {},
   "source": [
    "## Some routines"
   ]
  },
  {
   "cell_type": "code",
   "execution_count": null,
   "metadata": {},
   "outputs": [],
   "source": [
    "def normalize(img):\n",
    "    max_component = np.max(img)\n",
    "    min_component = np.min(img)\n",
    "    max_min_component = max_component - min_component\n",
    "    return 255*(img-min_component)/max_min_component\n",
    "\n",
    "def print_stats(frame):\n",
    "    for i in range(frame.shape[2]):\n",
    "        print(\"component\", i, frame[..., i].max(), frame[..., i].min(), frame[..., i].dtype)\n",
    "\n",
    "def show_RGB_frame(frame, title=''):\n",
    "    plt.figure(figsize=(16,16))\n",
    "    plt.title(title, fontsize=20)\n",
    "    plt.imshow(cv2.cvtColor(frame.astype(np.uint8), cv2.COLOR_BGR2RGB))\n",
    "    print_stats(frame)\n",
    "\n",
    "def show_frame(frame, title=''):\n",
    "    plt.figure(figsize=(16,16))\n",
    "    plt.title(title, fontsize=20)\n",
    "    plt.imshow(frame)\n",
    "    print_stats(frame)"
   ]
  },
  {
   "cell_type": "markdown",
   "metadata": {},
   "source": [
    "## Testing `block_DCT.analyze()` and `block_DCT.synthesize()`"
   ]
  },
  {
   "cell_type": "code",
   "execution_count": null,
   "metadata": {
    "scrolled": true
   },
   "outputs": [],
   "source": [
    "x = frame.read(f\"../sequences/stockholm/\", 0)\n",
    "#show_frame(normalize(x))\n",
    "show_RGB_frame(x, title=\"Original\")"
   ]
  },
  {
   "cell_type": "code",
   "execution_count": null,
   "metadata": {},
   "outputs": [],
   "source": [
    "#x = YUV.from_RGB(x.astype(np.int16))\n",
    "#show_frame(x)"
   ]
  },
  {
   "cell_type": "code",
   "execution_count": null,
   "metadata": {},
   "outputs": [],
   "source": [
    "block_y_side = block_x_side = 8"
   ]
  },
  {
   "cell_type": "code",
   "execution_count": null,
   "metadata": {
    "scrolled": false
   },
   "outputs": [],
   "source": [
    "y = block_DCT.analyze(x, block_y_side, block_x_side)"
   ]
  },
  {
   "cell_type": "code",
   "execution_count": null,
   "metadata": {
    "scrolled": true
   },
   "outputs": [],
   "source": [
    "show_RGB_frame(normalize(y), \"Block DCT domain\")\n",
    "show_RGB_frame(normalize(y[:64, :64]), \"Block DCT domain (detail [0:64, 0:64])\")"
   ]
  },
  {
   "cell_type": "code",
   "execution_count": null,
   "metadata": {},
   "outputs": [],
   "source": [
    "z = block_DCT.synthesize(y, block_y_side, block_x_side)"
   ]
  },
  {
   "cell_type": "code",
   "execution_count": null,
   "metadata": {},
   "outputs": [],
   "source": [
    "(x-z).max()"
   ]
  },
  {
   "cell_type": "code",
   "execution_count": null,
   "metadata": {},
   "outputs": [],
   "source": [
    "r = x - z\n",
    "show_RGB_frame(normalize(r), \"Block DCT finite precission error\")"
   ]
  },
  {
   "cell_type": "code",
   "execution_count": null,
   "metadata": {},
   "outputs": [],
   "source": [
    "show_RGB_frame(z, \"Reconstructed image\")"
   ]
  },
  {
   "cell_type": "markdown",
   "metadata": {},
   "source": [
    "## Testing `block_DCT.constant_quantize()` and `block_DCT.constant_dequantize()`"
   ]
  },
  {
   "cell_type": "code",
   "execution_count": null,
   "metadata": {},
   "outputs": [],
   "source": [
    "block_y_side = block_x_side = 64\n",
    "q_step = 128\n",
    "y = block_DCT.analyze(x, block_y_side, block_x_side)\n",
    "q_y = block_DCT.constant_quantize(y, block_y_side, block_x_side, 128)\n",
    "dq_y = block_DCT.constant_dequantize(q_y, block_y_side, block_x_side, 128)\n",
    "z = block_DCT.synthesize(dq_y, block_y_side, block_x_side)"
   ]
  },
  {
   "cell_type": "code",
   "execution_count": null,
   "metadata": {},
   "outputs": [],
   "source": [
    "show_RGB_frame(np.clip(z, a_max=255, a_min=0), \"Dequantized (in the block DCT domain) image\")"
   ]
  },
  {
   "cell_type": "code",
   "execution_count": null,
   "metadata": {},
   "outputs": [],
   "source": [
    "r = x - z\n",
    "n = normalize(r)\n",
    "show_RGB_frame(n, \"Quantization error\")"
   ]
  },
  {
   "cell_type": "markdown",
   "metadata": {},
   "source": [
    "## Testing `block_DCT.find_optimal_Q_steps()`"
   ]
  },
  {
   "cell_type": "code",
   "execution_count": null,
   "metadata": {},
   "outputs": [],
   "source": [
    "block_y_side = block_x_side = 64\n",
    "q_step = 128\n",
    "y = block_DCT.analyze(x, block_y_side, block_x_side)\n",
    "slopes, Q_steps = block_DCT.get_slopes(y, block_y_side, block_x_side, q_step)"
   ]
  },
  {
   "cell_type": "code",
   "execution_count": null,
   "metadata": {},
   "outputs": [],
   "source": [
    "print(slopes)"
   ]
  },
  {
   "cell_type": "code",
   "execution_count": null,
   "metadata": {},
   "outputs": [],
   "source": [
    "Q_steps, new_slopes = block_DCT.find_optimal_Q_steps(y, block_y_side, block_x_side, Q_steps, slopes, np.median(slopes))"
   ]
  },
  {
   "cell_type": "code",
   "execution_count": null,
   "metadata": {
    "scrolled": true
   },
   "outputs": [],
   "source": [
    "print(Q_steps, new_slopes)"
   ]
  },
  {
   "cell_type": "code",
   "execution_count": null,
   "metadata": {},
   "outputs": [],
   "source": [
    "q_y = block_DCT.quantize(y, block_y_side, block_x_side, Q_steps)\n",
    "dq_y = block_DCT.dequantize(q_y, block_y_side, block_x_side, Q_steps)\n",
    "z = block_DCT.synthesize(dq_y, block_y_side, block_x_side)"
   ]
  },
  {
   "cell_type": "code",
   "execution_count": null,
   "metadata": {},
   "outputs": [],
   "source": [
    "show_RGB_frame(np.clip(z, a_max=255, a_min=0), \"Dequantized (using optimal quantization steps) image\")"
   ]
  },
  {
   "cell_type": "markdown",
   "metadata": {},
   "source": [
    "## Computing the variance of the DCT coefficients"
   ]
  },
  {
   "cell_type": "code",
   "execution_count": null,
   "metadata": {},
   "outputs": [],
   "source": [
    "block_y_side = block_x_side = 64\n",
    "y = block_DCT.analyze(x, block_y_side, block_x_side)\n",
    "q_y = block_DCT.constant_quantize(y, block_y_side, block_x_side, 128)\n",
    "v = block_DCT.compute_variances(q_y, block_y_side, block_x_side)"
   ]
  },
  {
   "cell_type": "code",
   "execution_count": null,
   "metadata": {},
   "outputs": [],
   "source": [
    "print(v)"
   ]
  },
  {
   "cell_type": "markdown",
   "metadata": {},
   "source": [
    "## Correlating the coefficients (generating subbands)"
   ]
  },
  {
   "cell_type": "code",
   "execution_count": null,
   "metadata": {},
   "outputs": [],
   "source": [
    "block_y_side = block_x_side = 8\n",
    "Q_step = 32\n",
    "x = frame.read(f\"../sequences/stockholm/\", 0)\n",
    "y = block_DCT.analyze(x, block_y_side, block_x_side)\n",
    "q_y = block_DCT.constant_quantize(y, block_y_side, block_x_side, Q_step)\n",
    "dq_y = block_DCT.constant_dequantize(q_y, block_y_side, block_x_side, Q_step)\n",
    "cor_dq_y = block_DCT.correlate(dq_y, block_y_side, block_x_side)"
   ]
  },
  {
   "cell_type": "code",
   "execution_count": null,
   "metadata": {
    "scrolled": true
   },
   "outputs": [],
   "source": [
    "show_RGB_frame(dq_y, \"Decorrelated (original) dequantized block DCT domain\")\n",
    "show_RGB_frame(cor_dq_y, \"Correlated dequantized block DCT domain\")\n",
    "blocks_in_y = x.shape[0]//block_y_side\n",
    "blocks_in_x = x.shape[1]//block_x_side\n",
    "show_RGB_frame(normalize(cor_dq_y[:blocks_in_y, :blocks_in_x]))"
   ]
  },
  {
   "cell_type": "code",
   "execution_count": null,
   "metadata": {},
   "outputs": [],
   "source": [
    "decor_dq_y = block_DCT.decorrelate(cor_dq_y, block_y_side, block_x_side)"
   ]
  },
  {
   "cell_type": "code",
   "execution_count": null,
   "metadata": {},
   "outputs": [],
   "source": [
    "show_RGB_frame(decor_dq_y)"
   ]
  },
  {
   "cell_type": "code",
   "execution_count": null,
   "metadata": {},
   "outputs": [],
   "source": [
    "(decor_dq_y == dq_y).all()"
   ]
  },
  {
   "cell_type": "markdown",
   "metadata": {},
   "source": [
    "## Coding performance"
   ]
  },
  {
   "cell_type": "code",
   "execution_count": null,
   "metadata": {},
   "outputs": [],
   "source": [
    "x = frame.read(f\"../sequences/stockholm/\", 0)\n",
    "x = YCoCg.from_RGB(x.astype(np.int16))\n"
   ]
  }
 ],
 "metadata": {
  "kernelspec": {
   "display_name": "Python 3",
   "language": "python",
   "name": "python3"
  },
  "language_info": {
   "codemirror_mode": {
    "name": "ipython",
    "version": 3
   },
   "file_extension": ".py",
   "mimetype": "text/x-python",
   "name": "python",
   "nbconvert_exporter": "python",
   "pygments_lexer": "ipython3",
   "version": "3.9.4"
  }
 },
 "nbformat": 4,
 "nbformat_minor": 4
}
