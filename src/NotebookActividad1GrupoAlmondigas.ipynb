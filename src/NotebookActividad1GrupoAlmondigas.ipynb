{
 "cells": [
  {
   "cell_type": "markdown",
   "metadata": {},
   "source": [
    "## Create folder structure for images storing"
   ]
  },
  {
   "cell_type": "code",
   "execution_count": 76,
   "metadata": {},
   "outputs": [
    {
     "name": "stdout",
     "output_type": "stream",
     "text": [
      "Successfully created the directory /home/josecarlosfuentes/Documentos/MCDWT/src/videoTest \n",
      "Successfully created the directory /home/josecarlosfuentes/Documentos/MCDWT/src/videoTest/originals \n",
      "Successfully created the directory /home/josecarlosfuentes/Documentos/MCDWT/src/videoTest/processed \n"
     ]
    },
    {
     "data": {
      "text/plain": [
       "('/home/josecarlosfuentes/Documentos/MCDWT/src/videoTest/foreman',\n",
       " <http.client.HTTPMessage at 0x7facb2e0fa90>)"
      ]
     },
     "execution_count": 76,
     "metadata": {},
     "output_type": "execute_result"
    }
   ],
   "source": [
    "import urllib.request\n",
    "import os\n",
    "\n",
    "path = \"/home/josecarlosfuentes/Documentos/MCDWT/src/videoTest\"\n",
    "originalFramesPath = \"/home/josecarlosfuentes/Documentos/MCDWT/src/videoTest/originals\"\n",
    "processedFramesPath = \"/home/josecarlosfuentes/Documentos/MCDWT/src/videoTest/processed\"\n",
    "\n",
    "try:\n",
    "    os.mkdir(path)\n",
    "except OSError:\n",
    "    print (\"Creation of the directory %s failed\" % path)\n",
    "else:\n",
    "    print (\"Successfully created the directory %s \" % path)\n",
    "\n",
    "try:\n",
    "    os.mkdir(originalFramesPath)\n",
    "except OSError:\n",
    "    print (\"Creation of the directory %s failed\" % originalFramesPath)\n",
    "else:\n",
    "    print (\"Successfully created the directory %s \" % originalFramesPath)\n",
    "    \n",
    "try:\n",
    "    os.mkdir(processedFramesPath)\n",
    "except OSError:\n",
    "    print (\"Creation of the directory %s failed\" % processedFramesPath)\n",
    "else:\n",
    "    print (\"Successfully created the directory %s \" % processedFramesPath)\n",
    "    \n",
    "urllib.request.urlretrieve('https://media.xiph.org/video/derf/y4m/foreman_qcif.y4m', path + \"/foreman\") "
   ]
  },
  {
   "cell_type": "markdown",
   "metadata": {},
   "source": [
    "## Invoke ffmpeg command to extract frames from video"
   ]
  },
  {
   "cell_type": "code",
   "execution_count": 77,
   "metadata": {},
   "outputs": [
    {
     "name": "stdout",
     "output_type": "stream",
     "text": [
      "ffmpeg version 2.8.15-0ubuntu0.16.04.1 Copyright (c) 2000-2018 the FFmpeg developers\r\n",
      "  built with gcc 5.4.0 (Ubuntu 5.4.0-6ubuntu1~16.04.10) 20160609\r\n",
      "  configuration: --prefix=/usr --extra-version=0ubuntu0.16.04.1 --build-suffix=-ffmpeg --toolchain=hardened --libdir=/usr/lib/x86_64-linux-gnu --incdir=/usr/include/x86_64-linux-gnu --cc=cc --cxx=g++ --enable-gpl --enable-shared --disable-stripping --disable-decoder=libopenjpeg --disable-decoder=libschroedinger --enable-avresample --enable-avisynth --enable-gnutls --enable-ladspa --enable-libass --enable-libbluray --enable-libbs2b --enable-libcaca --enable-libcdio --enable-libflite --enable-libfontconfig --enable-libfreetype --enable-libfribidi --enable-libgme --enable-libgsm --enable-libmodplug --enable-libmp3lame --enable-libopenjpeg --enable-libopus --enable-libpulse --enable-librtmp --enable-libschroedinger --enable-libshine --enable-libsnappy --enable-libsoxr --enable-libspeex --enable-libssh --enable-libtheora --enable-libtwolame --enable-libvorbis --enable-libvpx --enable-libwavpack --enable-libwebp --enable-libx265 --enable-libxvid --enable-libzvbi --enable-openal --enable-opengl --enable-x11grab --enable-libdc1394 --enable-libiec61883 --enable-libzmq --enable-frei0r --enable-libx264 --enable-libopencv\r\n",
      "  libavutil      54. 31.100 / 54. 31.100\r\n",
      "  libavcodec     56. 60.100 / 56. 60.100\r\n",
      "  libavformat    56. 40.101 / 56. 40.101\r\n",
      "  libavdevice    56.  4.100 / 56.  4.100\r\n",
      "  libavfilter     5. 40.101 /  5. 40.101\r\n",
      "  libavresample   2.  1.  0 /  2.  1.  0\r\n",
      "  libswscale      3.  1.101 /  3.  1.101\r\n",
      "  libswresample   1.  2.101 /  1.  2.101\r\n",
      "  libpostproc    53.  3.100 / 53.  3.100\r\n",
      "Input #0, yuv4mpegpipe, from '/home/josecarlosfuentes/Documentos/MCDWT/src/videoTest/foreman':\r\n",
      "  Duration: 00:00:10.01, start: 0.000000, bitrate: 9116 kb/s\r\n",
      "    Stream #0:0: Video: rawvideo (I420 / 0x30323449), yuv420p, 176x144, SAR 128:117 DAR 1408:1053, 29.97 fps, 29.97 tbr, 29.97 tbn, 29.97 tbc\r\n",
      "Output #0, image2, to '/home/josecarlosfuentes/Documentos/MCDWT/src/videoTest/originals/%03d.png':\r\n",
      "  Metadata:\r\n",
      "    encoder         : Lavf56.40.101\r\n",
      "    Stream #0:0: Video: png, rgb24, 176x144 [SAR 128:117 DAR 1408:1053], q=2-31, 200 kb/s, 29.97 fps, 29.97 tbn, 29.97 tbc\r\n",
      "    Metadata:\r\n",
      "      encoder         : Lavc56.60.100 png\r\n",
      "Stream mapping:\r\n",
      "  Stream #0:0 -> #0:0 (rawvideo (native) -> png (native))\r\n",
      "Press [q] to stop, [?] for help\r\n",
      "frame=    6 fps=0.0 q=-0.0 Lsize=N/A time=00:00:00.20 bitrate=N/A    \r\n",
      "video:320kB audio:0kB subtitle:0kB other streams:0kB global headers:0kB muxing overhead: unknown\r\n"
     ]
    }
   ],
   "source": [
    "!ffmpeg -i '/home/josecarlosfuentes/Documentos/MCDWT/src/videoTest/foreman' -vframes 6 '/home/josecarlosfuentes/Documentos/MCDWT/src/videoTest/originals/'%03d.png"
   ]
  },
  {
   "cell_type": "markdown",
   "metadata": {},
   "source": [
    "## Rename files"
   ]
  },
  {
   "cell_type": "code",
   "execution_count": 78,
   "metadata": {},
   "outputs": [],
   "source": [
    "import os\n",
    "\n",
    "for i in range(6):\n",
    "    os.rename(\"/home/josecarlosfuentes/Documentos/MCDWT/src/videoTest/originals/00\" + str(i+1) + \".png\", \"/home/josecarlosfuentes/Documentos/MCDWT/src/videoTest/originals/00\" + str(i) + \".png\")"
   ]
  },
  {
   "cell_type": "markdown",
   "metadata": {},
   "source": [
    "## Set code for 1 iteration"
   ]
  },
  {
   "cell_type": "code",
   "execution_count": 1,
   "metadata": {},
   "outputs": [
    {
     "name": "stdout",
     "output_type": "stream",
     "text": [
      "Creation of the directory /home/josecarlosfuentes/Documentos/MCDWT/src/videoTest/processed/itNum1 failed\n",
      "a=2 a=4 Peso de la carpeta con las imagenes orginales: 327887\n",
      "Peso de la carpeta con las imagenes orginales: 348053\n",
      "Ratio de compresión: 0.9420605482498355\n"
     ]
    }
   ],
   "source": [
    "import os\n",
    "\n",
    "#Function definition for calculating folder weight\n",
    "def calcular_directorio(directorio): return sum([sum([os.path.getsize(rutas+\"//\"+archivo) for archivo in archivos]) for rutas, _, archivos in os.walk(directorio)])\n",
    "\n",
    "num_images = 5\n",
    "predictor=1 \n",
    "iterations=1\n",
    "\n",
    "folderPath = \"/home/josecarlosfuentes/Documentos/MCDWT/src/videoTest/processed/itNum\" + str(iterations)\n",
    "\n",
    "try:\n",
    "    os.mkdir(folderPath)\n",
    "except OSError:\n",
    "    print (\"Creation of the directory %s failed\" % folderPath)\n",
    "else:\n",
    "    print (\"Successfully created the directory %s \" % folderPath)\n",
    "    \n",
    "#Copy original images to /tmp folder for working in order place \n",
    "!cp /home/josecarlosfuentes/Documentos/MCDWT/src/videoTest/originals/*.png /tmp\n",
    "\n",
    "#Execute compression scripts\n",
    "!python3 -O MDWT.py -p /tmp/ -N $num_images\n",
    "!python3 -O MCDWT.py -P $predictor -p /tmp/ -T $iterations -N $num_images\n",
    "\n",
    "#Copy high sub-bands images into processed folder\n",
    "!cp /tmp/H????.png $folderPath\n",
    "\n",
    "#Copy low sub-bands images into processed folder\n",
    "!cp /tmp/L????.png $folderPath\n",
    "\n",
    "#Remove all PNG files from /tmp\n",
    "!rm /tmp/*.png\n",
    "\n",
    "#Calculate wieght of folder with originals images\n",
    "originalsWeight = calcular_directorio(r\"/home/josecarlosfuentes/Documentos/MCDWT/src/videoTest/originals\")\n",
    "print(\"Peso de la carpeta con las imagenes orginales: \"+str(originalsWeight))\n",
    "\n",
    "#Calculate weight of folder with processed images\n",
    "processedWeight = calcular_directorio(r\"/home/josecarlosfuentes/Documentos/MCDWT/src/videoTest/processed/itNum\" + str(iterations))\n",
    "print(\"Peso de la carpeta con las imagenes orginales: \"+str(processedWeight))\n",
    "\n",
    "#Show compression ratio\n",
    "print(\"Ratio de compresión: \" + str(originalsWeight/processedWeight))"
   ]
  },
  {
   "cell_type": "markdown",
   "metadata": {},
   "source": [
    "## Set code for 2 iterations"
   ]
  },
  {
   "cell_type": "code",
   "execution_count": 2,
   "metadata": {},
   "outputs": [
    {
     "name": "stdout",
     "output_type": "stream",
     "text": [
      "Creation of the directory /home/josecarlosfuentes/Documentos/MCDWT/src/videoTest/processed/itNum2 failed\n",
      "a=2 a=4 a=4 Peso de la carpeta con las imagenes orginales: 327887\n",
      "Peso de la carpeta con las imagenes orginales: 343734\n",
      "Ratio de compresión: 0.9538974905013761\n"
     ]
    }
   ],
   "source": [
    "num_images = 5\n",
    "predictor=1 \n",
    "iterations=2\n",
    "\n",
    "folderPath = \"/home/josecarlosfuentes/Documentos/MCDWT/src/videoTest/processed/itNum\" + str(iterations)\n",
    "\n",
    "try:\n",
    "    os.mkdir(folderPath)\n",
    "except OSError:\n",
    "    print (\"Creation of the directory %s failed\" % folderPath)\n",
    "else:\n",
    "    print (\"Successfully created the directory %s \" % folderPath)\n",
    "    \n",
    "#Copy original images to /tmp folder for working in order place \n",
    "!cp /home/josecarlosfuentes/Documentos/MCDWT/src/videoTest/originals/*.png /tmp\n",
    "\n",
    "#Execute compression scripts\n",
    "!python3 -O MDWT.py -p /tmp/ -N $num_images\n",
    "!python3 -O MCDWT.py -P $predictor -p /tmp/ -T $iterations -N $num_images\n",
    "\n",
    "#Copy high sub-bands images into processed folder\n",
    "!cp /tmp/H????.png $folderPath\n",
    "\n",
    "#Copy low sub-bands images into processed folder\n",
    "!cp /tmp/L????.png $folderPath\n",
    "\n",
    "#Remove all PNG files from /tmp\n",
    "!rm /tmp/*.png\n",
    "\n",
    "#Calculate wieght of folder with originals images\n",
    "originalsWeight = calcular_directorio(r\"/home/josecarlosfuentes/Documentos/MCDWT/src/videoTest/originals\")\n",
    "print(\"Peso de la carpeta con las imagenes orginales: \"+str(originalsWeight))\n",
    "\n",
    "#Calculate weight of folder with processed images\n",
    "processedWeight = calcular_directorio(r\"/home/josecarlosfuentes/Documentos/MCDWT/src/videoTest/processed/itNum\" + str(iterations))\n",
    "print(\"Peso de la carpeta con las imagenes orginales: \"+str(processedWeight))\n",
    "\n",
    "#Show compression ratio\n",
    "print(\"Ratio de compresión: \" + str(originalsWeight/processedWeight))"
   ]
  },
  {
   "cell_type": "markdown",
   "metadata": {},
   "source": [
    "## Set code for 5 iterations"
   ]
  },
  {
   "cell_type": "code",
   "execution_count": 3,
   "metadata": {},
   "outputs": [
    {
     "name": "stdout",
     "output_type": "stream",
     "text": [
      "Creation of the directory /home/josecarlosfuentes/Documentos/MCDWT/src/videoTest/processed/itNum5 failed\n",
      "a=2 a=4 a=4 Peso de la carpeta con las imagenes orginales: 327887\n",
      "Peso de la carpeta con las imagenes orginales: 343734\n",
      "Ratio de compresión: 0.9538974905013761\n"
     ]
    }
   ],
   "source": [
    "num_images = 5\n",
    "predictor=1 \n",
    "iterations=5\n",
    "\n",
    "folderPath = \"/home/josecarlosfuentes/Documentos/MCDWT/src/videoTest/processed/itNum\" + str(iterations)\n",
    "\n",
    "try:\n",
    "    os.mkdir(folderPath)\n",
    "except OSError:\n",
    "    print (\"Creation of the directory %s failed\" % folderPath)\n",
    "else:\n",
    "    print (\"Successfully created the directory %s \" % folderPath)\n",
    "    \n",
    "#Copy original images to /tmp folder for working in order place \n",
    "!cp /home/josecarlosfuentes/Documentos/MCDWT/src/videoTest/originals/*.png /tmp\n",
    "\n",
    "#Execute compression scripts\n",
    "!python3 -O MDWT.py -p /tmp/ -N $num_images\n",
    "!python3 -O MCDWT.py -P $predictor -p /tmp/ -T $iterations -N $num_images\n",
    "\n",
    "#Copy high sub-bands images into processed folder\n",
    "!cp /tmp/H????.png $folderPath\n",
    "\n",
    "#Copy low sub-bands images into processed folder\n",
    "!cp /tmp/L????.png $folderPath\n",
    "\n",
    "#Remove all PNG files from /tmp\n",
    "!rm /tmp/*.png\n",
    "\n",
    "#Calculate wieght of folder with originals images\n",
    "originalsWeight = calcular_directorio(r\"/home/josecarlosfuentes/Documentos/MCDWT/src/videoTest/originals\")\n",
    "print(\"Peso de la carpeta con las imagenes orginales: \"+str(originalsWeight))\n",
    "\n",
    "#Calculate weight of folder with processed images\n",
    "processedWeight = calcular_directorio(r\"/home/josecarlosfuentes/Documentos/MCDWT/src/videoTest/processed/itNum\" + str(iterations))\n",
    "print(\"Peso de la carpeta con las imagenes orginales: \"+str(processedWeight))\n",
    "\n",
    "#Show compression ratio\n",
    "print(\"Ratio de compresión: \" + str(originalsWeight/processedWeight))"
   ]
  },
  {
   "cell_type": "code",
   "execution_count": null,
   "metadata": {},
   "outputs": [],
   "source": []
  }
 ],
 "metadata": {
  "kernelspec": {
   "display_name": "Python 3",
   "language": "python",
   "name": "python3"
  },
  "language_info": {
   "codemirror_mode": {
    "name": "ipython",
    "version": 3
   },
   "file_extension": ".py",
   "mimetype": "text/x-python",
   "name": "python",
   "nbconvert_exporter": "python",
   "pygments_lexer": "ipython3",
   "version": "3.5.2"
  }
 },
 "nbformat": 4,
 "nbformat_minor": 4
}
