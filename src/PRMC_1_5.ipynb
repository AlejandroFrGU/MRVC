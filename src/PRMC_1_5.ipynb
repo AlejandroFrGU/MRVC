{
 "cells": [
  {
   "cell_type": "markdown",
   "metadata": {
    "colab_type": "text",
    "id": "view-in-github"
   },
   "source": [
    "<a href=\"https://colab.research.google.com/github/vicente-gonzalez-ruiz/MCDWT-experimentos/blob/master/src/PRMC_1_5.ipynb\" target=\"_parent\"><img src=\"https://colab.research.google.com/assets/colab-badge.svg\" alt=\"Open In Colab\"/></a>"
   ]
  },
  {
   "cell_type": "markdown",
   "metadata": {},
   "source": [
    "# [PRMC](https://github.com/Sistemas-Multimedia/PRMC)$(T=1,N=5)$\n",
    "Calculamos la transformada directa e inversa de una iteración, a 5 imágenes. La descomposición espacial y temporal generada se puede ver [aquí](https://sistemas-multimedia.github.io/PRMC/#x1-20001r7)."
   ]
  },
  {
   "cell_type": "code",
   "execution_count": null,
   "metadata": {
    "colab": {},
    "colab_type": "code",
    "id": "WYKPO7SrU8Pa",
    "outputId": "70f4523c-4fb5-4a1f-85bc-59df85e4214e"
   },
   "outputs": [],
   "source": [
    "%matplotlib inline\n",
    "from load_and_display import *\n",
    "\n",
    "# The results depends on the wavelet (see http://wavelets.pybytes.com):\n",
    "#wavelet = \"haar\"\n",
    "wavelet = \"bior3.5\"\n",
    "#wavelet = \"rbio3.5\"\n",
    "#wavelet = \"db5\"\n",
    "#wavelet = \"db9\""
   ]
  },
  {
   "cell_type": "markdown",
   "metadata": {
    "colab_type": "text",
    "id": "Ln_3_kssU8O0"
   },
   "source": [
    "## Paso 1: $\\mathtt{MDWT}(N=5)$\n",
    "\n",
    "Aplicamos la 2D-DWT una iteración a cada una de las imágenes de la secuencia. La descomposición en subbandas generada es [esta](https://sistemas-multimedia.github.io/PRMC/#x1-10001r3)."
   ]
  },
  {
   "cell_type": "code",
   "execution_count": null,
   "metadata": {
    "colab": {
     "base_uri": "https://localhost:8080/",
     "height": 119
    },
    "colab_type": "code",
    "id": "4VqyikDZU8O2",
    "outputId": "52c21b6c-5f99-4f5d-cacd-699bed2dee02"
   },
   "outputs": [],
   "source": [
    "%%bash\n",
    "\n",
    "# You must be in the ’src’ directory to run this.\n",
    "rm -f /tmp/*.png  \n",
    "cp ../sequences/stockholm/*.png /tmp  \n",
    " \n",
    "# 1-iteration MDWT.  \n",
    "python3 -O MDWT.py -p /tmp/  "
   ]
  },
  {
   "cell_type": "markdown",
   "metadata": {},
   "source": [
    "## Paso 2: $\\mathtt{MCOLP}(T=1, N=5)$\n",
    "Ahora compensamos la subbandas $F_1.H$ usando las subbandas $F_0.H$ y $F_2.H$ como referencia, y las subbandas $F_0.L$ y $F_2.L$ para estimar el movimiento. Como la DWT no es invariante al desplazamiento, en lugar de compensar en el dominio DWT compensamos en el dominio OLP."
   ]
  },
  {
   "cell_type": "code",
   "execution_count": null,
   "metadata": {},
   "outputs": [],
   "source": [
    "%%bash\n",
    "\n",
    "# Hacemos una copia de las subbandas que vamos a compensar para luego poder comparar con lo que teníamos\n",
    "\n",
    "rm -rf /tmp/tmp\n",
    "mkdir /tmp/tmp\n",
    "cp /tmp/LH001.png /tmp/tmp \n",
    "cp /tmp/HL001.png /tmp/tmp\n",
    "cp /tmp/HH001.png /tmp/tmp\n",
    "cp /tmp/LH003.png /tmp/tmp\n",
    "cp /tmp/HL003.png /tmp/tmp\n",
    "cp /tmp/HH003.png /tmp/tmp"
   ]
  },
  {
   "cell_type": "code",
   "execution_count": null,
   "metadata": {
    "colab": {},
    "colab_type": "code",
    "id": "uoKmUDjDU8PG",
    "outputId": "b57db6f3-4e22-4b8a-fec2-bc6127962000"
   },
   "outputs": [],
   "source": [
    "%%bash\n",
    "\n",
    "predictor=1  \n",
    "iterations=1  \n",
    " \n",
    "# 1-iteration MCDWT.  \n",
    "python3 -O MCOLP.py -P $predictor -p /tmp/ -T $iterations  "
   ]
  },
  {
   "cell_type": "code",
   "execution_count": null,
   "metadata": {
    "colab": {},
    "colab_type": "code",
    "id": "uoKmUDjDU8PG",
    "outputId": "b57db6f3-4e22-4b8a-fec2-bc6127962000"
   },
   "outputs": [],
   "source": [
    "%%bash\n",
    "\n",
    "# Show the length of the original subbands and compensated subbands.\n",
    "ls -lh /tmp/tmp/LH001.png\n",
    "ls -lh /tmp/LH001.png\n",
    "ls -lh /tmp/tmp/HL001.png\n",
    "ls -lh /tmp/HL001.png\n",
    "ls -lh /tmp/tmp/HH001.png\n",
    "ls -lh /tmp/HH001.png\n",
    "ls -lh /tmp/tmp/LH003.png\n",
    "ls -lh /tmp/LH003.png\n",
    "ls -lh /tmp/tmp/HL003.png\n",
    "ls -lh /tmp/HL003.png\n",
    "ls -lh /tmp/tmp/HH003.png\n",
    "ls -lh /tmp/HH003.png\n",
    "\n",
    "# Has changed in length any of them? Remember that a change in lenght  \n",
    "# implies a change in content.  "
   ]
  },
  {
   "cell_type": "markdown",
   "metadata": {
    "colab_type": "text",
    "id": "MDa0Ld2wU8PP"
   },
   "source": [
    "Como se puede apreciar, la longitud de los ficheros `LH001` (antes: 698K, ahora: 701K), `HL001` (antes: 697K, ahora: 696K), `HH001` (antes: 494K, ahora: 516K), `LH003` (antes: 698K, ahora: 701K), `HL003` (antes: 696K, ahora: 696K), y `HH003` (antes: 494K, ahora: 517K), han cambiado (el resto de subbandas permanecen inalteradas). Estas son las subbandas que MCOLP *intenta* despojar de contenido visual mediante la compensación de movimiento. Como se puede ver, en algunos casos la entropía de orden N (suponiendo que la longitud de los archivos comprimidos con PNG sea proporcional a la entropía de orden N, donde N depende de cómo se está usando PNG) ha aumentado y en otros ha disminuido. Evidéntemente, lo mejor sería que siempre existiera una disminución, pero desde un punto de vista puramente visual, lossy, lo importante es que en dichas subbandas (las compensadas) desaparezcan las estructuras visualmente reconocibles. Esto significa que, si prescindiéramos completamente de dichas subbandas, un ser humano podría no darse cuenta de que esta información ya no está en el vídeo descomprimido.\n",
    "\n",
    "Hay que considerar también otra fuente de ruido que puede perjudicar a la entropía de los residuos, y es que la implementación de la DWT que hemos usado ([PyWavelets](https://pywavelets.readthedocs.io/en/latest/)) trabaja en punto flotante, lo que significa que la transformada no es completamente reversible a causa del error de redondeo."
   ]
  },
  {
   "cell_type": "markdown",
   "metadata": {},
   "source": [
    "Esto es lo que ocurre visualmente ..."
   ]
  },
  {
   "cell_type": "code",
   "execution_count": null,
   "metadata": {},
   "outputs": [],
   "source": [
    "show_img(\"/tmp/tmp/LH001\") # Esta es la subbanda sin compensar"
   ]
  },
  {
   "cell_type": "code",
   "execution_count": null,
   "metadata": {},
   "outputs": [],
   "source": [
    "show_img(\"/tmp/LH001\") # Y esta la subbanda compensada"
   ]
  },
  {
   "cell_type": "code",
   "execution_count": null,
   "metadata": {},
   "outputs": [],
   "source": [
    "show_img(\"/tmp/tmp/HL001\") # Sin compensar"
   ]
  },
  {
   "cell_type": "code",
   "execution_count": null,
   "metadata": {},
   "outputs": [],
   "source": [
    "show_img(\"/tmp/LH001\") # Compensada"
   ]
  },
  {
   "cell_type": "code",
   "execution_count": null,
   "metadata": {},
   "outputs": [],
   "source": [
    "show_img(\"/tmp/tmp/HH001\") # Sin compensar"
   ]
  },
  {
   "cell_type": "code",
   "execution_count": null,
   "metadata": {},
   "outputs": [],
   "source": [
    "show_img(\"/tmp/HH001\") # Compensada"
   ]
  },
  {
   "cell_type": "markdown",
   "metadata": {
    "colab_type": "text",
    "id": "ulT3pvb8U8PQ"
   },
   "source": [
    "El parámetro $T=1$ que se le pasa al script $\\mathtt{MCOLP}$ le indica que debe aplicar la [mariposa](https://sistemas-multimedia.github.io/PRMC/#x1-180009.1) una sola vez a todo el vídeo."
   ]
  },
  {
   "cell_type": "markdown",
   "metadata": {
    "colab_type": "text",
    "id": "hw9eQi30U8PR"
   },
   "source": [
    "El parámetro `predictor=1` le indica a $\\mathtt{MCOLP}$ que use como predicción la media aritmética de la predicción hacia delante y la predicción hacia detrás. Puede ser interesante saber que hay más posibilidades:"
   ]
  },
  {
   "cell_type": "code",
   "execution_count": null,
   "metadata": {
    "colab": {},
    "colab_type": "code",
    "id": "yZAD9QJ4U8PT",
    "outputId": "ccc64c39-27e9-4a78-8b94-e87492f9c46e"
   },
   "outputs": [],
   "source": [
    "%%bash\n",
    "python3 MCOLP.py -h"
   ]
  },
  {
   "cell_type": "markdown",
   "metadata": {
    "colab_type": "text",
    "id": "ozCiLQTKU8PZ"
   },
   "source": [
    "Todas las predicciones están basadas en la [estimación del flujo óptico denso](https://opencv-python-tutroals.readthedocs.io/en/latest/py_tutorials/py_video/py_lucas_kanade/py_lucas_kanade.html#dense-optical-flow-in-opencv). Por tanto, en uno se los sentidos (hacia delante o hacia detrás), habría tantos vectores de movimiento como pixels se están compensando. Esta información la puede recrear el descompresor si reconstruye la subbanda LL sin pérdida (en este ejemplo la subbanda LL no se está comprimiendo con pérdida). En caso contrario, aparecería un error, que podríamos llamar de drift, y que se incrementa diádicamente para los niveles menor resolución temporal, acotado en cada GOP. En este ejemplo, el tamaño de GOP es 2 porque hemos iterado la MCOLP sólo una vez.\n",
    "\n",
    "Para evitar el drift basta con usar en el compresor los mismos datos que debería tener el descompresor. Por ejemplo, si queremos usar HEVC intra para comprimir las subbandas $H$, deberíamos usar la versión descomprimida de $L$ (que reconstruirá el descompresor) para estimar el movimiento en el compresor (que estimaría el descompresor). Si usásemos JPEG2000 y capas de calidad, entonces para cada capa habría que realizar una estimación del movimiento, aunque seguramente muchos de los cálculos que se realizarían para la capa 1 servirían para la 2 y así, sucesivamente.\n",
    "\n",
    "Un aspecto interesante de estimar el movimiento con las subbandas $L$ es que podemos medir la contribución de cada pixel de las imágenes vecinas a la predicción de la subbanda $L$ del frame que se está compensando, y con dicha medición, podemos estimar en qué medida cada frame vecino debería usarse para generar la (subbanda) predicción. Así, por ejemplo, como se explica [aquí](https://sistemas-multimedia.github.io/PRMC/#x1-2600010) (ver Eq. 5), podemos realizar una predicción ponderada estimando el error de predicción. Esto nos puede venir muy bien para cambios de escena, o para la aparición de nuevos objetos."
   ]
  },
  {
   "cell_type": "markdown",
   "metadata": {},
   "source": [
    "## Inverse PRMC($T=1, N=5$)\n",
    "Reconstuímos la secuencia casi (PyWavelets use aritmética en punto flotante) original a partir de la secuencia de subbandas."
   ]
  },
  {
   "cell_type": "code",
   "execution_count": null,
   "metadata": {
    "colab": {},
    "colab_type": "code",
    "id": "9-6z9okmU8Pf"
   },
   "outputs": [],
   "source": [
    "%%bash\n",
    "\n",
    "predictor=1  \n",
    "iterations=1\n",
    "\n",
    "# Lets recover the original sequence ...  \n",
    "rm /tmp/???.png  \n",
    " \n",
    "# 1-iteration iMCDWT.  \n",
    "python3 -O MCOLP.py -P $predictor -b -p /tmp/ -T $iterations  \n",
    " \n",
    "# 1-iteration iMDWT.  \n",
    "python3 -O MDWT.py -b -p /tmp/  "
   ]
  },
  {
   "cell_type": "markdown",
   "metadata": {},
   "source": [
    "Mostramos la secuencia reconstruída:"
   ]
  },
  {
   "cell_type": "code",
   "execution_count": null,
   "metadata": {},
   "outputs": [],
   "source": [
    "show_seq(\"/tmp/\")"
   ]
  },
  {
   "cell_type": "markdown",
   "metadata": {},
   "source": [
    "Mostramos algunas estadísticas de la secuencia original y de la reconstruída:"
   ]
  },
  {
   "cell_type": "code",
   "execution_count": null,
   "metadata": {
    "scrolled": true
   },
   "outputs": [],
   "source": [
    "%%bash \n",
    " \n",
    "# Show some statistics.\n",
    "for i in {0..4}; do\n",
    "  ii=$(printf \"%03d\" $i);\n",
    "  python ../tools/show_statistics.py -i ../sequences/stockholm/$ii.png;\n",
    "  python ../tools/show_statistics.py -i /tmp/$ii.png;\n",
    "done  "
   ]
  },
  {
   "cell_type": "markdown",
   "metadata": {},
   "source": [
    "Las imágenes reconstruídas son parecidas a las originales, pero no idénticas. Esto ocurre también si usamos solo la MDWT (no compensamos el movimiento)."
   ]
  },
  {
   "cell_type": "markdown",
   "metadata": {},
   "source": [
    "Finalmente, mostramos las diferencia entre las secuencias original y reconstruída:"
   ]
  },
  {
   "cell_type": "code",
   "execution_count": null,
   "metadata": {
    "colab": {},
    "colab_type": "code",
    "id": "u0CbhcVoU8Pk",
    "outputId": "fba6b104-4de1-4a60-947a-113dbc68a4df",
    "scrolled": true
   },
   "outputs": [],
   "source": [
    "%%bash \n",
    "\n",
    "# Visualization of the residue.  \n",
    "for i in {0..4}; do ii=$(printf \"%03d\" $i); bash ../tools/show_differences.sh -1 /tmp/$ii.png -2 ../sequences/stockholm/$ii.png -o /tmp/diff_$ii.png; done  "
   ]
  },
  {
   "cell_type": "code",
   "execution_count": null,
   "metadata": {
    "colab": {},
    "colab_type": "code",
    "id": "1wOF3FGZU8Pq"
   },
   "outputs": [],
   "source": [
    "show_seq(\"/tmp/diff_\")"
   ]
  },
  {
   "cell_type": "markdown",
   "metadata": {},
   "source": [
    "## Este notebook está [aquí](https://github.com/vicente-gonzalez-ruiz/PRMC-experimentos/blob/master/src/PRMC_1_5.ipynb)."
   ]
  }
 ],
 "metadata": {
  "colab": {
   "include_colab_link": true,
   "name": "ejemplo.ipynb",
   "provenance": []
  },
  "kernelspec": {
   "display_name": "Python 3",
   "language": "python",
   "name": "python3"
  },
  "language_info": {
   "codemirror_mode": {
    "name": "ipython",
    "version": 3
   },
   "file_extension": ".py",
   "mimetype": "text/x-python",
   "name": "python",
   "nbconvert_exporter": "python",
   "pygments_lexer": "ipython3",
   "version": "3.8.6"
  }
 },
 "nbformat": 4,
 "nbformat_minor": 1
}
