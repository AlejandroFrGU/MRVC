{
 "cells": [
  {
   "cell_type": "markdown",
   "metadata": {},
   "source": [
    "[![Binder](https://mybinder.org/badge_logo.svg)](https://github.com/Sistemas-Multimedia/MRVC/blob/master/src/image_IPP.ipynb)"
   ]
  },
  {
   "cell_type": "markdown",
   "metadata": {},
   "source": [
    "# RD performance in IPP video coding\n",
    "This notebook runs two different IPP... experiments.\n",
    "\n",
    "The first one, implemented in `image_IPP.py` is a simple IPP... video codec without RDO (all macro-blocks are motion compensated as P-type blocks). The lossy image compressor is MP4 used in intra mode.\n",
    "\n",
    "The second one, implemented in `image_IPP_quantized_residue.py` is a modification of `image_IPP.py` where the prediction-error images are quantized before they are compressed with MP4. Each macro-block is quantized to contribute with the same slope to the reconstructed macro-block. \n",
    "\n",
    "Finally, the RD curves are compared to MP4 (intra-mode)."
   ]
  },
  {
   "cell_type": "markdown",
   "metadata": {},
   "source": [
    "### Sequence to compress"
   ]
  },
  {
   "cell_type": "code",
   "execution_count": 1,
   "metadata": {},
   "outputs": [],
   "source": [
    "sequence = \"bus\""
   ]
  },
  {
   "cell_type": "code",
   "execution_count": 2,
   "metadata": {},
   "outputs": [
    {
     "name": "stdout",
     "output_type": "stream",
     "text": [
      "bus_cif.y4m exists.\n",
      "ffmpeg version n4.4.1 Copyright (c) 2000-2021 the FFmpeg developers\n",
      "  built with gcc 11.1.0 (GCC)\n",
      "  configuration: --prefix=/usr --disable-debug --disable-static --disable-stripping --enable-amf --enable-avisynth --enable-cuda-llvm --enable-lto --enable-fontconfig --enable-gmp --enable-gnutls --enable-gpl --enable-ladspa --enable-libaom --enable-libass --enable-libbluray --enable-libdav1d --enable-libdrm --enable-libfreetype --enable-libfribidi --enable-libgsm --enable-libiec61883 --enable-libjack --enable-libmfx --enable-libmodplug --enable-libmp3lame --enable-libopencore_amrnb --enable-libopencore_amrwb --enable-libopenjpeg --enable-libopus --enable-libpulse --enable-librav1e --enable-librsvg --enable-libsoxr --enable-libspeex --enable-libsrt --enable-libssh --enable-libsvtav1 --enable-libtheora --enable-libv4l2 --enable-libvidstab --enable-libvmaf --enable-libvorbis --enable-libvpx --enable-libwebp --enable-libx264 --enable-libx265 --enable-libxcb --enable-libxml2 --enable-libxvid --enable-libzimg --enable-nvdec --enable-nvenc --enable-shared --enable-version3\n",
      "  libavutil      56. 70.100 / 56. 70.100\n",
      "  libavcodec     58.134.100 / 58.134.100\n",
      "  libavformat    58. 76.100 / 58. 76.100\n",
      "  libavdevice    58. 13.100 / 58. 13.100\n",
      "  libavfilter     7.110.100 /  7.110.100\n",
      "  libswscale      5.  9.100 /  5.  9.100\n",
      "  libswresample   3.  9.100 /  3.  9.100\n",
      "  libpostproc    55.  9.100 / 55.  9.100\n",
      "Input #0, yuv4mpegpipe, from 'bus_cif.y4m':\n",
      "  Duration: 00:00:05.00, start: 0.000000, bitrate: 36496 kb/s\n",
      "  Stream #0:0: Video: rawvideo (I420 / 0x30323449), yuv420p(progressive), 352x288, SAR 128:117 DAR 1408:1053, 30 fps, 30 tbr, 30 tbn, 30 tbc\n",
      "Stream mapping:\n",
      "  Stream #0:0 -> #0:0 (rawvideo (native) -> png (native))\n",
      "Press [q] to stop, [?] for help\n",
      "Output #0, image2, to '/tmp/original_%03d.png':\n",
      "  Metadata:\n",
      "    encoder         : Lavf58.76.100\n",
      "  Stream #0:0: Video: png, rgb24(pc, gbr/unknown/unknown, progressive), 352x288 [SAR 128:117 DAR 1408:1053], q=2-31, 200 kb/s, 30 fps, 30 tbn\n",
      "    Metadata:\n",
      "      encoder         : Lavc58.134.100 png\n",
      "frame=  150 fps=0.0 q=-0.0 Lsize=N/A time=00:00:05.00 bitrate=N/A speed=14.8x    \n",
      "video:33372kB audio:0kB subtitle:0kB other streams:0kB global headers:0kB muxing overhead: unknown\n"
     ]
    }
   ],
   "source": [
    "!../sequences/$sequence/runme.sh"
   ]
  },
  {
   "cell_type": "markdown",
   "metadata": {},
   "source": [
    "### Number of frames to compress"
   ]
  },
  {
   "cell_type": "code",
   "execution_count": 3,
   "metadata": {},
   "outputs": [],
   "source": [
    "N_frames = 3 # Min val 3"
   ]
  },
  {
   "cell_type": "markdown",
   "metadata": {},
   "source": [
    "## Testing `image_IPP`"
   ]
  },
  {
   "cell_type": "markdown",
   "metadata": {},
   "source": [
    "### Select `image_IPP` in `RD_curve.py`"
   ]
  },
  {
   "cell_type": "code",
   "execution_count": 4,
   "metadata": {},
   "outputs": [],
   "source": [
    "!sed -z -i 's/\\n#import image_IPP as codec\\n/\\nimport image_IPP as codec\\n/g' RD_curve.py\n",
    "!sed -z -i 's/\\nimport image_IPP_adaptive as codec\\n/\\n#import image_IPP_adaptive as codec\\n/g' RD_curve.py\n",
    "!sed -z -i 's/\\nimport MP4 as codec\\n/\\n#import MP4 as codec\\n/g' RD_curve.py\n",
    "!sed -z -i 's/\\nimport IPP_compressor as codec\\n/\\n#import IPP_compressor as codec\\n/g' RD_curve.py\n",
    "!sed -z -i 's/\\nimage_IPP_quantized_prediction as codec\\n/\\n#import image_IPP_quantized_prediction as codec\\n/g' RD_curve.py\n",
    "!sed -z -i 's/\\nimport image_IPP_quantized_residue as codec\\n/\\n#import image_IPP_quantized_residue as codec\\n/g' RD_curve.py"
   ]
  },
  {
   "cell_type": "code",
   "execution_count": 5,
   "metadata": {},
   "outputs": [
    {
     "name": "stdout",
     "output_type": "stream",
     "text": [
      "     5\t#import debug\r\n",
      "     6\timport config\r\n",
      "     7\timport distortion\r\n",
      "     8\timport image_3 as frame\r\n",
      "    11\t#import image_interpolated_IPP as codec\r\n",
      "    12\timport image_IPP as codec\r\n",
      "    13\t#import image_IPP_adaptive as codec\r\n",
      "    14\t#import image_IPP_quantized_prediction as codec\r\n",
      "    15\t#import image_IPP_quantized_residue as codec\r\n",
      "    16\t#import MP4 as codec\r\n",
      "    17\t#import IPP_compressor as codec\r\n",
      "    19\timport logging\r\n",
      "    28\timport argparse\r\n"
     ]
    }
   ],
   "source": [
    "!cat -n RD_curve.py | grep \"import\" "
   ]
  },
  {
   "cell_type": "markdown",
   "metadata": {},
   "source": [
    "### We use MP4 and therefore, no previous spatial transform is used\n",
    "MP4 uses the DCT."
   ]
  },
  {
   "cell_type": "code",
   "execution_count": 6,
   "metadata": {},
   "outputs": [],
   "source": [
    "!sed -z -i 's/\\ntransform = \"DWT\"\\n/\\n#transform = \"DWT\"\\n/g' config.py\n",
    "!sed -z -i 's/\\ntransform = \"LP\"\\n/\\n#transform = \"LP\"\\n/g' config.py\n",
    "!sed -z -i 's/\\n#transform = None\\n/\\ntransform = None\\n/g' config.py"
   ]
  },
  {
   "cell_type": "code",
   "execution_count": 7,
   "metadata": {},
   "outputs": [
    {
     "name": "stdout",
     "output_type": "stream",
     "text": [
      "     3\t#multiresolution_transform = \"DWT\"\r\n",
      "     4\t#multiresolution_transform = \"LP\"\r\n",
      "     5\tmultiresolution_transform = None\r\n"
     ]
    }
   ],
   "source": [
    "!cat -n config.py | grep \"transform\" "
   ]
  },
  {
   "cell_type": "markdown",
   "metadata": {},
   "source": [
    "### Select the color transform"
   ]
  },
  {
   "cell_type": "code",
   "execution_count": 8,
   "metadata": {},
   "outputs": [],
   "source": [
    "!sed -z -i 's/\\ncolor = \"YCoCg\\n/\\n#color = \"YCoCg\\n/g' config.py\n",
    "!sed -z -i 's/\\ncolor = \"YCoCg\\n/\\n#color = \"YCoCg\\n/g' config.py\n",
    "!sed -z -i 's/\\n#color = \"YCoCg\\n/\\ncolor = \"YCoCg\\n/g' config.py"
   ]
  },
  {
   "cell_type": "code",
   "execution_count": 9,
   "metadata": {},
   "outputs": [
    {
     "name": "stdout",
     "output_type": "stream",
     "text": [
      "    10\tcolor = \"YCoCg\"\r\n",
      "    11\t#color = \"YCrCb\"\r\n",
      "    12\t#color = \"RGB\"\r\n"
     ]
    }
   ],
   "source": [
    "!cat -n config.py | grep \"color\" "
   ]
  },
  {
   "cell_type": "markdown",
   "metadata": {},
   "source": [
    "### Run the codec"
   ]
  },
  {
   "cell_type": "code",
   "execution_count": 10,
   "metadata": {
    "scrolled": true
   },
   "outputs": [
    {
     "name": "stdout",
     "output_type": "stream",
     "text": [
      "     1\tQ_step: 21 BPP: 0.4306432379349046 KBPS: 3929.12 Average AMSE: 43.83927491056397\r\n",
      "     2\tQ_step: 24 BPP: 0.31735760381593714 KBPS: 2895.52 Average AMSE: 64.71079501613356\r\n",
      "     3\tQ_step: 27 BPP: 0.22853535353535354 KBPS: 2085.12 Average AMSE: 98.6580354324495\r\n",
      "     4\tQ_step: 30 BPP: 0.15696899551066218 KBPS: 1432.16 Average AMSE: 151.88171427819864\r\n",
      "     5\tQ_step: 33 BPP: 0.10713033108866442 KBPS: 977.44 Average AMSE: 224.6583258803311\r\n",
      "     6\tQ_step: 36 BPP: 0.07686237373737374 KBPS: 701.28 Average AMSE: 324.9012279917228\r\n",
      "     7\tQ_step: 39 BPP: 0.05788790684624018 KBPS: 528.16 Average AMSE: 445.8785631926908\r\n"
     ]
    }
   ],
   "source": [
    "# You can see in real-time the output by running \"tail -f /tmp/output\"\n",
    "!python RD_curve.py --first_frame=0 --N_frames=$N_frames 1> >(tee /tmp/output_image_IPP >&1) | grep BPP | grep Average | cat -n"
   ]
  },
  {
   "cell_type": "code",
   "execution_count": null,
   "metadata": {},
   "outputs": [],
   "source": [
    "!grep BPP /tmp/output_image_IPP | grep Average | cut -d ' ' -f 4,9 | tr ' ' '\\t'  > /tmp/image_IPP.txt"
   ]
  },
  {
   "cell_type": "code",
   "execution_count": null,
   "metadata": {},
   "outputs": [],
   "source": [
    "!cat /tmp/image_IPP.txt"
   ]
  },
  {
   "cell_type": "code",
   "execution_count": null,
   "metadata": {},
   "outputs": [],
   "source": [
    "RD_image_IPP = []\n",
    "with open(\"/tmp/image_IPP.txt\", 'r') as f:\n",
    "    for line in f:\n",
    "        rate, _distortion = line.split('\\t')\n",
    "        RD_image_IPP.append((float(rate), float(_distortion)))"
   ]
  },
  {
   "cell_type": "markdown",
   "metadata": {},
   "source": [
    "## Testing `image_IPP_adaptive.py`"
   ]
  },
  {
   "cell_type": "markdown",
   "metadata": {},
   "source": [
    "### Select `image_IPP_adaptive` in `RD_curve.py`"
   ]
  },
  {
   "cell_type": "code",
   "execution_count": null,
   "metadata": {},
   "outputs": [],
   "source": [
    "!sed -z -i 's/\\nimport image_IPP as codec\\n/\\n#import image_IPP as codec\\n/g' RD_curve.py\n",
    "!sed -z -i 's/\\n#import image_IPP_adaptive as codec\\n/\\nimport image_IPP_adaptive as codec\\n/g' RD_curve.py\n",
    "!sed -z -i 's/\\nimport MP4 as codec\\n/\\n#import MP4 as codec\\n/g' RD_curve.py\n",
    "!sed -z -i 's/\\nimport IPP_compressor as codec\\n/\\n#import IPP_compressor as codec\\n/g' RD_curve.py\n",
    "!sed -z -i 's/\\nimage_IPP_quantized_prediction as codec\\n/\\n#import image_IPP_quantized_prediction as codec\\n/g' RD_curve.py\n",
    "!sed -z -i 's/\\nimport image_IPP_quantized_residue as codec\\n/\\n#import image_IPP_quantized_residue as codec\\n/g' RD_curve.py"
   ]
  },
  {
   "cell_type": "code",
   "execution_count": null,
   "metadata": {},
   "outputs": [],
   "source": [
    "!cat -n RD_curve.py | grep \"import\" "
   ]
  },
  {
   "cell_type": "code",
   "execution_count": null,
   "metadata": {},
   "outputs": [],
   "source": [
    "!sed -z -i 's/\\ntransform = \"DWT\"\\n/\\n#transform = \"DWT\"\\n/g' config.py\n",
    "!sed -z -i 's/\\ntransform = \"LP\"\\n/\\n#transform = \"LP\"\\n/g' config.py\n",
    "!sed -z -i 's/\\n#transform = None\\n/\\ntransform = None\\n/g' config.py"
   ]
  },
  {
   "cell_type": "code",
   "execution_count": null,
   "metadata": {},
   "outputs": [],
   "source": [
    "!cat -n config.py | grep \"transform\" "
   ]
  },
  {
   "cell_type": "code",
   "execution_count": null,
   "metadata": {},
   "outputs": [],
   "source": [
    "!sed -z -i 's/\\ncolor = \"YCoCg\\n/\\n#color = \"YCoCg\\n/g' config.py\n",
    "!sed -z -i 's/\\ncolor = \"YCoCg\\n/\\n#color = \"YCoCg\\n/g' config.py\n",
    "!sed -z -i 's/\\n#color = \"YCoCg\\n/\\ncolor = \"YCoCg\\n/g' config.py"
   ]
  },
  {
   "cell_type": "code",
   "execution_count": null,
   "metadata": {},
   "outputs": [],
   "source": [
    "!cat -n config.py | grep \"color\" "
   ]
  },
  {
   "cell_type": "code",
   "execution_count": null,
   "metadata": {},
   "outputs": [],
   "source": [
    "# You can see in real-time the output by running \"tail -f /tmp/output\"\n",
    "!python RD_curve.py --first_frame=0 --N_frames=$N_frames 1> >(tee /tmp/output_image_IPP_adaptive >&1) | grep BPP | grep Average | cat -n"
   ]
  },
  {
   "cell_type": "code",
   "execution_count": null,
   "metadata": {},
   "outputs": [],
   "source": [
    "!grep BPP /tmp/output_image_IPP_adaptive | grep Average | cut -d ' ' -f 4,9 | tr ' ' '\\t'  > /tmp/image_IPP_adaptive.txt"
   ]
  },
  {
   "cell_type": "code",
   "execution_count": null,
   "metadata": {},
   "outputs": [],
   "source": [
    "!cat /tmp/image_IPP_adaptive.txt"
   ]
  },
  {
   "cell_type": "code",
   "execution_count": null,
   "metadata": {},
   "outputs": [],
   "source": [
    "RD_image_IPP_adaptive = []\n",
    "with open(\"/tmp/image_IPP_adaptive.txt\", 'r') as f:\n",
    "    for line in f:\n",
    "        rate, _distortion = line.split('\\t')\n",
    "        RD_image_IPP_adaptive.append((float(rate), float(_distortion)))"
   ]
  },
  {
   "cell_type": "markdown",
   "metadata": {},
   "source": [
    "## Testing MP4"
   ]
  },
  {
   "cell_type": "markdown",
   "metadata": {},
   "source": [
    "### Select `MP4` in `RD_curve.py`"
   ]
  },
  {
   "cell_type": "code",
   "execution_count": null,
   "metadata": {},
   "outputs": [],
   "source": [
    "!sed -z -i 's/\\nimport image_IPP as codec/\\n#import image_IPP as codec/g' RD_curve.py\n",
    "!sed -z -i 's/\\nimport image_IPP_adaptive as codec\\n/\\n#import image_IPP_adaptive as codec\\n/g' RD_curve.py\n",
    "!sed -z -i 's/\\n#import MP4 as codec\\n/\\nimport MP4 as codec\\n/g' RD_curve.py\n",
    "!sed -z -i 's/\\nimport IPP_compressor as codec\\n/\\n#import IPP_compressor as codec\\n/g' RD_curve.py\n",
    "!sed -z -i 's/\\nimage_IPP_quantized_prediction as codec\\n/\\n#import image_IPP_quantized_prediction as codec\\n/g' RD_curve.py\n",
    "!sed -z -i 's/\\nimport image_IPP_quantized_residue as codec\\n/\\n#import image_IPP_quantized_residue as codec\\n/g' RD_curve.py"
   ]
  },
  {
   "cell_type": "code",
   "execution_count": null,
   "metadata": {
    "scrolled": true
   },
   "outputs": [],
   "source": [
    "!grep import RD_curve.py"
   ]
  },
  {
   "cell_type": "code",
   "execution_count": null,
   "metadata": {},
   "outputs": [],
   "source": [
    "!sed -z -i 's/\\ntransform = \"DWT\"\\n/\\n#transform = \"DWT\"\\n/g' config.py\n",
    "!sed -z -i 's/\\ntransform = \"LP\"\\n/\\n#transform = \"LP\"\\n/g' config.py\n",
    "!sed -z -i 's/\\n#transform = None\\n/\\ntransform = None\\n/g' config.py"
   ]
  },
  {
   "cell_type": "code",
   "execution_count": null,
   "metadata": {},
   "outputs": [],
   "source": [
    "!cat -n config.py | grep \"transform\" "
   ]
  },
  {
   "cell_type": "code",
   "execution_count": null,
   "metadata": {},
   "outputs": [],
   "source": [
    "!sed -z -i 's/\\ncolor = \"YCoCg\\n/\\n#color = \"YCoCg\\n/g' config.py\n",
    "!sed -z -i 's/\\ncolor = \"YCoCg\\n/\\n#color = \"YCoCg\\n/g' config.py\n",
    "!sed -z -i 's/\\n#color = \"YCoCg\\n/\\ncolor = \"YCoCg\\n/g' config.py"
   ]
  },
  {
   "cell_type": "code",
   "execution_count": null,
   "metadata": {},
   "outputs": [],
   "source": [
    "!cat -n config.py | grep \"color\" "
   ]
  },
  {
   "cell_type": "code",
   "execution_count": null,
   "metadata": {},
   "outputs": [],
   "source": [
    "!python RD_curve.py --N_frames=$N_frames 1> >(tee /tmp/output_MP4 >&1) | grep BPP | grep Average | cat -n"
   ]
  },
  {
   "cell_type": "code",
   "execution_count": null,
   "metadata": {},
   "outputs": [],
   "source": [
    "!grep BPP /tmp/output_MP4 | grep Average | cut -d ' ' -f 4,9 | tr ' ' '\\t'  > /tmp/MP4.txt"
   ]
  },
  {
   "cell_type": "code",
   "execution_count": null,
   "metadata": {},
   "outputs": [],
   "source": [
    "!cat /tmp/MP4.txt"
   ]
  },
  {
   "cell_type": "code",
   "execution_count": null,
   "metadata": {},
   "outputs": [],
   "source": [
    "RD_MP4 = []\n",
    "with open(\"/tmp/MP4.txt\", 'r') as f:\n",
    "    for line in f:\n",
    "        rate, _distortion = line.split('\\t')\n",
    "        RD_MP4.append((float(rate), float(_distortion)))"
   ]
  },
  {
   "cell_type": "code",
   "execution_count": null,
   "metadata": {},
   "outputs": [],
   "source": [
    "%matplotlib inline\n",
    "\n",
    "import matplotlib\n",
    "import matplotlib.pyplot as plt\n",
    "import matplotlib.axes as ax\n",
    "import pylab\n",
    "\n",
    "pylab.figure(dpi=150)\n",
    "pylab.plot(*zip(*RD_image_IPP), label=\"image_IPP\")\n",
    "pylab.plot(*zip(*RD_image_IPP_adaptive), label=\"image_IPP_adaptive\")\n",
    "#pylab.plot(*zip(*RD_image_IPP_QR), label=\"image_IPP_quantized_residue\")\n",
    "pylab.plot(*zip(*RD_MP4), label=\"MP4\")\n",
    "pylab.title(f\"{sequence}\")\n",
    "pylab.xlabel(\"Bits/Pixel\")\n",
    "pylab.ylabel(\"AMSE\")\n",
    "plt.legend(loc='upper right')\n",
    "pylab.show()"
   ]
  },
  {
   "cell_type": "markdown",
   "metadata": {},
   "source": [
    "## Ignore the rest"
   ]
  },
  {
   "cell_type": "markdown",
   "metadata": {},
   "source": [
    "## Testing `image_IPP_quantized_residue`"
   ]
  },
  {
   "cell_type": "markdown",
   "metadata": {},
   "source": [
    "### Select `image_IPP_quantized_residue` in `RD_curve.py`"
   ]
  },
  {
   "cell_type": "code",
   "execution_count": null,
   "metadata": {},
   "outputs": [],
   "source": [
    "!sed -z -i 's/\\nimport image_IPP as codec\\n/\\n#import image_IPP as codec\\n/g' RD_curve.py\n",
    "!sed -z -i 's/\\nimport image_IPP_adaptive as codec\\n/\\n#import image_IPP_adaptive as codec\\n/g' RD_curve.py\n",
    "!sed -z -i 's/\\nimport MP4 as codec\\n/\\n#import MP4 as codec\\n/g' RD_curve.py\n",
    "!sed -z -i 's/\\nimport IPP_compressor as codec\\n/\\n#import IPP_compressor as codec\\n/g' RD_curve.py\n",
    "!sed -z -i 's/\\nimage_IPP_quantized_prediction as codec\\n/\\n#import image_IPP_quantized_prediction as codec\\n/g' RD_curve.py\n",
    "!sed -z -i 's/\\n#import image_IPP_quantized_residue as codec\\n/\\nimport image_IPP_quantized_residue as codec\\n/g' RD_curve.py"
   ]
  },
  {
   "cell_type": "code",
   "execution_count": null,
   "metadata": {},
   "outputs": [],
   "source": [
    "!cat -n RD_curve.py | grep \"import\" "
   ]
  },
  {
   "cell_type": "code",
   "execution_count": null,
   "metadata": {},
   "outputs": [],
   "source": [
    "!sed -z -i 's/\\ntransform = \"DWT\"\\n/\\n#transform = \"DWT\"\\n/g' config.py\n",
    "!sed -z -i 's/\\ntransform = \"LP\"\\n/\\n#transform = \"LP\"\\n/g' config.py\n",
    "!sed -z -i 's/\\n#transform = None\\n/\\ntransform = None\\n/g' config.py"
   ]
  },
  {
   "cell_type": "code",
   "execution_count": null,
   "metadata": {},
   "outputs": [],
   "source": [
    "!cat -n config.py | grep \"transform\" "
   ]
  },
  {
   "cell_type": "code",
   "execution_count": null,
   "metadata": {},
   "outputs": [],
   "source": [
    "!sed -z -i 's/\\ncolor = \"YCoCg\\n/\\n#color = \"YCoCg\\n/g' config.py\n",
    "!sed -z -i 's/\\ncolor = \"YCoCg\\n/\\n#color = \"YCoCg\\n/g' config.py\n",
    "!sed -z -i 's/\\n#color = \"YCoCg\\n/\\ncolor = \"YCoCg\\n/g' config.py"
   ]
  },
  {
   "cell_type": "code",
   "execution_count": null,
   "metadata": {},
   "outputs": [],
   "source": [
    "!cat -n config.py | grep \"color\" "
   ]
  },
  {
   "cell_type": "code",
   "execution_count": null,
   "metadata": {
    "scrolled": true
   },
   "outputs": [],
   "source": [
    "# You can see in real-time the output by running \"tail -f /tmp/output\"\n",
    "!python RD_curve.py --first_frame=0 --N_frames=$N_frames 1> >(tee /tmp/output_image_IPP_quantized_residue >&1) | grep BPP | grep Average | cat -n"
   ]
  },
  {
   "cell_type": "code",
   "execution_count": null,
   "metadata": {},
   "outputs": [],
   "source": [
    "!grep BPP /tmp/output_image_IPP_quantized_residue | grep Average | cut -d ' ' -f 4,9 | tr ' ' '\\t'  > /tmp/image_IPP_quantized_residue.txt"
   ]
  },
  {
   "cell_type": "code",
   "execution_count": null,
   "metadata": {},
   "outputs": [],
   "source": [
    "!cat /tmp/image_IPP_quantized_residue.txt"
   ]
  },
  {
   "cell_type": "code",
   "execution_count": null,
   "metadata": {},
   "outputs": [],
   "source": [
    "RD_image_IPP_QR = []\n",
    "with open(\"/tmp/image_IPP_quantized_residue.txt\", 'r') as f:\n",
    "    for line in f:\n",
    "        rate, _distortion = line.split('\\t')\n",
    "        RD_image_IPP_QR.append((float(rate), float(_distortion)))"
   ]
  },
  {
   "cell_type": "code",
   "execution_count": null,
   "metadata": {},
   "outputs": [],
   "source": [
    "%matplotlib inline\n",
    "\n",
    "import matplotlib\n",
    "import matplotlib.pyplot as plt\n",
    "import matplotlib.axes as ax\n",
    "import pylab\n",
    "\n",
    "pylab.figure(dpi=150)\n",
    "pylab.plot(*zip(*RD_image_IPP), label=\"image_IPP\")\n",
    "pylab.plot(*zip(*RD_image_IPP_adaptive), label=\"image_IPP_adaptive\")\n",
    "#pylab.plot(*zip(*RD_image_IPP_QR), label=\"image_IPP_quantized_residue\")\n",
    "pylab.plot(*zip(*RD_MP4), label=\"MP4\")\n",
    "pylab.title(f\"{sequence}\")\n",
    "pylab.xlabel(\"Bits/Pixel\")\n",
    "pylab.ylabel(\"AMSE\")\n",
    "plt.legend(loc='upper right')\n",
    "pylab.show()"
   ]
  },
  {
   "cell_type": "code",
   "execution_count": null,
   "metadata": {},
   "outputs": [],
   "source": [
    "%matplotlib inline\n",
    "\n",
    "import matplotlib\n",
    "import matplotlib.pyplot as plt\n",
    "import matplotlib.axes as ax\n",
    "import pylab\n",
    "\n",
    "pylab.figure(dpi=150)\n",
    "pylab.plot(*zip(*RD_points_no_intrablocks), label=\"No Intra-blocks\")\n",
    "pylab.plot(*zip(*RD_points_with_intrablocks), label=\"With Intra-blocks\")\n",
    "pylab.plot(*zip(*RD_points_MP4), label=\"MP4\")\n",
    "pylab.title(f\"{sequence}\")\n",
    "pylab.xlabel(\"Bits/Pixel\")\n",
    "pylab.ylabel(\"AMSE\")\n",
    "plt.legend(loc='upper right')\n",
    "pylab.show()"
   ]
  },
  {
   "cell_type": "code",
   "execution_count": null,
   "metadata": {},
   "outputs": [],
   "source": []
  }
 ],
 "metadata": {
  "kernelspec": {
   "display_name": "Python 3 (ipykernel)",
   "language": "python",
   "name": "python3"
  },
  "language_info": {
   "codemirror_mode": {
    "name": "ipython",
    "version": 3
   },
   "file_extension": ".py",
   "mimetype": "text/x-python",
   "name": "python",
   "nbconvert_exporter": "python",
   "pygments_lexer": "ipython3",
   "version": "3.10.1"
  }
 },
 "nbformat": 4,
 "nbformat_minor": 4
}
