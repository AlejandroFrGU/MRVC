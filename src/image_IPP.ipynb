{
 "cells": [
  {
   "cell_type": "markdown",
   "metadata": {},
   "source": [
    "[![Binder](https://mybinder.org/badge_logo.svg)](https://github.com/Sistemas-Multimedia/MRVC/blob/master/src/image_IPP.ipynb)"
   ]
  },
  {
   "cell_type": "markdown",
   "metadata": {},
   "source": [
    "# RD performance in IPP video coding\n",
    "This notebook runs two different IPP... experiments.\n",
    "\n",
    "The first one, implemented in `image_IPP.py` is a simple IPP... video codec without RDO (all macro-blocks are motion compensated as P-type blocks). The lossy image compressor is MP4 used in intra mode.\n",
    "\n",
    "The second one, implemented in `image_IPP_quantized_residue.py` is a modification of `image_IPP.py` where the prediction-error images are quantized before they are compressed with MP4. Each macro-block is quantized to contribute with the same slope to the reconstructed macro-block. \n",
    "\n",
    "Finally, the RD curves are compared to MP4 (intra-mode)."
   ]
  },
  {
   "cell_type": "markdown",
   "metadata": {},
   "source": [
    "### Sequence to compress"
   ]
  },
  {
   "cell_type": "code",
   "execution_count": 1,
   "metadata": {},
   "outputs": [],
   "source": [
    "sequence = \"bus\""
   ]
  },
  {
   "cell_type": "code",
   "execution_count": 2,
   "metadata": {},
   "outputs": [
    {
     "name": "stdout",
     "output_type": "stream",
     "text": [
      "bus_cif.y4m exists.\n",
      "ffmpeg version n4.4.1 Copyright (c) 2000-2021 the FFmpeg developers\n",
      "  built with gcc 11.1.0 (GCC)\n",
      "  configuration: --prefix=/usr --disable-debug --disable-static --disable-stripping --enable-amf --enable-avisynth --enable-cuda-llvm --enable-lto --enable-fontconfig --enable-gmp --enable-gnutls --enable-gpl --enable-ladspa --enable-libaom --enable-libass --enable-libbluray --enable-libdav1d --enable-libdrm --enable-libfreetype --enable-libfribidi --enable-libgsm --enable-libiec61883 --enable-libjack --enable-libmfx --enable-libmodplug --enable-libmp3lame --enable-libopencore_amrnb --enable-libopencore_amrwb --enable-libopenjpeg --enable-libopus --enable-libpulse --enable-librav1e --enable-librsvg --enable-libsoxr --enable-libspeex --enable-libsrt --enable-libssh --enable-libsvtav1 --enable-libtheora --enable-libv4l2 --enable-libvidstab --enable-libvmaf --enable-libvorbis --enable-libvpx --enable-libwebp --enable-libx264 --enable-libx265 --enable-libxcb --enable-libxml2 --enable-libxvid --enable-libzimg --enable-nvdec --enable-nvenc --enable-shared --enable-version3\n",
      "  libavutil      56. 70.100 / 56. 70.100\n",
      "  libavcodec     58.134.100 / 58.134.100\n",
      "  libavformat    58. 76.100 / 58. 76.100\n",
      "  libavdevice    58. 13.100 / 58. 13.100\n",
      "  libavfilter     7.110.100 /  7.110.100\n",
      "  libswscale      5.  9.100 /  5.  9.100\n",
      "  libswresample   3.  9.100 /  3.  9.100\n",
      "  libpostproc    55.  9.100 / 55.  9.100\n",
      "Input #0, yuv4mpegpipe, from 'bus_cif.y4m':\n",
      "  Duration: 00:00:05.00, start: 0.000000, bitrate: 36496 kb/s\n",
      "  Stream #0:0: Video: rawvideo (I420 / 0x30323449), yuv420p(progressive), 352x288, SAR 128:117 DAR 1408:1053, 30 fps, 30 tbr, 30 tbn, 30 tbc\n",
      "Stream mapping:\n",
      "  Stream #0:0 -> #0:0 (rawvideo (native) -> png (native))\n",
      "Press [q] to stop, [?] for help\n",
      "Output #0, image2, to '/tmp/original_%03d.png':\n",
      "  Metadata:\n",
      "    encoder         : Lavf58.76.100\n",
      "  Stream #0:0: Video: png, rgb24(pc, gbr/unknown/unknown, progressive), 352x288 [SAR 128:117 DAR 1408:1053], q=2-31, 200 kb/s, 30 fps, 30 tbn\n",
      "    Metadata:\n",
      "      encoder         : Lavc58.134.100 png\n",
      "frame=  150 fps=0.0 q=-0.0 Lsize=N/A time=00:00:05.00 bitrate=N/A speed=13.6x    \n",
      "video:33372kB audio:0kB subtitle:0kB other streams:0kB global headers:0kB muxing overhead: unknown\n"
     ]
    }
   ],
   "source": [
    "!../sequences/$sequence/runme.sh"
   ]
  },
  {
   "cell_type": "markdown",
   "metadata": {},
   "source": [
    "### Number of frames to compress"
   ]
  },
  {
   "cell_type": "code",
   "execution_count": 3,
   "metadata": {},
   "outputs": [],
   "source": [
    "N_frames = 3 # Min val 3"
   ]
  },
  {
   "cell_type": "markdown",
   "metadata": {},
   "source": [
    "## Testing `image_IPP`"
   ]
  },
  {
   "cell_type": "markdown",
   "metadata": {},
   "source": [
    "### Select `image_IPP` in `RD_curve.py`"
   ]
  },
  {
   "cell_type": "code",
   "execution_count": 4,
   "metadata": {},
   "outputs": [],
   "source": [
    "!sed -z -i 's/\\n#import image_IPP as codec\\n/\\nimport image_IPP as codec\\n/g' RD_curve.py\n",
    "!sed -z -i 's/\\nimport image_IPP_adaptive as codec\\n/\\n#import image_IPP_adaptive as codec\\n/g' RD_curve.py\n",
    "!sed -z -i 's/\\nimport MP4 as codec\\n/\\n#import MP4 as codec\\n/g' RD_curve.py\n",
    "!sed -z -i 's/\\nimport IPP_compressor as codec\\n/\\n#import IPP_compressor as codec\\n/g' RD_curve.py\n",
    "!sed -z -i 's/\\nimage_IPP_quantized_prediction as codec\\n/\\n#import image_IPP_quantized_prediction as codec\\n/g' RD_curve.py\n",
    "!sed -z -i 's/\\nimport image_IPP_quantized_residue as codec\\n/\\n#import image_IPP_quantized_residue as codec\\n/g' RD_curve.py"
   ]
  },
  {
   "cell_type": "code",
   "execution_count": 5,
   "metadata": {},
   "outputs": [
    {
     "name": "stdout",
     "output_type": "stream",
     "text": [
      "     5\t#import debug\r\n",
      "     6\timport config\r\n",
      "     7\timport distortion\r\n",
      "     8\timport image_3 as frame\r\n",
      "    11\t#import image_interpolated_IPP as codec\r\n",
      "    12\timport image_IPP as codec\r\n",
      "    13\t#import image_IPP_adaptive as codec\r\n",
      "    14\t#import image_IPP_quantized_prediction as codec\r\n",
      "    15\t#import image_IPP_quantized_residue as codec\r\n",
      "    16\t#import MP4 as codec\r\n",
      "    17\t#import IPP_compressor as codec\r\n",
      "    19\timport logging\r\n",
      "    28\timport argparse\r\n"
     ]
    }
   ],
   "source": [
    "!cat -n RD_curve.py | grep \"import\" "
   ]
  },
  {
   "cell_type": "markdown",
   "metadata": {},
   "source": [
    "### We use MP4 and therefore, no previous spatial transform is used\n",
    "MP4 uses the DCT."
   ]
  },
  {
   "cell_type": "code",
   "execution_count": 6,
   "metadata": {},
   "outputs": [],
   "source": [
    "!sed -z -i 's/\\ntransform = \"DWT\"\\n/\\n#transform = \"DWT\"\\n/g' config.py\n",
    "!sed -z -i 's/\\ntransform = \"LP\"\\n/\\n#transform = \"LP\"\\n/g' config.py\n",
    "!sed -z -i 's/\\n#transform = None\\n/\\ntransform = None\\n/g' config.py"
   ]
  },
  {
   "cell_type": "code",
   "execution_count": 7,
   "metadata": {},
   "outputs": [
    {
     "name": "stdout",
     "output_type": "stream",
     "text": [
      "     3\t#multiresolution_transform = \"DWT\"\r\n",
      "     4\t#multiresolution_transform = \"LP\"\r\n",
      "     5\tmultiresolution_transform = None\r\n"
     ]
    }
   ],
   "source": [
    "!cat -n config.py | grep \"transform\" "
   ]
  },
  {
   "cell_type": "markdown",
   "metadata": {},
   "source": [
    "### Select the color transform"
   ]
  },
  {
   "cell_type": "code",
   "execution_count": 8,
   "metadata": {},
   "outputs": [],
   "source": [
    "!sed -z -i 's/\\ncolor = \"YCoCg\\n/\\n#color = \"YCoCg\\n/g' config.py\n",
    "!sed -z -i 's/\\ncolor = \"YCoCg\\n/\\n#color = \"YCoCg\\n/g' config.py\n",
    "!sed -z -i 's/\\n#color = \"YCoCg\\n/\\ncolor = \"YCoCg\\n/g' config.py"
   ]
  },
  {
   "cell_type": "code",
   "execution_count": 9,
   "metadata": {},
   "outputs": [
    {
     "name": "stdout",
     "output_type": "stream",
     "text": [
      "    10\tcolor = \"YCoCg\"\r\n",
      "    11\t#color = \"YCrCb\"\r\n",
      "    12\t#color = \"RGB\"\r\n"
     ]
    }
   ],
   "source": [
    "!cat -n config.py | grep \"color\" "
   ]
  },
  {
   "cell_type": "markdown",
   "metadata": {},
   "source": [
    "### Run the codec"
   ]
  },
  {
   "cell_type": "code",
   "execution_count": 10,
   "metadata": {
    "scrolled": true
   },
   "outputs": [
    {
     "name": "stdout",
     "output_type": "stream",
     "text": [
      "     1\tQ_step: 21 BPP: 0.802390221661055 KBPS: 7320.88 Average AMSE: 43.83927491056397\r\n",
      "     2\tQ_step: 24 BPP: 0.6891045875420876 KBPS: 6287.28 Average AMSE: 64.71079501613356\r\n",
      "     3\tQ_step: 27 BPP: 0.6002823372615039 KBPS: 5476.88 Average AMSE: 98.6580354324495\r\n",
      "     4\tQ_step: 30 BPP: 0.5287159792368126 KBPS: 4823.92 Average AMSE: 151.88171427819864\r\n",
      "     5\tQ_step: 33 BPP: 0.4788773148148148 KBPS: 4369.2 Average AMSE: 224.6583258803311\r\n",
      "     6\tQ_step: 36 BPP: 0.44860935746352415 KBPS: 4093.04 Average AMSE: 324.9012279917228\r\n",
      "     7\tQ_step: 39 BPP: 0.42963489057239057 KBPS: 3919.92 Average AMSE: 445.8785631926908\r\n"
     ]
    }
   ],
   "source": [
    "# You can see in real-time the output by running \"tail -f /tmp/output\"\n",
    "!python RD_curve.py --first_frame=0 --N_frames=$N_frames 1> >(tee /tmp/output >&1) | grep BPP | grep Average | cat -n"
   ]
  },
  {
   "cell_type": "code",
   "execution_count": 11,
   "metadata": {},
   "outputs": [],
   "source": [
    "!grep BPP /tmp/output | grep Average | cut -d ' ' -f 4,9 | tr ' ' '\\t'  > /tmp/image_IPP.txt"
   ]
  },
  {
   "cell_type": "code",
   "execution_count": 12,
   "metadata": {},
   "outputs": [
    {
     "name": "stdout",
     "output_type": "stream",
     "text": [
      "0.802390221661055\t43.83927491056397\r\n",
      "0.6891045875420876\t64.71079501613356\r\n",
      "0.6002823372615039\t98.6580354324495\r\n",
      "0.5287159792368126\t151.88171427819864\r\n",
      "0.4788773148148148\t224.6583258803311\r\n",
      "0.44860935746352415\t324.9012279917228\r\n",
      "0.42963489057239057\t445.8785631926908\r\n"
     ]
    }
   ],
   "source": [
    "!cat /tmp/image_IPP.txt"
   ]
  },
  {
   "cell_type": "code",
   "execution_count": 13,
   "metadata": {},
   "outputs": [],
   "source": [
    "RD_image_IPP = []\n",
    "with open(\"/tmp/image_IPP.txt\", 'r') as f:\n",
    "    for line in f:\n",
    "        rate, _distortion = line.split('\\t')\n",
    "        RD_image_IPP.append((float(rate), float(_distortion)))"
   ]
  },
  {
   "cell_type": "markdown",
   "metadata": {},
   "source": [
    "## Testing `image_IPP_adaptive.py`"
   ]
  },
  {
   "cell_type": "markdown",
   "metadata": {},
   "source": [
    "### Select `image_IPP_quantized_residue` in `RD_curve.py`"
   ]
  },
  {
   "cell_type": "code",
   "execution_count": 46,
   "metadata": {},
   "outputs": [],
   "source": [
    "!sed -z -i 's/\\nimport image_IPP as codec\\n/\\n#import image_IPP as codec\\n/g' RD_curve.py\n",
    "!sed -z -i 's/\\n#import image_IPP_adaptive as codec\\n/\\nimport image_IPP_adaptive as codec\\n/g' RD_curve.py\n",
    "!sed -z -i 's/\\nimport MP4 as codec\\n/\\n#import MP4 as codec\\n/g' RD_curve.py\n",
    "!sed -z -i 's/\\nimport IPP_compressor as codec\\n/\\n#import IPP_compressor as codec\\n/g' RD_curve.py\n",
    "!sed -z -i 's/\\nimage_IPP_quantized_prediction as codec\\n/\\n#import image_IPP_quantized_prediction as codec\\n/g' RD_curve.py\n",
    "!sed -z -i 's/\\nimport image_IPP_quantized_residue as codec\\n/\\n#import image_IPP_quantized_residue as codec\\n/g' RD_curve.py"
   ]
  },
  {
   "cell_type": "code",
   "execution_count": 47,
   "metadata": {},
   "outputs": [
    {
     "name": "stdout",
     "output_type": "stream",
     "text": [
      "     5\t#import debug\r\n",
      "     6\timport config\r\n",
      "     7\timport distortion\r\n",
      "     8\timport image_3 as frame\r\n",
      "    11\t#import image_interpolated_IPP as codec\r\n",
      "    12\t#import image_IPP as codec\r\n",
      "    13\timport image_IPP_adaptive as codec\r\n",
      "    14\t#import image_IPP_quantized_prediction as codec\r\n",
      "    15\t#import image_IPP_quantized_residue as codec\r\n",
      "    16\t#import MP4 as codec\r\n",
      "    17\t#import IPP_compressor as codec\r\n",
      "    19\timport logging\r\n",
      "    28\timport argparse\r\n"
     ]
    }
   ],
   "source": [
    "!cat -n RD_curve.py | grep \"import\" "
   ]
  },
  {
   "cell_type": "code",
   "execution_count": 48,
   "metadata": {},
   "outputs": [],
   "source": [
    "!sed -z -i 's/\\ntransform = \"DWT\"\\n/\\n#transform = \"DWT\"\\n/g' config.py\n",
    "!sed -z -i 's/\\ntransform = \"LP\"\\n/\\n#transform = \"LP\"\\n/g' config.py\n",
    "!sed -z -i 's/\\n#transform = None\\n/\\ntransform = None\\n/g' config.py"
   ]
  },
  {
   "cell_type": "code",
   "execution_count": 49,
   "metadata": {},
   "outputs": [
    {
     "name": "stdout",
     "output_type": "stream",
     "text": [
      "     3\t#multiresolution_transform = \"DWT\"\r\n",
      "     4\t#multiresolution_transform = \"LP\"\r\n",
      "     5\tmultiresolution_transform = None\r\n"
     ]
    }
   ],
   "source": [
    "!cat -n config.py | grep \"transform\" "
   ]
  },
  {
   "cell_type": "code",
   "execution_count": 50,
   "metadata": {},
   "outputs": [],
   "source": [
    "!sed -z -i 's/\\ncolor = \"YCoCg\\n/\\n#color = \"YCoCg\\n/g' config.py\n",
    "!sed -z -i 's/\\ncolor = \"YCoCg\\n/\\n#color = \"YCoCg\\n/g' config.py\n",
    "!sed -z -i 's/\\n#color = \"YCoCg\\n/\\ncolor = \"YCoCg\\n/g' config.py"
   ]
  },
  {
   "cell_type": "code",
   "execution_count": 51,
   "metadata": {},
   "outputs": [
    {
     "name": "stdout",
     "output_type": "stream",
     "text": [
      "    10\tcolor = \"YCoCg\"\r\n",
      "    11\t#color = \"YCrCb\"\r\n",
      "    12\t#color = \"RGB\"\r\n"
     ]
    }
   ],
   "source": [
    "!cat -n config.py | grep \"color\" "
   ]
  },
  {
   "cell_type": "code",
   "execution_count": 52,
   "metadata": {},
   "outputs": [
    {
     "name": "stdout",
     "output_type": "stream",
     "text": [
      "[image_IPP_adaptive.py:98 decide_types_0()] reconstructed_V_k 256 -81\n",
      "[image_IPP_adaptive.py:98 decide_types_0()] reconstructed_V_k 256 -41\n",
      "[image_IPP_adaptive.py:196 compute_br()] cat /tmp/original_types_???.png | gzip -9 > /tmp/image_IPP_adaptive_types.gz\n",
      "[image_IPP_adaptive.py:225 compute_br()] height=288 width=352 n_channels=3 sequence_time=0.1\n",
      "[image_IPP_adaptive.py:226 compute_br()] types: 332 bytes, 26.56 KBPS, 0.002911054994388328 BPP\n",
      "[image_IPP_adaptive.py:98 decide_types_0()] reconstructed_V_k 256 -63\n",
      "[image_IPP_adaptive.py:98 decide_types_0()] reconstructed_V_k 257 -44\n",
      "[image_IPP_adaptive.py:196 compute_br()] cat /tmp/original_types_???.png | gzip -9 > /tmp/image_IPP_adaptive_types.gz\n",
      "[image_IPP_adaptive.py:225 compute_br()] height=288 width=352 n_channels=3 sequence_time=0.1\n",
      "[image_IPP_adaptive.py:226 compute_br()] types: 327 bytes, 26.16 KBPS, 0.0028672138047138047 BPP\n",
      "[image_IPP_adaptive.py:98 decide_types_0()] reconstructed_V_k 256 -79\n",
      "[image_IPP_adaptive.py:98 decide_types_0()] reconstructed_V_k 257 -46\n",
      "[image_IPP_adaptive.py:196 compute_br()] cat /tmp/original_types_???.png | gzip -9 > /tmp/image_IPP_adaptive_types.gz\n",
      "[image_IPP_adaptive.py:225 compute_br()] height=288 width=352 n_channels=3 sequence_time=0.1\n",
      "[image_IPP_adaptive.py:226 compute_br()] types: 334 bytes, 26.72 KBPS, 0.002928591470258137 BPP\n",
      "[image_IPP_adaptive.py:98 decide_types_0()] reconstructed_V_k 256 -73\n",
      "^C\n"
     ]
    }
   ],
   "source": [
    "# You can see in real-time the output by running \"tail -f /tmp/output\"\n",
    "!python RD_curve.py --first_frame=0 --N_frames=$N_frames 1> >(tee /tmp/output >&1) | grep BPP | grep Average | cat -n"
   ]
  },
  {
   "cell_type": "code",
   "execution_count": 21,
   "metadata": {},
   "outputs": [],
   "source": [
    "!grep BPP /tmp/output | grep Average | cut -d ' ' -f 4,9 | tr ' ' '\\t'  > /tmp/image_IPP_adaptive.txt"
   ]
  },
  {
   "cell_type": "code",
   "execution_count": 22,
   "metadata": {},
   "outputs": [
    {
     "name": "stdout",
     "output_type": "stream",
     "text": [
      "0.7869756593714927\t582.3824957474045\r\n",
      "0.6490600448933782\t647.5335900234988\r\n",
      "0.5645693041526375\t657.120176373106\r\n",
      "0.5079352553310886\t727.9350492774971\r\n",
      "0.47453703703703703\t769.4719745195006\r\n",
      "0.45333543771043766\t847.348730359147\r\n",
      "0.4451634399551066\t988.0859385960298\r\n"
     ]
    }
   ],
   "source": [
    "!cat /tmp/image_IPP_adaptive.txt"
   ]
  },
  {
   "cell_type": "code",
   "execution_count": 23,
   "metadata": {},
   "outputs": [],
   "source": [
    "RD_image_IPP_adaptive = []\n",
    "with open(\"/tmp/image_IPP_adaptive.txt\", 'r') as f:\n",
    "    for line in f:\n",
    "        rate, _distortion = line.split('\\t')\n",
    "        RD_image_IPP_adaptive.append((float(rate), float(_distortion)))"
   ]
  },
  {
   "cell_type": "markdown",
   "metadata": {},
   "source": [
    "## Testing `IPP_codec_quantized_residue`"
   ]
  },
  {
   "cell_type": "markdown",
   "metadata": {},
   "source": [
    "### Select `image_IPP_quantized_residue` in `RD_curve.py`"
   ]
  },
  {
   "cell_type": "code",
   "execution_count": 24,
   "metadata": {},
   "outputs": [],
   "source": [
    "!sed -z -i 's/\\nimport image_IPP as codec\\n/\\n#import image_IPP as codec\\n/g' RD_curve.py\n",
    "!sed -z -i 's/\\nimport image_IPP_adaptive as codec\\n/\\n#import image_IPP_adaptive as codec\\n/g' RD_curve.py\n",
    "!sed -z -i 's/\\nimport MP4 as codec\\n/\\n#import MP4 as codec\\n/g' RD_curve.py\n",
    "!sed -z -i 's/\\nimport IPP_compressor as codec\\n/\\n#import IPP_compressor as codec\\n/g' RD_curve.py\n",
    "!sed -z -i 's/\\nimage_IPP_quantized_prediction as codec\\n/\\n#import image_IPP_quantized_prediction as codec\\n/g' RD_curve.py\n",
    "!sed -z -i 's/\\n#import image_IPP_quantized_residue as codec\\n/\\nimport image_IPP_quantized_residue as codec\\n/g' RD_curve.py"
   ]
  },
  {
   "cell_type": "code",
   "execution_count": 25,
   "metadata": {},
   "outputs": [
    {
     "name": "stdout",
     "output_type": "stream",
     "text": [
      "     5\t#import debug\r\n",
      "     6\timport config\r\n",
      "     7\timport distortion\r\n",
      "     8\timport image_3 as frame\r\n",
      "    11\t#import image_interpolated_IPP as codec\r\n",
      "    12\t#import image_IPP as codec\r\n",
      "    13\t#import image_IPP_adaptive as codec\r\n",
      "    14\t#import image_IPP_quantized_prediction as codec\r\n",
      "    15\timport image_IPP_quantized_residue as codec\r\n",
      "    16\t#import MP4 as codec\r\n",
      "    17\t#import IPP_compressor as codec\r\n",
      "    19\timport logging\r\n",
      "    28\timport argparse\r\n"
     ]
    }
   ],
   "source": [
    "!cat -n RD_curve.py | grep \"import\" "
   ]
  },
  {
   "cell_type": "code",
   "execution_count": 26,
   "metadata": {},
   "outputs": [],
   "source": [
    "!sed -z -i 's/\\ntransform = \"DWT\"\\n/\\n#transform = \"DWT\"\\n/g' config.py\n",
    "!sed -z -i 's/\\ntransform = \"LP\"\\n/\\n#transform = \"LP\"\\n/g' config.py\n",
    "!sed -z -i 's/\\n#transform = None\\n/\\ntransform = None\\n/g' config.py"
   ]
  },
  {
   "cell_type": "code",
   "execution_count": 27,
   "metadata": {},
   "outputs": [
    {
     "name": "stdout",
     "output_type": "stream",
     "text": [
      "     3\t#multiresolution_transform = \"DWT\"\r\n",
      "     4\t#multiresolution_transform = \"LP\"\r\n",
      "     5\tmultiresolution_transform = None\r\n"
     ]
    }
   ],
   "source": [
    "!cat -n config.py | grep \"transform\" "
   ]
  },
  {
   "cell_type": "code",
   "execution_count": 28,
   "metadata": {},
   "outputs": [],
   "source": [
    "!sed -z -i 's/\\ncolor = \"YCoCg\\n/\\n#color = \"YCoCg\\n/g' config.py\n",
    "!sed -z -i 's/\\ncolor = \"YCoCg\\n/\\n#color = \"YCoCg\\n/g' config.py\n",
    "!sed -z -i 's/\\n#color = \"YCoCg\\n/\\ncolor = \"YCoCg\\n/g' config.py"
   ]
  },
  {
   "cell_type": "code",
   "execution_count": 29,
   "metadata": {},
   "outputs": [
    {
     "name": "stdout",
     "output_type": "stream",
     "text": [
      "    10\tcolor = \"YCoCg\"\r\n",
      "    11\t#color = \"YCrCb\"\r\n",
      "    12\t#color = \"RGB\"\r\n"
     ]
    }
   ],
   "source": [
    "!cat -n config.py | grep \"color\" "
   ]
  },
  {
   "cell_type": "code",
   "execution_count": 30,
   "metadata": {
    "scrolled": true
   },
   "outputs": [
    {
     "name": "stdout",
     "output_type": "stream",
     "text": [
      "     1\tQ_step: 21 BPP: 0.6705246913580246 KBPS: 6117.76 Average AMSE: 96.58592653970258\r\n",
      "     2\tQ_step: 24 BPP: 0.6245703563411896 KBPS: 5698.48 Average AMSE: 107.32155978184623\r\n",
      "     3\tQ_step: 27 BPP: 0.5856569163860831 KBPS: 5343.4400000000005 Average AMSE: 126.03976067094557\r\n",
      "     4\tQ_step: 30 BPP: 0.5554415684624019 KBPS: 5067.76 Average AMSE: 152.5182247825477\r\n",
      "     5\tQ_step: 33 BPP: 0.5343627244668911 KBPS: 4875.44 Average AMSE: 186.15681335928733\r\n",
      "     6\tQ_step: 36 BPP: 0.5203160072951739 KBPS: 4747.280000000001 Average AMSE: 226.2572337962963\r\n",
      "     7\tQ_step: 39 BPP: 0.5110655162738497 KBPS: 4662.88 Average AMSE: 275.4683444689955\r\n"
     ]
    }
   ],
   "source": [
    "# You can see in real-time the output by running \"tail -f /tmp/output\"\n",
    "!python RD_curve.py --first_frame=0 --N_frames=$N_frames 1> >(tee /tmp/output >&1) | grep BPP | grep Average | cat -n"
   ]
  },
  {
   "cell_type": "code",
   "execution_count": 31,
   "metadata": {},
   "outputs": [],
   "source": [
    "!grep BPP /tmp/output | grep Average | cut -d ' ' -f 4,9 | tr ' ' '\\t'  > /tmp/image_IPP_quantized_residue.txt"
   ]
  },
  {
   "cell_type": "code",
   "execution_count": 32,
   "metadata": {},
   "outputs": [
    {
     "name": "stdout",
     "output_type": "stream",
     "text": [
      "0.6705246913580246\t96.58592653970258\r\n",
      "0.6245703563411896\t107.32155978184623\r\n",
      "0.5856569163860831\t126.03976067094557\r\n",
      "0.5554415684624019\t152.5182247825477\r\n",
      "0.5343627244668911\t186.15681335928733\r\n",
      "0.5203160072951739\t226.2572337962963\r\n",
      "0.5110655162738497\t275.4683444689955\r\n"
     ]
    }
   ],
   "source": [
    "!cat /tmp/image_IPP_quantized_residue.txt"
   ]
  },
  {
   "cell_type": "code",
   "execution_count": 33,
   "metadata": {},
   "outputs": [],
   "source": [
    "RD_image_IPP_QR = []\n",
    "with open(\"/tmp/image_IPP_quantized_residue.txt\", 'r') as f:\n",
    "    for line in f:\n",
    "        rate, _distortion = line.split('\\t')\n",
    "        RD_image_IPP_QR.append((float(rate), float(_distortion)))"
   ]
  },
  {
   "cell_type": "markdown",
   "metadata": {},
   "source": [
    "## Testing MP4"
   ]
  },
  {
   "cell_type": "markdown",
   "metadata": {},
   "source": [
    "### Select `MP4` in `RD_curve.py`"
   ]
  },
  {
   "cell_type": "code",
   "execution_count": 34,
   "metadata": {},
   "outputs": [],
   "source": [
    "!sed -z -i 's/\\nimport image_IPP as codec/\\n#import image_IPP as codec/g' RD_curve.py\n",
    "!sed -z -i 's/\\nimport image_IPP_adaptive as codec\\n/\\n#import image_IPP_adaptive as codec\\n/g' RD_curve.py\n",
    "!sed -z -i 's/\\n#import MP4 as codec\\n/\\nimport MP4 as codec\\n/g' RD_curve.py\n",
    "!sed -z -i 's/\\nimport IPP_compressor as codec\\n/\\n#import IPP_compressor as codec\\n/g' RD_curve.py\n",
    "!sed -z -i 's/\\nimage_IPP_quantized_prediction as codec\\n/\\n#import image_IPP_quantized_prediction as codec\\n/g' RD_curve.py\n",
    "!sed -z -i 's/\\nimport image_IPP_quantized_residue as codec\\n/\\n#import image_IPP_quantized_residue as codec\\n/g' RD_curve.py"
   ]
  },
  {
   "cell_type": "code",
   "execution_count": 35,
   "metadata": {
    "scrolled": true
   },
   "outputs": [
    {
     "name": "stdout",
     "output_type": "stream",
     "text": [
      "#import debug\r\n",
      "import config\r\n",
      "import distortion\r\n",
      "import image_3 as frame\r\n",
      "#import image_interpolated_IPP as codec\r\n",
      "#import image_IPP as codec\r\n",
      "#import image_IPP_adaptive as codec\r\n",
      "#import image_IPP_quantized_prediction as codec\r\n",
      "#import image_IPP_quantized_residue as codec\r\n",
      "import MP4 as codec\r\n",
      "#import IPP_compressor as codec\r\n",
      "import logging\r\n",
      "import argparse\r\n"
     ]
    }
   ],
   "source": [
    "!grep import RD_curve.py"
   ]
  },
  {
   "cell_type": "code",
   "execution_count": 36,
   "metadata": {},
   "outputs": [],
   "source": [
    "!sed -z -i 's/\\ntransform = \"DWT\"\\n/\\n#transform = \"DWT\"\\n/g' config.py\n",
    "!sed -z -i 's/\\ntransform = \"LP\"\\n/\\n#transform = \"LP\"\\n/g' config.py\n",
    "!sed -z -i 's/\\n#transform = None\\n/\\ntransform = None\\n/g' config.py"
   ]
  },
  {
   "cell_type": "code",
   "execution_count": 37,
   "metadata": {},
   "outputs": [
    {
     "name": "stdout",
     "output_type": "stream",
     "text": [
      "     3\t#multiresolution_transform = \"DWT\"\r\n",
      "     4\t#multiresolution_transform = \"LP\"\r\n",
      "     5\tmultiresolution_transform = None\r\n"
     ]
    }
   ],
   "source": [
    "!cat -n config.py | grep \"transform\" "
   ]
  },
  {
   "cell_type": "code",
   "execution_count": 38,
   "metadata": {},
   "outputs": [],
   "source": [
    "!sed -z -i 's/\\ncolor = \"YCoCg\\n/\\n#color = \"YCoCg\\n/g' config.py\n",
    "!sed -z -i 's/\\ncolor = \"YCoCg\\n/\\n#color = \"YCoCg\\n/g' config.py\n",
    "!sed -z -i 's/\\n#color = \"YCoCg\\n/\\ncolor = \"YCoCg\\n/g' config.py"
   ]
  },
  {
   "cell_type": "code",
   "execution_count": 39,
   "metadata": {},
   "outputs": [
    {
     "name": "stdout",
     "output_type": "stream",
     "text": [
      "    10\tcolor = \"YCoCg\"\r\n",
      "    11\t#color = \"YCrCb\"\r\n",
      "    12\t#color = \"RGB\"\r\n"
     ]
    }
   ],
   "source": [
    "!cat -n config.py | grep \"color\" "
   ]
  },
  {
   "cell_type": "code",
   "execution_count": 40,
   "metadata": {},
   "outputs": [
    {
     "name": "stdout",
     "output_type": "stream",
     "text": [
      "ffmpeg version n4.4.1 Copyright (c) 2000-2021 the FFmpeg developers\n",
      "  built with gcc 11.1.0 (GCC)\n",
      "  configuration: --prefix=/usr --disable-debug --disable-static --disable-stripping --enable-amf --enable-avisynth --enable-cuda-llvm --enable-lto --enable-fontconfig --enable-gmp --enable-gnutls --enable-gpl --enable-ladspa --enable-libaom --enable-libass --enable-libbluray --enable-libdav1d --enable-libdrm --enable-libfreetype --enable-libfribidi --enable-libgsm --enable-libiec61883 --enable-libjack --enable-libmfx --enable-libmodplug --enable-libmp3lame --enable-libopencore_amrnb --enable-libopencore_amrwb --enable-libopenjpeg --enable-libopus --enable-libpulse --enable-librav1e --enable-librsvg --enable-libsoxr --enable-libspeex --enable-libsrt --enable-libssh --enable-libsvtav1 --enable-libtheora --enable-libv4l2 --enable-libvidstab --enable-libvmaf --enable-libvorbis --enable-libvpx --enable-libwebp --enable-libx264 --enable-libx265 --enable-libxcb --enable-libxml2 --enable-libxvid --enable-libzimg --enable-nvdec --enable-nvenc --enable-shared --enable-version3\n",
      "  libavutil      56. 70.100 / 56. 70.100\n",
      "  libavcodec     58.134.100 / 58.134.100\n",
      "  libavformat    58. 76.100 / 58. 76.100\n",
      "  libavdevice    58. 13.100 / 58. 13.100\n",
      "  libavfilter     7.110.100 /  7.110.100\n",
      "  libswscale      5.  9.100 /  5.  9.100\n",
      "  libswresample   3.  9.100 /  3.  9.100\n",
      "  libpostproc    55.  9.100 / 55.  9.100\n",
      "Input #0, image2, from '/tmp/original_%03d.png':\n",
      "  Duration: 00:00:06.00, start: 0.000000, bitrate: N/A\n",
      "  Stream #0:0: Video: png, rgb24(pc), 352x288 [SAR 128:117 DAR 1408:1053], 25 fps, 25 tbr, 25 tbn, 25 tbc\n",
      "Stream mapping:\n",
      "  Stream #0:0 -> #0:0 (png (native) -> h264 (libx264))\n",
      "Press [q] to stop, [?] for help\n",
      "\u001b[1;36m[libx264 @ 0x563684d068c0] \u001b[0musing SAR=128/117\n",
      "\u001b[1;36m[libx264 @ 0x563684d068c0] \u001b[0musing cpu capabilities: MMX2 SSE2Fast SSSE3 SSE4.2 AVX FMA3 BMI2 AVX2\n",
      "\u001b[1;36m[libx264 @ 0x563684d068c0] \u001b[0mprofile High, level 1.3, 4:2:0, 8-bit\n",
      "\u001b[1;36m[libx264 @ 0x563684d068c0] \u001b[0m264 - core 163 r3060 5db6aa6 - H.264/MPEG-4 AVC codec - Copyleft 2003-2021 - http://www.videolan.org/x264.html - options: cabac=1 ref=3 deblock=1:0:0 analyse=0x3:0x113 me=hex subme=7 psy=1 psy_rd=1.00:0.00 mixed_ref=1 me_range=16 chroma_me=1 trellis=1 8x8dct=1 cqm=0 deadzone=21,11 fast_pskip=1 chroma_qp_offset=-2 threads=9 lookahead_threads=1 sliced_threads=0 nr=0 decimate=1 interlaced=0 bluray_compat=0 constrained_intra=0 bframes=0 weightp=2 keyint=3 keyint_min=1 scenecut=40 intra_refresh=0 rc_lookahead=3 rc=crf mbtree=1 crf=21.0 qcomp=0.60 qpmin=0 qpmax=69 qpstep=4 ip_ratio=1.40 aq=1:1.00\n",
      "Output #0, mp4, to '/tmp/output.mp4':\n",
      "  Metadata:\n",
      "    encoder         : Lavf58.76.100\n",
      "  Stream #0:0: Video: h264 (avc1 / 0x31637661), yuv420p(tv, progressive), 352x288 [SAR 128:117 DAR 1408:1053], q=2-31, 25 fps, 12800 tbn\n",
      "    Metadata:\n",
      "      encoder         : Lavc58.134.100 libx264\n",
      "    Side data:\n",
      "      cpb: bitrate max/min/avg: 0/0/0 buffer size: 0 vbv_delay: N/A\n",
      "frame=    3 fps=0.0 q=-1.0 Lsize=      27kB time=00:00:00.08 bitrate=2779.0kbits/s speed=3.95x    \n",
      "video:26kB audio:0kB subtitle:0kB other streams:0kB global headers:0kB muxing overhead: 3.251550%\n",
      "\u001b[1;36m[libx264 @ 0x563684d068c0] \u001b[0mframe I:1     Avg QP:26.81  size: 18481\n",
      "\u001b[1;36m[libx264 @ 0x563684d068c0] \u001b[0mframe P:2     Avg QP:28.09  size:  3918\n",
      "\u001b[1;36m[libx264 @ 0x563684d068c0] \u001b[0mmb I  I16..4:  1.5% 57.1% 41.4%\n",
      "\u001b[1;36m[libx264 @ 0x563684d068c0] \u001b[0mmb P  I16..4:  0.1%  0.8%  0.4%  P16..4: 37.1% 26.6% 19.8%  0.0%  0.0%    skip:15.2%\n",
      "\u001b[1;36m[libx264 @ 0x563684d068c0] \u001b[0m8x8 transform intra:57.1% inter:50.9%\n",
      "\u001b[1;36m[libx264 @ 0x563684d068c0] \u001b[0mcoded y,uvDC,uvAC intra: 96.9% 89.2% 67.0% inter: 40.7% 17.0% 2.7%\n",
      "\u001b[1;36m[libx264 @ 0x563684d068c0] \u001b[0mi16 v,h,dc,p: 29% 57% 14%  0%\n",
      "\u001b[1;36m[libx264 @ 0x563684d068c0] \u001b[0mi8 v,h,dc,ddl,ddr,vr,hd,vl,hu: 19% 16% 19%  5%  7%  7%  9%  7% 12%\n",
      "\u001b[1;36m[libx264 @ 0x563684d068c0] \u001b[0mi4 v,h,dc,ddl,ddr,vr,hd,vl,hu: 25% 33%  9%  4%  6%  5%  6%  5%  7%\n",
      "\u001b[1;36m[libx264 @ 0x563684d068c0] \u001b[0mi8c dc,h,v,p: 54% 20% 19%  7%\n",
      "\u001b[1;36m[libx264 @ 0x563684d068c0] \u001b[0mWeighted P-Frames: Y:0.0% UV:0.0%\n",
      "\u001b[1;36m[libx264 @ 0x563684d068c0] \u001b[0mref P L0: 84.5% 11.1%  4.4%\n",
      "\u001b[1;36m[libx264 @ 0x563684d068c0] \u001b[0mkb/s:1754.47\n",
      "ffmpeg version n4.4.1 Copyright (c) 2000-2021 the FFmpeg developers\n",
      "  built with gcc 11.1.0 (GCC)\n",
      "  configuration: --prefix=/usr --disable-debug --disable-static --disable-stripping --enable-amf --enable-avisynth --enable-cuda-llvm --enable-lto --enable-fontconfig --enable-gmp --enable-gnutls --enable-gpl --enable-ladspa --enable-libaom --enable-libass --enable-libbluray --enable-libdav1d --enable-libdrm --enable-libfreetype --enable-libfribidi --enable-libgsm --enable-libiec61883 --enable-libjack --enable-libmfx --enable-libmodplug --enable-libmp3lame --enable-libopencore_amrnb --enable-libopencore_amrwb --enable-libopenjpeg --enable-libopus --enable-libpulse --enable-librav1e --enable-librsvg --enable-libsoxr --enable-libspeex --enable-libsrt --enable-libssh --enable-libsvtav1 --enable-libtheora --enable-libv4l2 --enable-libvidstab --enable-libvmaf --enable-libvorbis --enable-libvpx --enable-libwebp --enable-libx264 --enable-libx265 --enable-libxcb --enable-libxml2 --enable-libxvid --enable-libzimg --enable-nvdec --enable-nvenc --enable-shared --enable-version3\n",
      "  libavutil      56. 70.100 / 56. 70.100\n",
      "  libavcodec     58.134.100 / 58.134.100\n",
      "  libavformat    58. 76.100 / 58. 76.100\n",
      "  libavdevice    58. 13.100 / 58. 13.100\n",
      "  libavfilter     7.110.100 /  7.110.100\n",
      "  libswscale      5.  9.100 /  5.  9.100\n",
      "  libswresample   3.  9.100 /  3.  9.100\n",
      "  libpostproc    55.  9.100 / 55.  9.100\n",
      "Input #0, mov,mp4,m4a,3gp,3g2,mj2, from '/tmp/output.mp4':\n",
      "  Metadata:\n",
      "    major_brand     : isom\n",
      "    minor_version   : 512\n",
      "    compatible_brands: isomiso2avc1mp41\n",
      "    encoder         : Lavf58.76.100\n",
      "  Duration: 00:00:00.12, start: 0.000000, bitrate: 1854 kb/s\n",
      "  Stream #0:0(und): Video: h264 (High) (avc1 / 0x31637661), yuv420p, 352x288 [SAR 128:117 DAR 1408:1053], 1796 kb/s, 25 fps, 25 tbr, 12800 tbn, 50 tbc (default)\n",
      "    Metadata:\n",
      "      handler_name    : VideoHandler\n",
      "      vendor_id       : [0][0][0][0]\n",
      "Stream mapping:\n",
      "  Stream #0:0 -> #0:0 (h264 (native) -> png (native))\n",
      "Press [q] to stop, [?] for help\n",
      "Output #0, image2, to '/tmp/original_reconstructed_%03d.png':\n",
      "  Metadata:\n",
      "    major_brand     : isom\n",
      "    minor_version   : 512\n",
      "    compatible_brands: isomiso2avc1mp41\n",
      "    encoder         : Lavf58.76.100\n",
      "  Stream #0:0(und): Video: png, rgb24(pc, gbr/unknown/unknown, progressive), 352x288 [SAR 128:117 DAR 1408:1053], q=2-31, 200 kb/s, 25 fps, 25 tbn (default)\n",
      "    Metadata:\n",
      "      handler_name    : VideoHandler\n",
      "      vendor_id       : [0][0][0][0]\n",
      "      encoder         : Lavc58.134.100 png\n",
      "frame=    3 fps=0.0 q=-0.0 Lsize=N/A time=00:00:00.12 bitrate=N/A speed=6.91x    \n",
      "video:599kB audio:0kB subtitle:0kB other streams:0kB global headers:0kB muxing overhead: unknown\n",
      "ffmpeg version n4.4.1 Copyright (c) 2000-2021 the FFmpeg developers\n",
      "  built with gcc 11.1.0 (GCC)\n",
      "  configuration: --prefix=/usr --disable-debug --disable-static --disable-stripping --enable-amf --enable-avisynth --enable-cuda-llvm --enable-lto --enable-fontconfig --enable-gmp --enable-gnutls --enable-gpl --enable-ladspa --enable-libaom --enable-libass --enable-libbluray --enable-libdav1d --enable-libdrm --enable-libfreetype --enable-libfribidi --enable-libgsm --enable-libiec61883 --enable-libjack --enable-libmfx --enable-libmodplug --enable-libmp3lame --enable-libopencore_amrnb --enable-libopencore_amrwb --enable-libopenjpeg --enable-libopus --enable-libpulse --enable-librav1e --enable-librsvg --enable-libsoxr --enable-libspeex --enable-libsrt --enable-libssh --enable-libsvtav1 --enable-libtheora --enable-libv4l2 --enable-libvidstab --enable-libvmaf --enable-libvorbis --enable-libvpx --enable-libwebp --enable-libx264 --enable-libx265 --enable-libxcb --enable-libxml2 --enable-libxvid --enable-libzimg --enable-nvdec --enable-nvenc --enable-shared --enable-version3\n",
      "  libavutil      56. 70.100 / 56. 70.100\n",
      "  libavcodec     58.134.100 / 58.134.100\n",
      "  libavformat    58. 76.100 / 58. 76.100\n",
      "  libavdevice    58. 13.100 / 58. 13.100\n",
      "  libavfilter     7.110.100 /  7.110.100\n",
      "  libswscale      5.  9.100 /  5.  9.100\n",
      "  libswresample   3.  9.100 /  3.  9.100\n",
      "  libpostproc    55.  9.100 / 55.  9.100\n",
      "Input #0, image2, from '/tmp/original_%03d.png':\n",
      "  Duration: 00:00:06.00, start: 0.000000, bitrate: N/A\n",
      "  Stream #0:0: Video: png, rgb24(pc), 352x288 [SAR 128:117 DAR 1408:1053], 25 fps, 25 tbr, 25 tbn, 25 tbc\n",
      "Stream mapping:\n",
      "  Stream #0:0 -> #0:0 (png (native) -> h264 (libx264))\n",
      "Press [q] to stop, [?] for help\n",
      "\u001b[1;36m[libx264 @ 0x55c9513d08c0] \u001b[0musing SAR=128/117\n",
      "\u001b[1;36m[libx264 @ 0x55c9513d08c0] \u001b[0musing cpu capabilities: MMX2 SSE2Fast SSSE3 SSE4.2 AVX FMA3 BMI2 AVX2\n",
      "\u001b[1;36m[libx264 @ 0x55c9513d08c0] \u001b[0mprofile High, level 1.3, 4:2:0, 8-bit\n",
      "\u001b[1;36m[libx264 @ 0x55c9513d08c0] \u001b[0m264 - core 163 r3060 5db6aa6 - H.264/MPEG-4 AVC codec - Copyleft 2003-2021 - http://www.videolan.org/x264.html - options: cabac=1 ref=3 deblock=1:0:0 analyse=0x3:0x113 me=hex subme=7 psy=1 psy_rd=1.00:0.00 mixed_ref=1 me_range=16 chroma_me=1 trellis=1 8x8dct=1 cqm=0 deadzone=21,11 fast_pskip=1 chroma_qp_offset=-2 threads=9 lookahead_threads=1 sliced_threads=0 nr=0 decimate=1 interlaced=0 bluray_compat=0 constrained_intra=0 bframes=0 weightp=2 keyint=3 keyint_min=1 scenecut=40 intra_refresh=0 rc_lookahead=3 rc=crf mbtree=1 crf=24.0 qcomp=0.60 qpmin=0 qpmax=69 qpstep=4 ip_ratio=1.40 aq=1:1.00\n",
      "Output #0, mp4, to '/tmp/output.mp4':\n",
      "  Metadata:\n",
      "    encoder         : Lavf58.76.100\n",
      "  Stream #0:0: Video: h264 (avc1 / 0x31637661), yuv420p(tv, progressive), 352x288 [SAR 128:117 DAR 1408:1053], q=2-31, 25 fps, 12800 tbn\n",
      "    Metadata:\n",
      "      encoder         : Lavc58.134.100 libx264\n",
      "    Side data:\n",
      "      cpb: bitrate max/min/avg: 0/0/0 buffer size: 0 vbv_delay: N/A\n",
      "frame=    3 fps=0.0 q=-1.0 Lsize=      20kB time=00:00:00.08 bitrate=1999.8kbits/s speed=4.88x    \n",
      "video:19kB audio:0kB subtitle:0kB other streams:0kB global headers:0kB muxing overhead: 4.576563%\n"
     ]
    },
    {
     "name": "stdout",
     "output_type": "stream",
     "text": [
      "\u001b[1;36m[libx264 @ 0x55c9513d08c0] \u001b[0mframe I:1     Avg QP:29.81  size: 13890\n",
      "\u001b[1;36m[libx264 @ 0x55c9513d08c0] \u001b[0mframe P:2     Avg QP:31.17  size:  2314\n",
      "\u001b[1;36m[libx264 @ 0x55c9513d08c0] \u001b[0mmb I  I16..4:  2.0% 59.1% 38.9%\n",
      "\u001b[1;36m[libx264 @ 0x55c9513d08c0] \u001b[0mmb P  I16..4:  0.1%  0.5%  0.5%  P16..4: 36.1% 22.1% 11.2%  0.0%  0.0%    skip:29.4%\n",
      "\u001b[1;36m[libx264 @ 0x55c9513d08c0] \u001b[0m8x8 transform intra:58.8% inter:52.6%\n",
      "\u001b[1;36m[libx264 @ 0x55c9513d08c0] \u001b[0mcoded y,uvDC,uvAC intra: 92.8% 78.8% 47.4% inter: 25.6% 11.6% 1.3%\n",
      "\u001b[1;36m[libx264 @ 0x55c9513d08c0] \u001b[0mi16 v,h,dc,p: 22% 56%  0% 22%\n",
      "\u001b[1;36m[libx264 @ 0x55c9513d08c0] \u001b[0mi8 v,h,dc,ddl,ddr,vr,hd,vl,hu: 18% 18% 20%  5%  6%  7%  8%  7% 11%\n",
      "\u001b[1;36m[libx264 @ 0x55c9513d08c0] \u001b[0mi4 v,h,dc,ddl,ddr,vr,hd,vl,hu: 26% 31%  9%  5%  6%  5%  6%  5%  6%\n",
      "\u001b[1;36m[libx264 @ 0x55c9513d08c0] \u001b[0mi8c dc,h,v,p: 56% 20% 18%  6%\n",
      "\u001b[1;36m[libx264 @ 0x55c9513d08c0] \u001b[0mWeighted P-Frames: Y:0.0% UV:0.0%\n",
      "\u001b[1;36m[libx264 @ 0x55c9513d08c0] \u001b[0mref P L0: 84.6%  9.5%  5.9%\n",
      "\u001b[1;36m[libx264 @ 0x55c9513d08c0] \u001b[0mkb/s:1234.47\n",
      "ffmpeg version n4.4.1 Copyright (c) 2000-2021 the FFmpeg developers\n",
      "  built with gcc 11.1.0 (GCC)\n",
      "  configuration: --prefix=/usr --disable-debug --disable-static --disable-stripping --enable-amf --enable-avisynth --enable-cuda-llvm --enable-lto --enable-fontconfig --enable-gmp --enable-gnutls --enable-gpl --enable-ladspa --enable-libaom --enable-libass --enable-libbluray --enable-libdav1d --enable-libdrm --enable-libfreetype --enable-libfribidi --enable-libgsm --enable-libiec61883 --enable-libjack --enable-libmfx --enable-libmodplug --enable-libmp3lame --enable-libopencore_amrnb --enable-libopencore_amrwb --enable-libopenjpeg --enable-libopus --enable-libpulse --enable-librav1e --enable-librsvg --enable-libsoxr --enable-libspeex --enable-libsrt --enable-libssh --enable-libsvtav1 --enable-libtheora --enable-libv4l2 --enable-libvidstab --enable-libvmaf --enable-libvorbis --enable-libvpx --enable-libwebp --enable-libx264 --enable-libx265 --enable-libxcb --enable-libxml2 --enable-libxvid --enable-libzimg --enable-nvdec --enable-nvenc --enable-shared --enable-version3\n",
      "  libavutil      56. 70.100 / 56. 70.100\n",
      "  libavcodec     58.134.100 / 58.134.100\n",
      "  libavformat    58. 76.100 / 58. 76.100\n",
      "  libavdevice    58. 13.100 / 58. 13.100\n",
      "  libavfilter     7.110.100 /  7.110.100\n",
      "  libswscale      5.  9.100 /  5.  9.100\n",
      "  libswresample   3.  9.100 /  3.  9.100\n",
      "  libpostproc    55.  9.100 / 55.  9.100\n",
      "Input #0, mov,mp4,m4a,3gp,3g2,mj2, from '/tmp/output.mp4':\n",
      "  Metadata:\n",
      "    major_brand     : isom\n",
      "    minor_version   : 512\n",
      "    compatible_brands: isomiso2avc1mp41\n",
      "    encoder         : Lavf58.76.100\n",
      "  Duration: 00:00:00.12, start: 0.000000, bitrate: 1334 kb/s\n",
      "  Stream #0:0(und): Video: h264 (High) (avc1 / 0x31637661), yuv420p, 352x288 [SAR 128:117 DAR 1408:1053], 1276 kb/s, 25 fps, 25 tbr, 12800 tbn, 50 tbc (default)\n",
      "    Metadata:\n",
      "      handler_name    : VideoHandler\n",
      "      vendor_id       : [0][0][0][0]\n",
      "Stream mapping:\n",
      "  Stream #0:0 -> #0:0 (h264 (native) -> png (native))\n",
      "Press [q] to stop, [?] for help\n",
      "Output #0, image2, to '/tmp/original_reconstructed_%03d.png':\n",
      "  Metadata:\n",
      "    major_brand     : isom\n",
      "    minor_version   : 512\n",
      "    compatible_brands: isomiso2avc1mp41\n",
      "    encoder         : Lavf58.76.100\n",
      "  Stream #0:0(und): Video: png, rgb24(pc, gbr/unknown/unknown, progressive), 352x288 [SAR 128:117 DAR 1408:1053], q=2-31, 200 kb/s, 25 fps, 25 tbn (default)\n",
      "    Metadata:\n",
      "      handler_name    : VideoHandler\n",
      "      vendor_id       : [0][0][0][0]\n",
      "      encoder         : Lavc58.134.100 png\n",
      "frame=    3 fps=0.0 q=-0.0 Lsize=N/A time=00:00:00.12 bitrate=N/A speed=7.37x    \n",
      "video:583kB audio:0kB subtitle:0kB other streams:0kB global headers:0kB muxing overhead: unknown\n",
      "ffmpeg version n4.4.1 Copyright (c) 2000-2021 the FFmpeg developers\n",
      "  built with gcc 11.1.0 (GCC)\n",
      "  configuration: --prefix=/usr --disable-debug --disable-static --disable-stripping --enable-amf --enable-avisynth --enable-cuda-llvm --enable-lto --enable-fontconfig --enable-gmp --enable-gnutls --enable-gpl --enable-ladspa --enable-libaom --enable-libass --enable-libbluray --enable-libdav1d --enable-libdrm --enable-libfreetype --enable-libfribidi --enable-libgsm --enable-libiec61883 --enable-libjack --enable-libmfx --enable-libmodplug --enable-libmp3lame --enable-libopencore_amrnb --enable-libopencore_amrwb --enable-libopenjpeg --enable-libopus --enable-libpulse --enable-librav1e --enable-librsvg --enable-libsoxr --enable-libspeex --enable-libsrt --enable-libssh --enable-libsvtav1 --enable-libtheora --enable-libv4l2 --enable-libvidstab --enable-libvmaf --enable-libvorbis --enable-libvpx --enable-libwebp --enable-libx264 --enable-libx265 --enable-libxcb --enable-libxml2 --enable-libxvid --enable-libzimg --enable-nvdec --enable-nvenc --enable-shared --enable-version3\n",
      "  libavutil      56. 70.100 / 56. 70.100\n",
      "  libavcodec     58.134.100 / 58.134.100\n",
      "  libavformat    58. 76.100 / 58. 76.100\n",
      "  libavdevice    58. 13.100 / 58. 13.100\n",
      "  libavfilter     7.110.100 /  7.110.100\n",
      "  libswscale      5.  9.100 /  5.  9.100\n",
      "  libswresample   3.  9.100 /  3.  9.100\n",
      "  libpostproc    55.  9.100 / 55.  9.100\n",
      "Input #0, image2, from '/tmp/original_%03d.png':\n",
      "  Duration: 00:00:06.00, start: 0.000000, bitrate: N/A\n",
      "  Stream #0:0: Video: png, rgb24(pc), 352x288 [SAR 128:117 DAR 1408:1053], 25 fps, 25 tbr, 25 tbn, 25 tbc\n",
      "Stream mapping:\n",
      "  Stream #0:0 -> #0:0 (png (native) -> h264 (libx264))\n",
      "Press [q] to stop, [?] for help\n",
      "\u001b[1;36m[libx264 @ 0x55fb9be898c0] \u001b[0musing SAR=128/117\n",
      "\u001b[1;36m[libx264 @ 0x55fb9be898c0] \u001b[0musing cpu capabilities: MMX2 SSE2Fast SSSE3 SSE4.2 AVX FMA3 BMI2 AVX2\n",
      "\u001b[1;36m[libx264 @ 0x55fb9be898c0] \u001b[0mprofile High, level 1.3, 4:2:0, 8-bit\n",
      "\u001b[1;36m[libx264 @ 0x55fb9be898c0] \u001b[0m264 - core 163 r3060 5db6aa6 - H.264/MPEG-4 AVC codec - Copyleft 2003-2021 - http://www.videolan.org/x264.html - options: cabac=1 ref=3 deblock=1:0:0 analyse=0x3:0x113 me=hex subme=7 psy=1 psy_rd=1.00:0.00 mixed_ref=1 me_range=16 chroma_me=1 trellis=1 8x8dct=1 cqm=0 deadzone=21,11 fast_pskip=1 chroma_qp_offset=-2 threads=9 lookahead_threads=1 sliced_threads=0 nr=0 decimate=1 interlaced=0 bluray_compat=0 constrained_intra=0 bframes=0 weightp=2 keyint=3 keyint_min=1 scenecut=40 intra_refresh=0 rc_lookahead=3 rc=crf mbtree=1 crf=27.0 qcomp=0.60 qpmin=0 qpmax=69 qpstep=4 ip_ratio=1.40 aq=1:1.00\n",
      "Output #0, mp4, to '/tmp/output.mp4':\n",
      "  Metadata:\n",
      "    encoder         : Lavf58.76.100\n",
      "  Stream #0:0: Video: h264 (avc1 / 0x31637661), yuv420p(tv, progressive), 352x288 [SAR 128:117 DAR 1408:1053], q=2-31, 25 fps, 12800 tbn\n",
      "    Metadata:\n",
      "      encoder         : Lavc58.134.100 libx264\n",
      "    Side data:\n",
      "      cpb: bitrate max/min/avg: 0/0/0 buffer size: 0 vbv_delay: N/A\n",
      "frame=    3 fps=0.0 q=-1.0 Lsize=      14kB time=00:00:00.08 bitrate=1447.4kbits/s speed=5.36x    \n",
      "video:13kB audio:0kB subtitle:0kB other streams:0kB global headers:0kB muxing overhead: 6.427680%\n",
      "\u001b[1;36m[libx264 @ 0x55fb9be898c0] \u001b[0mframe I:1     Avg QP:32.81  size: 10027\n",
      "\u001b[1;36m[libx264 @ 0x55fb9be898c0] \u001b[0mframe P:2     Avg QP:34.14  size:  1481\n",
      "\u001b[1;36m[libx264 @ 0x55fb9be898c0] \u001b[0mmb I  I16..4:  3.0% 57.8% 39.1%\n",
      "\u001b[1;36m[libx264 @ 0x55fb9be898c0] \u001b[0mmb P  I16..4:  0.3%  0.3%  0.4%  P16..4: 35.7% 15.5% 10.1%  0.0%  0.0%    skip:37.8%\n",
      "\u001b[1;36m[libx264 @ 0x55fb9be898c0] \u001b[0m8x8 transform intra:57.3% inter:58.6%\n",
      "\u001b[1;36m[libx264 @ 0x55fb9be898c0] \u001b[0mcoded y,uvDC,uvAC intra: 89.5% 63.5% 35.0% inter: 17.4% 6.6% 0.6%\n",
      "\u001b[1;36m[libx264 @ 0x55fb9be898c0] \u001b[0mi16 v,h,dc,p: 14% 79%  0%  7%\n",
      "\u001b[1;36m[libx264 @ 0x55fb9be898c0] \u001b[0mi8 v,h,dc,ddl,ddr,vr,hd,vl,hu: 19% 19% 22%  6%  6%  6%  7%  6% 10%\n",
      "\u001b[1;36m[libx264 @ 0x55fb9be898c0] \u001b[0mi4 v,h,dc,ddl,ddr,vr,hd,vl,hu: 30% 30% 12%  3%  5%  5%  5%  4%  5%\n",
      "\u001b[1;36m[libx264 @ 0x55fb9be898c0] \u001b[0mi8c dc,h,v,p: 66% 17% 14%  3%\n",
      "\u001b[1;36m[libx264 @ 0x55fb9be898c0] \u001b[0mWeighted P-Frames: Y:0.0% UV:0.0%\n",
      "\u001b[1;36m[libx264 @ 0x55fb9be898c0] \u001b[0mref P L0: 89.6%  6.3%  4.2%\n",
      "\u001b[1;36m[libx264 @ 0x55fb9be898c0] \u001b[0mkb/s:865.93\n",
      "ffmpeg version n4.4.1 Copyright (c) 2000-2021 the FFmpeg developers\n",
      "  built with gcc 11.1.0 (GCC)\n",
      "  configuration: --prefix=/usr --disable-debug --disable-static --disable-stripping --enable-amf --enable-avisynth --enable-cuda-llvm --enable-lto --enable-fontconfig --enable-gmp --enable-gnutls --enable-gpl --enable-ladspa --enable-libaom --enable-libass --enable-libbluray --enable-libdav1d --enable-libdrm --enable-libfreetype --enable-libfribidi --enable-libgsm --enable-libiec61883 --enable-libjack --enable-libmfx --enable-libmodplug --enable-libmp3lame --enable-libopencore_amrnb --enable-libopencore_amrwb --enable-libopenjpeg --enable-libopus --enable-libpulse --enable-librav1e --enable-librsvg --enable-libsoxr --enable-libspeex --enable-libsrt --enable-libssh --enable-libsvtav1 --enable-libtheora --enable-libv4l2 --enable-libvidstab --enable-libvmaf --enable-libvorbis --enable-libvpx --enable-libwebp --enable-libx264 --enable-libx265 --enable-libxcb --enable-libxml2 --enable-libxvid --enable-libzimg --enable-nvdec --enable-nvenc --enable-shared --enable-version3\n",
      "  libavutil      56. 70.100 / 56. 70.100\n",
      "  libavcodec     58.134.100 / 58.134.100\n",
      "  libavformat    58. 76.100 / 58. 76.100\n",
      "  libavdevice    58. 13.100 / 58. 13.100\n",
      "  libavfilter     7.110.100 /  7.110.100\n",
      "  libswscale      5.  9.100 /  5.  9.100\n",
      "  libswresample   3.  9.100 /  3.  9.100\n",
      "  libpostproc    55.  9.100 / 55.  9.100\n",
      "Input #0, mov,mp4,m4a,3gp,3g2,mj2, from '/tmp/output.mp4':\n",
      "  Metadata:\n",
      "    major_brand     : isom\n",
      "    minor_version   : 512\n",
      "    compatible_brands: isomiso2avc1mp41\n",
      "    encoder         : Lavf58.76.100\n",
      "  Duration: 00:00:00.12, start: 0.000000, bitrate: 965 kb/s\n",
      "  Stream #0:0(und): Video: h264 (High) (avc1 / 0x31637661), yuv420p, 352x288 [SAR 128:117 DAR 1408:1053], 907 kb/s, 25 fps, 25 tbr, 12800 tbn, 50 tbc (default)\n",
      "    Metadata:\n",
      "      handler_name    : VideoHandler\n",
      "      vendor_id       : [0][0][0][0]\n",
      "Stream mapping:\n",
      "  Stream #0:0 -> #0:0 (h264 (native) -> png (native))\n",
      "Press [q] to stop, [?] for help\n",
      "Output #0, image2, to '/tmp/original_reconstructed_%03d.png':\n",
      "  Metadata:\n",
      "    major_brand     : isom\n",
      "    minor_version   : 512\n",
      "    compatible_brands: isomiso2avc1mp41\n",
      "    encoder         : Lavf58.76.100\n",
      "  Stream #0:0(und): Video: png, rgb24(pc, gbr/unknown/unknown, progressive), 352x288 [SAR 128:117 DAR 1408:1053], q=2-31, 200 kb/s, 25 fps, 25 tbn (default)\n",
      "    Metadata:\n",
      "      handler_name    : VideoHandler\n",
      "      vendor_id       : [0][0][0][0]\n",
      "      encoder         : Lavc58.134.100 png\n",
      "frame=    3 fps=0.0 q=-0.0 Lsize=N/A time=00:00:00.12 bitrate=N/A speed=6.44x    \n",
      "video:554kB audio:0kB subtitle:0kB other streams:0kB global headers:0kB muxing overhead: unknown\n"
     ]
    },
    {
     "name": "stdout",
     "output_type": "stream",
     "text": [
      "ffmpeg version n4.4.1 Copyright (c) 2000-2021 the FFmpeg developers\n",
      "  built with gcc 11.1.0 (GCC)\n",
      "  configuration: --prefix=/usr --disable-debug --disable-static --disable-stripping --enable-amf --enable-avisynth --enable-cuda-llvm --enable-lto --enable-fontconfig --enable-gmp --enable-gnutls --enable-gpl --enable-ladspa --enable-libaom --enable-libass --enable-libbluray --enable-libdav1d --enable-libdrm --enable-libfreetype --enable-libfribidi --enable-libgsm --enable-libiec61883 --enable-libjack --enable-libmfx --enable-libmodplug --enable-libmp3lame --enable-libopencore_amrnb --enable-libopencore_amrwb --enable-libopenjpeg --enable-libopus --enable-libpulse --enable-librav1e --enable-librsvg --enable-libsoxr --enable-libspeex --enable-libsrt --enable-libssh --enable-libsvtav1 --enable-libtheora --enable-libv4l2 --enable-libvidstab --enable-libvmaf --enable-libvorbis --enable-libvpx --enable-libwebp --enable-libx264 --enable-libx265 --enable-libxcb --enable-libxml2 --enable-libxvid --enable-libzimg --enable-nvdec --enable-nvenc --enable-shared --enable-version3\n",
      "  libavutil      56. 70.100 / 56. 70.100\n",
      "  libavcodec     58.134.100 / 58.134.100\n",
      "  libavformat    58. 76.100 / 58. 76.100\n",
      "  libavdevice    58. 13.100 / 58. 13.100\n",
      "  libavfilter     7.110.100 /  7.110.100\n",
      "  libswscale      5.  9.100 /  5.  9.100\n",
      "  libswresample   3.  9.100 /  3.  9.100\n",
      "  libpostproc    55.  9.100 / 55.  9.100\n",
      "Input #0, image2, from '/tmp/original_%03d.png':\n",
      "  Duration: 00:00:06.00, start: 0.000000, bitrate: N/A\n",
      "  Stream #0:0: Video: png, rgb24(pc), 352x288 [SAR 128:117 DAR 1408:1053], 25 fps, 25 tbr, 25 tbn, 25 tbc\n",
      "Stream mapping:\n",
      "  Stream #0:0 -> #0:0 (png (native) -> h264 (libx264))\n",
      "Press [q] to stop, [?] for help\n",
      "\u001b[1;36m[libx264 @ 0x5637033948c0] \u001b[0musing SAR=128/117\n",
      "\u001b[1;36m[libx264 @ 0x5637033948c0] \u001b[0musing cpu capabilities: MMX2 SSE2Fast SSSE3 SSE4.2 AVX FMA3 BMI2 AVX2\n",
      "\u001b[1;36m[libx264 @ 0x5637033948c0] \u001b[0mprofile High, level 1.3, 4:2:0, 8-bit\n",
      "\u001b[1;36m[libx264 @ 0x5637033948c0] \u001b[0m264 - core 163 r3060 5db6aa6 - H.264/MPEG-4 AVC codec - Copyleft 2003-2021 - http://www.videolan.org/x264.html - options: cabac=1 ref=3 deblock=1:0:0 analyse=0x3:0x113 me=hex subme=7 psy=1 psy_rd=1.00:0.00 mixed_ref=1 me_range=16 chroma_me=1 trellis=1 8x8dct=1 cqm=0 deadzone=21,11 fast_pskip=1 chroma_qp_offset=-2 threads=9 lookahead_threads=1 sliced_threads=0 nr=0 decimate=1 interlaced=0 bluray_compat=0 constrained_intra=0 bframes=0 weightp=2 keyint=3 keyint_min=1 scenecut=40 intra_refresh=0 rc_lookahead=3 rc=crf mbtree=1 crf=30.0 qcomp=0.60 qpmin=0 qpmax=69 qpstep=4 ip_ratio=1.40 aq=1:1.00\n",
      "Output #0, mp4, to '/tmp/output.mp4':\n",
      "  Metadata:\n",
      "    encoder         : Lavf58.76.100\n",
      "  Stream #0:0: Video: h264 (avc1 / 0x31637661), yuv420p(tv, progressive), 352x288 [SAR 128:117 DAR 1408:1053], q=2-31, 25 fps, 12800 tbn\n",
      "    Metadata:\n",
      "      encoder         : Lavc58.134.100 libx264\n",
      "    Side data:\n",
      "      cpb: bitrate max/min/avg: 0/0/0 buffer size: 0 vbv_delay: N/A\n",
      "frame=    3 fps=0.0 q=-1.0 Lsize=      10kB time=00:00:00.08 bitrate=1052.5kbits/s speed=5.57x    \n",
      "video:9kB audio:0kB subtitle:0kB other streams:0kB global headers:0kB muxing overhead: 9.069262%\n",
      "\u001b[1;36m[libx264 @ 0x5637033948c0] \u001b[0mframe I:1     Avg QP:35.81  size:  7021\n",
      "\u001b[1;36m[libx264 @ 0x5637033948c0] \u001b[0mframe P:2     Avg QP:36.89  size:  1007\n",
      "\u001b[1;36m[libx264 @ 0x5637033948c0] \u001b[0mmb I  I16..4:  4.5% 62.4% 33.1%\n",
      "\u001b[1;36m[libx264 @ 0x5637033948c0] \u001b[0mmb P  I16..4:  0.3%  0.3%  0.3%  P16..4: 37.5% 12.5%  6.3%  0.0%  0.0%    skip:42.9%\n",
      "\u001b[1;36m[libx264 @ 0x5637033948c0] \u001b[0m8x8 transform intra:61.9% inter:60.8%\n",
      "\u001b[1;36m[libx264 @ 0x5637033948c0] \u001b[0mcoded y,uvDC,uvAC intra: 82.2% 53.7% 25.9% inter: 11.6% 5.9% 0.1%\n",
      "\u001b[1;36m[libx264 @ 0x5637033948c0] \u001b[0mi16 v,h,dc,p: 25% 60%  5% 10%\n",
      "\u001b[1;36m[libx264 @ 0x5637033948c0] \u001b[0mi8 v,h,dc,ddl,ddr,vr,hd,vl,hu: 20% 21% 20%  5%  6%  6%  6%  5% 11%\n",
      "\u001b[1;36m[libx264 @ 0x5637033948c0] \u001b[0mi4 v,h,dc,ddl,ddr,vr,hd,vl,hu: 29% 32% 11%  4%  5%  5%  6%  4%  4%\n",
      "\u001b[1;36m[libx264 @ 0x5637033948c0] \u001b[0mi8c dc,h,v,p: 73% 14% 12%  2%\n",
      "\u001b[1;36m[libx264 @ 0x5637033948c0] \u001b[0mWeighted P-Frames: Y:0.0% UV:0.0%\n",
      "\u001b[1;36m[libx264 @ 0x5637033948c0] \u001b[0mref P L0: 88.2%  5.9%  5.9%\n",
      "\u001b[1;36m[libx264 @ 0x5637033948c0] \u001b[0mkb/s:602.33\n",
      "ffmpeg version n4.4.1 Copyright (c) 2000-2021 the FFmpeg developers\n",
      "  built with gcc 11.1.0 (GCC)\n",
      "  configuration: --prefix=/usr --disable-debug --disable-static --disable-stripping --enable-amf --enable-avisynth --enable-cuda-llvm --enable-lto --enable-fontconfig --enable-gmp --enable-gnutls --enable-gpl --enable-ladspa --enable-libaom --enable-libass --enable-libbluray --enable-libdav1d --enable-libdrm --enable-libfreetype --enable-libfribidi --enable-libgsm --enable-libiec61883 --enable-libjack --enable-libmfx --enable-libmodplug --enable-libmp3lame --enable-libopencore_amrnb --enable-libopencore_amrwb --enable-libopenjpeg --enable-libopus --enable-libpulse --enable-librav1e --enable-librsvg --enable-libsoxr --enable-libspeex --enable-libsrt --enable-libssh --enable-libsvtav1 --enable-libtheora --enable-libv4l2 --enable-libvidstab --enable-libvmaf --enable-libvorbis --enable-libvpx --enable-libwebp --enable-libx264 --enable-libx265 --enable-libxcb --enable-libxml2 --enable-libxvid --enable-libzimg --enable-nvdec --enable-nvenc --enable-shared --enable-version3\n",
      "  libavutil      56. 70.100 / 56. 70.100\n",
      "  libavcodec     58.134.100 / 58.134.100\n",
      "  libavformat    58. 76.100 / 58. 76.100\n",
      "  libavdevice    58. 13.100 / 58. 13.100\n",
      "  libavfilter     7.110.100 /  7.110.100\n",
      "  libswscale      5.  9.100 /  5.  9.100\n",
      "  libswresample   3.  9.100 /  3.  9.100\n",
      "  libpostproc    55.  9.100 / 55.  9.100\n",
      "Input #0, mov,mp4,m4a,3gp,3g2,mj2, from '/tmp/output.mp4':\n",
      "  Metadata:\n",
      "    major_brand     : isom\n",
      "    minor_version   : 512\n",
      "    compatible_brands: isomiso2avc1mp41\n",
      "    encoder         : Lavf58.76.100\n",
      "  Duration: 00:00:00.12, start: 0.000000, bitrate: 702 kb/s\n",
      "  Stream #0:0(und): Video: h264 (High) (avc1 / 0x31637661), yuv420p, 352x288 [SAR 128:117 DAR 1408:1053], 644 kb/s, 25 fps, 25 tbr, 12800 tbn, 50 tbc (default)\n",
      "    Metadata:\n",
      "      handler_name    : VideoHandler\n",
      "      vendor_id       : [0][0][0][0]\n",
      "Stream mapping:\n",
      "  Stream #0:0 -> #0:0 (h264 (native) -> png (native))\n",
      "Press [q] to stop, [?] for help\n",
      "Output #0, image2, to '/tmp/original_reconstructed_%03d.png':\n",
      "  Metadata:\n",
      "    major_brand     : isom\n",
      "    minor_version   : 512\n",
      "    compatible_brands: isomiso2avc1mp41\n",
      "    encoder         : Lavf58.76.100\n",
      "  Stream #0:0(und): Video: png, rgb24(pc, gbr/unknown/unknown, progressive), 352x288 [SAR 128:117 DAR 1408:1053], q=2-31, 200 kb/s, 25 fps, 25 tbn (default)\n",
      "    Metadata:\n",
      "      handler_name    : VideoHandler\n",
      "      vendor_id       : [0][0][0][0]\n",
      "      encoder         : Lavc58.134.100 png\n",
      "frame=    3 fps=0.0 q=-0.0 Lsize=N/A time=00:00:00.12 bitrate=N/A speed= 8.1x    \n",
      "video:535kB audio:0kB subtitle:0kB other streams:0kB global headers:0kB muxing overhead: unknown\n",
      "ffmpeg version n4.4.1 Copyright (c) 2000-2021 the FFmpeg developers\n",
      "  built with gcc 11.1.0 (GCC)\n",
      "  configuration: --prefix=/usr --disable-debug --disable-static --disable-stripping --enable-amf --enable-avisynth --enable-cuda-llvm --enable-lto --enable-fontconfig --enable-gmp --enable-gnutls --enable-gpl --enable-ladspa --enable-libaom --enable-libass --enable-libbluray --enable-libdav1d --enable-libdrm --enable-libfreetype --enable-libfribidi --enable-libgsm --enable-libiec61883 --enable-libjack --enable-libmfx --enable-libmodplug --enable-libmp3lame --enable-libopencore_amrnb --enable-libopencore_amrwb --enable-libopenjpeg --enable-libopus --enable-libpulse --enable-librav1e --enable-librsvg --enable-libsoxr --enable-libspeex --enable-libsrt --enable-libssh --enable-libsvtav1 --enable-libtheora --enable-libv4l2 --enable-libvidstab --enable-libvmaf --enable-libvorbis --enable-libvpx --enable-libwebp --enable-libx264 --enable-libx265 --enable-libxcb --enable-libxml2 --enable-libxvid --enable-libzimg --enable-nvdec --enable-nvenc --enable-shared --enable-version3\n",
      "  libavutil      56. 70.100 / 56. 70.100\n",
      "  libavcodec     58.134.100 / 58.134.100\n",
      "  libavformat    58. 76.100 / 58. 76.100\n",
      "  libavdevice    58. 13.100 / 58. 13.100\n",
      "  libavfilter     7.110.100 /  7.110.100\n",
      "  libswscale      5.  9.100 /  5.  9.100\n",
      "  libswresample   3.  9.100 /  3.  9.100\n",
      "  libpostproc    55.  9.100 / 55.  9.100\n"
     ]
    },
    {
     "name": "stdout",
     "output_type": "stream",
     "text": [
      "Input #0, image2, from '/tmp/original_%03d.png':\n",
      "  Duration: 00:00:06.00, start: 0.000000, bitrate: N/A\n",
      "  Stream #0:0: Video: png, rgb24(pc), 352x288 [SAR 128:117 DAR 1408:1053], 25 fps, 25 tbr, 25 tbn, 25 tbc\n",
      "Stream mapping:\n",
      "  Stream #0:0 -> #0:0 (png (native) -> h264 (libx264))\n",
      "Press [q] to stop, [?] for help\n",
      "\u001b[1;36m[libx264 @ 0x55b7523778c0] \u001b[0musing SAR=128/117\n",
      "\u001b[1;36m[libx264 @ 0x55b7523778c0] \u001b[0musing cpu capabilities: MMX2 SSE2Fast SSSE3 SSE4.2 AVX FMA3 BMI2 AVX2\n",
      "\u001b[1;36m[libx264 @ 0x55b7523778c0] \u001b[0mprofile High, level 1.3, 4:2:0, 8-bit\n",
      "\u001b[1;36m[libx264 @ 0x55b7523778c0] \u001b[0m264 - core 163 r3060 5db6aa6 - H.264/MPEG-4 AVC codec - Copyleft 2003-2021 - http://www.videolan.org/x264.html - options: cabac=1 ref=3 deblock=1:0:0 analyse=0x3:0x113 me=hex subme=7 psy=1 psy_rd=1.00:0.00 mixed_ref=1 me_range=16 chroma_me=1 trellis=1 8x8dct=1 cqm=0 deadzone=21,11 fast_pskip=1 chroma_qp_offset=-2 threads=9 lookahead_threads=1 sliced_threads=0 nr=0 decimate=1 interlaced=0 bluray_compat=0 constrained_intra=0 bframes=0 weightp=2 keyint=3 keyint_min=1 scenecut=40 intra_refresh=0 rc_lookahead=3 rc=crf mbtree=1 crf=33.0 qcomp=0.60 qpmin=0 qpmax=69 qpstep=4 ip_ratio=1.40 aq=1:1.00\n",
      "Output #0, mp4, to '/tmp/output.mp4':\n",
      "  Metadata:\n",
      "    encoder         : Lavf58.76.100\n",
      "  Stream #0:0: Video: h264 (avc1 / 0x31637661), yuv420p(tv, progressive), 352x288 [SAR 128:117 DAR 1408:1053], q=2-31, 25 fps, 12800 tbn\n",
      "    Metadata:\n",
      "      encoder         : Lavc58.134.100 libx264\n",
      "    Side data:\n",
      "      cpb: bitrate max/min/avg: 0/0/0 buffer size: 0 vbv_delay: N/A\n",
      "frame=    3 fps=0.0 q=-1.0 Lsize=       7kB time=00:00:00.08 bitrate= 737.3kbits/s speed=4.96x    \n",
      "video:6kB audio:0kB subtitle:0kB other streams:0kB global headers:0kB muxing overhead: 13.468635%\n",
      "\u001b[1;36m[libx264 @ 0x55b7523778c0] \u001b[0mframe I:1     Avg QP:38.83  size:  4602\n",
      "\u001b[1;36m[libx264 @ 0x55b7523778c0] \u001b[0mframe P:2     Avg QP:40.38  size:   639\n",
      "\u001b[1;36m[libx264 @ 0x55b7523778c0] \u001b[0mmb I  I16..4:  8.6% 62.6% 28.8%\n",
      "\u001b[1;36m[libx264 @ 0x55b7523778c0] \u001b[0mmb P  I16..4:  0.4%  0.8%  0.3%  P16..4: 35.4%  8.2%  2.7%  0.0%  0.0%    skip:52.4%\n",
      "\u001b[1;36m[libx264 @ 0x55b7523778c0] \u001b[0m8x8 transform intra:62.4% inter:71.3%\n",
      "\u001b[1;36m[libx264 @ 0x55b7523778c0] \u001b[0mcoded y,uvDC,uvAC intra: 73.6% 42.5% 15.0% inter: 7.4% 4.0% 0.0%\n",
      "\u001b[1;36m[libx264 @ 0x55b7523778c0] \u001b[0mi16 v,h,dc,p: 14% 62% 22%  3%\n",
      "\u001b[1;36m[libx264 @ 0x55b7523778c0] \u001b[0mi8 v,h,dc,ddl,ddr,vr,hd,vl,hu: 21% 23% 23%  5%  5%  5%  6%  4%  8%\n",
      "\u001b[1;36m[libx264 @ 0x55b7523778c0] \u001b[0mi4 v,h,dc,ddl,ddr,vr,hd,vl,hu: 32% 24% 16%  4%  5%  5%  7%  4%  4%\n",
      "\u001b[1;36m[libx264 @ 0x55b7523778c0] \u001b[0mi8c dc,h,v,p: 79% 14%  6%  1%\n",
      "\u001b[1;36m[libx264 @ 0x55b7523778c0] \u001b[0mWeighted P-Frames: Y:0.0% UV:0.0%\n",
      "\u001b[1;36m[libx264 @ 0x55b7523778c0] \u001b[0mref P L0: 93.2%  3.3%  3.5%\n",
      "\u001b[1;36m[libx264 @ 0x55b7523778c0] \u001b[0mkb/s:392.00\n",
      "ffmpeg version n4.4.1 Copyright (c) 2000-2021 the FFmpeg developers\n",
      "  built with gcc 11.1.0 (GCC)\n",
      "  configuration: --prefix=/usr --disable-debug --disable-static --disable-stripping --enable-amf --enable-avisynth --enable-cuda-llvm --enable-lto --enable-fontconfig --enable-gmp --enable-gnutls --enable-gpl --enable-ladspa --enable-libaom --enable-libass --enable-libbluray --enable-libdav1d --enable-libdrm --enable-libfreetype --enable-libfribidi --enable-libgsm --enable-libiec61883 --enable-libjack --enable-libmfx --enable-libmodplug --enable-libmp3lame --enable-libopencore_amrnb --enable-libopencore_amrwb --enable-libopenjpeg --enable-libopus --enable-libpulse --enable-librav1e --enable-librsvg --enable-libsoxr --enable-libspeex --enable-libsrt --enable-libssh --enable-libsvtav1 --enable-libtheora --enable-libv4l2 --enable-libvidstab --enable-libvmaf --enable-libvorbis --enable-libvpx --enable-libwebp --enable-libx264 --enable-libx265 --enable-libxcb --enable-libxml2 --enable-libxvid --enable-libzimg --enable-nvdec --enable-nvenc --enable-shared --enable-version3\n",
      "  libavutil      56. 70.100 / 56. 70.100\n",
      "  libavcodec     58.134.100 / 58.134.100\n",
      "  libavformat    58. 76.100 / 58. 76.100\n",
      "  libavdevice    58. 13.100 / 58. 13.100\n",
      "  libavfilter     7.110.100 /  7.110.100\n",
      "  libswscale      5.  9.100 /  5.  9.100\n",
      "  libswresample   3.  9.100 /  3.  9.100\n",
      "  libpostproc    55.  9.100 / 55.  9.100\n",
      "Input #0, mov,mp4,m4a,3gp,3g2,mj2, from '/tmp/output.mp4':\n",
      "  Metadata:\n",
      "    major_brand     : isom\n",
      "    minor_version   : 512\n",
      "    compatible_brands: isomiso2avc1mp41\n",
      "    encoder         : Lavf58.76.100\n",
      "  Duration: 00:00:00.12, start: 0.000000, bitrate: 492 kb/s\n",
      "  Stream #0:0(und): Video: h264 (High) (avc1 / 0x31637661), yuv420p, 352x288 [SAR 128:117 DAR 1408:1053], 433 kb/s, 25 fps, 25 tbr, 12800 tbn, 50 tbc (default)\n",
      "    Metadata:\n",
      "      handler_name    : VideoHandler\n",
      "      vendor_id       : [0][0][0][0]\n",
      "Stream mapping:\n",
      "  Stream #0:0 -> #0:0 (h264 (native) -> png (native))\n",
      "Press [q] to stop, [?] for help\n",
      "Output #0, image2, to '/tmp/original_reconstructed_%03d.png':\n",
      "  Metadata:\n",
      "    major_brand     : isom\n",
      "    minor_version   : 512\n",
      "    compatible_brands: isomiso2avc1mp41\n",
      "    encoder         : Lavf58.76.100\n",
      "  Stream #0:0(und): Video: png, rgb24(pc, gbr/unknown/unknown, progressive), 352x288 [SAR 128:117 DAR 1408:1053], q=2-31, 200 kb/s, 25 fps, 25 tbn (default)\n",
      "    Metadata:\n",
      "      handler_name    : VideoHandler\n",
      "      vendor_id       : [0][0][0][0]\n",
      "      encoder         : Lavc58.134.100 png\n",
      "frame=    3 fps=0.0 q=-0.0 Lsize=N/A time=00:00:00.12 bitrate=N/A speed=6.86x    \n",
      "video:498kB audio:0kB subtitle:0kB other streams:0kB global headers:0kB muxing overhead: unknown\n",
      "ffmpeg version n4.4.1 Copyright (c) 2000-2021 the FFmpeg developers\n",
      "  built with gcc 11.1.0 (GCC)\n",
      "  configuration: --prefix=/usr --disable-debug --disable-static --disable-stripping --enable-amf --enable-avisynth --enable-cuda-llvm --enable-lto --enable-fontconfig --enable-gmp --enable-gnutls --enable-gpl --enable-ladspa --enable-libaom --enable-libass --enable-libbluray --enable-libdav1d --enable-libdrm --enable-libfreetype --enable-libfribidi --enable-libgsm --enable-libiec61883 --enable-libjack --enable-libmfx --enable-libmodplug --enable-libmp3lame --enable-libopencore_amrnb --enable-libopencore_amrwb --enable-libopenjpeg --enable-libopus --enable-libpulse --enable-librav1e --enable-librsvg --enable-libsoxr --enable-libspeex --enable-libsrt --enable-libssh --enable-libsvtav1 --enable-libtheora --enable-libv4l2 --enable-libvidstab --enable-libvmaf --enable-libvorbis --enable-libvpx --enable-libwebp --enable-libx264 --enable-libx265 --enable-libxcb --enable-libxml2 --enable-libxvid --enable-libzimg --enable-nvdec --enable-nvenc --enable-shared --enable-version3\n",
      "  libavutil      56. 70.100 / 56. 70.100\n",
      "  libavcodec     58.134.100 / 58.134.100\n",
      "  libavformat    58. 76.100 / 58. 76.100\n",
      "  libavdevice    58. 13.100 / 58. 13.100\n",
      "  libavfilter     7.110.100 /  7.110.100\n",
      "  libswscale      5.  9.100 /  5.  9.100\n",
      "  libswresample   3.  9.100 /  3.  9.100\n",
      "  libpostproc    55.  9.100 / 55.  9.100\n",
      "Input #0, image2, from '/tmp/original_%03d.png':\n",
      "  Duration: 00:00:06.00, start: 0.000000, bitrate: N/A\n",
      "  Stream #0:0: Video: png, rgb24(pc), 352x288 [SAR 128:117 DAR 1408:1053], 25 fps, 25 tbr, 25 tbn, 25 tbc\n",
      "Stream mapping:\n",
      "  Stream #0:0 -> #0:0 (png (native) -> h264 (libx264))\n",
      "Press [q] to stop, [?] for help\n",
      "\u001b[1;36m[libx264 @ 0x55fc6bfe98c0] \u001b[0musing SAR=128/117\n",
      "\u001b[1;36m[libx264 @ 0x55fc6bfe98c0] \u001b[0musing cpu capabilities: MMX2 SSE2Fast SSSE3 SSE4.2 AVX FMA3 BMI2 AVX2\n",
      "\u001b[1;36m[libx264 @ 0x55fc6bfe98c0] \u001b[0mprofile High, level 1.3, 4:2:0, 8-bit\n",
      "\u001b[1;36m[libx264 @ 0x55fc6bfe98c0] \u001b[0m264 - core 163 r3060 5db6aa6 - H.264/MPEG-4 AVC codec - Copyleft 2003-2021 - http://www.videolan.org/x264.html - options: cabac=1 ref=3 deblock=1:0:0 analyse=0x3:0x113 me=hex subme=7 psy=1 psy_rd=1.00:0.00 mixed_ref=1 me_range=16 chroma_me=1 trellis=1 8x8dct=1 cqm=0 deadzone=21,11 fast_pskip=1 chroma_qp_offset=-2 threads=9 lookahead_threads=1 sliced_threads=0 nr=0 decimate=1 interlaced=0 bluray_compat=0 constrained_intra=0 bframes=0 weightp=2 keyint=3 keyint_min=1 scenecut=40 intra_refresh=0 rc_lookahead=3 rc=crf mbtree=1 crf=36.0 qcomp=0.60 qpmin=0 qpmax=69 qpstep=4 ip_ratio=1.40 aq=1:1.00\n",
      "Output #0, mp4, to '/tmp/output.mp4':\n",
      "  Metadata:\n",
      "    encoder         : Lavf58.76.100\n",
      "  Stream #0:0: Video: h264 (avc1 / 0x31637661), yuv420p(tv, progressive), 352x288 [SAR 128:117 DAR 1408:1053], q=2-31, 25 fps, 12800 tbn\n",
      "    Metadata:\n",
      "      encoder         : Lavc58.134.100 libx264\n",
      "    Side data:\n",
      "      cpb: bitrate max/min/avg: 0/0/0 buffer size: 0 vbv_delay: N/A\n",
      "frame=    3 fps=0.0 q=-1.0 Lsize=       5kB time=00:00:00.08 bitrate= 533.4kbits/s speed=5.84x    \n",
      "video:4kB audio:0kB subtitle:0kB other streams:0kB global headers:0kB muxing overhead: 19.628054%\n",
      "\u001b[1;36m[libx264 @ 0x55fc6bfe98c0] \u001b[0mframe I:1     Avg QP:41.85  size:  2980\n",
      "\u001b[1;36m[libx264 @ 0x55fc6bfe98c0] \u001b[0mframe P:2     Avg QP:43.18  size:   430\n",
      "\u001b[1;36m[libx264 @ 0x55fc6bfe98c0] \u001b[0mmb I  I16..4: 13.6% 66.7% 19.7%\n",
      "\u001b[1;36m[libx264 @ 0x55fc6bfe98c0] \u001b[0mmb P  I16..4:  0.6%  0.9%  0.1%  P16..4: 33.0%  4.8%  1.5%  0.0%  0.0%    skip:59.1%\n",
      "\u001b[1;36m[libx264 @ 0x55fc6bfe98c0] \u001b[0m8x8 transform intra:66.3% inter:72.9%\n",
      "\u001b[1;36m[libx264 @ 0x55fc6bfe98c0] \u001b[0mcoded y,uvDC,uvAC intra: 58.9% 39.9% 11.0% inter: 4.0% 2.3% 0.0%\n",
      "\u001b[1;36m[libx264 @ 0x55fc6bfe98c0] \u001b[0mi16 v,h,dc,p: 12% 54% 12% 22%\n",
      "\u001b[1;36m[libx264 @ 0x55fc6bfe98c0] \u001b[0mi8 v,h,dc,ddl,ddr,vr,hd,vl,hu: 26% 22% 26%  4%  4%  4%  5%  3%  7%\n",
      "\u001b[1;36m[libx264 @ 0x55fc6bfe98c0] \u001b[0mi4 v,h,dc,ddl,ddr,vr,hd,vl,hu: 31% 26% 14%  3%  5%  6%  7%  4%  4%\n",
      "\u001b[1;36m[libx264 @ 0x55fc6bfe98c0] \u001b[0mi8c dc,h,v,p: 87%  9%  4%  0%\n",
      "\u001b[1;36m[libx264 @ 0x55fc6bfe98c0] \u001b[0mWeighted P-Frames: Y:0.0% UV:0.0%\n",
      "\u001b[1;36m[libx264 @ 0x55fc6bfe98c0] \u001b[0mref P L0: 90.4%  3.1%  6.6%\n",
      "\u001b[1;36m[libx264 @ 0x55fc6bfe98c0] \u001b[0mkb/s:255.93\n",
      "ffmpeg version n4.4.1 Copyright (c) 2000-2021 the FFmpeg developers\n",
      "  built with gcc 11.1.0 (GCC)\n",
      "  configuration: --prefix=/usr --disable-debug --disable-static --disable-stripping --enable-amf --enable-avisynth --enable-cuda-llvm --enable-lto --enable-fontconfig --enable-gmp --enable-gnutls --enable-gpl --enable-ladspa --enable-libaom --enable-libass --enable-libbluray --enable-libdav1d --enable-libdrm --enable-libfreetype --enable-libfribidi --enable-libgsm --enable-libiec61883 --enable-libjack --enable-libmfx --enable-libmodplug --enable-libmp3lame --enable-libopencore_amrnb --enable-libopencore_amrwb --enable-libopenjpeg --enable-libopus --enable-libpulse --enable-librav1e --enable-librsvg --enable-libsoxr --enable-libspeex --enable-libsrt --enable-libssh --enable-libsvtav1 --enable-libtheora --enable-libv4l2 --enable-libvidstab --enable-libvmaf --enable-libvorbis --enable-libvpx --enable-libwebp --enable-libx264 --enable-libx265 --enable-libxcb --enable-libxml2 --enable-libxvid --enable-libzimg --enable-nvdec --enable-nvenc --enable-shared --enable-version3\n",
      "  libavutil      56. 70.100 / 56. 70.100\n",
      "  libavcodec     58.134.100 / 58.134.100\n",
      "  libavformat    58. 76.100 / 58. 76.100\n",
      "  libavdevice    58. 13.100 / 58. 13.100\n",
      "  libavfilter     7.110.100 /  7.110.100\n",
      "  libswscale      5.  9.100 /  5.  9.100\n",
      "  libswresample   3.  9.100 /  3.  9.100\n",
      "  libpostproc    55.  9.100 / 55.  9.100\n",
      "Input #0, mov,mp4,m4a,3gp,3g2,mj2, from '/tmp/output.mp4':\n",
      "  Metadata:\n",
      "    major_brand     : isom\n",
      "    minor_version   : 512\n",
      "    compatible_brands: isomiso2avc1mp41\n",
      "    encoder         : Lavf58.76.100\n",
      "  Duration: 00:00:00.12, start: 0.000000, bitrate: 355 kb/s\n",
      "  Stream #0:0(und): Video: h264 (High) (avc1 / 0x31637661), yuv420p, 352x288 [SAR 128:117 DAR 1408:1053], 297 kb/s, 25 fps, 25 tbr, 12800 tbn, 50 tbc (default)\n",
      "    Metadata:\n",
      "      handler_name    : VideoHandler\n",
      "      vendor_id       : [0][0][0][0]\n",
      "Stream mapping:\n",
      "  Stream #0:0 -> #0:0 (h264 (native) -> png (native))\n",
      "Press [q] to stop, [?] for help\n"
     ]
    },
    {
     "name": "stdout",
     "output_type": "stream",
     "text": [
      "Output #0, image2, to '/tmp/original_reconstructed_%03d.png':\n",
      "  Metadata:\n",
      "    major_brand     : isom\n",
      "    minor_version   : 512\n",
      "    compatible_brands: isomiso2avc1mp41\n",
      "    encoder         : Lavf58.76.100\n",
      "  Stream #0:0(und): Video: png, rgb24(pc, gbr/unknown/unknown, progressive), 352x288 [SAR 128:117 DAR 1408:1053], q=2-31, 200 kb/s, 25 fps, 25 tbn (default)\n",
      "    Metadata:\n",
      "      handler_name    : VideoHandler\n",
      "      vendor_id       : [0][0][0][0]\n",
      "      encoder         : Lavc58.134.100 png\n",
      "frame=    3 fps=0.0 q=-0.0 Lsize=N/A time=00:00:00.12 bitrate=N/A speed=7.42x    \n",
      "video:464kB audio:0kB subtitle:0kB other streams:0kB global headers:0kB muxing overhead: unknown\n",
      "ffmpeg version n4.4.1 Copyright (c) 2000-2021 the FFmpeg developers\n",
      "  built with gcc 11.1.0 (GCC)\n",
      "  configuration: --prefix=/usr --disable-debug --disable-static --disable-stripping --enable-amf --enable-avisynth --enable-cuda-llvm --enable-lto --enable-fontconfig --enable-gmp --enable-gnutls --enable-gpl --enable-ladspa --enable-libaom --enable-libass --enable-libbluray --enable-libdav1d --enable-libdrm --enable-libfreetype --enable-libfribidi --enable-libgsm --enable-libiec61883 --enable-libjack --enable-libmfx --enable-libmodplug --enable-libmp3lame --enable-libopencore_amrnb --enable-libopencore_amrwb --enable-libopenjpeg --enable-libopus --enable-libpulse --enable-librav1e --enable-librsvg --enable-libsoxr --enable-libspeex --enable-libsrt --enable-libssh --enable-libsvtav1 --enable-libtheora --enable-libv4l2 --enable-libvidstab --enable-libvmaf --enable-libvorbis --enable-libvpx --enable-libwebp --enable-libx264 --enable-libx265 --enable-libxcb --enable-libxml2 --enable-libxvid --enable-libzimg --enable-nvdec --enable-nvenc --enable-shared --enable-version3\n",
      "  libavutil      56. 70.100 / 56. 70.100\n",
      "  libavcodec     58.134.100 / 58.134.100\n",
      "  libavformat    58. 76.100 / 58. 76.100\n",
      "  libavdevice    58. 13.100 / 58. 13.100\n",
      "  libavfilter     7.110.100 /  7.110.100\n",
      "  libswscale      5.  9.100 /  5.  9.100\n",
      "  libswresample   3.  9.100 /  3.  9.100\n",
      "  libpostproc    55.  9.100 / 55.  9.100\n",
      "Input #0, image2, from '/tmp/original_%03d.png':\n",
      "  Duration: 00:00:06.00, start: 0.000000, bitrate: N/A\n",
      "  Stream #0:0: Video: png, rgb24(pc), 352x288 [SAR 128:117 DAR 1408:1053], 25 fps, 25 tbr, 25 tbn, 25 tbc\n",
      "Stream mapping:\n",
      "  Stream #0:0 -> #0:0 (png (native) -> h264 (libx264))\n",
      "Press [q] to stop, [?] for help\n",
      "\u001b[1;36m[libx264 @ 0x55bede0308c0] \u001b[0musing SAR=128/117\n",
      "\u001b[1;36m[libx264 @ 0x55bede0308c0] \u001b[0musing cpu capabilities: MMX2 SSE2Fast SSSE3 SSE4.2 AVX FMA3 BMI2 AVX2\n",
      "\u001b[1;36m[libx264 @ 0x55bede0308c0] \u001b[0mprofile High, level 1.3, 4:2:0, 8-bit\n",
      "\u001b[1;36m[libx264 @ 0x55bede0308c0] \u001b[0m264 - core 163 r3060 5db6aa6 - H.264/MPEG-4 AVC codec - Copyleft 2003-2021 - http://www.videolan.org/x264.html - options: cabac=1 ref=3 deblock=1:0:0 analyse=0x3:0x113 me=hex subme=7 psy=1 psy_rd=1.00:0.00 mixed_ref=1 me_range=16 chroma_me=1 trellis=1 8x8dct=1 cqm=0 deadzone=21,11 fast_pskip=1 chroma_qp_offset=-2 threads=9 lookahead_threads=1 sliced_threads=0 nr=0 decimate=1 interlaced=0 bluray_compat=0 constrained_intra=0 bframes=0 weightp=2 keyint=3 keyint_min=1 scenecut=40 intra_refresh=0 rc_lookahead=3 rc=crf mbtree=1 crf=39.0 qcomp=0.60 qpmin=0 qpmax=69 qpstep=4 ip_ratio=1.40 aq=1:1.00\n",
      "Output #0, mp4, to '/tmp/output.mp4':\n",
      "  Metadata:\n",
      "    encoder         : Lavf58.76.100\n",
      "  Stream #0:0: Video: h264 (avc1 / 0x31637661), yuv420p(tv, progressive), 352x288 [SAR 128:117 DAR 1408:1053], q=2-31, 25 fps, 12800 tbn\n",
      "    Metadata:\n",
      "      encoder         : Lavc58.134.100 libx264\n",
      "    Side data:\n",
      "      cpb: bitrate max/min/avg: 0/0/0 buffer size: 0 vbv_delay: N/A\n",
      "frame=    3 fps=0.0 q=-1.0 Lsize=       4kB time=00:00:00.08 bitrate= 398.1kbits/s speed=6.09x    \n",
      "video:3kB audio:0kB subtitle:0kB other streams:0kB global headers:0kB muxing overhead: 28.176262%\n",
      "\u001b[1;36m[libx264 @ 0x55bede0308c0] \u001b[0mframe I:1     Avg QP:44.81  size:  1870\n",
      "\u001b[1;36m[libx264 @ 0x55bede0308c0] \u001b[0mframe P:2     Avg QP:46.76  size:   308\n",
      "\u001b[1;36m[libx264 @ 0x55bede0308c0] \u001b[0mmb I  I16..4: 24.0% 64.9% 11.1%\n",
      "\u001b[1;36m[libx264 @ 0x55bede0308c0] \u001b[0mmb P  I16..4:  0.6%  0.4%  0.1%  P16..4: 34.0%  1.8%  2.1%  0.0%  0.0%    skip:61.0%\n",
      "\u001b[1;36m[libx264 @ 0x55bede0308c0] \u001b[0m8x8 transform intra:64.2% inter:80.8%\n",
      "\u001b[1;36m[libx264 @ 0x55bede0308c0] \u001b[0mcoded y,uvDC,uvAC intra: 43.0% 35.3% 6.4% inter: 2.3% 1.5% 0.0%\n",
      "\u001b[1;36m[libx264 @ 0x55bede0308c0] \u001b[0mi16 v,h,dc,p: 24% 50% 13% 13%\n",
      "\u001b[1;36m[libx264 @ 0x55bede0308c0] \u001b[0mi8 v,h,dc,ddl,ddr,vr,hd,vl,hu: 23% 21% 33%  3%  4%  4%  4%  3%  4%\n",
      "\u001b[1;36m[libx264 @ 0x55bede0308c0] \u001b[0mi4 v,h,dc,ddl,ddr,vr,hd,vl,hu: 35% 26% 18%  3%  4%  2%  6%  4%  3%\n",
      "\u001b[1;36m[libx264 @ 0x55bede0308c0] \u001b[0mi8c dc,h,v,p: 93%  5%  2%  0%\n",
      "\u001b[1;36m[libx264 @ 0x55bede0308c0] \u001b[0mWeighted P-Frames: Y:0.0% UV:0.0%\n",
      "\u001b[1;36m[libx264 @ 0x55bede0308c0] \u001b[0mref P L0: 84.2%  1.0% 14.8%\n",
      "\u001b[1;36m[libx264 @ 0x55bede0308c0] \u001b[0mkb/s:165.67\n",
      "ffmpeg version n4.4.1 Copyright (c) 2000-2021 the FFmpeg developers\n",
      "  built with gcc 11.1.0 (GCC)\n",
      "  configuration: --prefix=/usr --disable-debug --disable-static --disable-stripping --enable-amf --enable-avisynth --enable-cuda-llvm --enable-lto --enable-fontconfig --enable-gmp --enable-gnutls --enable-gpl --enable-ladspa --enable-libaom --enable-libass --enable-libbluray --enable-libdav1d --enable-libdrm --enable-libfreetype --enable-libfribidi --enable-libgsm --enable-libiec61883 --enable-libjack --enable-libmfx --enable-libmodplug --enable-libmp3lame --enable-libopencore_amrnb --enable-libopencore_amrwb --enable-libopenjpeg --enable-libopus --enable-libpulse --enable-librav1e --enable-librsvg --enable-libsoxr --enable-libspeex --enable-libsrt --enable-libssh --enable-libsvtav1 --enable-libtheora --enable-libv4l2 --enable-libvidstab --enable-libvmaf --enable-libvorbis --enable-libvpx --enable-libwebp --enable-libx264 --enable-libx265 --enable-libxcb --enable-libxml2 --enable-libxvid --enable-libzimg --enable-nvdec --enable-nvenc --enable-shared --enable-version3\n",
      "  libavutil      56. 70.100 / 56. 70.100\n",
      "  libavcodec     58.134.100 / 58.134.100\n",
      "  libavformat    58. 76.100 / 58. 76.100\n",
      "  libavdevice    58. 13.100 / 58. 13.100\n",
      "  libavfilter     7.110.100 /  7.110.100\n",
      "  libswscale      5.  9.100 /  5.  9.100\n",
      "  libswresample   3.  9.100 /  3.  9.100\n",
      "  libpostproc    55.  9.100 / 55.  9.100\n",
      "Input #0, mov,mp4,m4a,3gp,3g2,mj2, from '/tmp/output.mp4':\n",
      "  Metadata:\n",
      "    major_brand     : isom\n",
      "    minor_version   : 512\n",
      "    compatible_brands: isomiso2avc1mp41\n",
      "    encoder         : Lavf58.76.100\n",
      "  Duration: 00:00:00.12, start: 0.000000, bitrate: 265 kb/s\n",
      "  Stream #0:0(und): Video: h264 (High) (avc1 / 0x31637661), yuv420p, 352x288 [SAR 128:117 DAR 1408:1053], 207 kb/s, 25 fps, 25 tbr, 12800 tbn, 50 tbc (default)\n",
      "    Metadata:\n",
      "      handler_name    : VideoHandler\n",
      "      vendor_id       : [0][0][0][0]\n",
      "Stream mapping:\n",
      "  Stream #0:0 -> #0:0 (h264 (native) -> png (native))\n",
      "Press [q] to stop, [?] for help\n",
      "Output #0, image2, to '/tmp/original_reconstructed_%03d.png':\n",
      "  Metadata:\n",
      "    major_brand     : isom\n",
      "    minor_version   : 512\n",
      "    compatible_brands: isomiso2avc1mp41\n",
      "    encoder         : Lavf58.76.100\n",
      "  Stream #0:0(und): Video: png, rgb24(pc, gbr/unknown/unknown, progressive), 352x288 [SAR 128:117 DAR 1408:1053], q=2-31, 200 kb/s, 25 fps, 25 tbn (default)\n",
      "    Metadata:\n",
      "      handler_name    : VideoHandler\n",
      "      vendor_id       : [0][0][0][0]\n",
      "      encoder         : Lavc58.134.100 png\n",
      "frame=    3 fps=0.0 q=-0.0 Lsize=N/A time=00:00:00.12 bitrate=N/A speed=9.39x    \n",
      "video:410kB audio:0kB subtitle:0kB other streams:0kB global headers:0kB muxing overhead: unknown\n",
      "     1\tQ_step: 21 BPP: 0.2439060746352413 KBPS: 2225.36 Average AMSE: 36.62455720398429\n",
      "     2\tQ_step: 24 BPP: 0.1755138187429854 KBPS: 1601.36 Average AMSE: 56.564961682800224\n",
      "     3\tQ_step: 27 BPP: 0.12703423120089788 KBPS: 1159.04 Average AMSE: 87.54310027356901\n",
      "     4\tQ_step: 30 BPP: 0.09237338664421997 KBPS: 842.8 Average AMSE: 130.620355025954\n",
      "     5\tQ_step: 33 BPP: 0.06470959595959595 KBPS: 590.4 Average AMSE: 197.07090326003086\n",
      "     6\tQ_step: 36 BPP: 0.04681362233445567 KBPS: 427.12 Average AMSE: 286.76126608971657\n",
      "     7\tQ_step: 39 BPP: 0.03494142817059484 KBPS: 318.8 Average AMSE: 406.1408716066919\n"
     ]
    }
   ],
   "source": [
    "!python RD_curve.py --N_frames=$N_frames 1> >(tee /tmp/output >&1) | grep BPP | grep Average | cat -n"
   ]
  },
  {
   "cell_type": "code",
   "execution_count": 41,
   "metadata": {},
   "outputs": [],
   "source": [
    "!grep BPP /tmp/output | grep Average | cut -d ' ' -f 4,9 | tr ' ' '\\t'  > /tmp/MP4.txt"
   ]
  },
  {
   "cell_type": "code",
   "execution_count": 42,
   "metadata": {},
   "outputs": [
    {
     "name": "stdout",
     "output_type": "stream",
     "text": [
      "0.2439060746352413\t36.62455720398429\r\n",
      "0.1755138187429854\t56.564961682800224\r\n",
      "0.12703423120089788\t87.54310027356901\r\n",
      "0.09237338664421997\t130.620355025954\r\n",
      "0.06470959595959595\t197.07090326003086\r\n",
      "0.04681362233445567\t286.76126608971657\r\n",
      "0.03494142817059484\t406.1408716066919\r\n"
     ]
    }
   ],
   "source": [
    "!cat /tmp/MP4.txt"
   ]
  },
  {
   "cell_type": "code",
   "execution_count": 43,
   "metadata": {},
   "outputs": [],
   "source": [
    "RD_MP4 = []\n",
    "with open(\"/tmp/MP4.txt\", 'r') as f:\n",
    "    for line in f:\n",
    "        rate, _distortion = line.split('\\t')\n",
    "        RD_MP4.append((float(rate), float(_distortion)))"
   ]
  },
  {
   "cell_type": "code",
   "execution_count": 44,
   "metadata": {},
   "outputs": [
    {
     "data": {
      "image/png": "[encoded data removed]",
      "text/plain": [
       "<Figure size 900x600 with 1 Axes>"
      ]
     },
     "metadata": {
      "needs_background": "light"
     },
     "output_type": "display_data"
    }
   ],
   "source": [
    "%matplotlib inline\n",
    "\n",
    "import matplotlib\n",
    "import matplotlib.pyplot as plt\n",
    "import matplotlib.axes as ax\n",
    "import pylab\n",
    "\n",
    "pylab.figure(dpi=150)\n",
    "pylab.plot(*zip(*RD_image_IPP), label=\"image_IPP\")\n",
    "pylab.plot(*zip(*RD_image_IPP_adaptive), label=\"image_IPP_adaptive\")\n",
    "pylab.plot(*zip(*RD_image_IPP_QR), label=\"image_IPP_quantized_residue\")\n",
    "pylab.plot(*zip(*RD_MP4), label=\"MP4\")\n",
    "pylab.title(f\"{sequence}\")\n",
    "pylab.xlabel(\"Bits/Pixel\")\n",
    "pylab.ylabel(\"AMSE\")\n",
    "plt.legend(loc='upper right')\n",
    "pylab.show()"
   ]
  },
  {
   "cell_type": "markdown",
   "metadata": {},
   "source": [
    "## Ignore the rest"
   ]
  },
  {
   "cell_type": "code",
   "execution_count": 45,
   "metadata": {},
   "outputs": [
    {
     "ename": "NameError",
     "evalue": "name 'RD_points_no_intrablocks' is not defined",
     "output_type": "error",
     "traceback": [
      "\u001b[0;31m---------------------------------------------------------------------------\u001b[0m",
      "\u001b[0;31mNameError\u001b[0m                                 Traceback (most recent call last)",
      "Input \u001b[0;32mIn [45]\u001b[0m, in \u001b[0;36m<module>\u001b[0;34m\u001b[0m\n\u001b[1;32m      6\u001b[0m \u001b[38;5;28;01mimport\u001b[39;00m \u001b[38;5;21;01mpylab\u001b[39;00m\n\u001b[1;32m      8\u001b[0m pylab\u001b[38;5;241m.\u001b[39mfigure(dpi\u001b[38;5;241m=\u001b[39m\u001b[38;5;241m150\u001b[39m)\n\u001b[0;32m----> 9\u001b[0m pylab\u001b[38;5;241m.\u001b[39mplot(\u001b[38;5;241m*\u001b[39m\u001b[38;5;28mzip\u001b[39m(\u001b[38;5;241m*\u001b[39m\u001b[43mRD_points_no_intrablocks\u001b[49m), label\u001b[38;5;241m=\u001b[39m\u001b[38;5;124m\"\u001b[39m\u001b[38;5;124mNo Intra-blocks\u001b[39m\u001b[38;5;124m\"\u001b[39m)\n\u001b[1;32m     10\u001b[0m pylab\u001b[38;5;241m.\u001b[39mplot(\u001b[38;5;241m*\u001b[39m\u001b[38;5;28mzip\u001b[39m(\u001b[38;5;241m*\u001b[39mRD_points_with_intrablocks), label\u001b[38;5;241m=\u001b[39m\u001b[38;5;124m\"\u001b[39m\u001b[38;5;124mWith Intra-blocks\u001b[39m\u001b[38;5;124m\"\u001b[39m)\n\u001b[1;32m     11\u001b[0m pylab\u001b[38;5;241m.\u001b[39mplot(\u001b[38;5;241m*\u001b[39m\u001b[38;5;28mzip\u001b[39m(\u001b[38;5;241m*\u001b[39mRD_points_MP4), label\u001b[38;5;241m=\u001b[39m\u001b[38;5;124m\"\u001b[39m\u001b[38;5;124mMP4\u001b[39m\u001b[38;5;124m\"\u001b[39m)\n",
      "\u001b[0;31mNameError\u001b[0m: name 'RD_points_no_intrablocks' is not defined"
     ]
    },
    {
     "data": {
      "text/plain": [
       "<Figure size 900x600 with 0 Axes>"
      ]
     },
     "metadata": {},
     "output_type": "display_data"
    }
   ],
   "source": [
    "%matplotlib inline\n",
    "\n",
    "import matplotlib\n",
    "import matplotlib.pyplot as plt\n",
    "import matplotlib.axes as ax\n",
    "import pylab\n",
    "\n",
    "pylab.figure(dpi=150)\n",
    "pylab.plot(*zip(*RD_points_no_intrablocks), label=\"No Intra-blocks\")\n",
    "pylab.plot(*zip(*RD_points_with_intrablocks), label=\"With Intra-blocks\")\n",
    "pylab.plot(*zip(*RD_points_MP4), label=\"MP4\")\n",
    "pylab.title(f\"{sequence}\")\n",
    "pylab.xlabel(\"Bits/Pixel\")\n",
    "pylab.ylabel(\"AMSE\")\n",
    "plt.legend(loc='upper right')\n",
    "pylab.show()"
   ]
  },
  {
   "cell_type": "code",
   "execution_count": null,
   "metadata": {},
   "outputs": [],
   "source": []
  }
 ],
 "metadata": {
  "kernelspec": {
   "display_name": "Python 3 (ipykernel)",
   "language": "python",
   "name": "python3"
  },
  "language_info": {
   "codemirror_mode": {
    "name": "ipython",
    "version": 3
   },
   "file_extension": ".py",
   "mimetype": "text/x-python",
   "name": "python",
   "nbconvert_exporter": "python",
   "pygments_lexer": "ipython3",
   "version": "3.10.1"
  }
 },
 "nbformat": 4,
 "nbformat_minor": 4
}
