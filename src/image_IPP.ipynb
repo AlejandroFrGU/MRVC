{
 "cells": [
  {
   "cell_type": "markdown",
   "metadata": {},
   "source": [
    "[![Binder](https://mybinder.org/badge_logo.svg)](https://github.com/Sistemas-Multimedia/MRVC/blob/master/src/image_IPP.ipynb)"
   ]
  },
  {
   "cell_type": "markdown",
   "metadata": {},
   "source": [
    "# RD performance in IPP video coding"
   ]
  },
  {
   "cell_type": "code",
   "execution_count": null,
   "metadata": {},
   "outputs": [],
   "source": [
    "sequence = \"bus\""
   ]
  },
  {
   "cell_type": "code",
   "execution_count": null,
   "metadata": {},
   "outputs": [],
   "source": [
    "!../sequences/$sequence/runme.sh"
   ]
  },
  {
   "cell_type": "markdown",
   "metadata": {},
   "source": [
    "### Configuration\n",
    "The RD performance of MRVC is determined y the module `RD_curve.py`, and `image_IPP.py` is the module that implements the image domain IPP video codec."
   ]
  },
  {
   "cell_type": "code",
   "execution_count": null,
   "metadata": {},
   "outputs": [],
   "source": [
    "!sed -z -i 's/\\n#import image_IPP as codec\\n/\\nimport image_IPP as codec\\n/g' RD_curve.py\n",
    "!sed -z -i 's/\\nimport image_IPP_adaptive as codec\\n/\\n#import image_IPP_adaptive as codec\\n/g' RD_curve.py\n",
    "!sed -z -i 's/\\nimport MP4 as codec\\n/\\n#import MP4 as codec\\n/g' RD_curve.py\n",
    "!sed -z -i 's/\\nimport IPP_compressor as codec\\n/\\n#import IPP_compressor as codec\\n/g' RD_curve.py\n",
    "!sed -z -i 's/\\nimage_IPP_quantized_prediction as codec\\n/\\n#import image_IPP_quantized_prediction as codec\\n/g' RD_curve.py\n",
    "!sed -z -i 's/\\nimport image_IPP_quantized_residue as codec\\n/\\n#import image_IPP_quantized_residue as codec\\n/g' RD_curve.py"
   ]
  },
  {
   "cell_type": "code",
   "execution_count": null,
   "metadata": {},
   "outputs": [],
   "source": [
    "!cat -n RD_curve.py | grep \"import\" "
   ]
  },
  {
   "cell_type": "code",
   "execution_count": null,
   "metadata": {},
   "outputs": [],
   "source": [
    "!sed -z -i 's/\\ntransform = \"DWT\"\\n/\\n#transform = \"DWT\"\\n/g' config.py\n",
    "!sed -z -i 's/\\ntransform = \"LP\"\\n/\\n#transform = \"LP\"\\n/g' config.py\n",
    "!sed -z -i 's/\\n#transform = None\\n/\\ntransform = None\\n/g' config.py"
   ]
  },
  {
   "cell_type": "code",
   "execution_count": null,
   "metadata": {},
   "outputs": [],
   "source": [
    "!cat -n config.py | grep \"transform\" "
   ]
  },
  {
   "cell_type": "code",
   "execution_count": null,
   "metadata": {},
   "outputs": [],
   "source": [
    "!sed -z -i 's/\\ncolor = \"YCoCg\\n/\\n#color = \"YCoCg\\n/g' config.py\n",
    "!sed -z -i 's/\\ncolor = \"YCoCg\\n/\\n#color = \"YCoCg\\n/g' config.py\n",
    "!sed -z -i 's/\\n#color = \"YCoCg\\n/\\ncolor = \"YCoCg\\n/g' config.py"
   ]
  },
  {
   "cell_type": "code",
   "execution_count": null,
   "metadata": {},
   "outputs": [],
   "source": [
    "!cat -n config.py | grep \"color\" "
   ]
  },
  {
   "cell_type": "code",
   "execution_count": null,
   "metadata": {
    "scrolled": true
   },
   "outputs": [],
   "source": [
    "# You can see in real-time the output by running \"tail -f /tmp/output\"\n",
    "!python RD_curve.py 1> >(tee /tmp/output >&1) | grep BPP | grep Average | cat -n"
   ]
  },
  {
   "cell_type": "code",
   "execution_count": null,
   "metadata": {},
   "outputs": [],
   "source": [
    "!grep BPP /tmp/output | grep Average | cut -d ' ' -f 4,9 | tr ' ' '\\t'  > /tmp/image_IPP.txt"
   ]
  },
  {
   "cell_type": "code",
   "execution_count": null,
   "metadata": {},
   "outputs": [],
   "source": [
    "!cat /tmp/image_IPP.txt"
   ]
  },
  {
   "cell_type": "code",
   "execution_count": null,
   "metadata": {},
   "outputs": [],
   "source": [
    "RD_image_IPP = []\n",
    "with open(\"/tmp/image_IPP.txt\", 'r') as f:\n",
    "    for line in f:\n",
    "        rate, _distortion = line.split('\\t')\n",
    "        RD_image_IPP.append((float(rate), float(_distortion)))"
   ]
  },
  {
   "cell_type": "markdown",
   "metadata": {},
   "source": [
    "## IPP_codec_quantized_residue"
   ]
  },
  {
   "cell_type": "code",
   "execution_count": null,
   "metadata": {},
   "outputs": [],
   "source": [
    "!sed -z -i 's/\\nimport image_IPP as codec\\n/\\n#import image_IPP as codec\\n/g' RD_curve.py\n",
    "!sed -z -i 's/\\nimport image_IPP_adaptive as codec\\n/\\n#import image_IPP_adaptive as codec\\n/g' RD_curve.py\n",
    "!sed -z -i 's/\\nimport MP4 as codec\\n/\\n#import MP4 as codec\\n/g' RD_curve.py\n",
    "!sed -z -i 's/\\nimport IPP_compressor as codec\\n/\\n#import IPP_compressor as codec\\n/g' RD_curve.py\n",
    "!sed -z -i 's/\\nimage_IPP_quantized_prediction as codec\\n/\\n#import image_IPP_quantized_prediction as codec\\n/g' RD_curve.py\n",
    "!sed -z -i 's/\\n#import image_IPP_quantized_residue as codec\\n/\\nimport image_IPP_quantized_residue as codec\\n/g' RD_curve.py"
   ]
  },
  {
   "cell_type": "code",
   "execution_count": null,
   "metadata": {},
   "outputs": [],
   "source": [
    "!cat -n RD_curve.py | grep \"import\" "
   ]
  },
  {
   "cell_type": "code",
   "execution_count": null,
   "metadata": {},
   "outputs": [],
   "source": [
    "!sed -z -i 's/\\ntransform = \"DWT\"\\n/\\n#transform = \"DWT\"\\n/g' config.py\n",
    "!sed -z -i 's/\\ntransform = \"LP\"\\n/\\n#transform = \"LP\"\\n/g' config.py\n",
    "!sed -z -i 's/\\n#transform = None\\n/\\ntransform = None\\n/g' config.py"
   ]
  },
  {
   "cell_type": "code",
   "execution_count": null,
   "metadata": {},
   "outputs": [],
   "source": [
    "!cat -n config.py | grep \"transform\" "
   ]
  },
  {
   "cell_type": "code",
   "execution_count": null,
   "metadata": {},
   "outputs": [],
   "source": [
    "!sed -z -i 's/\\ncolor = \"YCoCg\\n/\\n#color = \"YCoCg\\n/g' config.py\n",
    "!sed -z -i 's/\\ncolor = \"YCoCg\\n/\\n#color = \"YCoCg\\n/g' config.py\n",
    "!sed -z -i 's/\\n#color = \"YCoCg\\n/\\ncolor = \"YCoCg\\n/g' config.py"
   ]
  },
  {
   "cell_type": "code",
   "execution_count": null,
   "metadata": {},
   "outputs": [],
   "source": [
    "!cat -n config.py | grep \"color\" "
   ]
  },
  {
   "cell_type": "code",
   "execution_count": null,
   "metadata": {
    "scrolled": true
   },
   "outputs": [],
   "source": [
    "# You can see in real-time the output by running \"tail -f /tmp/output\"\n",
    "!python RD_curve.py 1> >(tee /tmp/output >&1) | grep BPP | grep Average | cat -n"
   ]
  },
  {
   "cell_type": "code",
   "execution_count": null,
   "metadata": {},
   "outputs": [],
   "source": [
    "!grep BPP /tmp/output | grep Average | cut -d ' ' -f 4,9 | tr ' ' '\\t'  > /tmp/image_IPP_quantized_residue.txt"
   ]
  },
  {
   "cell_type": "code",
   "execution_count": null,
   "metadata": {},
   "outputs": [],
   "source": [
    "!cat /tmp/image_IPP_quantized_residue.txt"
   ]
  },
  {
   "cell_type": "code",
   "execution_count": null,
   "metadata": {},
   "outputs": [],
   "source": [
    "RD_image_IPP_QR = []\n",
    "with open(\"/tmp/image_IPP_quantized_residue.txt\", 'r') as f:\n",
    "    for line in f:\n",
    "        rate, _distortion = line.split('\\t')\n",
    "        RD_image_IPP_QR.append((float(rate), float(_distortion)))"
   ]
  },
  {
   "cell_type": "markdown",
   "metadata": {},
   "source": [
    "## MP4"
   ]
  },
  {
   "cell_type": "code",
   "execution_count": null,
   "metadata": {},
   "outputs": [],
   "source": [
    "!sed -z -i 's/\\nimport image_IPP as codec/\\n#import image_IPP as codec/g' RD_curve.py\n",
    "!sed -z -i 's/\\nimport image_IPP_adaptive as codec\\n/\\n#import image_IPP_adaptive as codec\\n/g' RD_curve.py\n",
    "!sed -z -i 's/\\n#import MP4 as codec\\n/\\nimport MP4 as codec\\n/g' RD_curve.py\n",
    "!sed -z -i 's/\\nimport IPP_compressor as codec\\n/\\n#import IPP_compressor as codec\\n/g' RD_curve.py\n",
    "!sed -z -i 's/\\nimage_IPP_quantized_prediction as codec\\n/\\n#import image_IPP_quantized_prediction as codec\\n/g' RD_curve.py\n",
    "!sed -z -i 's/\\nimport image_IPP_quantized_residue as codec\\n/\\n#import image_IPP_quantized_residue as codec\\n/g' RD_curve.py"
   ]
  },
  {
   "cell_type": "code",
   "execution_count": null,
   "metadata": {
    "scrolled": true
   },
   "outputs": [],
   "source": [
    "!grep import RD_curve.py"
   ]
  },
  {
   "cell_type": "code",
   "execution_count": null,
   "metadata": {},
   "outputs": [],
   "source": [
    "!sed -z -i 's/\\ntransform = \"DWT\"\\n/\\n#transform = \"DWT\"\\n/g' config.py\n",
    "!sed -z -i 's/\\ntransform = \"LP\"\\n/\\n#transform = \"LP\"\\n/g' config.py\n",
    "!sed -z -i 's/\\n#transform = None\\n/\\ntransform = None\\n/g' config.py"
   ]
  },
  {
   "cell_type": "code",
   "execution_count": null,
   "metadata": {},
   "outputs": [],
   "source": [
    "!cat -n config.py | grep \"transform\" "
   ]
  },
  {
   "cell_type": "code",
   "execution_count": null,
   "metadata": {},
   "outputs": [],
   "source": [
    "!sed -z -i 's/\\ncolor = \"YCoCg\\n/\\n#color = \"YCoCg\\n/g' config.py\n",
    "!sed -z -i 's/\\ncolor = \"YCoCg\\n/\\n#color = \"YCoCg\\n/g' config.py\n",
    "!sed -z -i 's/\\n#color = \"YCoCg\\n/\\ncolor = \"YCoCg\\n/g' config.py"
   ]
  },
  {
   "cell_type": "code",
   "execution_count": null,
   "metadata": {},
   "outputs": [],
   "source": [
    "!cat -n config.py | grep \"color\" "
   ]
  },
  {
   "cell_type": "code",
   "execution_count": null,
   "metadata": {},
   "outputs": [],
   "source": [
    "!python RD_curve.py 1> >(tee /tmp/output >&1) | grep BPP | grep Average | cat -n"
   ]
  },
  {
   "cell_type": "code",
   "execution_count": null,
   "metadata": {},
   "outputs": [],
   "source": [
    "!grep BPP /tmp/output | grep Average | cut -d ' ' -f 4,9 | tr ' ' '\\t'  > /tmp/MP4.txt"
   ]
  },
  {
   "cell_type": "code",
   "execution_count": null,
   "metadata": {},
   "outputs": [],
   "source": [
    "!cat /tmp/MP4.txt"
   ]
  },
  {
   "cell_type": "code",
   "execution_count": null,
   "metadata": {},
   "outputs": [],
   "source": [
    "RD_MP4 = []\n",
    "with open(\"/tmp/MP4.txt\", 'r') as f:\n",
    "    for line in f:\n",
    "        rate, _distortion = line.split('\\t')\n",
    "        RD_MP4.append((float(rate), float(_distortion)))"
   ]
  },
  {
   "cell_type": "code",
   "execution_count": null,
   "metadata": {},
   "outputs": [],
   "source": [
    "%matplotlib inline\n",
    "\n",
    "import matplotlib\n",
    "import matplotlib.pyplot as plt\n",
    "import matplotlib.axes as ax\n",
    "import pylab\n",
    "\n",
    "pylab.figure(dpi=150)\n",
    "pylab.plot(*zip(*RD_image_IPP), label=\"image_IPP\")\n",
    "pylab.plot(*zip(*RD_image_IPP_QR), label=\"image_IPP_quantized_residue\")\n",
    "pylab.plot(*zip(*RD_MP4), label=\"MP4\")\n",
    "pylab.title(f\"{sequence}\")\n",
    "pylab.xlabel(\"Bits/Pixel\")\n",
    "pylab.ylabel(\"AMSE\")\n",
    "plt.legend(loc='upper right')\n",
    "pylab.show()"
   ]
  },
  {
   "cell_type": "markdown",
   "metadata": {},
   "source": [
    "## Ignore the rest"
   ]
  },
  {
   "cell_type": "code",
   "execution_count": null,
   "metadata": {},
   "outputs": [],
   "source": [
    "%matplotlib inline\n",
    "\n",
    "import matplotlib\n",
    "import matplotlib.pyplot as plt\n",
    "import matplotlib.axes as ax\n",
    "import pylab\n",
    "\n",
    "pylab.figure(dpi=150)\n",
    "pylab.plot(*zip(*RD_points_no_intrablocks), label=\"No Intra-blocks\")\n",
    "pylab.plot(*zip(*RD_points_with_intrablocks), label=\"With Intra-blocks\")\n",
    "pylab.plot(*zip(*RD_points_MP4), label=\"MP4\")\n",
    "pylab.title(f\"{sequence}\")\n",
    "pylab.xlabel(\"Bits/Pixel\")\n",
    "pylab.ylabel(\"AMSE\")\n",
    "plt.legend(loc='upper right')\n",
    "pylab.show()"
   ]
  },
  {
   "cell_type": "code",
   "execution_count": null,
   "metadata": {},
   "outputs": [],
   "source": []
  }
 ],
 "metadata": {
  "kernelspec": {
   "display_name": "Python 3 (ipykernel)",
   "language": "python",
   "name": "python3"
  },
  "language_info": {
   "codemirror_mode": {
    "name": "ipython",
    "version": 3
   },
   "file_extension": ".py",
   "mimetype": "text/x-python",
   "name": "python",
   "nbconvert_exporter": "python",
   "pygments_lexer": "ipython3",
   "version": "3.10.1"
  }
 },
 "nbformat": 4,
 "nbformat_minor": 4
}
