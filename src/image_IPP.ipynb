{
 "cells": [
  {
   "cell_type": "markdown",
   "metadata": {},
   "source": [
    "[![Binder](https://mybinder.org/badge_logo.svg)](https://github.com/Sistemas-Multimedia/MRVC/blob/master/src/image_IPP.ipynb)"
   ]
  },
  {
   "cell_type": "markdown",
   "metadata": {},
   "source": [
    "# RD performance in IPP video coding\n",
    "This notebook runs two different IPP... experiments.\n",
    "\n",
    "The first one, implemented in `image_IPP.py` is a simple IPP... video codec without RDO (all macro-blocks are motion compensated as P-type blocks). The lossy image compressor is MP4 used in intra mode.\n",
    "\n",
    "`image_IPP_adaptive.py`\n",
    "\n",
    "The second one, implemented in `image_IPP_quantized_residue.py` is a modification of `image_IPP.py` where the prediction-error images are quantized before they are compressed with MP4. Each macro-block is quantized to contribute with the same slope to the reconstructed macro-block. \n",
    "\n",
    "Finally, the RD curves are compared to MP4 (intra-mode)."
   ]
  },
  {
   "cell_type": "code",
   "execution_count": 1,
   "metadata": {},
   "outputs": [],
   "source": [
    "!ln -sf ~/quantization/deadzone_quantizer.py .\n",
    "!ln -sf ~/quantization/distortion.py .\n",
    "!ln -sf ~/quantization/information.py .\n",
    "!ln -sf ~/quantization/midtread_quantizer.py ."
   ]
  },
  {
   "cell_type": "markdown",
   "metadata": {},
   "source": [
    "### Sequence to compress"
   ]
  },
  {
   "cell_type": "code",
   "execution_count": 2,
   "metadata": {},
   "outputs": [],
   "source": [
    "#sequence = \"bus\"\n",
    "sequence = \"akiyo\""
   ]
  },
  {
   "cell_type": "markdown",
   "metadata": {},
   "source": [
    "!../sequences/$sequence/runme.sh"
   ]
  },
  {
   "cell_type": "markdown",
   "metadata": {},
   "source": [
    "### Number of frames to compress"
   ]
  },
  {
   "cell_type": "code",
   "execution_count": 3,
   "metadata": {},
   "outputs": [],
   "source": [
    "N_frames = 5 # Min val 3"
   ]
  },
  {
   "cell_type": "markdown",
   "metadata": {},
   "source": [
    "## Testing `image_IPP`"
   ]
  },
  {
   "cell_type": "markdown",
   "metadata": {},
   "source": [
    "### Select `image_IPP` in `RD_curve.py`"
   ]
  },
  {
   "cell_type": "code",
   "execution_count": 4,
   "metadata": {},
   "outputs": [],
   "source": [
    "!sed -z -i 's/\\n#import image_IPP as codec\\n/\\nimport image_IPP as codec\\n/g' RD_curve.py\n",
    "!sed -z -i 's/\\nimport image_IPP_adaptive as codec\\n/\\n#import image_IPP_adaptive as codec\\n/g' RD_curve.py\n",
    "!sed -z -i 's/\\nimport MP4 as codec\\n/\\n#import MP4 as codec\\n/g' RD_curve.py\n",
    "!sed -z -i 's/\\nimport IPP_compressor as codec\\n/\\n#import IPP_compressor as codec\\n/g' RD_curve.py\n",
    "!sed -z -i 's/\\nimage_IPP_quantized_prediction as codec\\n/\\n#import image_IPP_quantized_prediction as codec\\n/g' RD_curve.py\n",
    "!sed -z -i 's/\\nimport image_IPP_quantized_residue as codec\\n/\\n#import image_IPP_quantized_residue as codec\\n/g' RD_curve.py"
   ]
  },
  {
   "cell_type": "code",
   "execution_count": 5,
   "metadata": {},
   "outputs": [
    {
     "name": "stdout",
     "output_type": "stream",
     "text": [
      "     5\t#import debug\r\n",
      "     6\timport config\r\n",
      "     7\timport distortion\r\n",
      "     8\timport image_3 as frame\r\n",
      "    11\t#import image_interpolated_IPP as codec\r\n",
      "    12\timport image_IPP as codec\r\n",
      "    13\t#import image_IPP_adaptive as codec\r\n",
      "    14\t#import image_IPP_quantized_prediction as codec\r\n",
      "    15\t#import image_IPP_quantized_residue as codec\r\n",
      "    16\t#import MP4 as codec\r\n",
      "    17\t#import IPP_compressor as codec\r\n",
      "    19\timport logging\r\n",
      "    28\timport argparse\r\n"
     ]
    }
   ],
   "source": [
    "!cat -n RD_curve.py | grep \"import\" "
   ]
  },
  {
   "cell_type": "markdown",
   "metadata": {},
   "source": [
    "### We use MP4 and therefore, no previous spatial transform is used\n",
    "MP4 uses the DCT."
   ]
  },
  {
   "cell_type": "code",
   "execution_count": 6,
   "metadata": {},
   "outputs": [],
   "source": [
    "!sed -z -i 's/\\ntransform = \"DWT\"\\n/\\n#transform = \"DWT\"\\n/g' config.py\n",
    "!sed -z -i 's/\\ntransform = \"LP\"\\n/\\n#transform = \"LP\"\\n/g' config.py\n",
    "!sed -z -i 's/\\n#transform = None\\n/\\ntransform = None\\n/g' config.py"
   ]
  },
  {
   "cell_type": "code",
   "execution_count": 7,
   "metadata": {},
   "outputs": [
    {
     "name": "stdout",
     "output_type": "stream",
     "text": [
      "     3\t#multiresolution_transform = \"DWT\"\r\n",
      "     4\t#multiresolution_transform = \"LP\"\r\n",
      "     5\tmultiresolution_transform = None\r\n"
     ]
    }
   ],
   "source": [
    "!cat -n config.py | grep \"transform\" "
   ]
  },
  {
   "cell_type": "markdown",
   "metadata": {},
   "source": [
    "### Select the color transform"
   ]
  },
  {
   "cell_type": "code",
   "execution_count": 8,
   "metadata": {},
   "outputs": [],
   "source": [
    "!sed -z -i 's/\\ncolor = \"YCoCg\\n/\\n#color = \"YCoCg\\n/g' config.py\n",
    "!sed -z -i 's/\\ncolor = \"YCoCg\\n/\\n#color = \"YCoCg\\n/g' config.py\n",
    "!sed -z -i 's/\\n#color = \"YCoCg\\n/\\ncolor = \"YCoCg\\n/g' config.py"
   ]
  },
  {
   "cell_type": "code",
   "execution_count": 9,
   "metadata": {},
   "outputs": [
    {
     "name": "stdout",
     "output_type": "stream",
     "text": [
      "    10\tcolor = \"YCoCg\"\r\n",
      "    11\t#color = \"YCrCb\"\r\n",
      "    12\t#color = \"RGB\"\r\n"
     ]
    }
   ],
   "source": [
    "!cat -n config.py | grep \"color\" "
   ]
  },
  {
   "cell_type": "markdown",
   "metadata": {},
   "source": [
    "### Run the codec"
   ]
  },
  {
   "cell_type": "code",
   "execution_count": 10,
   "metadata": {
    "scrolled": true
   },
   "outputs": [
    {
     "name": "stdout",
     "output_type": "stream",
     "text": [
      "rm: cannot remove '/tmp/*.png': No such file or directory\n",
      "akiyo_cif.y4m exists.\n",
      "ffmpeg version 4.4-6ubuntu5 Copyright (c) 2000-2021 the FFmpeg developers\n",
      "  built with gcc 11 (Ubuntu 11.2.0-7ubuntu1)\n",
      "  configuration: --prefix=/usr --extra-version=6ubuntu5 --toolchain=hardened --libdir=/usr/lib/x86_64-linux-gnu --incdir=/usr/include/x86_64-linux-gnu --arch=amd64 --enable-gpl --disable-stripping --enable-gnutls --enable-ladspa --enable-libaom --enable-libass --enable-libbluray --enable-libbs2b --enable-libcaca --enable-libcdio --enable-libcodec2 --enable-libdav1d --enable-libflite --enable-libfontconfig --enable-libfreetype --enable-libfribidi --enable-libgme --enable-libgsm --enable-libjack --enable-libmp3lame --enable-libmysofa --enable-libopenjpeg --enable-libopenmpt --enable-libopus --enable-libpulse --enable-librabbitmq --enable-librubberband --enable-libshine --enable-libsnappy --enable-libsoxr --enable-libspeex --enable-libsrt --enable-libssh --enable-libtheora --enable-libtwolame --enable-libvidstab --enable-libvorbis --enable-libvpx --enable-libwebp --enable-libx265 --enable-libxml2 --enable-libxvid --enable-libzimg --enable-libzmq --enable-libzvbi --enable-lv2 --enable-omx --enable-openal --enable-opencl --enable-opengl --enable-sdl2 --enable-pocketsphinx --enable-librsvg --enable-libmfx --enable-libdc1394 --enable-libdrm --enable-libiec61883 --enable-nvenc --enable-chromaprint --enable-frei0r --enable-libx264 --enable-shared\n",
      "  libavutil      56. 70.100 / 56. 70.100\n",
      "  libavcodec     58.134.100 / 58.134.100\n",
      "  libavformat    58. 76.100 / 58. 76.100\n",
      "  libavdevice    58. 13.100 / 58. 13.100\n",
      "  libavfilter     7.110.100 /  7.110.100\n",
      "  libswscale      5.  9.100 /  5.  9.100\n",
      "  libswresample   3.  9.100 /  3.  9.100\n",
      "  libpostproc    55.  9.100 / 55.  9.100\n",
      "Input #0, yuv4mpegpipe, from 'akiyo_cif.y4m':\n",
      "  Duration: 00:00:10.01, start: 0.000000, bitrate: 36460 kb/s\n",
      "  Stream #0:0: Video: rawvideo (I420 / 0x30323449), yuv420p(progressive), 352x288, SAR 128:117 DAR 1408:1053, 29.97 fps, 29.97 tbr, 29.97 tbn, 29.97 tbc\n",
      "Stream mapping:\n",
      "  Stream #0:0 -> #0:0 (rawvideo (native) -> png (native))\n",
      "Press [q] to stop, [?] for help\n",
      "Output #0, image2, to '/tmp/original_%03d.png':\n",
      "  Metadata:\n",
      "    encoder         : Lavf58.76.100\n",
      "  Stream #0:0: Video: png, rgb24(pc, progressive), 352x288 [SAR 128:117 DAR 1408:1053], q=2-31, 200 kb/s, 29.97 fps, 29.97 tbn\n",
      "    Metadata:\n",
      "      encoder         : Lavc58.134.100 png\n",
      "frame=  300 fps= 42 q=-0.0 Lsize=N/A time=00:00:10.01 bitrate=N/A speed= 1.4x    \n",
      "video:52297kB audio:0kB subtitle:0kB other streams:0kB global headers:0kB muxing overhead: unknown\n"
     ]
    }
   ],
   "source": [
    "!rm /tmp/*.png\n",
    "!../sequences/$sequence/runme.sh"
   ]
  },
  {
   "cell_type": "code",
   "execution_count": 53,
   "metadata": {
    "scrolled": true
   },
   "outputs": [
    {
     "name": "stdout",
     "output_type": "stream",
     "text": [
      "[image_IPP.py:158 compute_br()] cat /tmp/original_motion_y_diff_comp_???.png | gzip -9 > /tmp/image_IPP_motion_y.gz\n",
      "[image_IPP.py:197 compute_br()] cat /tmp/original_motion_x_diff_comp_???.png | gzip -9 > /tmp/image_IPP_motion_y.gz\n",
      "[image_IPP.py:158 compute_br()] cat /tmp/original_motion_y_diff_comp_???.png | gzip -9 > /tmp/image_IPP_motion_y.gz\n",
      "[image_IPP.py:197 compute_br()] cat /tmp/original_motion_x_diff_comp_???.png | gzip -9 > /tmp/image_IPP_motion_y.gz\n",
      "[image_IPP.py:158 compute_br()] cat /tmp/original_motion_y_diff_comp_???.png | gzip -9 > /tmp/image_IPP_motion_y.gz\n",
      "[image_IPP.py:197 compute_br()] cat /tmp/original_motion_x_diff_comp_???.png | gzip -9 > /tmp/image_IPP_motion_y.gz\n",
      "[image_IPP.py:158 compute_br()] cat /tmp/original_motion_y_diff_comp_???.png | gzip -9 > /tmp/image_IPP_motion_y.gz\n",
      "[image_IPP.py:197 compute_br()] cat /tmp/original_motion_x_diff_comp_???.png | gzip -9 > /tmp/image_IPP_motion_y.gz\n",
      "[image_IPP.py:158 compute_br()] cat /tmp/original_motion_y_diff_comp_???.png | gzip -9 > /tmp/image_IPP_motion_y.gz\n",
      "[image_IPP.py:197 compute_br()] cat /tmp/original_motion_x_diff_comp_???.png | gzip -9 > /tmp/image_IPP_motion_y.gz\n",
      "[image_IPP.py:158 compute_br()] cat /tmp/original_motion_y_diff_comp_???.png | gzip -9 > /tmp/image_IPP_motion_y.gz\n",
      "[image_IPP.py:197 compute_br()] cat /tmp/original_motion_x_diff_comp_???.png | gzip -9 > /tmp/image_IPP_motion_y.gz\n",
      "[image_IPP.py:158 compute_br()] cat /tmp/original_motion_y_diff_comp_???.png | gzip -9 > /tmp/image_IPP_motion_y.gz\n",
      "[image_IPP.py:197 compute_br()] cat /tmp/original_motion_x_diff_comp_???.png | gzip -9 > /tmp/image_IPP_motion_y.gz\n",
      "     1\tQ_step: 21 BPP: 0.05425084175084175 KBPS: 494.976 Average AMSE: 42.22226036405724\n",
      "     2\tQ_step: 24 BPP: 0.05432449494949495 KBPS: 495.648 Average AMSE: 42.56665154145623\n",
      "     3\tQ_step: 27 BPP: 0.054313973063973064 KBPS: 495.552 Average AMSE: 42.74200205176768\n",
      "     4\tQ_step: 30 BPP: 0.05425610269360269 KBPS: 495.024 Average AMSE: 42.77778501157407\n",
      "     5\tQ_step: 33 BPP: 0.054282407407407404 KBPS: 495.264 Average AMSE: 42.80607901936027\n",
      "     6\tQ_step: 36 BPP: 0.05425610269360269 KBPS: 495.024 Average AMSE: 42.843977535774414\n",
      "     7\tQ_step: 39 BPP: 0.05425610269360269 KBPS: 495.024 Average AMSE: 42.880486505681816\n"
     ]
    }
   ],
   "source": [
    "# You can see in real-time the output by running \"tail -f /tmp/output\"\n",
    "!python RD_curve.py --first_frame=0 --N_frames=$N_frames 1> >(tee /tmp/output_image_IPP >&1) | grep BPP | grep Average | cat -n"
   ]
  },
  {
   "cell_type": "code",
   "execution_count": 54,
   "metadata": {},
   "outputs": [],
   "source": [
    "!grep BPP /tmp/output_image_IPP | grep Average | cut -d ' ' -f 4,9 | tr ' ' '\\t'  > /tmp/image_IPP.txt"
   ]
  },
  {
   "cell_type": "code",
   "execution_count": 55,
   "metadata": {},
   "outputs": [
    {
     "name": "stdout",
     "output_type": "stream",
     "text": [
      "0.05425084175084175\t42.22226036405724\r\n",
      "0.05432449494949495\t42.56665154145623\r\n",
      "0.054313973063973064\t42.74200205176768\r\n",
      "0.05425610269360269\t42.77778501157407\r\n",
      "0.054282407407407404\t42.80607901936027\r\n",
      "0.05425610269360269\t42.843977535774414\r\n",
      "0.05425610269360269\t42.880486505681816\r\n"
     ]
    }
   ],
   "source": [
    "!cat /tmp/image_IPP.txt"
   ]
  },
  {
   "cell_type": "code",
   "execution_count": 56,
   "metadata": {},
   "outputs": [],
   "source": [
    "RD_image_IPP = []\n",
    "with open(\"/tmp/image_IPP.txt\", 'r') as f:\n",
    "    for line in f:\n",
    "        rate, _distortion = line.split('\\t')\n",
    "        RD_image_IPP.append((float(rate), float(_distortion)))"
   ]
  },
  {
   "cell_type": "markdown",
   "metadata": {},
   "source": [
    "## Testing `image_IPP_adaptive.py`"
   ]
  },
  {
   "cell_type": "markdown",
   "metadata": {},
   "source": [
    "### Select `image_IPP_adaptive` in `RD_curve.py`"
   ]
  },
  {
   "cell_type": "code",
   "execution_count": 57,
   "metadata": {},
   "outputs": [],
   "source": [
    "!sed -z -i 's/\\nimport image_IPP as codec\\n/\\n#import image_IPP as codec\\n/g' RD_curve.py\n",
    "!sed -z -i 's/\\n#import image_IPP_adaptive as codec\\n/\\nimport image_IPP_adaptive as codec\\n/g' RD_curve.py\n",
    "!sed -z -i 's/\\nimport MP4 as codec\\n/\\n#import MP4 as codec\\n/g' RD_curve.py\n",
    "!sed -z -i 's/\\nimport IPP_compressor as codec\\n/\\n#import IPP_compressor as codec\\n/g' RD_curve.py\n",
    "!sed -z -i 's/\\nimage_IPP_quantized_prediction as codec\\n/\\n#import image_IPP_quantized_prediction as codec\\n/g' RD_curve.py\n",
    "!sed -z -i 's/\\nimport image_IPP_quantized_residue as codec\\n/\\n#import image_IPP_quantized_residue as codec\\n/g' RD_curve.py"
   ]
  },
  {
   "cell_type": "code",
   "execution_count": 58,
   "metadata": {},
   "outputs": [
    {
     "name": "stdout",
     "output_type": "stream",
     "text": [
      "     5\t#import debug\r\n",
      "     6\timport config\r\n",
      "     7\timport distortion\r\n",
      "     8\timport image_3 as frame\r\n",
      "    11\t#import image_interpolated_IPP as codec\r\n",
      "    12\t#import image_IPP as codec\r\n",
      "    13\timport image_IPP_adaptive as codec\r\n",
      "    14\t#import image_IPP_quantized_prediction as codec\r\n",
      "    15\t#import image_IPP_quantized_residue as codec\r\n",
      "    16\t#import MP4 as codec\r\n",
      "    17\t#import IPP_compressor as codec\r\n",
      "    19\timport logging\r\n",
      "    28\timport argparse\r\n"
     ]
    }
   ],
   "source": [
    "!cat -n RD_curve.py | grep \"import\" "
   ]
  },
  {
   "cell_type": "code",
   "execution_count": 59,
   "metadata": {},
   "outputs": [],
   "source": [
    "!sed -z -i 's/\\ntransform = \"DWT\"\\n/\\n#transform = \"DWT\"\\n/g' config.py\n",
    "!sed -z -i 's/\\ntransform = \"LP\"\\n/\\n#transform = \"LP\"\\n/g' config.py\n",
    "!sed -z -i 's/\\n#transform = None\\n/\\ntransform = None\\n/g' config.py"
   ]
  },
  {
   "cell_type": "code",
   "execution_count": 60,
   "metadata": {},
   "outputs": [
    {
     "name": "stdout",
     "output_type": "stream",
     "text": [
      "     3\t#multiresolution_transform = \"DWT\"\r\n",
      "     4\t#multiresolution_transform = \"LP\"\r\n",
      "     5\tmultiresolution_transform = None\r\n"
     ]
    }
   ],
   "source": [
    "!cat -n config.py | grep \"transform\" "
   ]
  },
  {
   "cell_type": "code",
   "execution_count": 61,
   "metadata": {},
   "outputs": [],
   "source": [
    "!sed -z -i 's/\\ncolor = \"YCoCg\\n/\\n#color = \"YCoCg\\n/g' config.py\n",
    "!sed -z -i 's/\\ncolor = \"YCoCg\\n/\\n#color = \"YCoCg\\n/g' config.py\n",
    "!sed -z -i 's/\\n#color = \"YCoCg\\n/\\ncolor = \"YCoCg\\n/g' config.py"
   ]
  },
  {
   "cell_type": "code",
   "execution_count": 62,
   "metadata": {},
   "outputs": [
    {
     "name": "stdout",
     "output_type": "stream",
     "text": [
      "    10\tcolor = \"YCoCg\"\r\n",
      "    11\t#color = \"YCrCb\"\r\n",
      "    12\t#color = \"RGB\"\r\n"
     ]
    }
   ],
   "source": [
    "!cat -n config.py | grep \"color\" "
   ]
  },
  {
   "cell_type": "code",
   "execution_count": 63,
   "metadata": {},
   "outputs": [
    {
     "name": "stdout",
     "output_type": "stream",
     "text": [
      "akiyo_cif.y4m exists.\n",
      "ffmpeg version 4.4-6ubuntu5 Copyright (c) 2000-2021 the FFmpeg developers\n",
      "  built with gcc 11 (Ubuntu 11.2.0-7ubuntu1)\n",
      "  configuration: --prefix=/usr --extra-version=6ubuntu5 --toolchain=hardened --libdir=/usr/lib/x86_64-linux-gnu --incdir=/usr/include/x86_64-linux-gnu --arch=amd64 --enable-gpl --disable-stripping --enable-gnutls --enable-ladspa --enable-libaom --enable-libass --enable-libbluray --enable-libbs2b --enable-libcaca --enable-libcdio --enable-libcodec2 --enable-libdav1d --enable-libflite --enable-libfontconfig --enable-libfreetype --enable-libfribidi --enable-libgme --enable-libgsm --enable-libjack --enable-libmp3lame --enable-libmysofa --enable-libopenjpeg --enable-libopenmpt --enable-libopus --enable-libpulse --enable-librabbitmq --enable-librubberband --enable-libshine --enable-libsnappy --enable-libsoxr --enable-libspeex --enable-libsrt --enable-libssh --enable-libtheora --enable-libtwolame --enable-libvidstab --enable-libvorbis --enable-libvpx --enable-libwebp --enable-libx265 --enable-libxml2 --enable-libxvid --enable-libzimg --enable-libzmq --enable-libzvbi --enable-lv2 --enable-omx --enable-openal --enable-opencl --enable-opengl --enable-sdl2 --enable-pocketsphinx --enable-librsvg --enable-libmfx --enable-libdc1394 --enable-libdrm --enable-libiec61883 --enable-nvenc --enable-chromaprint --enable-frei0r --enable-libx264 --enable-shared\n",
      "  libavutil      56. 70.100 / 56. 70.100\n",
      "  libavcodec     58.134.100 / 58.134.100\n",
      "  libavformat    58. 76.100 / 58. 76.100\n",
      "  libavdevice    58. 13.100 / 58. 13.100\n",
      "  libavfilter     7.110.100 /  7.110.100\n",
      "  libswscale      5.  9.100 /  5.  9.100\n",
      "  libswresample   3.  9.100 /  3.  9.100\n",
      "  libpostproc    55.  9.100 / 55.  9.100\n",
      "Input #0, yuv4mpegpipe, from 'akiyo_cif.y4m':\n",
      "  Duration: 00:00:10.01, start: 0.000000, bitrate: 36460 kb/s\n",
      "  Stream #0:0: Video: rawvideo (I420 / 0x30323449), yuv420p(progressive), 352x288, SAR 128:117 DAR 1408:1053, 29.97 fps, 29.97 tbr, 29.97 tbn, 29.97 tbc\n",
      "Stream mapping:\n",
      "  Stream #0:0 -> #0:0 (rawvideo (native) -> png (native))\n",
      "Press [q] to stop, [?] for help\n",
      "Output #0, image2, to '/tmp/original_%03d.png':\n",
      "  Metadata:\n",
      "    encoder         : Lavf58.76.100\n",
      "  Stream #0:0: Video: png, rgb24(pc, progressive), 352x288 [SAR 128:117 DAR 1408:1053], q=2-31, 200 kb/s, 29.97 fps, 29.97 tbn\n",
      "    Metadata:\n",
      "      encoder         : Lavc58.134.100 png\n",
      "frame=  300 fps= 47 q=-0.0 Lsize=N/A time=00:00:10.01 bitrate=N/A speed=1.55x    \n",
      "video:52297kB audio:0kB subtitle:0kB other streams:0kB global headers:0kB muxing overhead: unknown\n"
     ]
    }
   ],
   "source": [
    "!rm /tmp/*.png\n",
    "!../sequences/$sequence/runme.sh"
   ]
  },
  {
   "cell_type": "code",
   "execution_count": 64,
   "metadata": {
    "scrolled": false
   },
   "outputs": [
    {
     "name": "stdout",
     "output_type": "stream",
     "text": [
      "[image_IPP.py:74 encode()] W_k 32 -50\n",
      "[image_IPP.py:76 encode()] COMPUTED flow 0.30398550629615784 -0.3060075640678406\n",
      "[image_IPP.py:79 encode()] USED flow 0 0\n",
      "[image_IPP.py:74 encode()] W_k 32 -51\n",
      "[image_IPP.py:76 encode()] COMPUTED flow 0.2751511037349701 -0.4026305377483368\n",
      "[image_IPP.py:79 encode()] USED flow 0 0\n",
      "[image_IPP.py:74 encode()] W_k 32 -50\n",
      "[image_IPP.py:76 encode()] COMPUTED flow 0.2449876368045807 -0.2870011329650879\n",
      "[image_IPP.py:79 encode()] USED flow 0 0\n",
      "[image_IPP.py:74 encode()] W_k 32 -50\n",
      "[image_IPP.py:76 encode()] COMPUTED flow 0.388182133436203 -0.8962959051132202\n",
      "[image_IPP.py:79 encode()] USED flow 0 0\n",
      "[image_IPP.py:158 compute_br()] cat /tmp/original_motion_y_diff_comp_???.png | gzip -9 > /tmp/image_IPP_motion_y.gz\n",
      "[image_IPP.py:197 compute_br()] cat /tmp/original_motion_x_diff_comp_???.png | gzip -9 > /tmp/image_IPP_motion_y.gz\n",
      "[image_IPP.py:74 encode()] W_k 32 -50\n",
      "[image_IPP.py:76 encode()] COMPUTED flow 0.30398550629615784 -0.3060075640678406\n",
      "[image_IPP.py:79 encode()] USED flow 0 0\n",
      "[image_IPP.py:74 encode()] W_k 32 -51\n",
      "[image_IPP.py:76 encode()] COMPUTED flow 0.2751511037349701 -0.4026305377483368\n",
      "[image_IPP.py:79 encode()] USED flow 0 0\n",
      "[image_IPP.py:74 encode()] W_k 32 -50\n",
      "[image_IPP.py:76 encode()] COMPUTED flow 0.2449876368045807 -0.2870011329650879\n",
      "[image_IPP.py:79 encode()] USED flow 0 0\n",
      "[image_IPP.py:74 encode()] W_k 32 -50\n",
      "[image_IPP.py:76 encode()] COMPUTED flow 0.388182133436203 -0.8962959051132202\n",
      "[image_IPP.py:79 encode()] USED flow 0 0\n",
      "[image_IPP.py:158 compute_br()] cat /tmp/original_motion_y_diff_comp_???.png | gzip -9 > /tmp/image_IPP_motion_y.gz\n",
      "[image_IPP.py:197 compute_br()] cat /tmp/original_motion_x_diff_comp_???.png | gzip -9 > /tmp/image_IPP_motion_y.gz\n",
      "[image_IPP.py:74 encode()] W_k 32 -50\n",
      "[image_IPP.py:76 encode()] COMPUTED flow 0.30398550629615784 -0.3060075640678406\n",
      "[image_IPP.py:79 encode()] USED flow 0 0\n",
      "[image_IPP.py:74 encode()] W_k 32 -51\n",
      "[image_IPP.py:76 encode()] COMPUTED flow 0.2751511037349701 -0.4026305377483368\n",
      "[image_IPP.py:79 encode()] USED flow 0 0\n",
      "[image_IPP.py:74 encode()] W_k 32 -50\n",
      "[image_IPP.py:76 encode()] COMPUTED flow 0.2449876368045807 -0.2870011329650879\n",
      "[image_IPP.py:79 encode()] USED flow 0 0\n",
      "[image_IPP.py:74 encode()] W_k 32 -50\n",
      "[image_IPP.py:76 encode()] COMPUTED flow 0.388182133436203 -0.8962959051132202\n",
      "[image_IPP.py:79 encode()] USED flow 0 0\n",
      "[image_IPP.py:158 compute_br()] cat /tmp/original_motion_y_diff_comp_???.png | gzip -9 > /tmp/image_IPP_motion_y.gz\n",
      "[image_IPP.py:197 compute_br()] cat /tmp/original_motion_x_diff_comp_???.png | gzip -9 > /tmp/image_IPP_motion_y.gz\n",
      "[image_IPP.py:74 encode()] W_k 32 -50\n",
      "[image_IPP.py:76 encode()] COMPUTED flow 0.30398550629615784 -0.3060075640678406\n",
      "[image_IPP.py:79 encode()] USED flow 0 0\n",
      "[image_IPP.py:74 encode()] W_k 32 -51\n",
      "[image_IPP.py:76 encode()] COMPUTED flow 0.2751511037349701 -0.4026305377483368\n",
      "[image_IPP.py:79 encode()] USED flow 0 0\n",
      "[image_IPP.py:74 encode()] W_k 32 -50\n",
      "[image_IPP.py:76 encode()] COMPUTED flow 0.2449876368045807 -0.2870011329650879\n",
      "[image_IPP.py:79 encode()] USED flow 0 0\n",
      "[image_IPP.py:74 encode()] W_k 32 -50\n",
      "[image_IPP.py:76 encode()] COMPUTED flow 0.388182133436203 -0.8962959051132202\n",
      "[image_IPP.py:79 encode()] USED flow 0 0\n",
      "[image_IPP.py:158 compute_br()] cat /tmp/original_motion_y_diff_comp_???.png | gzip -9 > /tmp/image_IPP_motion_y.gz\n",
      "[image_IPP.py:197 compute_br()] cat /tmp/original_motion_x_diff_comp_???.png | gzip -9 > /tmp/image_IPP_motion_y.gz\n",
      "[image_IPP.py:74 encode()] W_k 32 -50\n",
      "[image_IPP.py:76 encode()] COMPUTED flow 0.30398550629615784 -0.3060075640678406\n",
      "[image_IPP.py:79 encode()] USED flow 0 0\n",
      "[image_IPP.py:74 encode()] W_k 32 -51\n",
      "[image_IPP.py:76 encode()] COMPUTED flow 0.2751511037349701 -0.4026305377483368\n",
      "[image_IPP.py:79 encode()] USED flow 0 0\n",
      "[image_IPP.py:74 encode()] W_k 32 -50\n",
      "[image_IPP.py:76 encode()] COMPUTED flow 0.2449876368045807 -0.2870011329650879\n",
      "[image_IPP.py:79 encode()] USED flow 0 0\n",
      "[image_IPP.py:74 encode()] W_k 32 -50\n",
      "[image_IPP.py:76 encode()] COMPUTED flow 0.388182133436203 -0.8962959051132202\n",
      "[image_IPP.py:79 encode()] USED flow 0 0\n",
      "[image_IPP.py:158 compute_br()] cat /tmp/original_motion_y_diff_comp_???.png | gzip -9 > /tmp/image_IPP_motion_y.gz\n",
      "[image_IPP.py:197 compute_br()] cat /tmp/original_motion_x_diff_comp_???.png | gzip -9 > /tmp/image_IPP_motion_y.gz\n",
      "[image_IPP.py:74 encode()] W_k 32 -50\n",
      "[image_IPP.py:76 encode()] COMPUTED flow 0.30398550629615784 -0.3060075640678406\n",
      "[image_IPP.py:79 encode()] USED flow 0 0\n",
      "[image_IPP.py:74 encode()] W_k 32 -51\n",
      "[image_IPP.py:76 encode()] COMPUTED flow 0.2751511037349701 -0.4026305377483368\n",
      "[image_IPP.py:79 encode()] USED flow 0 0\n",
      "[image_IPP.py:74 encode()] W_k 32 -50\n",
      "[image_IPP.py:76 encode()] COMPUTED flow 0.2449876368045807 -0.2870011329650879\n",
      "[image_IPP.py:79 encode()] USED flow 0 0\n",
      "[image_IPP.py:74 encode()] W_k 32 -50\n",
      "[image_IPP.py:76 encode()] COMPUTED flow 0.388182133436203 -0.8962959051132202\n",
      "[image_IPP.py:79 encode()] USED flow 0 0\n",
      "[image_IPP.py:158 compute_br()] cat /tmp/original_motion_y_diff_comp_???.png | gzip -9 > /tmp/image_IPP_motion_y.gz\n",
      "[image_IPP.py:197 compute_br()] cat /tmp/original_motion_x_diff_comp_???.png | gzip -9 > /tmp/image_IPP_motion_y.gz\n",
      "[image_IPP.py:74 encode()] W_k 32 -50\n",
      "[image_IPP.py:76 encode()] COMPUTED flow 0.30398550629615784 -0.3060075640678406\n",
      "[image_IPP.py:79 encode()] USED flow 0 0\n",
      "[image_IPP.py:74 encode()] W_k 32 -51\n",
      "[image_IPP.py:76 encode()] COMPUTED flow 0.2751511037349701 -0.4026305377483368\n",
      "[image_IPP.py:79 encode()] USED flow 0 0\n",
      "[image_IPP.py:74 encode()] W_k 32 -50\n",
      "[image_IPP.py:76 encode()] COMPUTED flow 0.2449876368045807 -0.2870011329650879\n",
      "[image_IPP.py:79 encode()] USED flow 0 0\n",
      "[image_IPP.py:74 encode()] W_k 32 -50\n",
      "[image_IPP.py:76 encode()] COMPUTED flow 0.388182133436203 -0.8962959051132202\n",
      "[image_IPP.py:79 encode()] USED flow 0 0\n",
      "[image_IPP.py:158 compute_br()] cat /tmp/original_motion_y_diff_comp_???.png | gzip -9 > /tmp/image_IPP_motion_y.gz\n",
      "[image_IPP.py:197 compute_br()] cat /tmp/original_motion_x_diff_comp_???.png | gzip -9 > /tmp/image_IPP_motion_y.gz\n",
      "     1\tQ_step: 21 BPP: 0.05742319023569023 KBPS: 523.92 Average AMSE: 31.189213094486536\n",
      "     2\tQ_step: 24 BPP: 0.05209385521885522 KBPS: 475.296 Average AMSE: 35.426301425715494\n",
      "     3\tQ_step: 27 BPP: 0.04781670875420876 KBPS: 436.27200000000005 Average AMSE: 41.79038628472222\n",
      "     4\tQ_step: 30 BPP: 0.04396043771043771 KBPS: 401.088 Average AMSE: 49.35568970959596\n",
      "     5\tQ_step: 33 BPP: 0.04116161616161616 KBPS: 375.55199999999996 Average AMSE: 55.042709648569016\n",
      "     6\tQ_step: 36 BPP: 0.03781039562289563 KBPS: 344.976 Average AMSE: 61.86492134890572\n",
      "     7\tQ_step: 39 BPP: 0.03541140572390573 KBPS: 323.08799999999997 Average AMSE: 70.53083701599326\n"
     ]
    }
   ],
   "source": [
    "# You can see in real-time the output by running \"tail -f /tmp/output\"\n",
    "!python RD_curve.py --first_frame=0 --N_frames=$N_frames 1> >(tee /tmp/output_image_IPP_adaptive >&1) | grep BPP | grep Average | cat -n"
   ]
  },
  {
   "cell_type": "code",
   "execution_count": 65,
   "metadata": {},
   "outputs": [],
   "source": [
    "!grep BPP /tmp/output_image_IPP_adaptive | grep Average | cut -d ' ' -f 4,9 | tr ' ' '\\t'  > /tmp/image_IPP_adaptive.txt"
   ]
  },
  {
   "cell_type": "code",
   "execution_count": 66,
   "metadata": {},
   "outputs": [
    {
     "name": "stdout",
     "output_type": "stream",
     "text": [
      "0.05742319023569023\t31.189213094486536\r\n",
      "0.05209385521885522\t35.426301425715494\r\n",
      "0.04781670875420876\t41.79038628472222\r\n",
      "0.04396043771043771\t49.35568970959596\r\n",
      "0.04116161616161616\t55.042709648569016\r\n",
      "0.03781039562289563\t61.86492134890572\r\n",
      "0.03541140572390573\t70.53083701599326\r\n"
     ]
    }
   ],
   "source": [
    "!cat /tmp/image_IPP_adaptive.txt"
   ]
  },
  {
   "cell_type": "code",
   "execution_count": 67,
   "metadata": {},
   "outputs": [],
   "source": [
    "RD_image_IPP_adaptive = []\n",
    "with open(\"/tmp/image_IPP_adaptive.txt\", 'r') as f:\n",
    "    for line in f:\n",
    "        rate, _distortion = line.split('\\t')\n",
    "        RD_image_IPP_adaptive.append((float(rate), float(_distortion)))"
   ]
  },
  {
   "cell_type": "markdown",
   "metadata": {},
   "source": [
    "## Testing MP4"
   ]
  },
  {
   "cell_type": "markdown",
   "metadata": {},
   "source": [
    "### Select `MP4` in `RD_curve.py`"
   ]
  },
  {
   "cell_type": "code",
   "execution_count": 68,
   "metadata": {},
   "outputs": [],
   "source": [
    "!sed -z -i 's/\\nimport image_IPP as codec/\\n#import image_IPP as codec/g' RD_curve.py\n",
    "!sed -z -i 's/\\nimport image_IPP_adaptive as codec\\n/\\n#import image_IPP_adaptive as codec\\n/g' RD_curve.py\n",
    "!sed -z -i 's/\\n#import MP4 as codec\\n/\\nimport MP4 as codec\\n/g' RD_curve.py\n",
    "!sed -z -i 's/\\nimport IPP_compressor as codec\\n/\\n#import IPP_compressor as codec\\n/g' RD_curve.py\n",
    "!sed -z -i 's/\\nimage_IPP_quantized_prediction as codec\\n/\\n#import image_IPP_quantized_prediction as codec\\n/g' RD_curve.py\n",
    "!sed -z -i 's/\\nimport image_IPP_quantized_residue as codec\\n/\\n#import image_IPP_quantized_residue as codec\\n/g' RD_curve.py"
   ]
  },
  {
   "cell_type": "code",
   "execution_count": 69,
   "metadata": {
    "scrolled": true
   },
   "outputs": [
    {
     "name": "stdout",
     "output_type": "stream",
     "text": [
      "#import debug\r\n",
      "import config\r\n",
      "import distortion\r\n",
      "import image_3 as frame\r\n",
      "#import image_interpolated_IPP as codec\r\n",
      "#import image_IPP as codec\r\n",
      "#import image_IPP_adaptive as codec\r\n",
      "#import image_IPP_quantized_prediction as codec\r\n",
      "#import image_IPP_quantized_residue as codec\r\n",
      "import MP4 as codec\r\n",
      "#import IPP_compressor as codec\r\n",
      "import logging\r\n",
      "import argparse\r\n"
     ]
    }
   ],
   "source": [
    "!grep import RD_curve.py"
   ]
  },
  {
   "cell_type": "code",
   "execution_count": 70,
   "metadata": {},
   "outputs": [],
   "source": [
    "!sed -z -i 's/\\ntransform = \"DWT\"\\n/\\n#transform = \"DWT\"\\n/g' config.py\n",
    "!sed -z -i 's/\\ntransform = \"LP\"\\n/\\n#transform = \"LP\"\\n/g' config.py\n",
    "!sed -z -i 's/\\n#transform = None\\n/\\ntransform = None\\n/g' config.py"
   ]
  },
  {
   "cell_type": "code",
   "execution_count": 71,
   "metadata": {},
   "outputs": [
    {
     "name": "stdout",
     "output_type": "stream",
     "text": [
      "     3\t#multiresolution_transform = \"DWT\"\r\n",
      "     4\t#multiresolution_transform = \"LP\"\r\n",
      "     5\tmultiresolution_transform = None\r\n"
     ]
    }
   ],
   "source": [
    "!cat -n config.py | grep \"transform\" "
   ]
  },
  {
   "cell_type": "code",
   "execution_count": 72,
   "metadata": {},
   "outputs": [],
   "source": [
    "!sed -z -i 's/\\ncolor = \"YCoCg\\n/\\n#color = \"YCoCg\\n/g' config.py\n",
    "!sed -z -i 's/\\ncolor = \"YCoCg\\n/\\n#color = \"YCoCg\\n/g' config.py\n",
    "!sed -z -i 's/\\n#color = \"YCoCg\\n/\\ncolor = \"YCoCg\\n/g' config.py"
   ]
  },
  {
   "cell_type": "code",
   "execution_count": 73,
   "metadata": {},
   "outputs": [
    {
     "name": "stdout",
     "output_type": "stream",
     "text": [
      "    10\tcolor = \"YCoCg\"\r\n",
      "    11\t#color = \"YCrCb\"\r\n",
      "    12\t#color = \"RGB\"\r\n"
     ]
    }
   ],
   "source": [
    "!cat -n config.py | grep \"color\" "
   ]
  },
  {
   "cell_type": "code",
   "execution_count": 74,
   "metadata": {},
   "outputs": [
    {
     "name": "stdout",
     "output_type": "stream",
     "text": [
      "akiyo_cif.y4m exists.\n",
      "ffmpeg version 4.4-6ubuntu5 Copyright (c) 2000-2021 the FFmpeg developers\n",
      "  built with gcc 11 (Ubuntu 11.2.0-7ubuntu1)\n",
      "  configuration: --prefix=/usr --extra-version=6ubuntu5 --toolchain=hardened --libdir=/usr/lib/x86_64-linux-gnu --incdir=/usr/include/x86_64-linux-gnu --arch=amd64 --enable-gpl --disable-stripping --enable-gnutls --enable-ladspa --enable-libaom --enable-libass --enable-libbluray --enable-libbs2b --enable-libcaca --enable-libcdio --enable-libcodec2 --enable-libdav1d --enable-libflite --enable-libfontconfig --enable-libfreetype --enable-libfribidi --enable-libgme --enable-libgsm --enable-libjack --enable-libmp3lame --enable-libmysofa --enable-libopenjpeg --enable-libopenmpt --enable-libopus --enable-libpulse --enable-librabbitmq --enable-librubberband --enable-libshine --enable-libsnappy --enable-libsoxr --enable-libspeex --enable-libsrt --enable-libssh --enable-libtheora --enable-libtwolame --enable-libvidstab --enable-libvorbis --enable-libvpx --enable-libwebp --enable-libx265 --enable-libxml2 --enable-libxvid --enable-libzimg --enable-libzmq --enable-libzvbi --enable-lv2 --enable-omx --enable-openal --enable-opencl --enable-opengl --enable-sdl2 --enable-pocketsphinx --enable-librsvg --enable-libmfx --enable-libdc1394 --enable-libdrm --enable-libiec61883 --enable-nvenc --enable-chromaprint --enable-frei0r --enable-libx264 --enable-shared\n",
      "  libavutil      56. 70.100 / 56. 70.100\n",
      "  libavcodec     58.134.100 / 58.134.100\n",
      "  libavformat    58. 76.100 / 58. 76.100\n",
      "  libavdevice    58. 13.100 / 58. 13.100\n",
      "  libavfilter     7.110.100 /  7.110.100\n",
      "  libswscale      5.  9.100 /  5.  9.100\n",
      "  libswresample   3.  9.100 /  3.  9.100\n",
      "  libpostproc    55.  9.100 / 55.  9.100\n",
      "Input #0, yuv4mpegpipe, from 'akiyo_cif.y4m':\n",
      "  Duration: 00:00:10.01, start: 0.000000, bitrate: 36460 kb/s\n",
      "  Stream #0:0: Video: rawvideo (I420 / 0x30323449), yuv420p(progressive), 352x288, SAR 128:117 DAR 1408:1053, 29.97 fps, 29.97 tbr, 29.97 tbn, 29.97 tbc\n",
      "Stream mapping:\n",
      "  Stream #0:0 -> #0:0 (rawvideo (native) -> png (native))\n",
      "Press [q] to stop, [?] for help\n",
      "Output #0, image2, to '/tmp/original_%03d.png':\n",
      "  Metadata:\n",
      "    encoder         : Lavf58.76.100\n",
      "  Stream #0:0: Video: png, rgb24(pc, progressive), 352x288 [SAR 128:117 DAR 1408:1053], q=2-31, 200 kb/s, 29.97 fps, 29.97 tbn\n",
      "    Metadata:\n",
      "      encoder         : Lavc58.134.100 png\n",
      "frame=  300 fps= 46 q=-0.0 Lsize=N/A time=00:00:10.01 bitrate=N/A speed=1.54x       \n",
      "video:52297kB audio:0kB subtitle:0kB other streams:0kB global headers:0kB muxing overhead: unknown\n"
     ]
    }
   ],
   "source": [
    "!rm /tmp/*.png\n",
    "!../sequences/$sequence/runme.sh"
   ]
  },
  {
   "cell_type": "code",
   "execution_count": 75,
   "metadata": {},
   "outputs": [
    {
     "name": "stdout",
     "output_type": "stream",
     "text": [
      "ffmpeg version 4.4-6ubuntu5 Copyright (c) 2000-2021 the FFmpeg developers\n",
      "  built with gcc 11 (Ubuntu 11.2.0-7ubuntu1)\n",
      "  configuration: --prefix=/usr --extra-version=6ubuntu5 --toolchain=hardened --libdir=/usr/lib/x86_64-linux-gnu --incdir=/usr/include/x86_64-linux-gnu --arch=amd64 --enable-gpl --disable-stripping --enable-gnutls --enable-ladspa --enable-libaom --enable-libass --enable-libbluray --enable-libbs2b --enable-libcaca --enable-libcdio --enable-libcodec2 --enable-libdav1d --enable-libflite --enable-libfontconfig --enable-libfreetype --enable-libfribidi --enable-libgme --enable-libgsm --enable-libjack --enable-libmp3lame --enable-libmysofa --enable-libopenjpeg --enable-libopenmpt --enable-libopus --enable-libpulse --enable-librabbitmq --enable-librubberband --enable-libshine --enable-libsnappy --enable-libsoxr --enable-libspeex --enable-libsrt --enable-libssh --enable-libtheora --enable-libtwolame --enable-libvidstab --enable-libvorbis --enable-libvpx --enable-libwebp --enable-libx265 --enable-libxml2 --enable-libxvid --enable-libzimg --enable-libzmq --enable-libzvbi --enable-lv2 --enable-omx --enable-openal --enable-opencl --enable-opengl --enable-sdl2 --enable-pocketsphinx --enable-librsvg --enable-libmfx --enable-libdc1394 --enable-libdrm --enable-libiec61883 --enable-nvenc --enable-chromaprint --enable-frei0r --enable-libx264 --enable-shared\n",
      "  libavutil      56. 70.100 / 56. 70.100\n",
      "  libavcodec     58.134.100 / 58.134.100\n",
      "  libavformat    58. 76.100 / 58. 76.100\n",
      "  libavdevice    58. 13.100 / 58. 13.100\n",
      "  libavfilter     7.110.100 /  7.110.100\n",
      "  libswscale      5.  9.100 /  5.  9.100\n",
      "  libswresample   3.  9.100 /  3.  9.100\n",
      "  libpostproc    55.  9.100 / 55.  9.100\n",
      "Input #0, image2, from '/tmp/original_%03d.png':\n",
      "  Duration: 00:00:12.00, start: 0.000000, bitrate: N/A\n",
      "  Stream #0:0: Video: png, rgb24(pc), 352x288 [SAR 128:117 DAR 1408:1053], 25 fps, 25 tbr, 25 tbn, 25 tbc\n",
      "Stream mapping:\n",
      "  Stream #0:0 -> #0:0 (png (native) -> h264 (libx264))\n",
      "Press [q] to stop, [?] for help\n",
      "\u001b[1;36m[libx264 @ 0x56261318dd40] \u001b[0musing SAR=128/117\n",
      "\u001b[1;36m[libx264 @ 0x56261318dd40] \u001b[0musing cpu capabilities: MMX2 SSE2Fast SSSE3 SSE4.2\n",
      "\u001b[1;36m[libx264 @ 0x56261318dd40] \u001b[0mprofile High 4:4:4 Predictive, level 1.3, 4:4:4, 8-bit\n",
      "\u001b[1;36m[libx264 @ 0x56261318dd40] \u001b[0m264 - core 160 r3011 cde9a93 - H.264/MPEG-4 AVC codec - Copyleft 2003-2020 - http://www.videolan.org/x264.html - options: cabac=1 ref=3 deblock=1:0:0 analyse=0x3:0x113 me=hex subme=7 psy=1 psy_rd=1.00:0.00 mixed_ref=1 me_range=16 chroma_me=1 trellis=1 8x8dct=1 cqm=0 deadzone=21,11 fast_pskip=1 chroma_qp_offset=4 threads=1 lookahead_threads=1 sliced_threads=0 nr=0 decimate=1 interlaced=0 bluray_compat=0 constrained_intra=0 bframes=0 weightp=2 keyint=5 keyint_min=1 scenecut=40 intra_refresh=0 rc_lookahead=5 rc=crf mbtree=1 crf=21.0 qcomp=0.60 qpmin=0 qpmax=69 qpstep=4 ip_ratio=1.40 aq=1:1.00\n",
      "Output #0, mp4, to '/tmp/output.mp4':\n",
      "  Metadata:\n",
      "    encoder         : Lavf58.76.100\n",
      "  Stream #0:0: Video: h264 (avc1 / 0x31637661), yuv444p(tv, progressive), 352x288 [SAR 128:117 DAR 1408:1053], q=2-31, 25 fps, 12800 tbn\n",
      "    Metadata:\n",
      "      encoder         : Lavc58.134.100 libx264\n",
      "    Side data:\n",
      "      cpb: bitrate max/min/avg: 0/0/0 buffer size: 0 vbv_delay: N/A\n",
      "frame=    5 fps=0.0 q=26.0 Lsize=      10kB time=00:00:00.16 bitrate= 499.9kbits/s speed=3.25x    \n",
      "video:9kB audio:0kB subtitle:0kB other streams:0kB global headers:0kB muxing overhead: 9.695108%\n",
      "\u001b[1;36m[libx264 @ 0x56261318dd40] \u001b[0mframe I:1     Avg QP:22.35  size:  8088\n",
      "\u001b[1;36m[libx264 @ 0x56261318dd40] \u001b[0mframe P:4     Avg QP:25.31  size:   102\n",
      "\u001b[1;36m[libx264 @ 0x56261318dd40] \u001b[0mmb I  I16..4: 10.9% 55.8% 33.3%\n",
      "\u001b[1;36m[libx264 @ 0x56261318dd40] \u001b[0mmb P  I16..4:  0.0%  0.0%  0.0%  P16..4:  4.4%  1.5%  0.9%  0.0%  0.0%    skip:93.2%\n",
      "\u001b[1;36m[libx264 @ 0x56261318dd40] \u001b[0m8x8 transform intra:55.8% inter:75.0%\n",
      "\u001b[1;36m[libx264 @ 0x56261318dd40] \u001b[0mcoded y,u,v intra: 70.8% 35.8% 30.2% inter: 0.6% 0.0% 0.0%\n",
      "\u001b[1;36m[libx264 @ 0x56261318dd40] \u001b[0mi16 v,h,dc,p: 35% 47%  0% 19%\n",
      "\u001b[1;36m[libx264 @ 0x56261318dd40] \u001b[0mi8 v,h,dc,ddl,ddr,vr,hd,vl,hu: 30% 23% 13%  4%  5%  8%  5%  7%  6%\n",
      "\u001b[1;36m[libx264 @ 0x56261318dd40] \u001b[0mi4 v,h,dc,ddl,ddr,vr,hd,vl,hu: 36% 14% 11%  6%  6%  9%  5%  7%  5%\n",
      "\u001b[1;36m[libx264 @ 0x56261318dd40] \u001b[0mWeighted P-Frames: Y:0.0% UV:0.0%\n",
      "\u001b[1;36m[libx264 @ 0x56261318dd40] \u001b[0mref P L0: 87.0%  9.0%  3.0%  0.9%\n",
      "\u001b[1;36m[libx264 @ 0x56261318dd40] \u001b[0mkb/s:339.80\n",
      "ffmpeg version 4.4-6ubuntu5 Copyright (c) 2000-2021 the FFmpeg developers\n",
      "  built with gcc 11 (Ubuntu 11.2.0-7ubuntu1)\n",
      "  configuration: --prefix=/usr --extra-version=6ubuntu5 --toolchain=hardened --libdir=/usr/lib/x86_64-linux-gnu --incdir=/usr/include/x86_64-linux-gnu --arch=amd64 --enable-gpl --disable-stripping --enable-gnutls --enable-ladspa --enable-libaom --enable-libass --enable-libbluray --enable-libbs2b --enable-libcaca --enable-libcdio --enable-libcodec2 --enable-libdav1d --enable-libflite --enable-libfontconfig --enable-libfreetype --enable-libfribidi --enable-libgme --enable-libgsm --enable-libjack --enable-libmp3lame --enable-libmysofa --enable-libopenjpeg --enable-libopenmpt --enable-libopus --enable-libpulse --enable-librabbitmq --enable-librubberband --enable-libshine --enable-libsnappy --enable-libsoxr --enable-libspeex --enable-libsrt --enable-libssh --enable-libtheora --enable-libtwolame --enable-libvidstab --enable-libvorbis --enable-libvpx --enable-libwebp --enable-libx265 --enable-libxml2 --enable-libxvid --enable-libzimg --enable-libzmq --enable-libzvbi --enable-lv2 --enable-omx --enable-openal --enable-opencl --enable-opengl --enable-sdl2 --enable-pocketsphinx --enable-librsvg --enable-libmfx --enable-libdc1394 --enable-libdrm --enable-libiec61883 --enable-nvenc --enable-chromaprint --enable-frei0r --enable-libx264 --enable-shared\n",
      "  libavutil      56. 70.100 / 56. 70.100\n",
      "  libavcodec     58.134.100 / 58.134.100\n",
      "  libavformat    58. 76.100 / 58. 76.100\n",
      "  libavdevice    58. 13.100 / 58. 13.100\n",
      "  libavfilter     7.110.100 /  7.110.100\n",
      "  libswscale      5.  9.100 /  5.  9.100\n",
      "  libswresample   3.  9.100 /  3.  9.100\n",
      "  libpostproc    55.  9.100 / 55.  9.100\n",
      "Input #0, mov,mp4,m4a,3gp,3g2,mj2, from '/tmp/output.mp4':\n",
      "  Metadata:\n",
      "    major_brand     : isom\n",
      "    minor_version   : 512\n",
      "    compatible_brands: isomiso2avc1mp41\n",
      "    encoder         : Lavf58.76.100\n",
      "  Duration: 00:00:00.20, start: 0.000000, bitrate: 400 kb/s\n",
      "  Stream #0:0(und): Video: h264 (High 4:4:4 Predictive) (avc1 / 0x31637661), yuv444p, 352x288 [SAR 128:117 DAR 1408:1053], 364 kb/s, 25 fps, 25 tbr, 12800 tbn, 50 tbc (default)\n",
      "    Metadata:\n",
      "      handler_name    : VideoHandler\n",
      "      vendor_id       : [0][0][0][0]\n",
      "Stream mapping:\n",
      "  Stream #0:0 -> #0:0 (h264 (native) -> png (native))\n",
      "Press [q] to stop, [?] for help\n",
      "Output #0, image2, to '/tmp/original_reconstructed_%03d.png':\n",
      "  Metadata:\n",
      "    major_brand     : isom\n",
      "    minor_version   : 512\n",
      "    compatible_brands: isomiso2avc1mp41\n",
      "    encoder         : Lavf58.76.100\n",
      "  Stream #0:0(und): Video: png, rgb24(pc, progressive), 352x288 [SAR 128:117 DAR 1408:1053], q=2-31, 200 kb/s, 25 fps, 25 tbn (default)\n",
      "    Metadata:\n",
      "      handler_name    : VideoHandler\n",
      "      vendor_id       : [0][0][0][0]\n",
      "      encoder         : Lavc58.134.100 png\n",
      "frame=    5 fps=0.0 q=-0.0 Lsize=N/A time=00:00:00.20 bitrate=N/A speed=0.983x    \n",
      "video:611kB audio:0kB subtitle:0kB other streams:0kB global headers:0kB muxing overhead: unknown\n",
      "ffmpeg version 4.4-6ubuntu5 Copyright (c) 2000-2021 the FFmpeg developers\n",
      "  built with gcc 11 (Ubuntu 11.2.0-7ubuntu1)\n",
      "  configuration: --prefix=/usr --extra-version=6ubuntu5 --toolchain=hardened --libdir=/usr/lib/x86_64-linux-gnu --incdir=/usr/include/x86_64-linux-gnu --arch=amd64 --enable-gpl --disable-stripping --enable-gnutls --enable-ladspa --enable-libaom --enable-libass --enable-libbluray --enable-libbs2b --enable-libcaca --enable-libcdio --enable-libcodec2 --enable-libdav1d --enable-libflite --enable-libfontconfig --enable-libfreetype --enable-libfribidi --enable-libgme --enable-libgsm --enable-libjack --enable-libmp3lame --enable-libmysofa --enable-libopenjpeg --enable-libopenmpt --enable-libopus --enable-libpulse --enable-librabbitmq --enable-librubberband --enable-libshine --enable-libsnappy --enable-libsoxr --enable-libspeex --enable-libsrt --enable-libssh --enable-libtheora --enable-libtwolame --enable-libvidstab --enable-libvorbis --enable-libvpx --enable-libwebp --enable-libx265 --enable-libxml2 --enable-libxvid --enable-libzimg --enable-libzmq --enable-libzvbi --enable-lv2 --enable-omx --enable-openal --enable-opencl --enable-opengl --enable-sdl2 --enable-pocketsphinx --enable-librsvg --enable-libmfx --enable-libdc1394 --enable-libdrm --enable-libiec61883 --enable-nvenc --enable-chromaprint --enable-frei0r --enable-libx264 --enable-shared\n",
      "  libavutil      56. 70.100 / 56. 70.100\n",
      "  libavcodec     58.134.100 / 58.134.100\n",
      "  libavformat    58. 76.100 / 58. 76.100\n",
      "  libavdevice    58. 13.100 / 58. 13.100\n",
      "  libavfilter     7.110.100 /  7.110.100\n",
      "  libswscale      5.  9.100 /  5.  9.100\n",
      "  libswresample   3.  9.100 /  3.  9.100\n",
      "  libpostproc    55.  9.100 / 55.  9.100\n",
      "Input #0, image2, from '/tmp/original_%03d.png':\n",
      "  Duration: 00:00:12.00, start: 0.000000, bitrate: N/A\n",
      "  Stream #0:0: Video: png, rgb24(pc), 352x288 [SAR 128:117 DAR 1408:1053], 25 fps, 25 tbr, 25 tbn, 25 tbc\n",
      "Stream mapping:\n",
      "  Stream #0:0 -> #0:0 (png (native) -> h264 (libx264))\n",
      "Press [q] to stop, [?] for help\n",
      "\u001b[1;36m[libx264 @ 0x55b63d23bd40] \u001b[0musing SAR=128/117\n",
      "\u001b[1;36m[libx264 @ 0x55b63d23bd40] \u001b[0musing cpu capabilities: MMX2 SSE2Fast SSSE3 SSE4.2\n",
      "\u001b[1;36m[libx264 @ 0x55b63d23bd40] \u001b[0mprofile High 4:4:4 Predictive, level 1.3, 4:4:4, 8-bit\n",
      "\u001b[1;36m[libx264 @ 0x55b63d23bd40] \u001b[0m264 - core 160 r3011 cde9a93 - H.264/MPEG-4 AVC codec - Copyleft 2003-2020 - http://www.videolan.org/x264.html - options: cabac=1 ref=3 deblock=1:0:0 analyse=0x3:0x113 me=hex subme=7 psy=1 psy_rd=1.00:0.00 mixed_ref=1 me_range=16 chroma_me=1 trellis=1 8x8dct=1 cqm=0 deadzone=21,11 fast_pskip=1 chroma_qp_offset=4 threads=1 lookahead_threads=1 sliced_threads=0 nr=0 decimate=1 interlaced=0 bluray_compat=0 constrained_intra=0 bframes=0 weightp=2 keyint=5 keyint_min=1 scenecut=40 intra_refresh=0 rc_lookahead=5 rc=crf mbtree=1 crf=24.0 qcomp=0.60 qpmin=0 qpmax=69 qpstep=4 ip_ratio=1.40 aq=1:1.00\n",
      "Output #0, mp4, to '/tmp/output.mp4':\n",
      "  Metadata:\n",
      "    encoder         : Lavf58.76.100\n",
      "  Stream #0:0: Video: h264 (avc1 / 0x31637661), yuv444p(tv, progressive), 352x288 [SAR 128:117 DAR 1408:1053], q=2-31, 25 fps, 12800 tbn\n",
      "    Metadata:\n",
      "      encoder         : Lavc58.134.100 libx264\n",
      "    Side data:\n",
      "      cpb: bitrate max/min/avg: 0/0/0 buffer size: 0 vbv_delay: N/A\n"
     ]
    },
    {
     "name": "stdout",
     "output_type": "stream",
     "text": [
      "frame=    5 fps=0.0 q=29.0 Lsize=       8kB time=00:00:00.16 bitrate= 384.0kbits/s speed=   2x    \n",
      "video:7kB audio:0kB subtitle:0kB other streams:0kB global headers:0kB muxing overhead: 13.001912%\n",
      "\u001b[1;36m[libx264 @ 0x55b63d23bd40] \u001b[0mframe I:1     Avg QP:25.35  size:  5924\n",
      "\u001b[1;36m[libx264 @ 0x55b63d23bd40] \u001b[0mframe P:4     Avg QP:28.09  size:    63\n",
      "\u001b[1;36m[libx264 @ 0x55b63d23bd40] \u001b[0mmb I  I16..4: 19.2% 51.8% 29.0%\n",
      "\u001b[1;36m[libx264 @ 0x55b63d23bd40] \u001b[0mmb P  I16..4:  0.0%  0.0%  0.0%  P16..4:  2.5%  1.1%  0.4%  0.0%  0.0%    skip:96.0%\n",
      "\u001b[1;36m[libx264 @ 0x55b63d23bd40] \u001b[0m8x8 transform intra:51.8% inter:68.8%\n",
      "\u001b[1;36m[libx264 @ 0x55b63d23bd40] \u001b[0mcoded y,u,v intra: 59.5% 25.0% 20.1% inter: 0.2% 0.0% 0.0%\n",
      "\u001b[1;36m[libx264 @ 0x55b63d23bd40] \u001b[0mi16 v,h,dc,p: 39% 42%  3% 16%\n",
      "\u001b[1;36m[libx264 @ 0x55b63d23bd40] \u001b[0mi8 v,h,dc,ddl,ddr,vr,hd,vl,hu: 28% 24% 14%  4%  6%  7%  5%  7%  5%\n",
      "\u001b[1;36m[libx264 @ 0x55b63d23bd40] \u001b[0mi4 v,h,dc,ddl,ddr,vr,hd,vl,hu: 30% 19% 15%  4%  5%  9%  5%  8%  4%\n",
      "\u001b[1;36m[libx264 @ 0x55b63d23bd40] \u001b[0mWeighted P-Frames: Y:0.0% UV:0.0%\n",
      "\u001b[1;36m[libx264 @ 0x55b63d23bd40] \u001b[0mref P L0: 82.4% 16.0%  1.6%\n",
      "\u001b[1;36m[libx264 @ 0x55b63d23bd40] \u001b[0mkb/s:247.04\n",
      "ffmpeg version 4.4-6ubuntu5 Copyright (c) 2000-2021 the FFmpeg developers\n",
      "  built with gcc 11 (Ubuntu 11.2.0-7ubuntu1)\n",
      "  configuration: --prefix=/usr --extra-version=6ubuntu5 --toolchain=hardened --libdir=/usr/lib/x86_64-linux-gnu --incdir=/usr/include/x86_64-linux-gnu --arch=amd64 --enable-gpl --disable-stripping --enable-gnutls --enable-ladspa --enable-libaom --enable-libass --enable-libbluray --enable-libbs2b --enable-libcaca --enable-libcdio --enable-libcodec2 --enable-libdav1d --enable-libflite --enable-libfontconfig --enable-libfreetype --enable-libfribidi --enable-libgme --enable-libgsm --enable-libjack --enable-libmp3lame --enable-libmysofa --enable-libopenjpeg --enable-libopenmpt --enable-libopus --enable-libpulse --enable-librabbitmq --enable-librubberband --enable-libshine --enable-libsnappy --enable-libsoxr --enable-libspeex --enable-libsrt --enable-libssh --enable-libtheora --enable-libtwolame --enable-libvidstab --enable-libvorbis --enable-libvpx --enable-libwebp --enable-libx265 --enable-libxml2 --enable-libxvid --enable-libzimg --enable-libzmq --enable-libzvbi --enable-lv2 --enable-omx --enable-openal --enable-opencl --enable-opengl --enable-sdl2 --enable-pocketsphinx --enable-librsvg --enable-libmfx --enable-libdc1394 --enable-libdrm --enable-libiec61883 --enable-nvenc --enable-chromaprint --enable-frei0r --enable-libx264 --enable-shared\n",
      "  libavutil      56. 70.100 / 56. 70.100\n",
      "  libavcodec     58.134.100 / 58.134.100\n",
      "  libavformat    58. 76.100 / 58. 76.100\n",
      "  libavdevice    58. 13.100 / 58. 13.100\n",
      "  libavfilter     7.110.100 /  7.110.100\n",
      "  libswscale      5.  9.100 /  5.  9.100\n",
      "  libswresample   3.  9.100 /  3.  9.100\n",
      "  libpostproc    55.  9.100 / 55.  9.100\n",
      "Input #0, mov,mp4,m4a,3gp,3g2,mj2, from '/tmp/output.mp4':\n",
      "  Metadata:\n",
      "    major_brand     : isom\n",
      "    minor_version   : 512\n",
      "    compatible_brands: isomiso2avc1mp41\n",
      "    encoder         : Lavf58.76.100\n",
      "  Duration: 00:00:00.20, start: 0.000000, bitrate: 307 kb/s\n",
      "  Stream #0:0(und): Video: h264 (High 4:4:4 Predictive) (avc1 / 0x31637661), yuv444p, 352x288 [SAR 128:117 DAR 1408:1053], 272 kb/s, 25 fps, 25 tbr, 12800 tbn, 50 tbc (default)\n",
      "    Metadata:\n",
      "      handler_name    : VideoHandler\n",
      "      vendor_id       : [0][0][0][0]\n",
      "Stream mapping:\n",
      "  Stream #0:0 -> #0:0 (h264 (native) -> png (native))\n",
      "Press [q] to stop, [?] for help\n",
      "Output #0, image2, to '/tmp/original_reconstructed_%03d.png':\n",
      "  Metadata:\n",
      "    major_brand     : isom\n",
      "    minor_version   : 512\n",
      "    compatible_brands: isomiso2avc1mp41\n",
      "    encoder         : Lavf58.76.100\n",
      "  Stream #0:0(und): Video: png, rgb24(pc, progressive), 352x288 [SAR 128:117 DAR 1408:1053], q=2-31, 200 kb/s, 25 fps, 25 tbn (default)\n",
      "    Metadata:\n",
      "      handler_name    : VideoHandler\n",
      "      vendor_id       : [0][0][0][0]\n",
      "      encoder         : Lavc58.134.100 png\n",
      "frame=    5 fps=0.0 q=-0.0 Lsize=N/A time=00:00:00.20 bitrate=N/A speed=1.04x    \n",
      "video:577kB audio:0kB subtitle:0kB other streams:0kB global headers:0kB muxing overhead: unknown\n",
      "ffmpeg version 4.4-6ubuntu5 Copyright (c) 2000-2021 the FFmpeg developers\n",
      "  built with gcc 11 (Ubuntu 11.2.0-7ubuntu1)\n",
      "  configuration: --prefix=/usr --extra-version=6ubuntu5 --toolchain=hardened --libdir=/usr/lib/x86_64-linux-gnu --incdir=/usr/include/x86_64-linux-gnu --arch=amd64 --enable-gpl --disable-stripping --enable-gnutls --enable-ladspa --enable-libaom --enable-libass --enable-libbluray --enable-libbs2b --enable-libcaca --enable-libcdio --enable-libcodec2 --enable-libdav1d --enable-libflite --enable-libfontconfig --enable-libfreetype --enable-libfribidi --enable-libgme --enable-libgsm --enable-libjack --enable-libmp3lame --enable-libmysofa --enable-libopenjpeg --enable-libopenmpt --enable-libopus --enable-libpulse --enable-librabbitmq --enable-librubberband --enable-libshine --enable-libsnappy --enable-libsoxr --enable-libspeex --enable-libsrt --enable-libssh --enable-libtheora --enable-libtwolame --enable-libvidstab --enable-libvorbis --enable-libvpx --enable-libwebp --enable-libx265 --enable-libxml2 --enable-libxvid --enable-libzimg --enable-libzmq --enable-libzvbi --enable-lv2 --enable-omx --enable-openal --enable-opencl --enable-opengl --enable-sdl2 --enable-pocketsphinx --enable-librsvg --enable-libmfx --enable-libdc1394 --enable-libdrm --enable-libiec61883 --enable-nvenc --enable-chromaprint --enable-frei0r --enable-libx264 --enable-shared\n",
      "  libavutil      56. 70.100 / 56. 70.100\n",
      "  libavcodec     58.134.100 / 58.134.100\n",
      "  libavformat    58. 76.100 / 58. 76.100\n",
      "  libavdevice    58. 13.100 / 58. 13.100\n",
      "  libavfilter     7.110.100 /  7.110.100\n",
      "  libswscale      5.  9.100 /  5.  9.100\n",
      "  libswresample   3.  9.100 /  3.  9.100\n",
      "  libpostproc    55.  9.100 / 55.  9.100\n",
      "Input #0, image2, from '/tmp/original_%03d.png':\n",
      "  Duration: 00:00:12.00, start: 0.000000, bitrate: N/A\n",
      "  Stream #0:0: Video: png, rgb24(pc), 352x288 [SAR 128:117 DAR 1408:1053], 25 fps, 25 tbr, 25 tbn, 25 tbc\n",
      "Stream mapping:\n",
      "  Stream #0:0 -> #0:0 (png (native) -> h264 (libx264))\n",
      "Press [q] to stop, [?] for help\n",
      "\u001b[1;36m[libx264 @ 0x562dbfccad40] \u001b[0musing SAR=128/117\n",
      "\u001b[1;36m[libx264 @ 0x562dbfccad40] \u001b[0musing cpu capabilities: MMX2 SSE2Fast SSSE3 SSE4.2\n",
      "\u001b[1;36m[libx264 @ 0x562dbfccad40] \u001b[0mprofile High 4:4:4 Predictive, level 1.3, 4:4:4, 8-bit\n",
      "\u001b[1;36m[libx264 @ 0x562dbfccad40] \u001b[0m264 - core 160 r3011 cde9a93 - H.264/MPEG-4 AVC codec - Copyleft 2003-2020 - http://www.videolan.org/x264.html - options: cabac=1 ref=3 deblock=1:0:0 analyse=0x3:0x113 me=hex subme=7 psy=1 psy_rd=1.00:0.00 mixed_ref=1 me_range=16 chroma_me=1 trellis=1 8x8dct=1 cqm=0 deadzone=21,11 fast_pskip=1 chroma_qp_offset=4 threads=1 lookahead_threads=1 sliced_threads=0 nr=0 decimate=1 interlaced=0 bluray_compat=0 constrained_intra=0 bframes=0 weightp=2 keyint=5 keyint_min=1 scenecut=40 intra_refresh=0 rc_lookahead=5 rc=crf mbtree=1 crf=27.0 qcomp=0.60 qpmin=0 qpmax=69 qpstep=4 ip_ratio=1.40 aq=1:1.00\n",
      "Output #0, mp4, to '/tmp/output.mp4':\n",
      "  Metadata:\n",
      "    encoder         : Lavf58.76.100\n",
      "  Stream #0:0: Video: h264 (avc1 / 0x31637661), yuv444p(tv, progressive), 352x288 [SAR 128:117 DAR 1408:1053], q=2-31, 25 fps, 12800 tbn\n",
      "    Metadata:\n",
      "      encoder         : Lavc58.134.100 libx264\n",
      "    Side data:\n",
      "      cpb: bitrate max/min/avg: 0/0/0 buffer size: 0 vbv_delay: N/A\n",
      "frame=    5 fps=0.0 q=32.0 Lsize=       6kB time=00:00:00.16 bitrate= 307.1kbits/s speed=4.43x    \n",
      "video:5kB audio:0kB subtitle:0kB other streams:0kB global headers:0kB muxing overhead: 16.806084%\n",
      "\u001b[1;36m[libx264 @ 0x562dbfccad40] \u001b[0mframe I:1     Avg QP:28.41  size:  4467\n",
      "\u001b[1;36m[libx264 @ 0x562dbfccad40] \u001b[0mframe P:4     Avg QP:31.25  size:    42\n",
      "\u001b[1;36m[libx264 @ 0x562dbfccad40] \u001b[0mmb I  I16..4: 16.7% 58.3% 25.0%\n",
      "\u001b[1;36m[libx264 @ 0x562dbfccad40] \u001b[0mmb P  I16..4:  0.0%  0.0%  0.0%  P16..4:  2.2%  0.5%  0.0%  0.0%  0.0%    skip:97.3%\n",
      "\u001b[1;36m[libx264 @ 0x562dbfccad40] \u001b[0m8x8 transform intra:58.3% inter:57.1%\n",
      "\u001b[1;36m[libx264 @ 0x562dbfccad40] \u001b[0mcoded y,u,v intra: 50.7% 21.1% 14.8% inter: 0.1% 0.0% 0.0%\n",
      "\u001b[1;36m[libx264 @ 0x562dbfccad40] \u001b[0mi16 v,h,dc,p: 44% 36%  5% 15%\n",
      "\u001b[1;36m[libx264 @ 0x562dbfccad40] \u001b[0mi8 v,h,dc,ddl,ddr,vr,hd,vl,hu: 33% 25% 15%  3%  4%  6%  4%  6%  4%\n",
      "\u001b[1;36m[libx264 @ 0x562dbfccad40] \u001b[0mi4 v,h,dc,ddl,ddr,vr,hd,vl,hu: 36% 21% 13%  4%  5%  7%  5%  7%  4%\n",
      "\u001b[1;36m[libx264 @ 0x562dbfccad40] \u001b[0mWeighted P-Frames: Y:0.0% UV:0.0%\n",
      "\u001b[1;36m[libx264 @ 0x562dbfccad40] \u001b[0mref P L0: 81.4% 16.3%  2.3%\n",
      "\u001b[1;36m[libx264 @ 0x562dbfccad40] \u001b[0mkb/s:185.48\n"
     ]
    },
    {
     "name": "stdout",
     "output_type": "stream",
     "text": [
      "ffmpeg version 4.4-6ubuntu5 Copyright (c) 2000-2021 the FFmpeg developers\n",
      "  built with gcc 11 (Ubuntu 11.2.0-7ubuntu1)\n",
      "  configuration: --prefix=/usr --extra-version=6ubuntu5 --toolchain=hardened --libdir=/usr/lib/x86_64-linux-gnu --incdir=/usr/include/x86_64-linux-gnu --arch=amd64 --enable-gpl --disable-stripping --enable-gnutls --enable-ladspa --enable-libaom --enable-libass --enable-libbluray --enable-libbs2b --enable-libcaca --enable-libcdio --enable-libcodec2 --enable-libdav1d --enable-libflite --enable-libfontconfig --enable-libfreetype --enable-libfribidi --enable-libgme --enable-libgsm --enable-libjack --enable-libmp3lame --enable-libmysofa --enable-libopenjpeg --enable-libopenmpt --enable-libopus --enable-libpulse --enable-librabbitmq --enable-librubberband --enable-libshine --enable-libsnappy --enable-libsoxr --enable-libspeex --enable-libsrt --enable-libssh --enable-libtheora --enable-libtwolame --enable-libvidstab --enable-libvorbis --enable-libvpx --enable-libwebp --enable-libx265 --enable-libxml2 --enable-libxvid --enable-libzimg --enable-libzmq --enable-libzvbi --enable-lv2 --enable-omx --enable-openal --enable-opencl --enable-opengl --enable-sdl2 --enable-pocketsphinx --enable-librsvg --enable-libmfx --enable-libdc1394 --enable-libdrm --enable-libiec61883 --enable-nvenc --enable-chromaprint --enable-frei0r --enable-libx264 --enable-shared\n",
      "  libavutil      56. 70.100 / 56. 70.100\n",
      "  libavcodec     58.134.100 / 58.134.100\n",
      "  libavformat    58. 76.100 / 58. 76.100\n",
      "  libavdevice    58. 13.100 / 58. 13.100\n",
      "  libavfilter     7.110.100 /  7.110.100\n",
      "  libswscale      5.  9.100 /  5.  9.100\n",
      "  libswresample   3.  9.100 /  3.  9.100\n",
      "  libpostproc    55.  9.100 / 55.  9.100\n",
      "Input #0, mov,mp4,m4a,3gp,3g2,mj2, from '/tmp/output.mp4':\n",
      "  Metadata:\n",
      "    major_brand     : isom\n",
      "    minor_version   : 512\n",
      "    compatible_brands: isomiso2avc1mp41\n",
      "    encoder         : Lavf58.76.100\n",
      "  Duration: 00:00:00.20, start: 0.000000, bitrate: 245 kb/s\n",
      "  Stream #0:0(und): Video: h264 (High 4:4:4 Predictive) (avc1 / 0x31637661), yuv444p, 352x288 [SAR 128:117 DAR 1408:1053], 210 kb/s, 25 fps, 25 tbr, 12800 tbn, 50 tbc (default)\n",
      "    Metadata:\n",
      "      handler_name    : VideoHandler\n",
      "      vendor_id       : [0][0][0][0]\n",
      "Stream mapping:\n",
      "  Stream #0:0 -> #0:0 (h264 (native) -> png (native))\n",
      "Press [q] to stop, [?] for help\n",
      "Output #0, image2, to '/tmp/original_reconstructed_%03d.png':\n",
      "  Metadata:\n",
      "    major_brand     : isom\n",
      "    minor_version   : 512\n",
      "    compatible_brands: isomiso2avc1mp41\n",
      "    encoder         : Lavf58.76.100\n",
      "  Stream #0:0(und): Video: png, rgb24(pc, progressive), 352x288 [SAR 128:117 DAR 1408:1053], q=2-31, 200 kb/s, 25 fps, 25 tbn (default)\n",
      "    Metadata:\n",
      "      handler_name    : VideoHandler\n",
      "      vendor_id       : [0][0][0][0]\n",
      "      encoder         : Lavc58.134.100 png\n",
      "frame=    5 fps=0.0 q=-0.0 Lsize=N/A time=00:00:00.20 bitrate=N/A speed=1.83x    \n",
      "video:554kB audio:0kB subtitle:0kB other streams:0kB global headers:0kB muxing overhead: unknown\n",
      "ffmpeg version 4.4-6ubuntu5 Copyright (c) 2000-2021 the FFmpeg developers\n",
      "  built with gcc 11 (Ubuntu 11.2.0-7ubuntu1)\n",
      "  configuration: --prefix=/usr --extra-version=6ubuntu5 --toolchain=hardened --libdir=/usr/lib/x86_64-linux-gnu --incdir=/usr/include/x86_64-linux-gnu --arch=amd64 --enable-gpl --disable-stripping --enable-gnutls --enable-ladspa --enable-libaom --enable-libass --enable-libbluray --enable-libbs2b --enable-libcaca --enable-libcdio --enable-libcodec2 --enable-libdav1d --enable-libflite --enable-libfontconfig --enable-libfreetype --enable-libfribidi --enable-libgme --enable-libgsm --enable-libjack --enable-libmp3lame --enable-libmysofa --enable-libopenjpeg --enable-libopenmpt --enable-libopus --enable-libpulse --enable-librabbitmq --enable-librubberband --enable-libshine --enable-libsnappy --enable-libsoxr --enable-libspeex --enable-libsrt --enable-libssh --enable-libtheora --enable-libtwolame --enable-libvidstab --enable-libvorbis --enable-libvpx --enable-libwebp --enable-libx265 --enable-libxml2 --enable-libxvid --enable-libzimg --enable-libzmq --enable-libzvbi --enable-lv2 --enable-omx --enable-openal --enable-opencl --enable-opengl --enable-sdl2 --enable-pocketsphinx --enable-librsvg --enable-libmfx --enable-libdc1394 --enable-libdrm --enable-libiec61883 --enable-nvenc --enable-chromaprint --enable-frei0r --enable-libx264 --enable-shared\n",
      "  libavutil      56. 70.100 / 56. 70.100\n",
      "  libavcodec     58.134.100 / 58.134.100\n",
      "  libavformat    58. 76.100 / 58. 76.100\n",
      "  libavdevice    58. 13.100 / 58. 13.100\n",
      "  libavfilter     7.110.100 /  7.110.100\n",
      "  libswscale      5.  9.100 /  5.  9.100\n",
      "  libswresample   3.  9.100 /  3.  9.100\n",
      "  libpostproc    55.  9.100 / 55.  9.100\n",
      "Input #0, image2, from '/tmp/original_%03d.png':\n",
      "  Duration: 00:00:12.00, start: 0.000000, bitrate: N/A\n",
      "  Stream #0:0: Video: png, rgb24(pc), 352x288 [SAR 128:117 DAR 1408:1053], 25 fps, 25 tbr, 25 tbn, 25 tbc\n",
      "Stream mapping:\n",
      "  Stream #0:0 -> #0:0 (png (native) -> h264 (libx264))\n",
      "Press [q] to stop, [?] for help\n",
      "\u001b[1;36m[libx264 @ 0x556052847d40] \u001b[0musing SAR=128/117\n",
      "\u001b[1;36m[libx264 @ 0x556052847d40] \u001b[0musing cpu capabilities: MMX2 SSE2Fast SSSE3 SSE4.2\n",
      "\u001b[1;36m[libx264 @ 0x556052847d40] \u001b[0mprofile High 4:4:4 Predictive, level 1.3, 4:4:4, 8-bit\n",
      "\u001b[1;36m[libx264 @ 0x556052847d40] \u001b[0m264 - core 160 r3011 cde9a93 - H.264/MPEG-4 AVC codec - Copyleft 2003-2020 - http://www.videolan.org/x264.html - options: cabac=1 ref=3 deblock=1:0:0 analyse=0x3:0x113 me=hex subme=7 psy=1 psy_rd=1.00:0.00 mixed_ref=1 me_range=16 chroma_me=1 trellis=1 8x8dct=1 cqm=0 deadzone=21,11 fast_pskip=1 chroma_qp_offset=4 threads=1 lookahead_threads=1 sliced_threads=0 nr=0 decimate=1 interlaced=0 bluray_compat=0 constrained_intra=0 bframes=0 weightp=2 keyint=5 keyint_min=1 scenecut=40 intra_refresh=0 rc_lookahead=5 rc=crf mbtree=1 crf=30.0 qcomp=0.60 qpmin=0 qpmax=69 qpstep=4 ip_ratio=1.40 aq=1:1.00\n",
      "Output #0, mp4, to '/tmp/output.mp4':\n",
      "  Metadata:\n",
      "    encoder         : Lavf58.76.100\n",
      "  Stream #0:0: Video: h264 (avc1 / 0x31637661), yuv444p(tv, progressive), 352x288 [SAR 128:117 DAR 1408:1053], q=2-31, 25 fps, 12800 tbn\n",
      "    Metadata:\n",
      "      encoder         : Lavc58.134.100 libx264\n",
      "    Side data:\n",
      "      cpb: bitrate max/min/avg: 0/0/0 buffer size: 0 vbv_delay: N/A\n",
      "frame=    5 fps=0.0 q=35.0 Lsize=       5kB time=00:00:00.16 bitrate= 252.3kbits/s speed=2.97x    \n",
      "video:4kB audio:0kB subtitle:0kB other streams:0kB global headers:0kB muxing overhead: 21.229588%\n",
      "\u001b[1;36m[libx264 @ 0x556052847d40] \u001b[0mframe I:1     Avg QP:31.51  size:  3398\n",
      "\u001b[1;36m[libx264 @ 0x556052847d40] \u001b[0mframe P:4     Avg QP:33.39  size:    36\n",
      "\u001b[1;36m[libx264 @ 0x556052847d40] \u001b[0mmb I  I16..4: 25.5% 56.6% 17.9%\n",
      "\u001b[1;36m[libx264 @ 0x556052847d40] \u001b[0mmb P  I16..4:  0.0%  0.0%  0.0%  P16..4:  1.6%  0.3%  0.1%  0.0%  0.0%    skip:98.0%\n",
      "\u001b[1;36m[libx264 @ 0x556052847d40] \u001b[0m8x8 transform intra:56.6% inter:0.0%\n",
      "\u001b[1;36m[libx264 @ 0x556052847d40] \u001b[0mcoded y,u,v intra: 41.3% 17.0% 11.0% inter: 0.1% 0.0% 0.0%\n",
      "\u001b[1;36m[libx264 @ 0x556052847d40] \u001b[0mi16 v,h,dc,p: 40% 36%  8% 17%\n",
      "\u001b[1;36m[libx264 @ 0x556052847d40] \u001b[0mi8 v,h,dc,ddl,ddr,vr,hd,vl,hu: 31% 20% 17%  5%  4%  8%  3%  6%  5%\n",
      "\u001b[1;36m[libx264 @ 0x556052847d40] \u001b[0mi4 v,h,dc,ddl,ddr,vr,hd,vl,hu: 35% 20% 14%  6%  4%  7%  4%  6%  4%\n",
      "\u001b[1;36m[libx264 @ 0x556052847d40] \u001b[0mWeighted P-Frames: Y:0.0% UV:0.0%\n",
      "\u001b[1;36m[libx264 @ 0x556052847d40] \u001b[0mref P L0: 87.9% 12.1%\n",
      "\u001b[1;36m[libx264 @ 0x556052847d40] \u001b[0mkb/s:141.64\n",
      "ffmpeg version 4.4-6ubuntu5 Copyright (c) 2000-2021 the FFmpeg developers\n",
      "  built with gcc 11 (Ubuntu 11.2.0-7ubuntu1)\n",
      "  configuration: --prefix=/usr --extra-version=6ubuntu5 --toolchain=hardened --libdir=/usr/lib/x86_64-linux-gnu --incdir=/usr/include/x86_64-linux-gnu --arch=amd64 --enable-gpl --disable-stripping --enable-gnutls --enable-ladspa --enable-libaom --enable-libass --enable-libbluray --enable-libbs2b --enable-libcaca --enable-libcdio --enable-libcodec2 --enable-libdav1d --enable-libflite --enable-libfontconfig --enable-libfreetype --enable-libfribidi --enable-libgme --enable-libgsm --enable-libjack --enable-libmp3lame --enable-libmysofa --enable-libopenjpeg --enable-libopenmpt --enable-libopus --enable-libpulse --enable-librabbitmq --enable-librubberband --enable-libshine --enable-libsnappy --enable-libsoxr --enable-libspeex --enable-libsrt --enable-libssh --enable-libtheora --enable-libtwolame --enable-libvidstab --enable-libvorbis --enable-libvpx --enable-libwebp --enable-libx265 --enable-libxml2 --enable-libxvid --enable-libzimg --enable-libzmq --enable-libzvbi --enable-lv2 --enable-omx --enable-openal --enable-opencl --enable-opengl --enable-sdl2 --enable-pocketsphinx --enable-librsvg --enable-libmfx --enable-libdc1394 --enable-libdrm --enable-libiec61883 --enable-nvenc --enable-chromaprint --enable-frei0r --enable-libx264 --enable-shared\n",
      "  libavutil      56. 70.100 / 56. 70.100\n",
      "  libavcodec     58.134.100 / 58.134.100\n",
      "  libavformat    58. 76.100 / 58. 76.100\n",
      "  libavdevice    58. 13.100 / 58. 13.100\n",
      "  libavfilter     7.110.100 /  7.110.100\n",
      "  libswscale      5.  9.100 /  5.  9.100\n",
      "  libswresample   3.  9.100 /  3.  9.100\n",
      "  libpostproc    55.  9.100 / 55.  9.100\n",
      "Input #0, mov,mp4,m4a,3gp,3g2,mj2, from '/tmp/output.mp4':\n",
      "  Metadata:\n",
      "    major_brand     : isom\n",
      "    minor_version   : 512\n",
      "    compatible_brands: isomiso2avc1mp41\n",
      "    encoder         : Lavf58.76.100\n",
      "  Duration: 00:00:00.20, start: 0.000000, bitrate: 201 kb/s\n",
      "  Stream #0:0(und): Video: h264 (High 4:4:4 Predictive) (avc1 / 0x31637661), yuv444p, 352x288 [SAR 128:117 DAR 1408:1053], 166 kb/s, 25 fps, 25 tbr, 12800 tbn, 50 tbc (default)\n",
      "    Metadata:\n",
      "      handler_name    : VideoHandler\n",
      "      vendor_id       : [0][0][0][0]\n",
      "Stream mapping:\n",
      "  Stream #0:0 -> #0:0 (h264 (native) -> png (native))\n",
      "Press [q] to stop, [?] for help\n",
      "Output #0, image2, to '/tmp/original_reconstructed_%03d.png':\n",
      "  Metadata:\n",
      "    major_brand     : isom\n",
      "    minor_version   : 512\n",
      "    compatible_brands: isomiso2avc1mp41\n",
      "    encoder         : Lavf58.76.100\n",
      "  Stream #0:0(und): Video: png, rgb24(pc, progressive), 352x288 [SAR 128:117 DAR 1408:1053], q=2-31, 200 kb/s, 25 fps, 25 tbn (default)\n",
      "    Metadata:\n",
      "      handler_name    : VideoHandler\n",
      "      vendor_id       : [0][0][0][0]\n",
      "      encoder         : Lavc58.134.100 png\n"
     ]
    },
    {
     "name": "stdout",
     "output_type": "stream",
     "text": [
      "frame=    5 fps=0.0 q=-0.0 Lsize=N/A time=00:00:00.20 bitrate=N/A speed=0.972x    \n",
      "video:543kB audio:0kB subtitle:0kB other streams:0kB global headers:0kB muxing overhead: unknown\n",
      "ffmpeg version 4.4-6ubuntu5 Copyright (c) 2000-2021 the FFmpeg developers\n",
      "  built with gcc 11 (Ubuntu 11.2.0-7ubuntu1)\n",
      "  configuration: --prefix=/usr --extra-version=6ubuntu5 --toolchain=hardened --libdir=/usr/lib/x86_64-linux-gnu --incdir=/usr/include/x86_64-linux-gnu --arch=amd64 --enable-gpl --disable-stripping --enable-gnutls --enable-ladspa --enable-libaom --enable-libass --enable-libbluray --enable-libbs2b --enable-libcaca --enable-libcdio --enable-libcodec2 --enable-libdav1d --enable-libflite --enable-libfontconfig --enable-libfreetype --enable-libfribidi --enable-libgme --enable-libgsm --enable-libjack --enable-libmp3lame --enable-libmysofa --enable-libopenjpeg --enable-libopenmpt --enable-libopus --enable-libpulse --enable-librabbitmq --enable-librubberband --enable-libshine --enable-libsnappy --enable-libsoxr --enable-libspeex --enable-libsrt --enable-libssh --enable-libtheora --enable-libtwolame --enable-libvidstab --enable-libvorbis --enable-libvpx --enable-libwebp --enable-libx265 --enable-libxml2 --enable-libxvid --enable-libzimg --enable-libzmq --enable-libzvbi --enable-lv2 --enable-omx --enable-openal --enable-opencl --enable-opengl --enable-sdl2 --enable-pocketsphinx --enable-librsvg --enable-libmfx --enable-libdc1394 --enable-libdrm --enable-libiec61883 --enable-nvenc --enable-chromaprint --enable-frei0r --enable-libx264 --enable-shared\n",
      "  libavutil      56. 70.100 / 56. 70.100\n",
      "  libavcodec     58.134.100 / 58.134.100\n",
      "  libavformat    58. 76.100 / 58. 76.100\n",
      "  libavdevice    58. 13.100 / 58. 13.100\n",
      "  libavfilter     7.110.100 /  7.110.100\n",
      "  libswscale      5.  9.100 /  5.  9.100\n",
      "  libswresample   3.  9.100 /  3.  9.100\n",
      "  libpostproc    55.  9.100 / 55.  9.100\n",
      "Input #0, image2, from '/tmp/original_%03d.png':\n",
      "  Duration: 00:00:12.00, start: 0.000000, bitrate: N/A\n",
      "  Stream #0:0: Video: png, rgb24(pc), 352x288 [SAR 128:117 DAR 1408:1053], 25 fps, 25 tbr, 25 tbn, 25 tbc\n",
      "Stream mapping:\n",
      "  Stream #0:0 -> #0:0 (png (native) -> h264 (libx264))\n",
      "Press [q] to stop, [?] for help\n",
      "\u001b[1;36m[libx264 @ 0x55ae0bcebd40] \u001b[0musing SAR=128/117\n",
      "\u001b[1;36m[libx264 @ 0x55ae0bcebd40] \u001b[0musing cpu capabilities: MMX2 SSE2Fast SSSE3 SSE4.2\n",
      "\u001b[1;36m[libx264 @ 0x55ae0bcebd40] \u001b[0mprofile High 4:4:4 Predictive, level 1.3, 4:4:4, 8-bit\n",
      "\u001b[1;36m[libx264 @ 0x55ae0bcebd40] \u001b[0m264 - core 160 r3011 cde9a93 - H.264/MPEG-4 AVC codec - Copyleft 2003-2020 - http://www.videolan.org/x264.html - options: cabac=1 ref=3 deblock=1:0:0 analyse=0x3:0x113 me=hex subme=7 psy=1 psy_rd=1.00:0.00 mixed_ref=1 me_range=16 chroma_me=1 trellis=1 8x8dct=1 cqm=0 deadzone=21,11 fast_pskip=1 chroma_qp_offset=4 threads=1 lookahead_threads=1 sliced_threads=0 nr=0 decimate=1 interlaced=0 bluray_compat=0 constrained_intra=0 bframes=0 weightp=2 keyint=5 keyint_min=1 scenecut=40 intra_refresh=0 rc_lookahead=5 rc=crf mbtree=1 crf=33.0 qcomp=0.60 qpmin=0 qpmax=69 qpstep=4 ip_ratio=1.40 aq=1:1.00\n",
      "Output #0, mp4, to '/tmp/output.mp4':\n",
      "  Metadata:\n",
      "    encoder         : Lavf58.76.100\n",
      "  Stream #0:0: Video: h264 (avc1 / 0x31637661), yuv444p(tv, progressive), 352x288 [SAR 128:117 DAR 1408:1053], q=2-31, 25 fps, 12800 tbn\n",
      "    Metadata:\n",
      "      encoder         : Lavc58.134.100 libx264\n",
      "    Side data:\n",
      "      cpb: bitrate max/min/avg: 0/0/0 buffer size: 0 vbv_delay: N/A\n",
      "frame=    5 fps=0.0 q=38.0 Lsize=       4kB time=00:00:00.16 bitrate= 210.2kbits/s speed=1.96x    \n",
      "video:3kB audio:0kB subtitle:0kB other streams:0kB global headers:0kB muxing overhead: 26.602468%\n",
      "\u001b[1;36m[libx264 @ 0x55ae0bcebd40] \u001b[0mframe I:1     Avg QP:34.53  size:  2554\n",
      "\u001b[1;36m[libx264 @ 0x55ae0bcebd40] \u001b[0mframe P:4     Avg QP:37.59  size:    36\n",
      "\u001b[1;36m[libx264 @ 0x55ae0bcebd40] \u001b[0mmb I  I16..4: 29.5% 56.3% 14.1%\n",
      "\u001b[1;36m[libx264 @ 0x55ae0bcebd40] \u001b[0mmb P  I16..4:  0.0%  0.0%  0.0%  P16..4:  1.6%  0.6%  0.1%  0.0%  0.0%    skip:97.7%\n",
      "\u001b[1;36m[libx264 @ 0x55ae0bcebd40] \u001b[0m8x8 transform intra:56.3% inter:80.0%\n",
      "\u001b[1;36m[libx264 @ 0x55ae0bcebd40] \u001b[0mcoded y,u,v intra: 33.6% 13.1% 9.3% inter: 0.1% 0.0% 0.0%\n",
      "\u001b[1;36m[libx264 @ 0x55ae0bcebd40] \u001b[0mi16 v,h,dc,p: 38% 40% 11% 10%\n",
      "\u001b[1;36m[libx264 @ 0x55ae0bcebd40] \u001b[0mi8 v,h,dc,ddl,ddr,vr,hd,vl,hu: 31% 21% 18%  5%  3%  7%  4%  6%  5%\n",
      "\u001b[1;36m[libx264 @ 0x55ae0bcebd40] \u001b[0mi4 v,h,dc,ddl,ddr,vr,hd,vl,hu: 38% 20%  9%  6%  4%  6%  5%  7%  5%\n",
      "\u001b[1;36m[libx264 @ 0x55ae0bcebd40] \u001b[0mWeighted P-Frames: Y:0.0% UV:0.0%\n",
      "\u001b[1;36m[libx264 @ 0x55ae0bcebd40] \u001b[0mref P L0: 94.4%  0.0%  5.6%\n",
      "\u001b[1;36m[libx264 @ 0x55ae0bcebd40] \u001b[0mkb/s:108.00\n",
      "ffmpeg version 4.4-6ubuntu5 Copyright (c) 2000-2021 the FFmpeg developers\n",
      "  built with gcc 11 (Ubuntu 11.2.0-7ubuntu1)\n",
      "  configuration: --prefix=/usr --extra-version=6ubuntu5 --toolchain=hardened --libdir=/usr/lib/x86_64-linux-gnu --incdir=/usr/include/x86_64-linux-gnu --arch=amd64 --enable-gpl --disable-stripping --enable-gnutls --enable-ladspa --enable-libaom --enable-libass --enable-libbluray --enable-libbs2b --enable-libcaca --enable-libcdio --enable-libcodec2 --enable-libdav1d --enable-libflite --enable-libfontconfig --enable-libfreetype --enable-libfribidi --enable-libgme --enable-libgsm --enable-libjack --enable-libmp3lame --enable-libmysofa --enable-libopenjpeg --enable-libopenmpt --enable-libopus --enable-libpulse --enable-librabbitmq --enable-librubberband --enable-libshine --enable-libsnappy --enable-libsoxr --enable-libspeex --enable-libsrt --enable-libssh --enable-libtheora --enable-libtwolame --enable-libvidstab --enable-libvorbis --enable-libvpx --enable-libwebp --enable-libx265 --enable-libxml2 --enable-libxvid --enable-libzimg --enable-libzmq --enable-libzvbi --enable-lv2 --enable-omx --enable-openal --enable-opencl --enable-opengl --enable-sdl2 --enable-pocketsphinx --enable-librsvg --enable-libmfx --enable-libdc1394 --enable-libdrm --enable-libiec61883 --enable-nvenc --enable-chromaprint --enable-frei0r --enable-libx264 --enable-shared\n",
      "  libavutil      56. 70.100 / 56. 70.100\n",
      "  libavcodec     58.134.100 / 58.134.100\n",
      "  libavformat    58. 76.100 / 58. 76.100\n",
      "  libavdevice    58. 13.100 / 58. 13.100\n",
      "  libavfilter     7.110.100 /  7.110.100\n",
      "  libswscale      5.  9.100 /  5.  9.100\n",
      "  libswresample   3.  9.100 /  3.  9.100\n",
      "  libpostproc    55.  9.100 / 55.  9.100\n",
      "Input #0, mov,mp4,m4a,3gp,3g2,mj2, from '/tmp/output.mp4':\n",
      "  Metadata:\n",
      "    major_brand     : isom\n",
      "    minor_version   : 512\n",
      "    compatible_brands: isomiso2avc1mp41\n",
      "    encoder         : Lavf58.76.100\n",
      "  Duration: 00:00:00.20, start: 0.000000, bitrate: 168 kb/s\n",
      "  Stream #0:0(und): Video: h264 (High 4:4:4 Predictive) (avc1 / 0x31637661), yuv444p, 352x288 [SAR 128:117 DAR 1408:1053], 132 kb/s, 25 fps, 25 tbr, 12800 tbn, 50 tbc (default)\n",
      "    Metadata:\n",
      "      handler_name    : VideoHandler\n",
      "      vendor_id       : [0][0][0][0]\n",
      "Stream mapping:\n",
      "  Stream #0:0 -> #0:0 (h264 (native) -> png (native))\n",
      "Press [q] to stop, [?] for help\n",
      "Output #0, image2, to '/tmp/original_reconstructed_%03d.png':\n",
      "  Metadata:\n",
      "    major_brand     : isom\n",
      "    minor_version   : 512\n",
      "    compatible_brands: isomiso2avc1mp41\n",
      "    encoder         : Lavf58.76.100\n",
      "  Stream #0:0(und): Video: png, rgb24(pc, progressive), 352x288 [SAR 128:117 DAR 1408:1053], q=2-31, 200 kb/s, 25 fps, 25 tbn (default)\n",
      "    Metadata:\n",
      "      handler_name    : VideoHandler\n",
      "      vendor_id       : [0][0][0][0]\n",
      "      encoder         : Lavc58.134.100 png\n",
      "frame=    5 fps=0.0 q=-0.0 Lsize=N/A time=00:00:00.20 bitrate=N/A speed=1.64x    \n",
      "video:522kB audio:0kB subtitle:0kB other streams:0kB global headers:0kB muxing overhead: unknown\n",
      "ffmpeg version 4.4-6ubuntu5 Copyright (c) 2000-2021 the FFmpeg developers\n",
      "  built with gcc 11 (Ubuntu 11.2.0-7ubuntu1)\n",
      "  configuration: --prefix=/usr --extra-version=6ubuntu5 --toolchain=hardened --libdir=/usr/lib/x86_64-linux-gnu --incdir=/usr/include/x86_64-linux-gnu --arch=amd64 --enable-gpl --disable-stripping --enable-gnutls --enable-ladspa --enable-libaom --enable-libass --enable-libbluray --enable-libbs2b --enable-libcaca --enable-libcdio --enable-libcodec2 --enable-libdav1d --enable-libflite --enable-libfontconfig --enable-libfreetype --enable-libfribidi --enable-libgme --enable-libgsm --enable-libjack --enable-libmp3lame --enable-libmysofa --enable-libopenjpeg --enable-libopenmpt --enable-libopus --enable-libpulse --enable-librabbitmq --enable-librubberband --enable-libshine --enable-libsnappy --enable-libsoxr --enable-libspeex --enable-libsrt --enable-libssh --enable-libtheora --enable-libtwolame --enable-libvidstab --enable-libvorbis --enable-libvpx --enable-libwebp --enable-libx265 --enable-libxml2 --enable-libxvid --enable-libzimg --enable-libzmq --enable-libzvbi --enable-lv2 --enable-omx --enable-openal --enable-opencl --enable-opengl --enable-sdl2 --enable-pocketsphinx --enable-librsvg --enable-libmfx --enable-libdc1394 --enable-libdrm --enable-libiec61883 --enable-nvenc --enable-chromaprint --enable-frei0r --enable-libx264 --enable-shared\n",
      "  libavutil      56. 70.100 / 56. 70.100\n",
      "  libavcodec     58.134.100 / 58.134.100\n",
      "  libavformat    58. 76.100 / 58. 76.100\n",
      "  libavdevice    58. 13.100 / 58. 13.100\n",
      "  libavfilter     7.110.100 /  7.110.100\n",
      "  libswscale      5.  9.100 /  5.  9.100\n",
      "  libswresample   3.  9.100 /  3.  9.100\n",
      "  libpostproc    55.  9.100 / 55.  9.100\n",
      "Input #0, image2, from '/tmp/original_%03d.png':\n",
      "  Duration: 00:00:12.00, start: 0.000000, bitrate: N/A\n",
      "  Stream #0:0: Video: png, rgb24(pc), 352x288 [SAR 128:117 DAR 1408:1053], 25 fps, 25 tbr, 25 tbn, 25 tbc\n",
      "Stream mapping:\n",
      "  Stream #0:0 -> #0:0 (png (native) -> h264 (libx264))\n",
      "Press [q] to stop, [?] for help\n",
      "\u001b[1;36m[libx264 @ 0x55ef349fbd40] \u001b[0musing SAR=128/117\n",
      "\u001b[1;36m[libx264 @ 0x55ef349fbd40] \u001b[0musing cpu capabilities: MMX2 SSE2Fast SSSE3 SSE4.2\n",
      "\u001b[1;36m[libx264 @ 0x55ef349fbd40] \u001b[0mprofile High 4:4:4 Predictive, level 1.3, 4:4:4, 8-bit\n",
      "\u001b[1;36m[libx264 @ 0x55ef349fbd40] \u001b[0m264 - core 160 r3011 cde9a93 - H.264/MPEG-4 AVC codec - Copyleft 2003-2020 - http://www.videolan.org/x264.html - options: cabac=1 ref=3 deblock=1:0:0 analyse=0x3:0x113 me=hex subme=7 psy=1 psy_rd=1.00:0.00 mixed_ref=1 me_range=16 chroma_me=1 trellis=1 8x8dct=1 cqm=0 deadzone=21,11 fast_pskip=1 chroma_qp_offset=4 threads=1 lookahead_threads=1 sliced_threads=0 nr=0 decimate=1 interlaced=0 bluray_compat=0 constrained_intra=0 bframes=0 weightp=2 keyint=5 keyint_min=1 scenecut=40 intra_refresh=0 rc_lookahead=5 rc=crf mbtree=1 crf=36.0 qcomp=0.60 qpmin=0 qpmax=69 qpstep=4 ip_ratio=1.40 aq=1:1.00\n",
      "Output #0, mp4, to '/tmp/output.mp4':\n",
      "  Metadata:\n",
      "    encoder         : Lavf58.76.100\n",
      "  Stream #0:0: Video: h264 (avc1 / 0x31637661), yuv444p(tv, progressive), 352x288 [SAR 128:117 DAR 1408:1053], q=2-31, 25 fps, 12800 tbn\n",
      "    Metadata:\n",
      "      encoder         : Lavc58.134.100 libx264\n",
      "    Side data:\n",
      "      cpb: bitrate max/min/avg: 0/0/0 buffer size: 0 vbv_delay: N/A\n"
     ]
    },
    {
     "name": "stdout",
     "output_type": "stream",
     "text": [
      "frame=    5 fps=0.0 q=41.0 Lsize=       3kB time=00:00:00.16 bitrate= 178.1kbits/s speed=2.19x    \n",
      "video:3kB audio:0kB subtitle:0kB other streams:0kB global headers:0kB muxing overhead: 33.034714%\n",
      "\u001b[1;36m[libx264 @ 0x55ef349fbd40] \u001b[0mframe I:1     Avg QP:37.73  size:  1928\n",
      "\u001b[1;36m[libx264 @ 0x55ef349fbd40] \u001b[0mframe P:4     Avg QP:39.53  size:    32\n",
      "\u001b[1;36m[libx264 @ 0x55ef349fbd40] \u001b[0mmb I  I16..4: 20.5% 68.9% 10.6%\n",
      "\u001b[1;36m[libx264 @ 0x55ef349fbd40] \u001b[0mmb P  I16..4:  0.0%  0.0%  0.0%  P16..4:  3.2%  0.0%  0.0%  0.0%  0.0%    skip:96.8%\n",
      "\u001b[1;36m[libx264 @ 0x55ef349fbd40] \u001b[0m8x8 transform intra:68.9% inter:100.0%\n",
      "\u001b[1;36m[libx264 @ 0x55ef349fbd40] \u001b[0mcoded y,u,v intra: 29.8% 11.9% 8.8% inter: 0.0% 0.0% 0.0%\n",
      "\u001b[1;36m[libx264 @ 0x55ef349fbd40] \u001b[0mi16 v,h,dc,p: 42% 31% 15% 12%\n",
      "\u001b[1;36m[libx264 @ 0x55ef349fbd40] \u001b[0mi8 v,h,dc,ddl,ddr,vr,hd,vl,hu: 34% 25% 18%  3%  3%  5%  2%  6%  4%\n",
      "\u001b[1;36m[libx264 @ 0x55ef349fbd40] \u001b[0mi4 v,h,dc,ddl,ddr,vr,hd,vl,hu: 38% 18% 13%  7%  6%  7%  4%  4%  3%\n",
      "\u001b[1;36m[libx264 @ 0x55ef349fbd40] \u001b[0mWeighted P-Frames: Y:0.0% UV:0.0%\n",
      "\u001b[1;36m[libx264 @ 0x55ef349fbd40] \u001b[0mkb/s:82.24\n",
      "ffmpeg version 4.4-6ubuntu5 Copyright (c) 2000-2021 the FFmpeg developers\n",
      "  built with gcc 11 (Ubuntu 11.2.0-7ubuntu1)\n",
      "  configuration: --prefix=/usr --extra-version=6ubuntu5 --toolchain=hardened --libdir=/usr/lib/x86_64-linux-gnu --incdir=/usr/include/x86_64-linux-gnu --arch=amd64 --enable-gpl --disable-stripping --enable-gnutls --enable-ladspa --enable-libaom --enable-libass --enable-libbluray --enable-libbs2b --enable-libcaca --enable-libcdio --enable-libcodec2 --enable-libdav1d --enable-libflite --enable-libfontconfig --enable-libfreetype --enable-libfribidi --enable-libgme --enable-libgsm --enable-libjack --enable-libmp3lame --enable-libmysofa --enable-libopenjpeg --enable-libopenmpt --enable-libopus --enable-libpulse --enable-librabbitmq --enable-librubberband --enable-libshine --enable-libsnappy --enable-libsoxr --enable-libspeex --enable-libsrt --enable-libssh --enable-libtheora --enable-libtwolame --enable-libvidstab --enable-libvorbis --enable-libvpx --enable-libwebp --enable-libx265 --enable-libxml2 --enable-libxvid --enable-libzimg --enable-libzmq --enable-libzvbi --enable-lv2 --enable-omx --enable-openal --enable-opencl --enable-opengl --enable-sdl2 --enable-pocketsphinx --enable-librsvg --enable-libmfx --enable-libdc1394 --enable-libdrm --enable-libiec61883 --enable-nvenc --enable-chromaprint --enable-frei0r --enable-libx264 --enable-shared\n",
      "  libavutil      56. 70.100 / 56. 70.100\n",
      "  libavcodec     58.134.100 / 58.134.100\n",
      "  libavformat    58. 76.100 / 58. 76.100\n",
      "  libavdevice    58. 13.100 / 58. 13.100\n",
      "  libavfilter     7.110.100 /  7.110.100\n",
      "  libswscale      5.  9.100 /  5.  9.100\n",
      "  libswresample   3.  9.100 /  3.  9.100\n",
      "  libpostproc    55.  9.100 / 55.  9.100\n",
      "Input #0, mov,mp4,m4a,3gp,3g2,mj2, from '/tmp/output.mp4':\n",
      "  Metadata:\n",
      "    major_brand     : isom\n",
      "    minor_version   : 512\n",
      "    compatible_brands: isomiso2avc1mp41\n",
      "    encoder         : Lavf58.76.100\n",
      "  Duration: 00:00:00.20, start: 0.000000, bitrate: 142 kb/s\n",
      "  Stream #0:0(und): Video: h264 (High 4:4:4 Predictive) (avc1 / 0x31637661), yuv444p, 352x288 [SAR 128:117 DAR 1408:1053], 107 kb/s, 25 fps, 25 tbr, 12800 tbn, 50 tbc (default)\n",
      "    Metadata:\n",
      "      handler_name    : VideoHandler\n",
      "      vendor_id       : [0][0][0][0]\n",
      "Stream mapping:\n",
      "  Stream #0:0 -> #0:0 (h264 (native) -> png (native))\n",
      "Press [q] to stop, [?] for help\n",
      "Output #0, image2, to '/tmp/original_reconstructed_%03d.png':\n",
      "  Metadata:\n",
      "    major_brand     : isom\n",
      "    minor_version   : 512\n",
      "    compatible_brands: isomiso2avc1mp41\n",
      "    encoder         : Lavf58.76.100\n",
      "  Stream #0:0(und): Video: png, rgb24(pc, progressive), 352x288 [SAR 128:117 DAR 1408:1053], q=2-31, 200 kb/s, 25 fps, 25 tbn (default)\n",
      "    Metadata:\n",
      "      handler_name    : VideoHandler\n",
      "      vendor_id       : [0][0][0][0]\n",
      "      encoder         : Lavc58.134.100 png\n",
      "frame=    5 fps=0.0 q=-0.0 Lsize=N/A time=00:00:00.20 bitrate=N/A speed=1.63x    \n",
      "video:498kB audio:0kB subtitle:0kB other streams:0kB global headers:0kB muxing overhead: unknown\n",
      "ffmpeg version 4.4-6ubuntu5 Copyright (c) 2000-2021 the FFmpeg developers\n",
      "  built with gcc 11 (Ubuntu 11.2.0-7ubuntu1)\n",
      "  configuration: --prefix=/usr --extra-version=6ubuntu5 --toolchain=hardened --libdir=/usr/lib/x86_64-linux-gnu --incdir=/usr/include/x86_64-linux-gnu --arch=amd64 --enable-gpl --disable-stripping --enable-gnutls --enable-ladspa --enable-libaom --enable-libass --enable-libbluray --enable-libbs2b --enable-libcaca --enable-libcdio --enable-libcodec2 --enable-libdav1d --enable-libflite --enable-libfontconfig --enable-libfreetype --enable-libfribidi --enable-libgme --enable-libgsm --enable-libjack --enable-libmp3lame --enable-libmysofa --enable-libopenjpeg --enable-libopenmpt --enable-libopus --enable-libpulse --enable-librabbitmq --enable-librubberband --enable-libshine --enable-libsnappy --enable-libsoxr --enable-libspeex --enable-libsrt --enable-libssh --enable-libtheora --enable-libtwolame --enable-libvidstab --enable-libvorbis --enable-libvpx --enable-libwebp --enable-libx265 --enable-libxml2 --enable-libxvid --enable-libzimg --enable-libzmq --enable-libzvbi --enable-lv2 --enable-omx --enable-openal --enable-opencl --enable-opengl --enable-sdl2 --enable-pocketsphinx --enable-librsvg --enable-libmfx --enable-libdc1394 --enable-libdrm --enable-libiec61883 --enable-nvenc --enable-chromaprint --enable-frei0r --enable-libx264 --enable-shared\n",
      "  libavutil      56. 70.100 / 56. 70.100\n",
      "  libavcodec     58.134.100 / 58.134.100\n",
      "  libavformat    58. 76.100 / 58. 76.100\n",
      "  libavdevice    58. 13.100 / 58. 13.100\n",
      "  libavfilter     7.110.100 /  7.110.100\n",
      "  libswscale      5.  9.100 /  5.  9.100\n",
      "  libswresample   3.  9.100 /  3.  9.100\n",
      "  libpostproc    55.  9.100 / 55.  9.100\n",
      "Input #0, image2, from '/tmp/original_%03d.png':\n",
      "  Duration: 00:00:12.00, start: 0.000000, bitrate: N/A\n",
      "  Stream #0:0: Video: png, rgb24(pc), 352x288 [SAR 128:117 DAR 1408:1053], 25 fps, 25 tbr, 25 tbn, 25 tbc\n",
      "Stream mapping:\n",
      "  Stream #0:0 -> #0:0 (png (native) -> h264 (libx264))\n",
      "Press [q] to stop, [?] for help\n",
      "\u001b[1;36m[libx264 @ 0x5600bd2c5d40] \u001b[0musing SAR=128/117\n",
      "\u001b[1;36m[libx264 @ 0x5600bd2c5d40] \u001b[0musing cpu capabilities: MMX2 SSE2Fast SSSE3 SSE4.2\n",
      "\u001b[1;36m[libx264 @ 0x5600bd2c5d40] \u001b[0mprofile High 4:4:4 Predictive, level 1.3, 4:4:4, 8-bit\n",
      "\u001b[1;36m[libx264 @ 0x5600bd2c5d40] \u001b[0m264 - core 160 r3011 cde9a93 - H.264/MPEG-4 AVC codec - Copyleft 2003-2020 - http://www.videolan.org/x264.html - options: cabac=1 ref=3 deblock=1:0:0 analyse=0x3:0x113 me=hex subme=7 psy=1 psy_rd=1.00:0.00 mixed_ref=1 me_range=16 chroma_me=1 trellis=1 8x8dct=1 cqm=0 deadzone=21,11 fast_pskip=1 chroma_qp_offset=4 threads=1 lookahead_threads=1 sliced_threads=0 nr=0 decimate=1 interlaced=0 bluray_compat=0 constrained_intra=0 bframes=0 weightp=2 keyint=5 keyint_min=1 scenecut=40 intra_refresh=0 rc_lookahead=5 rc=crf mbtree=1 crf=39.0 qcomp=0.60 qpmin=0 qpmax=69 qpstep=4 ip_ratio=1.40 aq=1:1.00\n",
      "Output #0, mp4, to '/tmp/output.mp4':\n",
      "  Metadata:\n",
      "    encoder         : Lavf58.76.100\n",
      "  Stream #0:0: Video: h264 (avc1 / 0x31637661), yuv444p(tv, progressive), 352x288 [SAR 128:117 DAR 1408:1053], q=2-31, 25 fps, 12800 tbn\n",
      "    Metadata:\n",
      "      encoder         : Lavc58.134.100 libx264\n",
      "    Side data:\n",
      "      cpb: bitrate max/min/avg: 0/0/0 buffer size: 0 vbv_delay: N/A\n",
      "frame=    5 fps=0.0 q=44.0 Lsize=       3kB time=00:00:00.16 bitrate= 154.9kbits/s speed=1.45x    \n",
      "video:2kB audio:0kB subtitle:0kB other streams:0kB global headers:0kB muxing overhead: 39.972900%\n",
      "\u001b[1;36m[libx264 @ 0x5600bd2c5d40] \u001b[0mframe I:1     Avg QP:40.92  size:  1446\n",
      "\u001b[1;36m[libx264 @ 0x5600bd2c5d40] \u001b[0mframe P:4     Avg QP:43.12  size:    36\n",
      "\u001b[1;36m[libx264 @ 0x5600bd2c5d40] \u001b[0mmb I  I16..4: 21.5% 74.5%  4.0%\n",
      "\u001b[1;36m[libx264 @ 0x5600bd2c5d40] \u001b[0mmb P  I16..4:  0.0%  0.0%  0.0%  P16..4:  3.3%  0.5%  0.0%  0.0%  0.0%    skip:96.1%\n",
      "\u001b[1;36m[libx264 @ 0x5600bd2c5d40] \u001b[0m8x8 transform intra:74.5% inter:100.0%\n",
      "\u001b[1;36m[libx264 @ 0x5600bd2c5d40] \u001b[0mcoded y,u,v intra: 22.2% 10.2% 6.9% inter: 0.0% 0.0% 0.0%\n",
      "\u001b[1;36m[libx264 @ 0x5600bd2c5d40] \u001b[0mi16 v,h,dc,p: 41% 36%  9% 13%\n",
      "\u001b[1;36m[libx264 @ 0x5600bd2c5d40] \u001b[0mi8 v,h,dc,ddl,ddr,vr,hd,vl,hu: 42% 18% 21%  3%  2%  4%  2%  4%  4%\n",
      "\u001b[1;36m[libx264 @ 0x5600bd2c5d40] \u001b[0mi4 v,h,dc,ddl,ddr,vr,hd,vl,hu: 51% 13%  5% 10%  3%  8%  3%  3%  4%\n",
      "\u001b[1;36m[libx264 @ 0x5600bd2c5d40] \u001b[0mWeighted P-Frames: Y:0.0% UV:0.0%\n",
      "\u001b[1;36m[libx264 @ 0x5600bd2c5d40] \u001b[0mref P L0: 95.1%  0.0%  4.9%\n",
      "\u001b[1;36m[libx264 @ 0x5600bd2c5d40] \u001b[0mkb/s:63.64\n"
     ]
    },
    {
     "name": "stdout",
     "output_type": "stream",
     "text": [
      "ffmpeg version 4.4-6ubuntu5 Copyright (c) 2000-2021 the FFmpeg developers\n",
      "  built with gcc 11 (Ubuntu 11.2.0-7ubuntu1)\n",
      "  configuration: --prefix=/usr --extra-version=6ubuntu5 --toolchain=hardened --libdir=/usr/lib/x86_64-linux-gnu --incdir=/usr/include/x86_64-linux-gnu --arch=amd64 --enable-gpl --disable-stripping --enable-gnutls --enable-ladspa --enable-libaom --enable-libass --enable-libbluray --enable-libbs2b --enable-libcaca --enable-libcdio --enable-libcodec2 --enable-libdav1d --enable-libflite --enable-libfontconfig --enable-libfreetype --enable-libfribidi --enable-libgme --enable-libgsm --enable-libjack --enable-libmp3lame --enable-libmysofa --enable-libopenjpeg --enable-libopenmpt --enable-libopus --enable-libpulse --enable-librabbitmq --enable-librubberband --enable-libshine --enable-libsnappy --enable-libsoxr --enable-libspeex --enable-libsrt --enable-libssh --enable-libtheora --enable-libtwolame --enable-libvidstab --enable-libvorbis --enable-libvpx --enable-libwebp --enable-libx265 --enable-libxml2 --enable-libxvid --enable-libzimg --enable-libzmq --enable-libzvbi --enable-lv2 --enable-omx --enable-openal --enable-opencl --enable-opengl --enable-sdl2 --enable-pocketsphinx --enable-librsvg --enable-libmfx --enable-libdc1394 --enable-libdrm --enable-libiec61883 --enable-nvenc --enable-chromaprint --enable-frei0r --enable-libx264 --enable-shared\n",
      "  libavutil      56. 70.100 / 56. 70.100\n",
      "  libavcodec     58.134.100 / 58.134.100\n",
      "  libavformat    58. 76.100 / 58. 76.100\n",
      "  libavdevice    58. 13.100 / 58. 13.100\n",
      "  libavfilter     7.110.100 /  7.110.100\n",
      "  libswscale      5.  9.100 /  5.  9.100\n",
      "  libswresample   3.  9.100 /  3.  9.100\n",
      "  libpostproc    55.  9.100 / 55.  9.100\n",
      "Input #0, mov,mp4,m4a,3gp,3g2,mj2, from '/tmp/output.mp4':\n",
      "  Metadata:\n",
      "    major_brand     : isom\n",
      "    minor_version   : 512\n",
      "    compatible_brands: isomiso2avc1mp41\n",
      "    encoder         : Lavf58.76.100\n",
      "  Duration: 00:00:00.20, start: 0.000000, bitrate: 123 kb/s\n",
      "  Stream #0:0(und): Video: h264 (High 4:4:4 Predictive) (avc1 / 0x31637661), yuv444p, 352x288 [SAR 128:117 DAR 1408:1053], 88 kb/s, 25 fps, 25 tbr, 12800 tbn, 50 tbc (default)\n",
      "    Metadata:\n",
      "      handler_name    : VideoHandler\n",
      "      vendor_id       : [0][0][0][0]\n",
      "Stream mapping:\n",
      "  Stream #0:0 -> #0:0 (h264 (native) -> png (native))\n",
      "Press [q] to stop, [?] for help\n",
      "Output #0, image2, to '/tmp/original_reconstructed_%03d.png':\n",
      "  Metadata:\n",
      "    major_brand     : isom\n",
      "    minor_version   : 512\n",
      "    compatible_brands: isomiso2avc1mp41\n",
      "    encoder         : Lavf58.76.100\n",
      "  Stream #0:0(und): Video: png, rgb24(pc, progressive), 352x288 [SAR 128:117 DAR 1408:1053], q=2-31, 200 kb/s, 25 fps, 25 tbn (default)\n",
      "    Metadata:\n",
      "      handler_name    : VideoHandler\n",
      "      vendor_id       : [0][0][0][0]\n",
      "      encoder         : Lavc58.134.100 png\n",
      "frame=    5 fps=0.0 q=-0.0 Lsize=N/A time=00:00:00.20 bitrate=N/A speed=1.09x    \n",
      "video:462kB audio:0kB subtitle:0kB other streams:0kB global headers:0kB muxing overhead: unknown\n",
      "     1\tQ_step: 21 BPP: 0.0526199494949495 KBPS: 480.096 Average AMSE: 10.227355587121213\n",
      "     2\tQ_step: 24 BPP: 0.04041982323232323 KBPS: 368.784 Average AMSE: 14.271014178240742\n",
      "     3\tQ_step: 27 BPP: 0.03232323232323232 KBPS: 294.912 Average AMSE: 20.01470367739899\n",
      "     4\tQ_step: 30 BPP: 0.026557239057239057 KBPS: 242.304 Average AMSE: 28.018473800505053\n",
      "     5\tQ_step: 33 BPP: 0.022132786195286195 KBPS: 201.936 Average AMSE: 40.35029263994108\n",
      "     6\tQ_step: 36 BPP: 0.01875 KBPS: 171.072 Average AMSE: 58.18308606902357\n",
      "     7\tQ_step: 39 BPP: 0.016303661616161615 KBPS: 148.752 Average AMSE: 83.56751367845118\n"
     ]
    }
   ],
   "source": [
    "!python RD_curve.py --N_frames=$N_frames 1> >(tee /tmp/output_MP4 >&1) | grep BPP | grep Average | cat -n"
   ]
  },
  {
   "cell_type": "code",
   "execution_count": 76,
   "metadata": {},
   "outputs": [],
   "source": [
    "!grep BPP /tmp/output_MP4 | grep Average | cut -d ' ' -f 4,9 | tr ' ' '\\t'  > /tmp/MP4.txt"
   ]
  },
  {
   "cell_type": "code",
   "execution_count": 77,
   "metadata": {},
   "outputs": [
    {
     "name": "stdout",
     "output_type": "stream",
     "text": [
      "0.0526199494949495\t10.227355587121213\r\n",
      "0.04041982323232323\t14.271014178240742\r\n",
      "0.03232323232323232\t20.01470367739899\r\n",
      "0.026557239057239057\t28.018473800505053\r\n",
      "0.022132786195286195\t40.35029263994108\r\n",
      "0.01875\t58.18308606902357\r\n",
      "0.016303661616161615\t83.56751367845118\r\n"
     ]
    }
   ],
   "source": [
    "!cat /tmp/MP4.txt"
   ]
  },
  {
   "cell_type": "code",
   "execution_count": 78,
   "metadata": {},
   "outputs": [],
   "source": [
    "RD_MP4 = []\n",
    "with open(\"/tmp/MP4.txt\", 'r') as f:\n",
    "    for line in f:\n",
    "        rate, _distortion = line.split('\\t')\n",
    "        RD_MP4.append((float(rate), float(_distortion)))"
   ]
  },
  {
   "cell_type": "code",
   "execution_count": 79,
   "metadata": {},
   "outputs": [
    {
     "data": {
      "image/png": "[encoded data removed]",
      "text/plain": [
       "<Figure size 900x600 with 1 Axes>"
      ]
     },
     "metadata": {
      "needs_background": "light"
     },
     "output_type": "display_data"
    }
   ],
   "source": [
    "%matplotlib inline\n",
    "\n",
    "import matplotlib\n",
    "import matplotlib.pyplot as plt\n",
    "import matplotlib.axes as ax\n",
    "import pylab\n",
    "\n",
    "pylab.figure(dpi=150)\n",
    "pylab.plot(*zip(*RD_image_IPP), label=\"image_IPP\")\n",
    "pylab.plot(*zip(*RD_image_IPP_adaptive), label=\"image_IPP_adaptive\")\n",
    "#pylab.plot(*zip(*RD_image_IPP_QR), label=\"image_IPP_quantized_residue\")\n",
    "pylab.plot(*zip(*RD_MP4), label=\"MP4\")\n",
    "pylab.title(f\"{sequence}\")\n",
    "pylab.xlabel(\"Bits/Pixel\")\n",
    "pylab.ylabel(\"AMSE\")\n",
    "plt.legend(loc='upper right')\n",
    "pylab.show()"
   ]
  },
  {
   "cell_type": "markdown",
   "metadata": {},
   "source": [
    "## Ignore the rest"
   ]
  },
  {
   "cell_type": "markdown",
   "metadata": {},
   "source": [
    "## Testing `image_IPP_quantized_residue`"
   ]
  },
  {
   "cell_type": "markdown",
   "metadata": {},
   "source": [
    "### Select `image_IPP_quantized_residue` in `RD_curve.py`"
   ]
  },
  {
   "cell_type": "code",
   "execution_count": 80,
   "metadata": {},
   "outputs": [],
   "source": [
    "!sed -z -i 's/\\nimport image_IPP as codec\\n/\\n#import image_IPP as codec\\n/g' RD_curve.py\n",
    "!sed -z -i 's/\\nimport image_IPP_adaptive as codec\\n/\\n#import image_IPP_adaptive as codec\\n/g' RD_curve.py\n",
    "!sed -z -i 's/\\nimport MP4 as codec\\n/\\n#import MP4 as codec\\n/g' RD_curve.py\n",
    "!sed -z -i 's/\\nimport IPP_compressor as codec\\n/\\n#import IPP_compressor as codec\\n/g' RD_curve.py\n",
    "!sed -z -i 's/\\nimage_IPP_quantized_prediction as codec\\n/\\n#import image_IPP_quantized_prediction as codec\\n/g' RD_curve.py\n",
    "!sed -z -i 's/\\n#import image_IPP_quantized_residue as codec\\n/\\nimport image_IPP_quantized_residue as codec\\n/g' RD_curve.py"
   ]
  },
  {
   "cell_type": "code",
   "execution_count": 39,
   "metadata": {},
   "outputs": [
    {
     "name": "stdout",
     "output_type": "stream",
     "text": [
      "     5\t#import debug\r\n",
      "     6\timport config\r\n",
      "     7\timport distortion\r\n",
      "     8\timport image_3 as frame\r\n",
      "    11\t#import image_interpolated_IPP as codec\r\n",
      "    12\t#import image_IPP as codec\r\n",
      "    13\t#import image_IPP_adaptive as codec\r\n",
      "    14\t#import image_IPP_quantized_prediction as codec\r\n",
      "    15\timport image_IPP_quantized_residue as codec\r\n",
      "    16\t#import MP4 as codec\r\n",
      "    17\t#import IPP_compressor as codec\r\n",
      "    19\timport logging\r\n",
      "    28\timport argparse\r\n"
     ]
    }
   ],
   "source": [
    "!cat -n RD_curve.py | grep \"import\" "
   ]
  },
  {
   "cell_type": "code",
   "execution_count": 40,
   "metadata": {},
   "outputs": [],
   "source": [
    "!sed -z -i 's/\\ntransform = \"DWT\"\\n/\\n#transform = \"DWT\"\\n/g' config.py\n",
    "!sed -z -i 's/\\ntransform = \"LP\"\\n/\\n#transform = \"LP\"\\n/g' config.py\n",
    "!sed -z -i 's/\\n#transform = None\\n/\\ntransform = None\\n/g' config.py"
   ]
  },
  {
   "cell_type": "code",
   "execution_count": 41,
   "metadata": {},
   "outputs": [
    {
     "name": "stdout",
     "output_type": "stream",
     "text": [
      "     3\t#multiresolution_transform = \"DWT\"\r\n",
      "     4\t#multiresolution_transform = \"LP\"\r\n",
      "     5\tmultiresolution_transform = None\r\n"
     ]
    }
   ],
   "source": [
    "!cat -n config.py | grep \"transform\" "
   ]
  },
  {
   "cell_type": "code",
   "execution_count": 42,
   "metadata": {},
   "outputs": [],
   "source": [
    "!sed -z -i 's/\\ncolor = \"YCoCg\\n/\\n#color = \"YCoCg\\n/g' config.py\n",
    "!sed -z -i 's/\\ncolor = \"YCoCg\\n/\\n#color = \"YCoCg\\n/g' config.py\n",
    "!sed -z -i 's/\\n#color = \"YCoCg\\n/\\ncolor = \"YCoCg\\n/g' config.py"
   ]
  },
  {
   "cell_type": "code",
   "execution_count": 43,
   "metadata": {},
   "outputs": [
    {
     "name": "stdout",
     "output_type": "stream",
     "text": [
      "    10\tcolor = \"YCoCg\"\r\n",
      "    11\t#color = \"YCrCb\"\r\n",
      "    12\t#color = \"RGB\"\r\n"
     ]
    }
   ],
   "source": [
    "!cat -n config.py | grep \"color\" "
   ]
  },
  {
   "cell_type": "code",
   "execution_count": 44,
   "metadata": {
    "scrolled": true
   },
   "outputs": [
    {
     "name": "stdout",
     "output_type": "stream",
     "text": [
      "akiyo_cif.y4m exists.\n",
      "ffmpeg version 4.4-6ubuntu5 Copyright (c) 2000-2021 the FFmpeg developers\n",
      "  built with gcc 11 (Ubuntu 11.2.0-7ubuntu1)\n",
      "  configuration: --prefix=/usr --extra-version=6ubuntu5 --toolchain=hardened --libdir=/usr/lib/x86_64-linux-gnu --incdir=/usr/include/x86_64-linux-gnu --arch=amd64 --enable-gpl --disable-stripping --enable-gnutls --enable-ladspa --enable-libaom --enable-libass --enable-libbluray --enable-libbs2b --enable-libcaca --enable-libcdio --enable-libcodec2 --enable-libdav1d --enable-libflite --enable-libfontconfig --enable-libfreetype --enable-libfribidi --enable-libgme --enable-libgsm --enable-libjack --enable-libmp3lame --enable-libmysofa --enable-libopenjpeg --enable-libopenmpt --enable-libopus --enable-libpulse --enable-librabbitmq --enable-librubberband --enable-libshine --enable-libsnappy --enable-libsoxr --enable-libspeex --enable-libsrt --enable-libssh --enable-libtheora --enable-libtwolame --enable-libvidstab --enable-libvorbis --enable-libvpx --enable-libwebp --enable-libx265 --enable-libxml2 --enable-libxvid --enable-libzimg --enable-libzmq --enable-libzvbi --enable-lv2 --enable-omx --enable-openal --enable-opencl --enable-opengl --enable-sdl2 --enable-pocketsphinx --enable-librsvg --enable-libmfx --enable-libdc1394 --enable-libdrm --enable-libiec61883 --enable-nvenc --enable-chromaprint --enable-frei0r --enable-libx264 --enable-shared\n",
      "  libavutil      56. 70.100 / 56. 70.100\n",
      "  libavcodec     58.134.100 / 58.134.100\n",
      "  libavformat    58. 76.100 / 58. 76.100\n",
      "  libavdevice    58. 13.100 / 58. 13.100\n",
      "  libavfilter     7.110.100 /  7.110.100\n",
      "  libswscale      5.  9.100 /  5.  9.100\n",
      "  libswresample   3.  9.100 /  3.  9.100\n",
      "  libpostproc    55.  9.100 / 55.  9.100\n",
      "Input #0, yuv4mpegpipe, from 'akiyo_cif.y4m':\n",
      "  Duration: 00:00:10.01, start: 0.000000, bitrate: 36460 kb/s\n",
      "  Stream #0:0: Video: rawvideo (I420 / 0x30323449), yuv420p(progressive), 352x288, SAR 128:117 DAR 1408:1053, 29.97 fps, 29.97 tbr, 29.97 tbn, 29.97 tbc\n",
      "Stream mapping:\n",
      "  Stream #0:0 -> #0:0 (rawvideo (native) -> png (native))\n",
      "Press [q] to stop, [?] for help\n",
      "Output #0, image2, to '/tmp/original_%03d.png':\n",
      "  Metadata:\n",
      "    encoder         : Lavf58.76.100\n",
      "  Stream #0:0: Video: png, rgb24(pc, progressive), 352x288 [SAR 128:117 DAR 1408:1053], q=2-31, 200 kb/s, 29.97 fps, 29.97 tbn\n",
      "    Metadata:\n",
      "      encoder         : Lavc58.134.100 png\n",
      "frame=  300 fps= 62 q=-0.0 Lsize=N/A time=00:00:10.01 bitrate=N/A speed=2.07x       \n",
      "video:52297kB audio:0kB subtitle:0kB other streams:0kB global headers:0kB muxing overhead: unknown\n",
      "Traceback (most recent call last):\n",
      "  File \"/home/alejandro/MRVC/src/RD_curve.py\", line 71, in <module>\n",
      "    kbps, bpp, n_bytes = codec.compute_br(video, FPS, frame.get_shape(video), first_frame, n_frames)\n",
      "  File \"/home/alejandro/MRVC/src/image_IPP_quantized_residue.py\", line 224, in compute_br\n",
      "    return codec.compute_br(prefix, frames_per_second, frame_shape, first_frame, n_frames)\n",
      "  File \"/home/alejandro/MRVC/src/image_IPP_quantized_residue.py\", line 202, in compute_br\n",
      "    kbps, bpp , n_bytes = image_IPP.compute_br(prefix, frames_per_second, frame_shape, first_frame, n_frames)\n",
      "  File \"/home/alejandro/MRVC/src/image_IPP.py\", line 518, in compute_br\n",
      "    return codec.compute_br(prefix, frames_per_second, frame_shape, first_frame, n_frames)\n",
      "  File \"/home/alejandro/MRVC/src/image_IPP.py\", line 122, in compute_br\n",
      "    texture_bytes = os.path.getsize(\"/tmp/image_IPP_texture.mp4\")\n",
      "  File \"/home/alejandro/.pyenv/versions/3.10.0/lib/python3.10/genericpath.py\", line 50, in getsize\n",
      "    return os.stat(filename).st_size\n",
      "FileNotFoundError: [Errno 2] No such file or directory: '/tmp/image_IPP_texture.mp4'\n"
     ]
    }
   ],
   "source": [
    "# You can see in real-time the output by running \"tail -f /tmp/output\"\n",
    "!rm /tmp/*.png\n",
    "!../sequences/$sequence/runme.sh\n",
    "!python RD_curve.py --first_frame=0 --N_frames=$N_frames 1> >(tee /tmp/output_image_IPP_quantized_residue >&1) | grep BPP | grep Average | cat -n"
   ]
  },
  {
   "cell_type": "code",
   "execution_count": 45,
   "metadata": {},
   "outputs": [],
   "source": [
    "!grep BPP /tmp/output_image_IPP_quantized_residue | grep Average | cut -d ' ' -f 4,9 | tr ' ' '\\t'  > /tmp/image_IPP_quantized_residue.txt"
   ]
  },
  {
   "cell_type": "code",
   "execution_count": 46,
   "metadata": {},
   "outputs": [],
   "source": [
    "!cat /tmp/image_IPP_quantized_residue.txt"
   ]
  },
  {
   "cell_type": "code",
   "execution_count": 47,
   "metadata": {},
   "outputs": [],
   "source": [
    "RD_image_IPP_QR = []\n",
    "with open(\"/tmp/image_IPP_quantized_residue.txt\", 'r') as f:\n",
    "    for line in f:\n",
    "        rate, _distortion = line.split('\\t')\n",
    "        RD_image_IPP_QR.append((float(rate), float(_distortion)))"
   ]
  },
  {
   "cell_type": "code",
   "execution_count": 48,
   "metadata": {},
   "outputs": [
    {
     "data": {
      "image/png": "[encoded data removed]",
      "text/plain": [
       "<Figure size 900x600 with 1 Axes>"
      ]
     },
     "metadata": {
      "needs_background": "light"
     },
     "output_type": "display_data"
    }
   ],
   "source": [
    "%matplotlib inline\n",
    "\n",
    "import matplotlib\n",
    "import matplotlib.pyplot as plt\n",
    "import matplotlib.axes as ax\n",
    "import pylab\n",
    "\n",
    "pylab.figure(dpi=150)\n",
    "pylab.plot(*zip(*RD_image_IPP), label=\"image_IPP\")\n",
    "pylab.plot(*zip(*RD_image_IPP_adaptive), label=\"image_IPP_adaptive\")\n",
    "#pylab.plot(*zip(*RD_image_IPP_QR), label=\"image_IPP_quantized_residue\")\n",
    "pylab.plot(*zip(*RD_MP4), label=\"MP4\")\n",
    "pylab.title(f\"{sequence}\")\n",
    "pylab.xlabel(\"Bits/Pixel\")\n",
    "pylab.ylabel(\"AMSE\")\n",
    "plt.legend(loc='upper right')\n",
    "pylab.show()"
   ]
  },
  {
   "cell_type": "code",
   "execution_count": 49,
   "metadata": {},
   "outputs": [
    {
     "ename": "NameError",
     "evalue": "name 'RD_points_no_intrablocks' is not defined",
     "output_type": "error",
     "traceback": [
      "\u001b[0;31m---------------------------------------------------------------------------\u001b[0m",
      "\u001b[0;31mNameError\u001b[0m                                 Traceback (most recent call last)",
      "Input \u001b[0;32mIn [49]\u001b[0m, in \u001b[0;36m<module>\u001b[0;34m\u001b[0m\n\u001b[1;32m      6\u001b[0m \u001b[38;5;28;01mimport\u001b[39;00m \u001b[38;5;21;01mpylab\u001b[39;00m\n\u001b[1;32m      8\u001b[0m pylab\u001b[38;5;241m.\u001b[39mfigure(dpi\u001b[38;5;241m=\u001b[39m\u001b[38;5;241m150\u001b[39m)\n\u001b[0;32m----> 9\u001b[0m pylab\u001b[38;5;241m.\u001b[39mplot(\u001b[38;5;241m*\u001b[39m\u001b[38;5;28mzip\u001b[39m(\u001b[38;5;241m*\u001b[39m\u001b[43mRD_points_no_intrablocks\u001b[49m), label\u001b[38;5;241m=\u001b[39m\u001b[38;5;124m\"\u001b[39m\u001b[38;5;124mNo Intra-blocks\u001b[39m\u001b[38;5;124m\"\u001b[39m)\n\u001b[1;32m     10\u001b[0m pylab\u001b[38;5;241m.\u001b[39mplot(\u001b[38;5;241m*\u001b[39m\u001b[38;5;28mzip\u001b[39m(\u001b[38;5;241m*\u001b[39mRD_points_with_intrablocks), label\u001b[38;5;241m=\u001b[39m\u001b[38;5;124m\"\u001b[39m\u001b[38;5;124mWith Intra-blocks\u001b[39m\u001b[38;5;124m\"\u001b[39m)\n\u001b[1;32m     11\u001b[0m pylab\u001b[38;5;241m.\u001b[39mplot(\u001b[38;5;241m*\u001b[39m\u001b[38;5;28mzip\u001b[39m(\u001b[38;5;241m*\u001b[39mRD_points_MP4), label\u001b[38;5;241m=\u001b[39m\u001b[38;5;124m\"\u001b[39m\u001b[38;5;124mMP4\u001b[39m\u001b[38;5;124m\"\u001b[39m)\n",
      "\u001b[0;31mNameError\u001b[0m: name 'RD_points_no_intrablocks' is not defined"
     ]
    },
    {
     "data": {
      "text/plain": [
       "<Figure size 900x600 with 0 Axes>"
      ]
     },
     "metadata": {},
     "output_type": "display_data"
    }
   ],
   "source": [
    "%matplotlib inline\n",
    "\n",
    "import matplotlib\n",
    "import matplotlib.pyplot as plt\n",
    "import matplotlib.axes as ax\n",
    "import pylab\n",
    "\n",
    "pylab.figure(dpi=150)\n",
    "pylab.plot(*zip(*RD_points_no_intrablocks), label=\"No Intra-blocks\")\n",
    "pylab.plot(*zip(*RD_points_with_intrablocks), label=\"With Intra-blocks\")\n",
    "pylab.plot(*zip(*RD_points_MP4), label=\"MP4\")\n",
    "pylab.title(f\"{sequence}\")\n",
    "pylab.xlabel(\"Bits/Pixel\")\n",
    "pylab.ylabel(\"AMSE\")\n",
    "plt.legend(loc='upper right')\n",
    "pylab.show()"
   ]
  },
  {
   "cell_type": "code",
   "execution_count": null,
   "metadata": {},
   "outputs": [],
   "source": []
  }
 ],
 "metadata": {
  "kernelspec": {
   "display_name": "Python 3 (ipykernel)",
   "language": "python",
   "name": "python3"
  },
  "language_info": {
   "codemirror_mode": {
    "name": "ipython",
    "version": 3
   },
   "file_extension": ".py",
   "mimetype": "text/x-python",
   "name": "python",
   "nbconvert_exporter": "python",
   "pygments_lexer": "ipython3",
   "version": "3.10.0"
  }
 },
 "nbformat": 4,
 "nbformat_minor": 4
}
