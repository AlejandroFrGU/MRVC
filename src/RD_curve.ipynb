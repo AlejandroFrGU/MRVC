{
 "cells": [
  {
   "cell_type": "markdown",
   "metadata": {},
   "source": [
    "# Image IPP coding"
   ]
  },
  {
   "cell_type": "code",
   "execution_count": 1,
   "metadata": {},
   "outputs": [],
   "source": [
    "sequence = \"bus\""
   ]
  },
  {
   "cell_type": "markdown",
   "metadata": {},
   "source": [
    "## Without I-type blocks"
   ]
  },
  {
   "cell_type": "code",
   "execution_count": 2,
   "metadata": {},
   "outputs": [],
   "source": [
    "!sed -z -i 's/\\n#import image_IPP as IPP\\n/\\nimport image_IPP as IPP\\n/g' RD_curve.py\n",
    "!sed -z -i 's/\\nimport image_IPP_adaptive as IPP\\n/\\n#import image_IPP_adaptive as IPP as IPP\\n/g' RD_curve.py"
   ]
  },
  {
   "cell_type": "code",
   "execution_count": 3,
   "metadata": {},
   "outputs": [
    {
     "name": "stdout",
     "output_type": "stream",
     "text": [
      "import distortion\r\n",
      "import frame\r\n",
      "#import image_interpolated_IPP as IPP\r\n",
      "import image_IPP as IPP\r\n",
      "#import image_IPP_adaptive as IPP as IPP\r\n"
     ]
    }
   ],
   "source": [
    "!grep import RD_curve.py"
   ]
  },
  {
   "cell_type": "code",
   "execution_count": 4,
   "metadata": {
    "scrolled": true
   },
   "outputs": [
    {
     "name": "stdout",
     "output_type": "stream",
     "text": [
      "libpng error: IDAT: CRC error\n",
      "Traceback (most recent call last):\n",
      "  File \"/home/vruiz/MRVC/src/RD_curve.py\", line 30, in <module>\n",
      "    _distortion = distortion.AMSE(video, f\"{video}reconstructed_\",\n",
      "  File \"/home/vruiz/MRVC/src/distortion.py\", line 21, in AMSE\n",
      "    y = frame.read(y_prefix, k)\n",
      "  File \"/home/vruiz/MRVC/src/frame.py\", line 22, in read\n",
      "    print(img.shape, img.dtype, os.path.getsize(fn), colored.style.RESET)\n",
      "AttributeError: 'NoneType' object has no attribute 'shape'\n",
      "     1\tQ_step: 21 BPP: 0.4415982744107744 KBPS: 4029.072 Average AMSE: 49.7563548900463\n",
      "     2\tQ_step: 22 BPP: 0.4006155303030303 KBPS: 3655.152 Average AMSE: 57.38056487180835\n",
      "     3\tQ_step: 23 BPP: 0.36308396464646464 KBPS: 3312.72 Average AMSE: 66.60168569374301\n",
      "     4\tQ_step: 24 BPP: 0.3277172769360269 KBPS: 2990.04 Average AMSE: 77.0008304617354\n",
      "     5\tQ_step: 25 BPP: 0.2943927118406285 KBPS: 2685.992 Average AMSE: 90.49760101010104\n",
      "     6\tQ_step: 26 BPP: 0.26485514870931537 KBPS: 2416.496 Average AMSE: 106.05246869739057\n",
      "     7\tQ_step: 27 BPP: 0.23674856200897867 KBPS: 2160.056 Average AMSE: 124.58244346678589\n",
      "     8\tQ_step: 28 BPP: 0.21149252946127947 KBPS: 1929.624 Average AMSE: 146.76258253103956\n",
      "     9\tQ_step: 29 BPP: 0.18781477974186309 KBPS: 1713.592 Average AMSE: 172.4633477790053\n",
      "    10\tQ_step: 30 BPP: 0.1661765221661055 KBPS: 1516.168 Average AMSE: 203.39484493371216\n",
      "    11\tQ_step: 31 BPP: 0.14720994668911336 KBPS: 1343.12 Average AMSE: 238.66845297593997\n",
      "    12\tQ_step: 32 BPP: 0.12917543490460157 KBPS: 1178.576 Average AMSE: 280.27864605253933\n",
      "    13\tQ_step: 33 BPP: 0.11386609147025814 KBPS: 1038.896 Average AMSE: 324.48683054503374\n",
      "    14\tQ_step: 34 BPP: 0.10094346240179573 KBPS: 920.992 Average AMSE: 372.00364123000844\n",
      "    15\tQ_step: 35 BPP: 0.08930713383838383 KBPS: 814.824 Average AMSE: 425.68165180450336\n",
      "    16\tQ_step: 36 BPP: 0.07825126262626263 KBPS: 713.952 Average AMSE: 483.44873967539985\n",
      "    17\tQ_step: 37 BPP: 0.06963646885521886 KBPS: 635.352 Average AMSE: 537.5542773656705\n",
      "    18\tQ_step: 38 BPP: 0.06191077441077441 KBPS: 564.864 Average AMSE: 595.0101701695777\n",
      "    19\tQ_step: 39 BPP: 0.10575459455667789 KBPS: 964.888 Average AMSE: 597.8287505041737\n",
      "    20\tQ_step: 40 BPP: 0.06205545033670034 KBPS: 566.184 Average AMSE: 716.2003593881524\n"
     ]
    }
   ],
   "source": [
    "!python RD_curve.py 1> >(tee /tmp/output >&1) | grep BPP | grep Average | cat -n"
   ]
  },
  {
   "cell_type": "code",
   "execution_count": 5,
   "metadata": {},
   "outputs": [],
   "source": [
    "!grep BPP /tmp/output | grep Average | cut -d ' ' -f 4,9 | tr ' ' '\\t'  > /tmp/curve_no_intrablocks.txt"
   ]
  },
  {
   "cell_type": "code",
   "execution_count": 6,
   "metadata": {},
   "outputs": [
    {
     "name": "stdout",
     "output_type": "stream",
     "text": [
      "0.4415982744107744\t49.7563548900463\r\n",
      "0.4006155303030303\t57.38056487180835\r\n",
      "0.36308396464646464\t66.60168569374301\r\n",
      "0.3277172769360269\t77.0008304617354\r\n",
      "0.2943927118406285\t90.49760101010104\r\n",
      "0.26485514870931537\t106.05246869739057\r\n",
      "0.23674856200897867\t124.58244346678589\r\n",
      "0.21149252946127947\t146.76258253103956\r\n",
      "0.18781477974186309\t172.4633477790053\r\n",
      "0.1661765221661055\t203.39484493371216\r\n",
      "0.14720994668911336\t238.66845297593997\r\n",
      "0.12917543490460157\t280.27864605253933\r\n",
      "0.11386609147025814\t324.48683054503374\r\n",
      "0.10094346240179573\t372.00364123000844\r\n",
      "0.08930713383838383\t425.68165180450336\r\n",
      "0.07825126262626263\t483.44873967539985\r\n",
      "0.06963646885521886\t537.5542773656705\r\n",
      "0.06191077441077441\t595.0101701695777\r\n",
      "0.10575459455667789\t597.8287505041737\r\n",
      "0.06205545033670034\t716.2003593881524\r\n"
     ]
    }
   ],
   "source": [
    "!cat /tmp/curve_no_intrablocks.txt"
   ]
  },
  {
   "cell_type": "code",
   "execution_count": 7,
   "metadata": {},
   "outputs": [],
   "source": [
    "RD_points_no_intrablocks = []\n",
    "with open(\"/tmp/curve_no_intrablocks.txt\", 'r') as f:\n",
    "    for line in f:\n",
    "        rate, _distortion = line.split('\\t')\n",
    "        RD_points_no_intrablocks.append((float(rate), float(_distortion)))"
   ]
  },
  {
   "cell_type": "markdown",
   "metadata": {},
   "source": [
    "## With I-type blocks"
   ]
  },
  {
   "cell_type": "code",
   "execution_count": 8,
   "metadata": {},
   "outputs": [],
   "source": [
    "!sed -z -i 's/\\nimport image_IPP as IPP/\\n#import image_IPP as IPP/g' RD_curve.py\n",
    "!sed -z -i 's/\\n#import image_IPP_adaptive as IPP\\n/\\nimport image_IPP_adaptive as IPP\\n/g' RD_curve.py"
   ]
  },
  {
   "cell_type": "code",
   "execution_count": 9,
   "metadata": {},
   "outputs": [
    {
     "name": "stdout",
     "output_type": "stream",
     "text": [
      "import distortion\r\n",
      "import frame\r\n",
      "#import image_interpolated_IPP as IPP\r\n",
      "#import image_IPP as IPP\r\n",
      "import image_IPP_adaptive as IPP\r\n"
     ]
    }
   ],
   "source": [
    "!grep import RD_curve.py"
   ]
  },
  {
   "cell_type": "code",
   "execution_count": 10,
   "metadata": {},
   "outputs": [
    {
     "name": "stdout",
     "output_type": "stream",
     "text": [
      "     1\tQ_step: 21 BPP: 0.4212612233445567 KBPS: 3843.52 Average AMSE: 40.84510096625981\r\n",
      "     2\tQ_step: 22 BPP: 0.382215382996633 KBPS: 3487.272 Average AMSE: 47.55179990004209\r\n",
      "     3\tQ_step: 23 BPP: 0.34606043069584735 KBPS: 3157.4 Average AMSE: 55.20095058659511\r\n",
      "     4\tQ_step: 24 BPP: 0.3133207070707071 KBPS: 2858.6879999999996 Average AMSE: 63.92290789842875\r\n",
      "     5\tQ_step: 25 BPP: 0.2815375982042648 KBPS: 2568.7039999999997 Average AMSE: 74.84315014292228\r\n",
      "     6\tQ_step: 26 BPP: 0.25293735970819303 KBPS: 2307.76 Average AMSE: 87.97491944181397\r\n",
      "     7\tQ_step: 27 BPP: 0.22736654741863074 KBPS: 2074.456 Average AMSE: 102.39967458876964\r\n",
      "     8\tQ_step: 28 BPP: 0.20389134399551065 KBPS: 1860.272 Average AMSE: 120.09376841329964\r\n",
      "     9\tQ_step: 29 BPP: 0.1831632295173962 KBPS: 1671.152 Average AMSE: 140.37393992003368\r\n",
      "    10\tQ_step: 30 BPP: 0.16324968434343434 KBPS: 1489.464 Average AMSE: 163.74022253787874\r\n",
      "    11\tQ_step: 31 BPP: 0.1464453563411897 KBPS: 1336.144 Average AMSE: 190.59326884294333\r\n",
      "    12\tQ_step: 32 BPP: 0.13124736952861954 KBPS: 1197.48 Average AMSE: 222.0218300627806\r\n",
      "    13\tQ_step: 33 BPP: 0.11825810185185184 KBPS: 1078.968 Average AMSE: 256.2812246817129\r\n",
      "    14\tQ_step: 34 BPP: 0.10741003787878789 KBPS: 979.9920000000001 Average AMSE: 296.4588974598415\r\n",
      "    15\tQ_step: 35 BPP: 0.09746071829405163 KBPS: 889.216 Average AMSE: 337.092570123983\r\n",
      "    16\tQ_step: 36 BPP: 0.0874351150392817 KBPS: 797.744 Average AMSE: 382.0921660178171\r\n",
      "    17\tQ_step: 37 BPP: 0.07916491301907969 KBPS: 722.288 Average AMSE: 428.2882572469486\r\n",
      "    18\tQ_step: 38 BPP: 0.0726466049382716 KBPS: 662.816 Average AMSE: 474.13923424786054\r\n",
      "    19\tQ_step: 39 BPP: 0.06699021464646464 KBPS: 611.208 Average AMSE: 526.9521364907757\r\n",
      "    20\tQ_step: 40 BPP: 0.06245089786756454 KBPS: 569.792 Average AMSE: 577.1087740468924\r\n",
      "    21\tQ_step: 41 BPP: 0.05818515011223345 KBPS: 530.872 Average AMSE: 639.831924825512\r\n"
     ]
    }
   ],
   "source": [
    "!python RD_curve.py 1> >(tee /tmp/output >&1) | grep BPP | grep Average | cat -n"
   ]
  },
  {
   "cell_type": "code",
   "execution_count": 11,
   "metadata": {},
   "outputs": [],
   "source": [
    "!grep BPP /tmp/output | grep Average | cut -d ' ' -f 4,9 | tr ' ' '\\t'  > /tmp/curve_with_intrablocks.txt"
   ]
  },
  {
   "cell_type": "code",
   "execution_count": 12,
   "metadata": {},
   "outputs": [
    {
     "name": "stdout",
     "output_type": "stream",
     "text": [
      "0.4212612233445567\t40.84510096625981\r\n",
      "0.382215382996633\t47.55179990004209\r\n",
      "0.34606043069584735\t55.20095058659511\r\n",
      "0.3133207070707071\t63.92290789842875\r\n",
      "0.2815375982042648\t74.84315014292228\r\n",
      "0.25293735970819303\t87.97491944181397\r\n",
      "0.22736654741863074\t102.39967458876964\r\n",
      "0.20389134399551065\t120.09376841329964\r\n",
      "0.1831632295173962\t140.37393992003368\r\n",
      "0.16324968434343434\t163.74022253787874\r\n",
      "0.1464453563411897\t190.59326884294333\r\n",
      "0.13124736952861954\t222.0218300627806\r\n",
      "0.11825810185185184\t256.2812246817129\r\n",
      "0.10741003787878789\t296.4588974598415\r\n",
      "0.09746071829405163\t337.092570123983\r\n",
      "0.0874351150392817\t382.0921660178171\r\n",
      "0.07916491301907969\t428.2882572469486\r\n",
      "0.0726466049382716\t474.13923424786054\r\n",
      "0.06699021464646464\t526.9521364907757\r\n",
      "0.06245089786756454\t577.1087740468924\r\n",
      "0.05818515011223345\t639.831924825512\r\n"
     ]
    }
   ],
   "source": [
    "!cat /tmp/curve_with_intrablocks.txt"
   ]
  },
  {
   "cell_type": "code",
   "execution_count": 13,
   "metadata": {},
   "outputs": [],
   "source": [
    "RD_points_with_intrablocks = []\n",
    "with open(\"/tmp/curve_with_intrablocks.txt\", 'r') as f:\n",
    "    for line in f:\n",
    "        rate, _distortion = line.split('\\t')\n",
    "        RD_points_with_intrablocks.append((float(rate), float(_distortion)))"
   ]
  },
  {
   "cell_type": "markdown",
   "metadata": {},
   "source": [
    "## MP4"
   ]
  },
  {
   "cell_type": "code",
   "execution_count": 8,
   "metadata": {},
   "outputs": [],
   "source": [
    "!sed -z -i 's/\\nimport image_IPP as IPP/\\n#import image_IPP as IPP/g' RD_curve.py\n",
    "!sed -z -i 's/\\nimport image_IPP_adaptive as IPP\\n/\\n#import image_IPP_adaptive as IPP\\n/g' RD_curve.py"
   ]
  },
  {
   "cell_type": "code",
   "execution_count": 9,
   "metadata": {},
   "outputs": [
    {
     "name": "stdout",
     "output_type": "stream",
     "text": [
      "import distortion\r\n",
      "import frame\r\n",
      "#import image_interpolated_IPP as IPP\r\n",
      "#import image_IPP as IPP\r\n",
      "import image_IPP_adaptive as IPP\r\n"
     ]
    }
   ],
   "source": [
    "!grep import RD_curve.py"
   ]
  },
  {
   "cell_type": "code",
   "execution_count": 10,
   "metadata": {},
   "outputs": [
    {
     "name": "stdout",
     "output_type": "stream",
     "text": [
      "     1\tQ_step: 21 BPP: 0.4212612233445567 KBPS: 3843.52 Average AMSE: 40.84510096625981\r\n",
      "     2\tQ_step: 22 BPP: 0.382215382996633 KBPS: 3487.272 Average AMSE: 47.55179990004209\r\n",
      "     3\tQ_step: 23 BPP: 0.34606043069584735 KBPS: 3157.4 Average AMSE: 55.20095058659511\r\n",
      "     4\tQ_step: 24 BPP: 0.3133207070707071 KBPS: 2858.6879999999996 Average AMSE: 63.92290789842875\r\n",
      "     5\tQ_step: 25 BPP: 0.2815375982042648 KBPS: 2568.7039999999997 Average AMSE: 74.84315014292228\r\n",
      "     6\tQ_step: 26 BPP: 0.25293735970819303 KBPS: 2307.76 Average AMSE: 87.97491944181397\r\n",
      "     7\tQ_step: 27 BPP: 0.22736654741863074 KBPS: 2074.456 Average AMSE: 102.39967458876964\r\n",
      "     8\tQ_step: 28 BPP: 0.20389134399551065 KBPS: 1860.272 Average AMSE: 120.09376841329964\r\n",
      "     9\tQ_step: 29 BPP: 0.1831632295173962 KBPS: 1671.152 Average AMSE: 140.37393992003368\r\n",
      "    10\tQ_step: 30 BPP: 0.16324968434343434 KBPS: 1489.464 Average AMSE: 163.74022253787874\r\n",
      "    11\tQ_step: 31 BPP: 0.1464453563411897 KBPS: 1336.144 Average AMSE: 190.59326884294333\r\n",
      "    12\tQ_step: 32 BPP: 0.13124736952861954 KBPS: 1197.48 Average AMSE: 222.0218300627806\r\n",
      "    13\tQ_step: 33 BPP: 0.11825810185185184 KBPS: 1078.968 Average AMSE: 256.2812246817129\r\n",
      "    14\tQ_step: 34 BPP: 0.10741003787878789 KBPS: 979.9920000000001 Average AMSE: 296.4588974598415\r\n",
      "    15\tQ_step: 35 BPP: 0.09746071829405163 KBPS: 889.216 Average AMSE: 337.092570123983\r\n",
      "    16\tQ_step: 36 BPP: 0.0874351150392817 KBPS: 797.744 Average AMSE: 382.0921660178171\r\n",
      "    17\tQ_step: 37 BPP: 0.07916491301907969 KBPS: 722.288 Average AMSE: 428.2882572469486\r\n",
      "    18\tQ_step: 38 BPP: 0.0726466049382716 KBPS: 662.816 Average AMSE: 474.13923424786054\r\n",
      "    19\tQ_step: 39 BPP: 0.06699021464646464 KBPS: 611.208 Average AMSE: 526.9521364907757\r\n",
      "    20\tQ_step: 40 BPP: 0.06245089786756454 KBPS: 569.792 Average AMSE: 577.1087740468924\r\n",
      "    21\tQ_step: 41 BPP: 0.05818515011223345 KBPS: 530.872 Average AMSE: 639.831924825512\r\n"
     ]
    }
   ],
   "source": [
    "!python RD_curve.py 1> >(tee /tmp/output >&1) | grep BPP | grep Average | cat -n"
   ]
  },
  {
   "cell_type": "code",
   "execution_count": 11,
   "metadata": {},
   "outputs": [],
   "source": [
    "!grep BPP /tmp/output | grep Average | cut -d ' ' -f 4,9 | tr ' ' '\\t'  > /tmp/curve_with_intrablocks.txt"
   ]
  },
  {
   "cell_type": "code",
   "execution_count": 12,
   "metadata": {},
   "outputs": [
    {
     "name": "stdout",
     "output_type": "stream",
     "text": [
      "0.4212612233445567\t40.84510096625981\r\n",
      "0.382215382996633\t47.55179990004209\r\n",
      "0.34606043069584735\t55.20095058659511\r\n",
      "0.3133207070707071\t63.92290789842875\r\n",
      "0.2815375982042648\t74.84315014292228\r\n",
      "0.25293735970819303\t87.97491944181397\r\n",
      "0.22736654741863074\t102.39967458876964\r\n",
      "0.20389134399551065\t120.09376841329964\r\n",
      "0.1831632295173962\t140.37393992003368\r\n",
      "0.16324968434343434\t163.74022253787874\r\n",
      "0.1464453563411897\t190.59326884294333\r\n",
      "0.13124736952861954\t222.0218300627806\r\n",
      "0.11825810185185184\t256.2812246817129\r\n",
      "0.10741003787878789\t296.4588974598415\r\n",
      "0.09746071829405163\t337.092570123983\r\n",
      "0.0874351150392817\t382.0921660178171\r\n",
      "0.07916491301907969\t428.2882572469486\r\n",
      "0.0726466049382716\t474.13923424786054\r\n",
      "0.06699021464646464\t526.9521364907757\r\n",
      "0.06245089786756454\t577.1087740468924\r\n",
      "0.05818515011223345\t639.831924825512\r\n"
     ]
    }
   ],
   "source": [
    "!cat /tmp/curve_with_intrablocks.txt"
   ]
  },
  {
   "cell_type": "code",
   "execution_count": null,
   "metadata": {},
   "outputs": [],
   "source": [
    "RD_points_MP4 = []\n",
    "with open(\"/tmp/mp4.txt\", 'r') as f:\n",
    "    for line in f:\n",
    "        rate, _distortion = line.split('\\t')\n",
    "        RD_points_MP4.append((float(rate), float(_distortion)))"
   ]
  },
  {
   "cell_type": "code",
   "execution_count": 14,
   "metadata": {},
   "outputs": [
    {
     "data": {
      "image/png": "[encoded data removed]",
      "text/plain": [
       "<Figure size 900x600 with 1 Axes>"
      ]
     },
     "metadata": {
      "needs_background": "light"
     },
     "output_type": "display_data"
    }
   ],
   "source": [
    "%matplotlib inline\n",
    "\n",
    "import matplotlib\n",
    "import matplotlib.pyplot as plt\n",
    "import matplotlib.axes as ax\n",
    "import pylab\n",
    "\n",
    "pylab.figure(dpi=150)\n",
    "pylab.plot(*zip(*RD_points_no_intrablocks), label=\"No Intra-blocks\")\n",
    "pylab.plot(*zip(*RD_points_with_intrablocks), label=\"With Intra-blocks\")\n",
    "pylab.title(f\"{sequence}\")\n",
    "pylab.xlabel(\"Bits/Pixel\")\n",
    "pylab.ylabel(\"AMSE\")\n",
    "plt.legend(loc='upper right')\n",
    "pylab.show()"
   ]
  },
  {
   "cell_type": "code",
   "execution_count": null,
   "metadata": {},
   "outputs": [],
   "source": []
  },
  {
   "cell_type": "code",
   "execution_count": null,
   "metadata": {},
   "outputs": [],
   "source": []
  }
 ],
 "metadata": {
  "kernelspec": {
   "display_name": "Python 3",
   "language": "python",
   "name": "python3"
  },
  "language_info": {
   "codemirror_mode": {
    "name": "ipython",
    "version": 3
   },
   "file_extension": ".py",
   "mimetype": "text/x-python",
   "name": "python",
   "nbconvert_exporter": "python",
   "pygments_lexer": "ipython3",
   "version": "3.9.2"
  }
 },
 "nbformat": 4,
 "nbformat_minor": 4
}
