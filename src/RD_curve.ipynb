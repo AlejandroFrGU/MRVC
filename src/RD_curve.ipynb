{
 "cells": [
  {
   "cell_type": "markdown",
   "metadata": {},
   "source": [
    "## Without I-type blocks"
   ]
  },
  {
   "cell_type": "code",
   "execution_count": 21,
   "metadata": {},
   "outputs": [],
   "source": [
    "!sed -z -i 's/\\n#import image_IPP as IPP/\\nimport image_IPP as IPP/g' RD_curve.py\n",
    "!sed -z -i 's/\\nimport image_IPP_adaptive as IPP/\\n#import image_IPP_adaptive as IPP as IPP/g' RD_curve.py"
   ]
  },
  {
   "cell_type": "code",
   "execution_count": 22,
   "metadata": {},
   "outputs": [],
   "source": [
    "!head -n 15 RD_curve.py"
   ]
  },
  {
   "cell_type": "code",
   "execution_count": 1,
   "metadata": {},
   "outputs": [],
   "source": [
    "!python RD_curve.py > /tmp/output"
   ]
  },
  {
   "cell_type": "code",
   "execution_count": 2,
   "metadata": {},
   "outputs": [],
   "source": [
    "!grep BPP /tmp/output | cut -d ' ' -f 2 > /tmp/BPPs"
   ]
  },
  {
   "cell_type": "code",
   "execution_count": 3,
   "metadata": {},
   "outputs": [
    {
     "name": "stdout",
     "output_type": "stream",
     "text": [
      "0.24147551907968576\r\n",
      "0.23328861531986533\r\n",
      "0.22723765432098766\r\n",
      "0.22148481341189674\r\n",
      "0.21690867003367004\r\n",
      "0.21218609708193042\r\n",
      "0.20861742424242424\r\n",
      "0.20538808221099888\r\n",
      "0.20245861391694725\r\n",
      "0.19996054292929294\r\n",
      "0.19797541386083053\r\n",
      "0.19652865460157126\r\n",
      "0.19490039281705948\r\n",
      "0.1935842803030303\r\n",
      "0.1920954335016835\r\n",
      "0.1918744739057239\r\n",
      "0.1906530583613917\r\n",
      "0.19013573232323233\r\n",
      "0.18939481621773288\r\n",
      "0.18906600729517395\r\n",
      "0.1888240039281706\r\n"
     ]
    }
   ],
   "source": [
    "!cat /tmp/BPPs"
   ]
  },
  {
   "cell_type": "code",
   "execution_count": 4,
   "metadata": {},
   "outputs": [],
   "source": [
    "!grep Average /tmp/output | grep MSE | cut -d ' ' -f 3 > /tmp/AMSE"
   ]
  },
  {
   "cell_type": "code",
   "execution_count": 5,
   "metadata": {},
   "outputs": [
    {
     "name": "stdout",
     "output_type": "stream",
     "text": [
      "10.982899524761503\r\n",
      "12.053593991126542\r\n",
      "13.32535138713524\r\n",
      "15.046137481586701\r\n",
      "17.03821735146605\r\n",
      "19.445175386679296\r\n",
      "22.681290333894502\r\n",
      "25.220179003577435\r\n",
      "28.759305950126265\r\n",
      "33.11114958175505\r\n",
      "37.551702134189114\r\n",
      "43.69153547190656\r\n",
      "50.452893518518515\r\n",
      "57.241263437324626\r\n",
      "66.26102737443883\r\n",
      "76.46080038667928\r\n",
      "86.54504232866863\r\n",
      "97.80924851816779\r\n",
      "112.75621963997614\r\n",
      "126.48899805345114\r\n",
      "144.524414172103\r\n"
     ]
    }
   ],
   "source": [
    "!cat /tmp/AMSE"
   ]
  },
  {
   "cell_type": "code",
   "execution_count": 6,
   "metadata": {},
   "outputs": [],
   "source": [
    "!paste /tmp/BPPs /tmp/AMSE > /tmp/curve_no_intrablocks.txt"
   ]
  },
  {
   "cell_type": "code",
   "execution_count": 7,
   "metadata": {},
   "outputs": [
    {
     "name": "stdout",
     "output_type": "stream",
     "text": [
      "0.24147551907968576\t10.982899524761503\r\n",
      "0.23328861531986533\t12.053593991126542\r\n",
      "0.22723765432098766\t13.32535138713524\r\n",
      "0.22148481341189674\t15.046137481586701\r\n",
      "0.21690867003367004\t17.03821735146605\r\n",
      "0.21218609708193042\t19.445175386679296\r\n",
      "0.20861742424242424\t22.681290333894502\r\n",
      "0.20538808221099888\t25.220179003577435\r\n",
      "0.20245861391694725\t28.759305950126265\r\n",
      "0.19996054292929294\t33.11114958175505\r\n",
      "0.19797541386083053\t37.551702134189114\r\n",
      "0.19652865460157126\t43.69153547190656\r\n",
      "0.19490039281705948\t50.452893518518515\r\n",
      "0.1935842803030303\t57.241263437324626\r\n",
      "0.1920954335016835\t66.26102737443883\r\n",
      "0.1918744739057239\t76.46080038667928\r\n",
      "0.1906530583613917\t86.54504232866863\r\n",
      "0.19013573232323233\t97.80924851816779\r\n",
      "0.18939481621773288\t112.75621963997614\r\n",
      "0.18906600729517395\t126.48899805345114\r\n",
      "0.1888240039281706\t144.524414172103\r\n"
     ]
    }
   ],
   "source": [
    "!cat /tmp/curve_no_intrablocks.txt"
   ]
  },
  {
   "cell_type": "code",
   "execution_count": 8,
   "metadata": {},
   "outputs": [],
   "source": [
    "RD_points_no_intrablocks = []\n",
    "with open(\"/tmp/curve_no_intrablocks.txt\", 'r') as f:\n",
    "    for line in f:\n",
    "        rate, _distortion = line.split('\\t')\n",
    "        RD_points_no_intrablocks.append((float(rate), float(_distortion)))"
   ]
  },
  {
   "cell_type": "markdown",
   "metadata": {},
   "source": [
    "## With I-type blocks"
   ]
  },
  {
   "cell_type": "code",
   "execution_count": 19,
   "metadata": {},
   "outputs": [],
   "source": [
    "!sed -i 's/\\nimport image_IPP as IPP/\\n#import image_IPP as IPP/g' RD_curve.py\n",
    "!sed -i 's/\\n#import image_IPP_adaptive as IPP/\\nimport image_IPP_adaptive as IPP as IPP/g' RD_curve.py"
   ]
  },
  {
   "cell_type": "code",
   "execution_count": 20,
   "metadata": {},
   "outputs": [
    {
     "name": "stdout",
     "output_type": "stream",
     "text": [
      "''' MRVC/image_IPP_RD.py '''\r\n",
      "\r\n",
      "# Generate a RD curve.\r\n",
      "\r\n",
      "import distortion\r\n",
      "import frame\r\n",
      "\r\n",
      "# --> Select below the codec. <--\r\n",
      "#import image_interpolated_IPP as IPP\r\n",
      "import image_IPP as IPP\r\n",
      "#import image_IPP_adaptive as IPP\r\n",
      "\r\n",
      "# Original video frames (PNG format) with file-names\r\n",
      "# f\"{video}_{frame_number:03d}.png\".\r\n",
      "video = \"/tmp/original_\"\r\n"
     ]
    }
   ],
   "source": [
    "!head -n 15 RD_curve.py"
   ]
  },
  {
   "cell_type": "code",
   "execution_count": 1,
   "metadata": {},
   "outputs": [],
   "source": [
    "!python RD_curve.py > /tmp/output"
   ]
  },
  {
   "cell_type": "code",
   "execution_count": 2,
   "metadata": {},
   "outputs": [],
   "source": [
    "!grep BPP /tmp/output | cut -d ' ' -f 2 > /tmp/BPPs"
   ]
  },
  {
   "cell_type": "code",
   "execution_count": 3,
   "metadata": {},
   "outputs": [
    {
     "name": "stdout",
     "output_type": "stream",
     "text": [
      "0.24147551907968576\r\n",
      "0.23328861531986533\r\n",
      "0.22723765432098766\r\n",
      "0.22148481341189674\r\n",
      "0.21690867003367004\r\n",
      "0.21218609708193042\r\n",
      "0.20861742424242424\r\n",
      "0.20538808221099888\r\n",
      "0.20245861391694725\r\n",
      "0.19996054292929294\r\n",
      "0.19797541386083053\r\n",
      "0.19652865460157126\r\n",
      "0.19490039281705948\r\n",
      "0.1935842803030303\r\n",
      "0.1920954335016835\r\n",
      "0.1918744739057239\r\n",
      "0.1906530583613917\r\n",
      "0.19013573232323233\r\n",
      "0.18939481621773288\r\n",
      "0.18906600729517395\r\n",
      "0.1888240039281706\r\n"
     ]
    }
   ],
   "source": [
    "!cat /tmp/BPPs"
   ]
  },
  {
   "cell_type": "code",
   "execution_count": 4,
   "metadata": {},
   "outputs": [],
   "source": [
    "!grep Average /tmp/output | grep MSE | cut -d ' ' -f 3 > /tmp/AMSE"
   ]
  },
  {
   "cell_type": "code",
   "execution_count": 5,
   "metadata": {},
   "outputs": [
    {
     "name": "stdout",
     "output_type": "stream",
     "text": [
      "10.982899524761503\r\n",
      "12.053593991126542\r\n",
      "13.32535138713524\r\n",
      "15.046137481586701\r\n",
      "17.03821735146605\r\n",
      "19.445175386679296\r\n",
      "22.681290333894502\r\n",
      "25.220179003577435\r\n",
      "28.759305950126265\r\n",
      "33.11114958175505\r\n",
      "37.551702134189114\r\n",
      "43.69153547190656\r\n",
      "50.452893518518515\r\n",
      "57.241263437324626\r\n",
      "66.26102737443883\r\n",
      "76.46080038667928\r\n",
      "86.54504232866863\r\n",
      "97.80924851816779\r\n",
      "112.75621963997614\r\n",
      "126.48899805345114\r\n",
      "144.524414172103\r\n"
     ]
    }
   ],
   "source": [
    "!cat /tmp/AMSE"
   ]
  },
  {
   "cell_type": "code",
   "execution_count": 6,
   "metadata": {},
   "outputs": [],
   "source": [
    "!paste /tmp/BPPs /tmp/AMSE > /tmp/curve_witb_intrablocks.txt"
   ]
  },
  {
   "cell_type": "code",
   "execution_count": 7,
   "metadata": {},
   "outputs": [
    {
     "name": "stdout",
     "output_type": "stream",
     "text": [
      "0.24147551907968576\t10.982899524761503\r\n",
      "0.23328861531986533\t12.053593991126542\r\n",
      "0.22723765432098766\t13.32535138713524\r\n",
      "0.22148481341189674\t15.046137481586701\r\n",
      "0.21690867003367004\t17.03821735146605\r\n",
      "0.21218609708193042\t19.445175386679296\r\n",
      "0.20861742424242424\t22.681290333894502\r\n",
      "0.20538808221099888\t25.220179003577435\r\n",
      "0.20245861391694725\t28.759305950126265\r\n",
      "0.19996054292929294\t33.11114958175505\r\n",
      "0.19797541386083053\t37.551702134189114\r\n",
      "0.19652865460157126\t43.69153547190656\r\n",
      "0.19490039281705948\t50.452893518518515\r\n",
      "0.1935842803030303\t57.241263437324626\r\n",
      "0.1920954335016835\t66.26102737443883\r\n",
      "0.1918744739057239\t76.46080038667928\r\n",
      "0.1906530583613917\t86.54504232866863\r\n",
      "0.19013573232323233\t97.80924851816779\r\n",
      "0.18939481621773288\t112.75621963997614\r\n",
      "0.18906600729517395\t126.48899805345114\r\n",
      "0.1888240039281706\t144.524414172103\r\n"
     ]
    }
   ],
   "source": [
    "!cat /tmp/curve_with_intrablocks.txt"
   ]
  },
  {
   "cell_type": "code",
   "execution_count": 8,
   "metadata": {},
   "outputs": [],
   "source": [
    "RD_points_with_intrablocks = []\n",
    "with open(\"/tmp/curve_with_intrablocks.txt\", 'r') as f:\n",
    "    for line in f:\n",
    "        rate, _distortion = line.split('\\t')\n",
    "        RD_points_with_intrablocks.append((float(rate), float(_distortion)))"
   ]
  },
  {
   "cell_type": "code",
   "execution_count": 9,
   "metadata": {},
   "outputs": [
    {
     "data": {
      "image/png": "[encoded data removed]",
      "text/plain": [
       "<Figure size 900x600 with 1 Axes>"
      ]
     },
     "metadata": {
      "needs_background": "light"
     },
     "output_type": "display_data"
    }
   ],
   "source": [
    "%matplotlib inline\n",
    "\n",
    "import matplotlib\n",
    "import matplotlib.pyplot as plt\n",
    "import matplotlib.axes as ax\n",
    "import pylab\n",
    "\n",
    "pylab.figure(dpi=150)\n",
    "pylab.plot(*zip(*RD_points_no_intrablocks), label=\"No Intra-blocks\")\n",
    "pylab.plot(*zip(*RD_points__with_intrablocks), label=\"With Intra-blocks\")\n",
    "pylab.title(\"\")\n",
    "pylab.xlabel(\"Bits/Pixel\")\n",
    "pylab.ylabel(\"AMSE\")\n",
    "plt.legend(loc='upper right')\n",
    "pylab.show()"
   ]
  },
  {
   "cell_type": "code",
   "execution_count": null,
   "metadata": {},
   "outputs": [],
   "source": []
  }
 ],
 "metadata": {
  "kernelspec": {
   "display_name": "Python 3",
   "language": "python",
   "name": "python3"
  },
  "language_info": {
   "codemirror_mode": {
    "name": "ipython",
    "version": 3
   },
   "file_extension": ".py",
   "mimetype": "text/x-python",
   "name": "python",
   "nbconvert_exporter": "python",
   "pygments_lexer": "ipython3",
   "version": "3.9.2"
  }
 },
 "nbformat": 4,
 "nbformat_minor": 4
}
