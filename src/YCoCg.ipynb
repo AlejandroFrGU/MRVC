{
 "cells": [
  {
   "cell_type": "markdown",
   "metadata": {},
   "source": [
    "# Compressing images in the YCoCg domain\n",
    "\n",
    "Compare the performance of compressing images in the RGB and YCoCg domains."
   ]
  },
  {
   "cell_type": "code",
   "execution_count": null,
   "metadata": {},
   "outputs": [],
   "source": [
    "import numpy as np\n",
    "import matplotlib\n",
    "import matplotlib.pyplot as plt\n",
    "import pylab\n",
    "%matplotlib inline\n",
    "import image\n",
    "import YCoCg as YUV\n",
    "import deadzone as Q\n",
    "import distortion\n",
    "import information"
   ]
  },
  {
   "cell_type": "markdown",
   "metadata": {},
   "source": [
    "## Global parameters of the notebook"
   ]
  },
  {
   "cell_type": "code",
   "execution_count": null,
   "metadata": {},
   "outputs": [],
   "source": [
    "#test_image = \"../sequences/stockholm/\"\n",
    "test_image = \"../sequences/lena_color/\"\n",
    "#test_image = \"../sequences/lena_bw/\"\n",
    "\n",
    "Q_steps = [128, 64, 32, 16, 8, 4, 2]"
   ]
  },
  {
   "cell_type": "code",
   "execution_count": null,
   "metadata": {},
   "outputs": [],
   "source": [
    "x = image.read(test_image, 0)\n",
    "\n",
    "RGB_points = []\n",
    "for Q_step in Q_steps:\n",
    "    x_k = Q.quantize(x, Q_step)\n",
    "    x_dQ = Q.dequantize(x_k, Q_step)\n",
    "    BPP = image.write(x_k.astype(np.uint8), f\"/tmp/RGB_{Q_step}_\", 0)*8/x.size\n",
    "    __ = image.read(f\"/tmp/RGB_{Q_step}_\", 0)\n",
    "    assert (x_k == __).all()\n",
    "    MSE = distortion.MSE(x, x_dQ)\n",
    "    point = (BPP, MSE)\n",
    "    print(point)\n",
    "    RGB_points.append(point)"
   ]
  },
  {
   "cell_type": "code",
   "execution_count": null,
   "metadata": {},
   "outputs": [],
   "source": [
    "x = image.read(test_image, 0)\n",
    "xx = YUV.from_RGB(x.astype(np.int16))\n",
    "\n",
    "YUV_points = []\n",
    "for Q_step in Q_steps:\n",
    "    xx_k = Q.quantize(xx, Q_step)\n",
    "    xx_dQ = Q.dequantize(xx_k, Q_step)\n",
    "    print(xx_k.dtype, xx_k.max(), xx_k.min())\n",
    "    #BPP = image.write((xx_k.astype(np.int32) + 32768).astype(np.uint16), f\"/tmp/YUV_{Q_step}_\", 0)*8/x.size\n",
    "    #__ = image.read(f\"/tmp/YUV_{Q_step}_\", 0).astype(np.int32) - 32768\n",
    "    BPP = image.write((xx_k.astype(np.int16) + 128).astype(np.uint8), f\"/tmp/YUV_{Q_step}_\", 0)*8/x.size\n",
    "    __ = image.read(f\"/tmp/YUV_{Q_step}_\", 0).astype(np.int32) - 128\n",
    "    #BPP = image.write(xx_k, f\"/tmp/YUV_{Q_step}_\", 0)*8/x.size\n",
    "    #BPP = image.write((xx_k + 128).astype(np.uint8), f\"/tmp/YUV_{Q_step}_\", 0)*8/x.size\n",
    "    #BPP = image.write(xx_k + xx_k.min(), f\"/tmp/YUV_{Q_step}_\", 0)*8/x.size\n",
    "    #BPP = image.write(xx_k - xx.min(), f\"/tmp/YUV_{Q_step}_\", 0)*8/x.size\n",
    "    #BPP = image.write(xx_k + 256, f\"/tmp/YUV_{Q_step}_\", 0)*8/x.size\n",
    "    for i in range(512):\n",
    "        for j in range(512):\n",
    "            if (xx_k[i,j] != __[i,j]).any():\n",
    "                print(Q_step, i, j, x_k[i,j], __[i,j])\n",
    "                break\n",
    "    assert (xx_k == __).all()\n",
    "    x_dQ = YUV.to_RGB(xx_dQ)\n",
    "    MSE = distortion.MSE(x, x_dQ)\n",
    "    point = (BPP, MSE)\n",
    "    print(point)\n",
    "    YUV_points.append(point)"
   ]
  },
  {
   "cell_type": "code",
   "execution_count": null,
   "metadata": {},
   "outputs": [],
   "source": [
    "pylab.figure(dpi=150)\n",
    "pylab.plot(*zip(*RGB_points), label=\"RGB\")\n",
    "pylab.plot(*zip(*YUV_points), label=\"YUV\")\n",
    "pylab.title(\"Which domain color is better?\")\n",
    "pylab.xlabel(\"Bits/Pixel\")\n",
    "pylab.ylabel(\"MSE\")\n",
    "plt.legend(loc=\"best\")\n",
    "pylab.show()"
   ]
  },
  {
   "cell_type": "markdown",
   "metadata": {},
   "source": [
    "## Let's optimize the quantization step\n",
    "\n",
    "In the previous experiment we have used the same quantization step for the three color components. However, although this is the fastest quantization strategy, not necessaryly have to be the optimal one from a RD perpestive.\n",
    "\n",
    "Let's compute the RD contribution (a slope in the RD curve) of each component for each quantization step, and define a quantization algoritm in which we select progressively smaller contributions, starting at the higher one. We will supose that the transform is orthogonal and therefore, we can estimate the distortion of the reconstructed image (that obviously is in the RGB domain) in the YUV domain. However, we will compare with the most general option in which the color transform does not need to be orthogonal."
   ]
  },
  {
   "cell_type": "code",
   "execution_count": null,
   "metadata": {},
   "outputs": [],
   "source": [
    "# Read the image and move to the YUV domain.\n",
    "x = image.read(test_image, 0)\n",
    "xx = YUV.from_RGB(x.astype(np.int16))"
   ]
  },
  {
   "cell_type": "code",
   "execution_count": null,
   "metadata": {},
   "outputs": [],
   "source": [
    "for i in range(3):\n",
    "    print(xx[...,i].max(), xx[...,i].min())"
   ]
  },
  {
   "cell_type": "code",
   "execution_count": null,
   "metadata": {},
   "outputs": [],
   "source": [
    "# Create a list of RD points and a list of RD slopes.\n",
    "RD_points = []\n",
    "RD_slopes = []\n",
    "for i in range(3):\n",
    "    comp = xx[..., i]\n",
    "    comp_energy = information.energy(comp)\n",
    "    # The first point of each RD curve has a distortion \n",
    "    # equal to the energy of the component and a rate=0\n",
    "    RD_points.append([(0, comp_energy)])\n",
    "    RD_slopes.append([])"
   ]
  },
  {
   "cell_type": "code",
   "execution_count": null,
   "metadata": {},
   "outputs": [],
   "source": [
    "# Now populate the rest of points of each component.\n",
    "# Version in which we estimate the distortion in the YUV domain.\n",
    "for i in range(3):\n",
    "    comp = xx[..., i]\n",
    "    Q_step_number = 0\n",
    "    for Q_step in Q_steps:\n",
    "        print(Q_step)\n",
    "        comp_k = Q.quantize(comp, Q_step)\n",
    "        comp_dQ = Q.dequantize(comp_k, Q_step)\n",
    "        MSE = distortion.MSE(comp, comp_dQ)\n",
    "        BPP = image.write((comp_k + 128).astype(np.uint8), f\"/tmp/{i}_{Q_step}_\", 0)*8/x.size\n",
    "        RD_points[i].append((BPP, MSE))\n",
    "        delta_BPP = BPP - RD_points[i][Q_step_number][0]\n",
    "        delta_MSE = RD_points[i][Q_step_number][1] - MSE\n",
    "        if delta_BPP > 0:\n",
    "            slope = delta_MSE/delta_BPP\n",
    "        else:\n",
    "            slope = 0\n",
    "        RD_slopes[i].append((Q_step, slope, i))\n",
    "        Q_step_number += 1"
   ]
  },
  {
   "cell_type": "code",
   "execution_count": null,
   "metadata": {},
   "outputs": [],
   "source": [
    "# Now populate the rest of points of each component.\n",
    "# Version in which we estimate the distortion in the RGB domain.\n",
    "for i in range(3):\n",
    "    Q_step_number = 0\n",
    "    for Q_step in Q_steps:\n",
    "        xx_ = xx.copy()\n",
    "        print(Q_step)\n",
    "        comp_k = Q.quantize(xx_[..., i], Q_step)\n",
    "        xx_[..., i] = Q.dequantize(comp_k, Q_step)\n",
    "        MSE = distortion.MSE(x, YUV.to_RGB(xx_))\n",
    "        BPP = image.write((comp_k + 128).astype(np.uint8), f\"/tmp/{i}_{Q_step}_\", 0)*8/x.size\n",
    "        RD_points[i].append((BPP, MSE))\n",
    "        delta_BPP = BPP - RD_points[i][Q_step_number][0]\n",
    "        delta_MSE = RD_points[i][Q_step_number][1] - MSE\n",
    "        if delta_BPP > 0:\n",
    "            slope = delta_MSE/delta_BPP\n",
    "        else:\n",
    "            slope = 0\n",
    "        RD_slopes[i].append((Q_step, slope, i))\n",
    "        Q_step_number += 1"
   ]
  },
  {
   "cell_type": "code",
   "execution_count": null,
   "metadata": {},
   "outputs": [],
   "source": [
    "RD_slopes_without_sb_index = []\n",
    "for i in range(3):\n",
    "    RD_slopes_without_sb_index.append([])\n",
    "for i in range(3):\n",
    "    for Q_step in range(len(Q_steps)):\n",
    "        RD_slopes_without_sb_index[i].append(RD_slopes[i][Q_step][0:2])\n",
    "\n",
    "pylab.figure(dpi=150)\n",
    "for i in range(3):\n",
    "    pylab.plot(*zip(*RD_slopes_without_sb_index[i]), label=f\"{i}\")\n",
    "pylab.title(\"Slopes of the RD curves of the components\")\n",
    "pylab.xlabel(\"Q_step\")\n",
    "pylab.ylabel(\"Slope\")\n",
    "plt.legend(loc=\"best\")\n",
    "pylab.show()"
   ]
  },
  {
   "cell_type": "code",
   "execution_count": null,
   "metadata": {},
   "outputs": [],
   "source": [
    "# Sort the slopes\n",
    "single_list = []\n",
    "for i in range(3):\n",
    "    for Q_step in range(len(Q_steps)):\n",
    "        single_list.append(tuple(RD_slopes[i][Q_step]))\n",
    "sorted_slopes = sorted(single_list, key=lambda x: x[1])[::-1]"
   ]
  },
  {
   "cell_type": "code",
   "execution_count": null,
   "metadata": {},
   "outputs": [],
   "source": [
    "sorted_slopes"
   ]
  },
  {
   "cell_type": "code",
   "execution_count": null,
   "metadata": {},
   "outputs": [],
   "source": [
    "def quantize(x, Q_steps):\n",
    "    x_k = np.empty_like(x)\n",
    "    for i in range(x.shape[2]):\n",
    "        x_k[..., i] = Q.quantize(x[..., i], Q_steps[i])\n",
    "    return x_k\n",
    "\n",
    "def dequantize(x_k, Q_steps):\n",
    "    x_dQ = np.empty_like(x_k)\n",
    "    for i in range(x.shape[2]):\n",
    "        x_dQ[..., i] = Q.dequantize(x_k[..., i], Q_steps[i])\n",
    "    return x_dQ"
   ]
  },
  {
   "cell_type": "code",
   "execution_count": null,
   "metadata": {},
   "outputs": [],
   "source": [
    "# Find the optimal RD curve\n",
    "optimal_RD_points = []\n",
    "zz = np.zeros_like(xx)\n",
    "Q_steps_combination = np.full(shape=(3,), fill_value=99999999)\n",
    "for s in sorted_slopes:\n",
    "    component_number = s[2]\n",
    "    Q_steps_combination[component_number] = s[0]\n",
    "    print(component_number, Q_steps_combination[component_number])\n",
    "    zz[..., component_number] = xx[..., component_number]\n",
    "    zz_k = quantize(zz, Q_steps_combination)\n",
    "    zz_dQ = dequantize(zz_k, Q_steps_combination)\n",
    "    z_dQ = YUV.to_RGB(zz_dQ)\n",
    "    # If the color transform domain is not linear, the MSE should be measured in the RGB domain\n",
    "    MSE = distortion.MSE(xx, zz_dQ)\n",
    "    BPP = image.write((zz_k + 128).astype(np.uint8), f\"/tmp/{component_number}_{Q_step}_\", 0)*8/x.size\n",
    "    optimal_RD_points.append((BPP, MSE))"
   ]
  },
  {
   "cell_type": "code",
   "execution_count": null,
   "metadata": {},
   "outputs": [],
   "source": [
    "pylab.figure(dpi=150)\n",
    "pylab.plot(*zip(*YUV_points), label=\"YUV Constant quantization\")\n",
    "pylab.plot(*zip(*optimal_RD_points), label=\"YUV Optimal quantization\")\n",
    "pylab.title(\"RD optimization in the YUV domain\")\n",
    "pylab.xlabel(\"Bits/Pixel\")\n",
    "pylab.ylabel(\"MSE\")\n",
    "plt.legend(loc=\"best\")\n",
    "pylab.show()"
   ]
  },
  {
   "cell_type": "code",
   "execution_count": null,
   "metadata": {},
   "outputs": [],
   "source": [
    "def normalize(img):\n",
    "    max_component = np.max(img)\n",
    "    min_component = np.min(img)\n",
    "    max_min_component = max_component - min_component\n",
    "    return (img-min_component)/max_min_component\n",
    "\n",
    "def show_frame(frame, prefix=''):\n",
    "    #frame = normalize(frame)\n",
    "    plt.figure(figsize=(10,10))\n",
    "    plt.title(prefix, fontsize=20)\n",
    "    plt.imshow(frame)"
   ]
  },
  {
   "cell_type": "code",
   "execution_count": null,
   "metadata": {},
   "outputs": [],
   "source": [
    "x = frame.read(\"../sequences/stockholm/\", 0)"
   ]
  },
  {
   "cell_type": "code",
   "execution_count": null,
   "metadata": {},
   "outputs": [],
   "source": [
    "x.max()"
   ]
  },
  {
   "cell_type": "code",
   "execution_count": null,
   "metadata": {},
   "outputs": [],
   "source": [
    "x.min()"
   ]
  },
  {
   "cell_type": "code",
   "execution_count": null,
   "metadata": {},
   "outputs": [],
   "source": [
    "show_frame(x.astype(np.uint8))"
   ]
  },
  {
   "cell_type": "code",
   "execution_count": null,
   "metadata": {},
   "outputs": [],
   "source": [
    "y = YCoCg.from_RGB(x)"
   ]
  },
  {
   "cell_type": "code",
   "execution_count": null,
   "metadata": {},
   "outputs": [],
   "source": [
    "show_frame(y.astype(np.uint8))"
   ]
  },
  {
   "cell_type": "code",
   "execution_count": null,
   "metadata": {},
   "outputs": [],
   "source": [
    "z = YCoCg.to_RGB(y)"
   ]
  },
  {
   "cell_type": "code",
   "execution_count": null,
   "metadata": {},
   "outputs": [],
   "source": [
    "z.max()"
   ]
  },
  {
   "cell_type": "code",
   "execution_count": null,
   "metadata": {},
   "outputs": [],
   "source": [
    "z.min()"
   ]
  },
  {
   "cell_type": "code",
   "execution_count": null,
   "metadata": {},
   "outputs": [],
   "source": [
    "show_frame(z.astype(np.uint8))"
   ]
  },
  {
   "cell_type": "code",
   "execution_count": null,
   "metadata": {},
   "outputs": [],
   "source": [
    "print(np.array_equal(x, z))"
   ]
  }
 ],
 "metadata": {
  "kernelspec": {
   "display_name": "Python 3",
   "language": "python",
   "name": "python3"
  },
  "language_info": {
   "codemirror_mode": {
    "name": "ipython",
    "version": 3
   },
   "file_extension": ".py",
   "mimetype": "text/x-python",
   "name": "python",
   "nbconvert_exporter": "python",
   "pygments_lexer": "ipython3",
   "version": "3.9.4"
  }
 },
 "nbformat": 4,
 "nbformat_minor": 4
}
