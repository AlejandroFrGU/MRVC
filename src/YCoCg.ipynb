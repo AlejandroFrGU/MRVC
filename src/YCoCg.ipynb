{
 "cells": [
  {
   "cell_type": "markdown",
   "metadata": {},
   "source": [
    "# Compressing images in the YCoCg domain\n",
    "\n",
    "Compare the performance of compressing images in the RGB and YCoCg domains."
   ]
  },
  {
   "cell_type": "code",
   "execution_count": null,
   "metadata": {},
   "outputs": [],
   "source": [
    "import numpy as np\n",
    "import matplotlib\n",
    "import matplotlib.pyplot as plt\n",
    "import pylab\n",
    "%matplotlib inline\n",
    "import image_3 as image\n",
    "import image_1 as component\n",
    "import YCoCg as YUV\n",
    "import deadzone as Q\n",
    "import distortion\n",
    "import information\n",
    "import math"
   ]
  },
  {
   "cell_type": "markdown",
   "metadata": {},
   "source": [
    "## Global parameters of the notebook"
   ]
  },
  {
   "cell_type": "code",
   "execution_count": null,
   "metadata": {},
   "outputs": [],
   "source": [
    "#test_image = \"../sequences/stockholm/\"\n",
    "test_image = \"../sequences/lena_color/\"\n",
    "#test_image = \"../sequences/lena_bw/\""
   ]
  },
  {
   "cell_type": "code",
   "execution_count": null,
   "metadata": {},
   "outputs": [],
   "source": [
    "N_components = 3"
   ]
  },
  {
   "cell_type": "markdown",
   "metadata": {},
   "source": [
    "## RGB components information"
   ]
  },
  {
   "cell_type": "code",
   "execution_count": null,
   "metadata": {},
   "outputs": [],
   "source": [
    "x = image.read(test_image, 0)\n",
    "print(\"component maximum mininum d-range average std-dev entropy        energy  avg-enegy\")\n",
    "accumulated_entropy = 0\n",
    "for _c in range(N_components):\n",
    "    comp = x[..., _c]\n",
    "    max = comp.max()\n",
    "    min = comp.min()\n",
    "    d_range = max - min\n",
    "    entropy = information.entropy(comp.flatten())\n",
    "    accumulated_entropy += entropy\n",
    "    print(f\"{_c:9d} {max:7.1f} {min:7.1f} {d_range:7.1f} {np.average(comp):7.1f} {math.sqrt(np.var(comp)):7.1f} {entropy:7.1f} {information.energy(comp):13.1f} {information.energy(comp)/comp.size:10.1f}\")\n",
    "avg_entropy = accumulated_entropy / x.shape[2]\n",
    "print(\"Average entropy by RGB components:\", avg_entropy)\n",
    "print(\"Entropy of the image in the RGB domain:\", information.entropy(x.flatten()))"
   ]
  },
  {
   "cell_type": "markdown",
   "metadata": {},
   "source": [
    "Notice that the average entropy of the image by components and the entropy of the image can be different because the probabilities of the components are different. This, for example, indicates that it could be better to compress the image by compressing each component independly than to compress the image considering all the components together."
   ]
  },
  {
   "cell_type": "markdown",
   "metadata": {},
   "source": [
    "## YCoCg components information"
   ]
  },
  {
   "cell_type": "code",
   "execution_count": null,
   "metadata": {},
   "outputs": [],
   "source": [
    "x = image.read(test_image, 0)\n",
    "xx = YUV.from_RGB(x.astype(np.int16))\n",
    "print(\"component maximum mininum max-min average std-dev entropy        energy  avg-enegy\")\n",
    "accumulated_entropy = 0\n",
    "for _c in range(N_components):\n",
    "    comp = xx[..., _c]\n",
    "    max = comp.max()\n",
    "    min = comp.min()\n",
    "    d_range = max - min\n",
    "    entropy = information.entropy(comp.flatten())\n",
    "    accumulated_entropy += entropy\n",
    "    print(f\"{_c:9d} {max:7.1f} {min:7.1f} {d_range:7.1f} {np.average(comp):7.1f} {math.sqrt(np.var(comp)):7.1f} {entropy:7.1f} {information.energy(comp):13.1f} {information.energy(comp)/comp.size:10.1f}\")\n",
    "avg_entropy = accumulated_entropy / xx.shape[2]\n",
    "print(\"Average entropy by YCoCg components:\", avg_entropy)\n",
    "print(\"Entropy of the image in the YCoCg domain:\", information.entropy(xx.flatten()))"
   ]
  },
  {
   "cell_type": "code",
   "execution_count": null,
   "metadata": {},
   "outputs": [],
   "source": [
    "x = np.full_like(x, fill_value=255)\n",
    "xx = YUV.from_RGB(x.astype(np.int16))\n",
    "print(\"component maximum mininum max-min average std-dev entropy        energy  avg-enegy\")\n",
    "accumulated_entropy = 0\n",
    "for _c in range(N_components):\n",
    "    comp = xx[..., _c]\n",
    "    max = comp.max()\n",
    "    min = comp.min()\n",
    "    d_range = max - min\n",
    "    entropy = information.entropy(comp.flatten())\n",
    "    accumulated_entropy += entropy\n",
    "    print(f\"{_c:9d} {max:7.1f} {min:7.1f} {d_range:7.1f} {np.average(comp):7.1f} {math.sqrt(np.var(comp)):7.1f} {entropy:7.1f} {information.energy(comp):13.1f} {information.energy(comp)/comp.size:10.1f}\")\n",
    "avg_entropy = accumulated_entropy / xx.shape[2]\n",
    "print(\"Average entropy by YCoCg components:\", avg_entropy)\n",
    "print(\"Entropy of the image in the YCoCg domain:\", information.entropy(xx.flatten()))"
   ]
  },
  {
   "cell_type": "code",
   "execution_count": null,
   "metadata": {},
   "outputs": [],
   "source": [
    "x = np.full_like(x, fill_value=255)\n",
    "x[1::2,::2] = 0\n",
    "x[::2,1::2] = 0\n",
    "image.show(x[:10, :10], \"A chess matrix (top-left corner detail)\")\n",
    "xx = YUV.from_RGB(x.astype(np.int16))\n",
    "print(\"component maximum mininum d-range average std-dev entropy        energy  avg-enegy\")\n",
    "accumulated_entropy = 0\n",
    "for _c in range(N_components):\n",
    "    comp = xx[..., _c]\n",
    "    max = comp.max()\n",
    "    min = comp.min()\n",
    "    d_range = max - min\n",
    "    entropy = information.entropy(comp.flatten())\n",
    "    accumulated_entropy += entropy\n",
    "    print(f\"{_c:9d} {max:7.1f} {min:7.1f} {d_range:7.1f} {np.average(comp):7.1f} {math.sqrt(np.var(comp)):7.1f} {entropy:7.1f} {information.energy(comp):13.1f} {information.energy(comp)/comp.size:10.1f}\")\n",
    "avg_entropy = accumulated_entropy / xx.shape[2]\n",
    "print(\"Average entropy by YCoCg components:\", avg_entropy)\n",
    "print(\"Entropy of the image in the YCoCg domain:\", information.entropy(xx.flatten()))"
   ]
  },
  {
   "cell_type": "markdown",
   "metadata": {},
   "source": [
    "We can see that:\n",
    "1. The YCoCg transform reduces the entropy, globally and by components.\n",
    "2. The YCoCg transform accumulates most of the energy in the Y component.\n",
    "3. The Y component needs the same number of bits (eight) than the R, G and B components. However, if you see the code you can also deduce this.\n",
    "4. The Co and the Cg components can be negative."
   ]
  },
  {
   "cell_type": "markdown",
   "metadata": {},
   "source": [
    "## Defining the quantization steps\n",
    "\n",
    "This parameter should be defined depending on the dynamic range of que quantization indexes and the dynamic range of the entropy encoder (image.write()) that we want to use. In our case, both color domains (RGB and YCoCg) need 8 bits, and in general, this will increase the compression ratio of the entropy encoder. When we need more than 8 bits, the next \"step\" is 16 bits, which is less efficient."
   ]
  },
  {
   "cell_type": "code",
   "execution_count": null,
   "metadata": {},
   "outputs": [],
   "source": [
    "Q_steps = [128, 64, 32, 16, 8, 4, 2, 1]"
   ]
  },
  {
   "cell_type": "markdown",
   "metadata": {},
   "source": [
    "## RD curve in the RGB domain"
   ]
  },
  {
   "cell_type": "code",
   "execution_count": null,
   "metadata": {},
   "outputs": [],
   "source": [
    "x = image.read(test_image, 0)\n",
    "\n",
    "RGB_points = []\n",
    "for Q_step in Q_steps:\n",
    "    x_k = Q.quantize(x, Q_step)\n",
    "    x_dQ = Q.dequantize(x_k, Q_step)\n",
    "    BPP = image.write(x_k.astype(np.uint8), f\"/tmp/RGB_{Q_step}_\", 0)*8/x.size\n",
    "    # Remember that image.write() has been designed to output positive integer data.\n",
    "    __ = image.read(f\"/tmp/RGB_{Q_step}_\", 0)\n",
    "    assert (x_k == __).all()\n",
    "    MSE = distortion.MSE(x, x_dQ)\n",
    "    point = (BPP, MSE)\n",
    "    print(point)\n",
    "    RGB_points.append(point)"
   ]
  },
  {
   "cell_type": "code",
   "execution_count": null,
   "metadata": {},
   "outputs": [],
   "source": [
    "# For future references\n",
    "with open('RGB.txt', 'w') as f:\n",
    "    for item in RGB_points:\n",
    "        f.write(f\"{item[0]}\\t{item[1]}\\n\")"
   ]
  },
  {
   "cell_type": "markdown",
   "metadata": {},
   "source": [
    "## RD curve in the YUV domain"
   ]
  },
  {
   "cell_type": "code",
   "execution_count": null,
   "metadata": {},
   "outputs": [],
   "source": [
    "x = image.read(test_image, 0)\n",
    "xx = YUV.from_RGB(x.astype(np.int16))\n",
    "\n",
    "YUV_points = []\n",
    "for Q_step in Q_steps:\n",
    "    xx_k = Q.quantize(xx, Q_step)\n",
    "    xx_dQ = Q.dequantize(xx_k, Q_step)\n",
    "    print(xx_k.dtype, xx_k.max(), xx_k.min())\n",
    "    #BPP = image.write((xx_k.astype(np.int32) + 32768).astype(np.uint16), f\"/tmp/YUV_{Q_step}_\", 0)*8/x.size\n",
    "    #__ = image.read(f\"/tmp/YUV_{Q_step}_\", 0).astype(np.int32) - 32768\n",
    "    #BPP = image.write((xx_k.astype(np.int16) + 128).astype(np.uint8), f\"/tmp/YUV_{Q_step}_\", 0)*8/x.size\n",
    "    #__ = image.read(f\"/tmp/YUV_{Q_step}_\", 0).astype(np.int32) - 128\n",
    "    #BPP = image.write((xx_k + 128).astype(np.uint8), f\"/tmp/YUV_{Q_step}_\", 0)*8/x.size\n",
    "    #__ = image.read(f\"/tmp/YUV_{Q_step}_\", 0).astype(np.int16) - 128\n",
    "    xx_k[..., 1] += 128\n",
    "    xx_k[..., 2] += 128\n",
    "    BPP = image.write(xx_k.astype(np.uint8), f\"/tmp/YCoCg_{Q_step}_\", 0)*8/xx.size\n",
    "    __ = image.read(f\"/tmp/YCoCg_{Q_step}_\", 0)\n",
    "    #BPP = image.write(xx_k, f\"/tmp/YUV_{Q_step}_\", 0)*8/x.size\n",
    "    #BPP = image.write((xx_k + 128).astype(np.uint8), f\"/tmp/YUV_{Q_step}_\", 0)*8/x.size\n",
    "    #BPP = image.write(xx_k + xx_k.min(), f\"/tmp/YUV_{Q_step}_\", 0)*8/x.size\n",
    "    #BPP = image.write(xx_k - xx.min(), f\"/tmp/YUV_{Q_step}_\", 0)*8/x.size\n",
    "    #BPP = image.write(xx_k + 256, f\"/tmp/YUV_{Q_step}_\", 0)*8/x.size\n",
    "    #for i in range(512):\n",
    "    #    for j in range(512):\n",
    "    #        if (xx_k[i,j] != __[i,j]).any():\n",
    "    #            print(Q_step, i, j, x_k[i,j], __[i,j])\n",
    "    #            break\n",
    "    try:\n",
    "        assert (xx_k == __).all()\n",
    "    except AssertionError:\n",
    "        counter = 0\n",
    "        for _i in range(x.shape[0]):\n",
    "            for _j in range(x.shape[1]):\n",
    "                if (xx_k[_i, _j] != __[_i, _j]).any():\n",
    "                    print(xx_k[_i, _j], __[_i, _j])\n",
    "                    if counter > 10:\n",
    "                        break\n",
    "                    counter += 1\n",
    "            if counter > 10:\n",
    "                break\n",
    "    x_dQ = YUV.to_RGB(xx_dQ)\n",
    "    MSE = distortion.MSE(x, x_dQ)\n",
    "    point = (BPP, MSE)\n",
    "    print(point)\n",
    "    YUV_points.append(point)"
   ]
  },
  {
   "cell_type": "code",
   "execution_count": null,
   "metadata": {},
   "outputs": [],
   "source": [
    "# For ...\n",
    "with open('YCoCg.txt', 'w') as f:\n",
    "    for item in YUV_points:\n",
    "        f.write(f\"{item[0]}\\t{item[1]}\\n\")"
   ]
  },
  {
   "cell_type": "markdown",
   "metadata": {},
   "source": [
    "## Compare"
   ]
  },
  {
   "cell_type": "code",
   "execution_count": null,
   "metadata": {},
   "outputs": [],
   "source": [
    "pylab.figure(dpi=150)\n",
    "pylab.plot(*zip(*RGB_points), label=\"RGB\")\n",
    "pylab.plot(*zip(*YUV_points), label=\"YUV\")\n",
    "pylab.title(\"Which color domain is better?\")\n",
    "pylab.xlabel(\"Bits/Pixel\")\n",
    "pylab.ylabel(\"MSE\")\n",
    "plt.legend(loc=\"best\")\n",
    "pylab.show()"
   ]
  },
  {
   "cell_type": "markdown",
   "metadata": {},
   "source": [
    "The YCoCg domain seems to be better than the RGB one at low bit-rates (low quality), but slightly worse at medium bit-rates (intermediate quality). For this reason, the YCoCg color transform will be used in the rest of experiments."
   ]
  },
  {
   "cell_type": "markdown",
   "metadata": {},
   "source": [
    "Please, confirm this for other images. Plot the average curve considering also the standard deviation."
   ]
  },
  {
   "cell_type": "markdown",
   "metadata": {},
   "source": [
    "## Let's optimize the quantization step by quantizing each component indepently\n",
    "\n",
    "The performance of any image compressor depends on how much of the original information can be stored in the code-stream. In other words, the performance is proportional to the amount of distortion accumulated in the decoded image divided by the length of the code-stream (notice that the lower the distortion, the higher the performance, and the lower the length, the higher the performance, again). This is exactly what an *operational* RD curve of the image represents.\n",
    "\n",
    "In the previous experiment we have used the same quantization step for the three color components. However, although this is the fastest quantization strategy, not necessaryly have to be the optimal one from a RD perpective because the contribution of the components to the reconstructed image can be different.\n",
    "\n",
    "An important question that arises here is: are the contributions of the components to the quality of the reconstructed image independent? If the transform is orthogonal (something that we know that if false because the channel Y and Cg share the green RGB information and therefore, are correlated), the answer would be yes. Under the umbrella of orthogonality, we can assume that the quantization error generated in one component does not influence on the quantization error added to the other components, and therefore, we can optimize (search) the quantization step in each component, independently, without computing the distortion in the RGB image domain.\n",
    "\n",
    "The YCoCg is not an orthogonal transform, but it can be considered near-orthogonal. Therefore, let's compute the RD contribution (a slope of one step in the RD curve) of each component for each quantization step, and define a quantization algoritm in which we select progressively smaller contributions, starting at the higher one. We will also compare the performance of measuring the distortion in the YCoCg and the RGB domains.\n",
    "\n",
    "Algorithm:\n",
    "1. Read the image.\n",
    "2. Transform to the YCoCg domain.\n",
    "3. Find a RD curve for each component.\n",
    "4. Compute the slope of each step of each curve and put all the slopes in the same list.\n",
    "5. Sort the previous list by the slope field.\n",
    "6. Find the RD curve the progressively uses descending slopes."
   ]
  },
  {
   "cell_type": "code",
   "execution_count": null,
   "metadata": {},
   "outputs": [],
   "source": [
    "# Read the image and move to the YCoCg domain.\n",
    "x = image.read(test_image, 0)\n",
    "xx = YUV.from_RGB(x.astype(np.int16))\n",
    "\n",
    "# The croma is moved to a positive domain\n",
    "xx[..., 1] += 128\n",
    "xx[..., 2] += 128"
   ]
  },
  {
   "cell_type": "code",
   "execution_count": null,
   "metadata": {},
   "outputs": [],
   "source": [
    "for _c in range(N_components):\n",
    "    print(xx[...,_c].max(), xx[...,_c].min())"
   ]
  },
  {
   "cell_type": "code",
   "execution_count": null,
   "metadata": {},
   "outputs": [],
   "source": [
    "# Create a list of RD points for each RD curve (component) and the corresponding lists of RD slopes between these points.\n",
    "# The first coordinate of each point is the rate and the second coordinate is the corresponding distortion.\n",
    "# The first point of each RD curve has a distortion equal to the energy of the component and a rate=0.\n",
    "# Notice that no slope can be computed for the first point.\n",
    "RD_points = []  # MSEs in the YCoCg domain\n",
    "RD_slopes = []\n",
    "RD_points2 = [] # MSEs in the RGB domain\n",
    "RD_slopes2 = []\n",
    "for _c in range(N_components):\n",
    "    comp = xx[..., _c]\n",
    "    comp_energy = information.energy(comp)\n",
    "    RD_points.append([(0, comp_energy)])\n",
    "    RD_slopes.append([])\n",
    "    RD_points2.append([(0, comp_energy)])\n",
    "    RD_slopes2.append([])"
   ]
  },
  {
   "cell_type": "code",
   "execution_count": null,
   "metadata": {},
   "outputs": [],
   "source": [
    "for _i,_j in enumerate(RD_points):\n",
    "    print(_i,_j)\n",
    "    \n",
    "for _i,_j in enumerate(RD_slopes):\n",
    "    print(_i,_j)"
   ]
  },
  {
   "cell_type": "code",
   "execution_count": null,
   "metadata": {},
   "outputs": [],
   "source": [
    "# Populate the rest of points of each curve (component).\n",
    "# We estimate the distortion in the YCoCg domain.\n",
    "for _c in range(N_components):\n",
    "    comp = xx[..., _c]\n",
    "    Q_step_number = 0\n",
    "    for Q_step in Q_steps:\n",
    "        comp_k = Q.quantize(comp, Q_step)\n",
    "        comp_dQ = Q.dequantize(comp_k, Q_step)\n",
    "        MSE = distortion.MSE(comp, comp_dQ)\n",
    "        BPP = component.write(comp_k.astype(np.uint8), f\"/tmp/{_c}_{Q_step}_\", 0)*8/xx.size\n",
    "        __ = component.read(f\"/tmp/{_c}_{Q_step}_\", 0)\n",
    "        try:\n",
    "            assert (comp_k == __).all()\n",
    "        except AssertionError:\n",
    "            counter = 0\n",
    "            for _i in range(x.shape[0]):\n",
    "                for _j in range(x.shape[1]):\n",
    "                    if (xx_k[_i, _j] != __[_i, _j]).any():\n",
    "                        print(xx_k[_i, _j], __[_i, _j])\n",
    "                        if counter > 10:\n",
    "                            break\n",
    "                        counter += 1\n",
    "                if counter > 10:\n",
    "                    break\n",
    "        point = (BPP, MSE)\n",
    "        print(\"Q_step =\", Q_step, \"BPP =\", point[0], \"MSE =\", point[1])\n",
    "        RD_points[_c].append(point)\n",
    "        delta_BPP = BPP - RD_points[_c][Q_step_number][0]\n",
    "        delta_MSE = RD_points[_c][Q_step_number][1] - MSE\n",
    "        if delta_BPP > 0:\n",
    "            slope = delta_MSE/delta_BPP\n",
    "        else:\n",
    "            slope = 0\n",
    "        RD_slopes[_c].append((Q_step, slope, _c))\n",
    "        Q_step_number += 1"
   ]
  },
  {
   "cell_type": "code",
   "execution_count": null,
   "metadata": {},
   "outputs": [],
   "source": [
    "# In this version of the previous cell we measure the distortion in the RGB domain.\n",
    "# For this, after quantizing a YCoCg component we compute the inverse YCoCg\n",
    "# transform with the other components without quantization.\n",
    "for _c in range(N_components):\n",
    "    Q_step_number = 0\n",
    "    for Q_step in Q_steps:\n",
    "        xx_ = xx.copy()\n",
    "        comp_k = Q.quantize(xx[..., _c], Q_step)\n",
    "        BPP = component.write(comp_k.astype(np.uint8), f\"/tmp/{_c}_{Q_step}_\", 0)*8/xx.size\n",
    "        __ = component.read(f\"/tmp/{_c}_{Q_step}_\", 0)\n",
    "        try:\n",
    "            assert (comp_k == __).all()\n",
    "        except AssertionError:\n",
    "            counter = 0\n",
    "            for _i in range(x.shape[0]):\n",
    "                for _j in range(x.shape[1]):\n",
    "                    if (comp_k[_i, _j] != __[_i, _j]).any():\n",
    "                        print(\"------->\", comp_k[_i, _j], __[_i, _j])\n",
    "                        if counter > 10:\n",
    "                            break\n",
    "                        counter += 1\n",
    "                if counter > 10:\n",
    "                    break\n",
    "        xx_[..., _c] = Q.dequantize(comp_k, Q_step)\n",
    "        xx_[..., 1] -= 128\n",
    "        xx_[..., 2] -= 128\n",
    "        MSE = distortion.MSE(x, YUV.to_RGB(xx_))\n",
    "        point = (BPP, MSE)\n",
    "        print(\"Q_step =\", Q_step, \"BPP =\", point[0], \"MSE =\", point[1])\n",
    "        RD_points2[_c].append(point)\n",
    "        delta_BPP = BPP - RD_points2[_c][Q_step_number][0]\n",
    "        delta_MSE = RD_points2[_c][Q_step_number][1] - MSE\n",
    "        if delta_BPP > 0:\n",
    "            slope = delta_MSE/delta_BPP\n",
    "        else:\n",
    "            slope = 0\n",
    "        RD_slopes2[_c].append((Q_step, slope, _c))\n",
    "        Q_step_number += 1"
   ]
  },
  {
   "cell_type": "code",
   "execution_count": null,
   "metadata": {},
   "outputs": [],
   "source": [
    "print(RD_slopes2)"
   ]
  },
  {
   "cell_type": "code",
   "execution_count": null,
   "metadata": {},
   "outputs": [],
   "source": [
    "# Show the slopes\n",
    "RD_slopes_without_sb_index = []\n",
    "for _c in range(N_components):\n",
    "    RD_slopes_without_sb_index.append([])\n",
    "for _c in range(N_components):\n",
    "    for Q_step in range(len(Q_steps)):\n",
    "        RD_slopes_without_sb_index[_c].append(RD_slopes[_c][Q_step][0:2])\n",
    "\n",
    "RD_slopes_without_sb_index2 = []\n",
    "for _c in range(N_components):\n",
    "    RD_slopes_without_sb_index2.append([])\n",
    "for _c in range(N_components):\n",
    "    for Q_step in range(len(Q_steps)):\n",
    "        RD_slopes_without_sb_index2[_c].append(RD_slopes2[_c][Q_step][0:2])\n",
    "\n",
    "pylab.figure(dpi=150)\n",
    "for _c in range(N_components):\n",
    "    pylab.plot(*zip(*RD_slopes_without_sb_index[_c]), label=f\"YCoCg {_c}\", marker=0)\n",
    "    pylab.plot(*zip(*RD_slopes_without_sb_index2[_c]), label=f\"RGB {_c}\", marker=1)\n",
    "pylab.title(\"Slopes of the RD curves of the components\")\n",
    "pylab.xlabel(\"Q_step\")\n",
    "pylab.ylabel(\"Slope\")\n",
    "plt.legend(loc=\"best\")\n",
    "pylab.show()"
   ]
  },
  {
   "cell_type": "code",
   "execution_count": null,
   "metadata": {},
   "outputs": [],
   "source": [
    "# Sort the slopes\n",
    "single_list = []\n",
    "single_list2 = []\n",
    "for _c in range(N_components):\n",
    "    for Q_step in range(len(Q_steps)):\n",
    "        single_list.append(tuple(RD_slopes[_c][Q_step]))\n",
    "        single_list2.append(tuple(RD_slopes2[_c][Q_step]))\n",
    "sorted_slopes = sorted(single_list, key=lambda x: x[1])[::-1]\n",
    "sorted_slopes2 = sorted(single_list2, key=lambda x: x[1])[::-1]"
   ]
  },
  {
   "cell_type": "code",
   "execution_count": null,
   "metadata": {},
   "outputs": [],
   "source": [
    "print(\"MSE in YUV domain\\t\\t MSE in RGB domain\")\n",
    "for _i, _j in zip(sorted_slopes, sorted_slopes2):\n",
    "    print(_i, '\\t', _j)"
   ]
  },
  {
   "cell_type": "code",
   "execution_count": null,
   "metadata": {},
   "outputs": [],
   "source": [
    "def quantize(x, Q_steps):\n",
    "    x_k = np.empty_like(x)\n",
    "    for _c in range(x.shape[2]):\n",
    "        x_k[..., _c] = Q.quantize(x[..., _c], Q_steps[_c])\n",
    "    return x_k\n",
    "\n",
    "def dequantize(x_k, Q_steps):\n",
    "    x_dQ = np.empty_like(x_k)\n",
    "    for _c in range(x.shape[2]):\n",
    "        x_dQ[..., _c] = Q.dequantize(x_k[..., _c], Q_steps[_c])\n",
    "    return x_dQ"
   ]
  },
  {
   "cell_type": "code",
   "execution_count": null,
   "metadata": {},
   "outputs": [],
   "source": [
    "# Find the optimal RD curve\n",
    "optimal_RD_points = []\n",
    "zz = np.zeros_like(xx)\n",
    "Q_steps_combination = np.full(shape=(3,), fill_value=99999999)\n",
    "for s in sorted_slopes:\n",
    "    component_number = s[2]\n",
    "    Q_steps_combination[component_number] = s[0]\n",
    "    print(component_number, Q_steps_combination[component_number])\n",
    "    zz[..., component_number] = xx[..., component_number]\n",
    "    zz_k = quantize(zz, Q_steps_combination)\n",
    "    zz_dQ = dequantize(zz_k, Q_steps_combination)\n",
    "    z_dQ = YUV.to_RGB(zz_dQ)\n",
    "    # If the color transform domain is not linear, the MSE should be measured in the RGB domain\n",
    "    MSE = distortion.MSE(xx, zz_dQ)\n",
    "    BPP = image.write((zz_k + 128).astype(np.uint8), f\"/tmp/{component_number}_{Q_step}_\", 0)*8/x.size\n",
    "    point = (BPP, MSE)\n",
    "    print(\"Q_step =\", s[0], \"BPP =\", BPP, \"MSE =\", MSE)\n",
    "    optimal_RD_points.append(point)"
   ]
  },
  {
   "cell_type": "code",
   "execution_count": null,
   "metadata": {},
   "outputs": [],
   "source": [
    "optimal_RD_points2 = []\n",
    "zz = np.zeros_like(xx)\n",
    "Q_steps_combination = np.full(shape=(3,), fill_value=99999999)\n",
    "for s in sorted_slopes2:\n",
    "    component_number = s[2]\n",
    "    Q_steps_combination[component_number] = s[0]\n",
    "    print(component_number, Q_steps_combination[component_number])\n",
    "    zz[..., component_number] = xx[..., component_number]\n",
    "    zz_k = quantize(zz, Q_steps_combination)\n",
    "    zz_dQ = dequantize(zz_k, Q_steps_combination)\n",
    "    z_dQ = YUV.to_RGB(zz_dQ)\n",
    "    # If the color transform domain is not linear, the MSE should be measured in the RGB domain\n",
    "    MSE = distortion.MSE(xx, zz_dQ)\n",
    "    BPP = image.write((zz_k + 128).astype(np.uint8), f\"/tmp/{component_number}_{Q_step}_\", 0)*8/x.size\n",
    "    optimal_RD_points2.append((BPP, MSE))"
   ]
  },
  {
   "cell_type": "code",
   "execution_count": null,
   "metadata": {},
   "outputs": [],
   "source": [
    "pylab.figure(dpi=150)\n",
    "pylab.plot(*zip(*YUV_points), label=\"YCoCg Constant quantization\")\n",
    "pylab.plot(*zip(*optimal_RD_points), label=\"YCoCg Optimal quantization (MSE in YCoCg domain)\")\n",
    "pylab.plot(*zip(*optimal_RD_points2), label=\"YCoCg Optimal quantization (MSE in RGB domain)\")\n",
    "pylab.title(\"RD optimization in the YUV domain\")\n",
    "pylab.xlabel(\"Bits/Pixel\")\n",
    "pylab.ylabel(\"MSE\")\n",
    "plt.legend(loc=\"best\")\n",
    "pylab.show()"
   ]
  },
  {
   "cell_type": "markdown",
   "metadata": {},
   "source": [
    "The RD curves are not identical, which means that the YCoCg is not orthogonal, but, the results are quite close. Moreover, at least for this image, the performance of measuring the distortion in the YCoCg domain is slighly better than the performance of measuring the distortion in the RGB domain. "
   ]
  },
  {
   "cell_type": "markdown",
   "metadata": {},
   "source": [
    "Please, confirm this findings for other images. Plot the average curve considering also the standard deviation."
   ]
  }
 ],
 "metadata": {
  "kernelspec": {
   "display_name": "Python 3",
   "language": "python",
   "name": "python3"
  },
  "language_info": {
   "codemirror_mode": {
    "name": "ipython",
    "version": 3
   },
   "file_extension": ".py",
   "mimetype": "text/x-python",
   "name": "python",
   "nbconvert_exporter": "python",
   "pygments_lexer": "ipython3",
   "version": "3.9.4"
  }
 },
 "nbformat": 4,
 "nbformat_minor": 4
}
