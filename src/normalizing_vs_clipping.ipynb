{
 "cells": [
  {
   "cell_type": "code",
   "execution_count": null,
   "metadata": {},
   "outputs": [],
   "source": [
    "sequence = \"bus\""
   ]
  },
  {
   "cell_type": "code",
   "execution_count": null,
   "metadata": {},
   "outputs": [],
   "source": [
    "!../sequences/$sequence/runme.sh"
   ]
  },
  {
   "cell_type": "markdown",
   "metadata": {},
   "source": [
    "## Clipping -> Normalizing"
   ]
  },
  {
   "cell_type": "code",
   "execution_count": null,
   "metadata": {},
   "outputs": [],
   "source": [
    "!sed -z -i 's!    out = clip(YUV.to_RGB(E_k) + 128)!    #out = clip(YUV.to_RGB(E_k) + 128)!g' image_IPP_adaptive.py\n",
    "!sed -z -i 's!    dq_E_k = YUV.from_RGB(frame.read(prefix, k) - 128)\\*1!    #dq_E_k = YUV.from_RGB(frame.read(prefix, k) - 128)\\*1!g' image_IPP_adaptive.py\n",
    "!sed -z -i 's!    #out, max, min = values.norm(YUV.to_RGB(E_k)); out \\*= 255!    out, max, min = values.norm(YUV.to_RGB(E_k)); out \\*= 255!g' image_IPP_adaptive.py\n",
    "!sed -z -i 's!    #dq_E_k = YUV.from_RGB(values.denorm(frame.read(prefix, k)/255, max, min))!    dq_E_k = YUV.from_RGB(values.denorm(frame.read(prefix, k)/255, max, min))!g' image_IPP_adaptive.py"
   ]
  },
  {
   "cell_type": "markdown",
   "metadata": {},
   "source": [
    "# Quantizing VS clipping"
   ]
  },
  {
   "cell_type": "code",
   "execution_count": null,
   "metadata": {},
   "outputs": [],
   "source": [
    "!cat -n image_IPP_adaptive.py | grep \"out, \" \n",
    "!cat -n image_IPP_adaptive.py | grep \"dq_E_k = YUV\" "
   ]
  },
  {
   "cell_type": "code",
   "execution_count": null,
   "metadata": {
    "scrolled": true
   },
   "outputs": [],
   "source": [
    "!python RD_curve.py 1> >(tee /tmp/output >&1) | grep BPP | grep Average | cat -n"
   ]
  },
  {
   "cell_type": "code",
   "execution_count": null,
   "metadata": {},
   "outputs": [],
   "source": [
    "!grep BPP /tmp/output | grep Average | cut -d ' ' -f 4,9 | tr ' ' '\\t'  > /tmp/normalizing.txt"
   ]
  },
  {
   "cell_type": "code",
   "execution_count": null,
   "metadata": {},
   "outputs": [],
   "source": [
    "!cat /tmp/normalizing.txt"
   ]
  },
  {
   "cell_type": "code",
   "execution_count": null,
   "metadata": {},
   "outputs": [],
   "source": [
    "RD_normalizing = []\n",
    "with open(\"/tmp/normalizing.txt\", 'r') as f:\n",
    "    for line in f:\n",
    "        rate, _distortion = line.split('\\t')\n",
    "        RD_normalizing.append((float(rate), float(_distortion)))"
   ]
  },
  {
   "cell_type": "markdown",
   "metadata": {},
   "source": [
    "## Normalizing -> Clipping"
   ]
  },
  {
   "cell_type": "code",
   "execution_count": null,
   "metadata": {},
   "outputs": [],
   "source": [
    "!sed -z -i 's!    #out = clip(YUV.to_RGB(E_k) + 128)!    out = clip(YUV.to_RGB(E_k) + 128)!g' image_IPP_adaptive.py\n",
    "!sed -z -i 's!    #dq_E_k = YUV.from_RGB(frame.read(prefix, k) - 128)\\*1!    dq_E_k = YUV.from_RGB(frame.read(prefix, k) - 128)\\*1!g' image_IPP_adaptive.py\n",
    "!sed -z -i 's!    out, max, min = values.norm(YUV.to_RGB(E_k)); out \\*= 255!    #out, max, min = values.norm(YUV.to_RGB(E_k)); out \\*= 255!g' image_IPP_adaptive.py\n",
    "!sed -z -i 's!    dq_E_k = YUV.from_RGB(values.denorm(frame.read(prefix, k)/255, max, min))!    #dq_E_k = YUV.from_RGB(values.denorm(frame.read(prefix, k)/255, max, min))!g' image_IPP_adaptive.py"
   ]
  },
  {
   "cell_type": "code",
   "execution_count": null,
   "metadata": {},
   "outputs": [],
   "source": [
    "!cat -n image_IPP_adaptive.py | grep \"out = \" \n",
    "!cat -n image_IPP_adaptive.py | grep \"dq_E_k = YUV\" "
   ]
  },
  {
   "cell_type": "code",
   "execution_count": null,
   "metadata": {},
   "outputs": [],
   "source": [
    "!python RD_curve.py 1> >(tee /tmp/output >&1) | grep BPP | grep Average | cat -n"
   ]
  },
  {
   "cell_type": "code",
   "execution_count": null,
   "metadata": {},
   "outputs": [],
   "source": [
    "!grep BPP /tmp/output | grep Average | cut -d ' ' -f 4,9 | tr ' ' '\\t'  > /tmp/clipping.txt"
   ]
  },
  {
   "cell_type": "code",
   "execution_count": null,
   "metadata": {},
   "outputs": [],
   "source": [
    "!cat /tmp/clipping.txt"
   ]
  },
  {
   "cell_type": "code",
   "execution_count": null,
   "metadata": {},
   "outputs": [],
   "source": [
    "RD_clipping = []\n",
    "with open(\"/tmp/clipping.txt\", 'r') as f:\n",
    "    for line in f:\n",
    "        rate, _distortion = line.split('\\t')\n",
    "        RD_clipping.append((float(rate), float(_distortion)))"
   ]
  },
  {
   "cell_type": "markdown",
   "metadata": {},
   "source": [
    "## Comparison"
   ]
  },
  {
   "cell_type": "code",
   "execution_count": null,
   "metadata": {},
   "outputs": [],
   "source": [
    "%matplotlib inline\n",
    "\n",
    "import matplotlib\n",
    "import matplotlib.pyplot as plt\n",
    "import matplotlib.axes as ax\n",
    "import pylab\n",
    "\n",
    "pylab.figure(dpi=150)\n",
    "pylab.plot(*zip(*RD_normalizing), label=\"Normalizing\")\n",
    "pylab.plot(*zip(*RD_clipping), label=\"Clipping\")\n",
    "pylab.title(f\"{sequence}\")\n",
    "pylab.xlabel(\"Bits/Pixel\")\n",
    "pylab.ylabel(\"AMSE\")\n",
    "plt.legend(loc='upper right')\n",
    "pylab.show()"
   ]
  }
 ],
 "metadata": {
  "kernelspec": {
   "display_name": "Python 3",
   "language": "python",
   "name": "python3"
  },
  "language_info": {
   "codemirror_mode": {
    "name": "ipython",
    "version": 3
   },
   "file_extension": ".py",
   "mimetype": "text/x-python",
   "name": "python",
   "nbconvert_exporter": "python",
   "pygments_lexer": "ipython3",
   "version": "3.9.4"
  }
 },
 "nbformat": 4,
 "nbformat_minor": 4
}
