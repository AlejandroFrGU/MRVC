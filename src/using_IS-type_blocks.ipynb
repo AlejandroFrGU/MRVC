{
 "cells": [
  {
   "cell_type": "markdown",
   "metadata": {},
   "source": [
    "# Impact of using I-type and/S-type blocks in P-type frames"
   ]
  },
  {
   "cell_type": "code",
   "execution_count": 1,
   "metadata": {},
   "outputs": [],
   "source": [
    "sequence = \"bus\""
   ]
  },
  {
   "cell_type": "code",
   "execution_count": 2,
   "metadata": {},
   "outputs": [
    {
     "name": "stdout",
     "output_type": "stream",
     "text": [
      "bus_cif.y4m exists.\n",
      "ffmpeg version n4.3.2 Copyright (c) 2000-2021 the FFmpeg developers\n",
      "  built with gcc 10.2.0 (GCC)\n",
      "  configuration: --prefix=/usr --disable-debug --disable-static --disable-stripping --enable-amf --enable-avisynth --enable-cuda-llvm --enable-lto --enable-fontconfig --enable-gmp --enable-gnutls --enable-gpl --enable-ladspa --enable-libaom --enable-libass --enable-libbluray --enable-libdav1d --enable-libdrm --enable-libfreetype --enable-libfribidi --enable-libgsm --enable-libiec61883 --enable-libjack --enable-libmfx --enable-libmodplug --enable-libmp3lame --enable-libopencore_amrnb --enable-libopencore_amrwb --enable-libopenjpeg --enable-libopus --enable-libpulse --enable-librav1e --enable-libsoxr --enable-libspeex --enable-libsrt --enable-libssh --enable-libtheora --enable-libv4l2 --enable-libvidstab --enable-libvmaf --enable-libvorbis --enable-libvpx --enable-libwebp --enable-libx264 --enable-libx265 --enable-libxcb --enable-libxml2 --enable-libxvid --enable-libzimg --enable-nvdec --enable-nvenc --enable-shared --enable-version3\n",
      "  libavutil      56. 51.100 / 56. 51.100\n",
      "  libavcodec     58. 91.100 / 58. 91.100\n",
      "  libavformat    58. 45.100 / 58. 45.100\n",
      "  libavdevice    58. 10.100 / 58. 10.100\n",
      "  libavfilter     7. 85.100 /  7. 85.100\n",
      "  libswscale      5.  7.100 /  5.  7.100\n",
      "  libswresample   3.  7.100 /  3.  7.100\n",
      "  libpostproc    55.  7.100 / 55.  7.100\n",
      "Input #0, yuv4mpegpipe, from 'bus_cif.y4m':\n",
      "  Duration: 00:00:05.00, start: 0.000000, bitrate: 36496 kb/s\n",
      "    Stream #0:0: Video: rawvideo (I420 / 0x30323449), yuv420p(progressive), 352x288, SAR 128:117 DAR 1408:1053, 30 fps, 30 tbr, 30 tbn, 30 tbc\n",
      "Stream mapping:\n",
      "  Stream #0:0 -> #0:0 (rawvideo (native) -> png (native))\n",
      "Press [q] to stop, [?] for help\n",
      "Output #0, image2, to '/tmp/original_%03d.png':\n",
      "  Metadata:\n",
      "    encoder         : Lavf58.45.100\n",
      "    Stream #0:0: Video: png, rgb24, 352x288 [SAR 128:117 DAR 1408:1053], q=2-31, 200 kb/s, 30 fps, 30 tbn, 30 tbc\n",
      "    Metadata:\n",
      "      encoder         : Lavc58.91.100 png\n",
      "frame=  150 fps=0.0 q=-0.0 Lsize=N/A time=00:00:05.00 bitrate=N/A speed=8.13x    \n",
      "video:33372kB audio:0kB subtitle:0kB other streams:0kB global headers:0kB muxing overhead: unknown\n"
     ]
    }
   ],
   "source": [
    "!../sequences/$sequence/runme.sh"
   ]
  },
  {
   "cell_type": "markdown",
   "metadata": {},
   "source": [
    "## Without I-type blocks"
   ]
  },
  {
   "cell_type": "code",
   "execution_count": 3,
   "metadata": {},
   "outputs": [],
   "source": [
    "!sed -z -i 's/\\n#import image_IPP as codec\\n/\\nimport image_IPP as codec\\n/g' RD_curve.py\n",
    "!sed -z -i 's/\\nimport image_IPP_adaptive as codec\\n/\\n#import image_IPP_adaptive as codec\\n/g' RD_curve.py\n",
    "!sed -z -i 's/\\nimport MP4 as codec\\n/\\n#import MP4 as codec\\n/g' RD_curve.py\n",
    "!sed -z -i 's/\\nimport IPP_compressor as codec\\n/\\n#import IPP_compressor as codec\\n/g' RD_curve.py\n",
    "\n",
    "!sed -z -i 's!\\ntransform = \"DWT\"\\n!\\n#transform = \"DWT\"\\n!g' config.py\n",
    "!sed -z -i 's!\\ntransform = \"LT\"\\n!\\n#transform = \"LT\"\\n!g' config.py\n",
    "!sed -z -i 's!\\n#transform = None\\n!\\ntransform = None\\n!g' config.py"
   ]
  },
  {
   "cell_type": "code",
   "execution_count": 4,
   "metadata": {},
   "outputs": [
    {
     "name": "stdout",
     "output_type": "stream",
     "text": [
      "     5\timport config\n",
      "     6\timport distortion\n",
      "     7\timport frame\n",
      "    10\t#import image_interpolated_IPP as codec\n",
      "    11\timport image_IPP as codec\n",
      "    12\t#import image_IPP_adaptive as codec\n",
      "    13\t#import MP4 as codec\n",
      "    14\t#import IPP_compressor as codec\n",
      "     3\t#transform = \"DWT\"\n",
      "     4\t#transform = \"LP\"\n",
      "     5\ttransform = None\n"
     ]
    }
   ],
   "source": [
    "!cat -n RD_curve.py | grep \"import\"\n",
    "!cat -n config.py | grep \"transform\""
   ]
  },
  {
   "cell_type": "code",
   "execution_count": 5,
   "metadata": {
    "scrolled": true
   },
   "outputs": [
    {
     "name": "stdout",
     "output_type": "stream",
     "text": [
      "     1\tQ_step: 21 BPP: 0.44771762766554435 KBPS: 4084.904 Average AMSE: 51.79169143693881\r\n",
      "     2\tQ_step: 24 BPP: 0.3340970468574635 KBPS: 3048.248 Average AMSE: 80.12090260241303\r\n",
      "     3\tQ_step: 27 BPP: 0.24263555695847364 KBPS: 2213.768 Average AMSE: 127.7267672383558\r\n",
      "     4\tQ_step: 30 BPP: 0.1719030583613917 KBPS: 1568.416 Average AMSE: 205.54738169454964\r\n",
      "     5\tQ_step: 33 BPP: 0.11975922418630752 KBPS: 1092.664 Average AMSE: 327.4852363697742\r\n",
      "     6\tQ_step: 36 BPP: 0.08329212261503928 KBPS: 759.944 Average AMSE: 484.2601539483375\r\n",
      "     7\tQ_step: 39 BPP: 0.06171261223344557 KBPS: 563.056 Average AMSE: 654.9678233068532\r\n"
     ]
    }
   ],
   "source": [
    "!python RD_curve.py 1> >(tee /tmp/output >&1) | grep BPP | grep Average | cat -n"
   ]
  },
  {
   "cell_type": "code",
   "execution_count": 6,
   "metadata": {},
   "outputs": [],
   "source": [
    "!grep BPP /tmp/output | grep Average | cut -d ' ' -f 4,9 | tr ' ' '\\t'  > /tmp/no_I-blocks.txt"
   ]
  },
  {
   "cell_type": "code",
   "execution_count": 7,
   "metadata": {},
   "outputs": [
    {
     "name": "stdout",
     "output_type": "stream",
     "text": [
      "0.44771762766554435\t51.79169143693881\r\n",
      "0.3340970468574635\t80.12090260241303\r\n",
      "0.24263555695847364\t127.7267672383558\r\n",
      "0.1719030583613917\t205.54738169454964\r\n",
      "0.11975922418630752\t327.4852363697742\r\n",
      "0.08329212261503928\t484.2601539483375\r\n",
      "0.06171261223344557\t654.9678233068532\r\n"
     ]
    }
   ],
   "source": [
    "!cat /tmp/no_I-blocks.txt"
   ]
  },
  {
   "cell_type": "code",
   "execution_count": 8,
   "metadata": {},
   "outputs": [],
   "source": [
    "RD_no_Iblocks = []\n",
    "with open(\"/tmp/no_I-blocks.txt\", 'r') as f:\n",
    "    for line in f:\n",
    "        rate, _distortion = line.split('\\t')\n",
    "        RD_no_Iblocks.append((float(rate), float(_distortion)))"
   ]
  },
  {
   "cell_type": "markdown",
   "metadata": {},
   "source": [
    "## Considering also I-type blocks"
   ]
  },
  {
   "cell_type": "code",
   "execution_count": 9,
   "metadata": {},
   "outputs": [],
   "source": [
    "!sed -z -i 's/\\nimport image_IPP as codec/\\n#import image_IPP as codec/g' RD_curve.py\n",
    "!sed -z -i 's/\\n#import image_IPP_adaptive as codec\\n/\\nimport image_IPP_adaptive as codec\\n/g' RD_curve.py\n",
    "!sed -z -i 's/\\nimport MP4 as codec\\n/\\n#import MP4 as codec\\n/g' RD_curve.py\n",
    "!sed -z -i 's/\\nimport IPP_compressor as codec\\n/\\n#import IPP_compressor as codec\\n/g' RD_curve.py\n",
    "\n",
    "!sed -z -i 's!\\ntransform = \"DWT\"\\n!\\n#transform = \"DWT\"\\n!g' config.py\n",
    "!sed -z -i 's!\\ntransform = \"LT\"\\n!\\n#transform = \"LT\"\\n!g' config.py\n",
    "!sed -z -i 's!\\n#transform = None\\n!\\ntransform = None\\n!g' config.py\n",
    "\n",
    "!sed -z -i 's!  return self.decide_types_0!  #return self.decide_types_0!g' image_IPP_adaptive.py\n",
    "!sed -z -i 's!  #return self.decide_types_1!  return self.decide_types_1!g' image_IPP_adaptive.py"
   ]
  },
  {
   "cell_type": "code",
   "execution_count": 10,
   "metadata": {},
   "outputs": [
    {
     "name": "stdout",
     "output_type": "stream",
     "text": [
      "     5\timport config\n",
      "     6\timport distortion\n",
      "     7\timport frame\n",
      "    10\t#import image_interpolated_IPP as codec\n",
      "    11\t#import image_IPP as codec\n",
      "    12\timport image_IPP_adaptive as codec\n",
      "    13\t#import MP4 as codec\n",
      "    14\t#import IPP_compressor as codec\n",
      "     3\t#transform = \"DWT\"\n",
      "     4\t#transform = \"LP\"\n",
      "     5\ttransform = None\n",
      "    51\t        #return self.decide_types_0(video, k, q_step, V_k, reconstructed_V_k, E_k, prediction_V_k, block_y_side, block_x_side, averages)\n",
      "    52\t        return self.decide_types_1(video, k, q_step, V_k, reconstructed_V_k, E_k, prediction_V_k, block_y_side, block_x_side, averages)\n"
     ]
    }
   ],
   "source": [
    "!cat -n RD_curve.py | grep \"import\"\n",
    "!cat -n config.py | grep \"transform\"\n",
    "!cat -n image_IPP_adaptive.py | grep \"return self.decide_types\""
   ]
  },
  {
   "cell_type": "code",
   "execution_count": 11,
   "metadata": {},
   "outputs": [
    {
     "name": "stdout",
     "output_type": "stream",
     "text": [
      "     1\tQ_step: 21 BPP: 1.2682230289001122 KBPS: 11571.064 Average AMSE: 8014.196009794121\r\n",
      "     2\tQ_step: 24 BPP: 1.0257566989337823 KBPS: 9358.84 Average AMSE: 8014.940654812008\r\n",
      "     3\tQ_step: 27 BPP: 0.827488425925926 KBPS: 7549.872 Average AMSE: 8016.1075852930335\r\n",
      "     4\tQ_step: 30 BPP: 0.68084052328844 KBPS: 6211.88 Average AMSE: 8017.688485878752\r\n",
      "     5\tQ_step: 33 BPP: 0.5590970468574635 KBPS: 5101.112 Average AMSE: 8020.169220196758\r\n",
      "     6\tQ_step: 36 BPP: 0.47152777777777777 KBPS: 4302.144 Average AMSE: 8023.696106135135\r\n",
      "     7\tQ_step: 39 BPP: 0.41777935606060607 KBPS: 3811.7520000000004 Average AMSE: 8027.704251389764\r\n"
     ]
    }
   ],
   "source": [
    "!python RD_curve.py 1> >(tee /tmp/output >&1) | grep BPP | grep Average | cat -n"
   ]
  },
  {
   "cell_type": "code",
   "execution_count": 12,
   "metadata": {},
   "outputs": [],
   "source": [
    "!grep BPP /tmp/output | grep Average | cut -d ' ' -f 4,9 | tr ' ' '\\t'  > /tmp/with_I-blocks.txt"
   ]
  },
  {
   "cell_type": "code",
   "execution_count": 13,
   "metadata": {},
   "outputs": [
    {
     "name": "stdout",
     "output_type": "stream",
     "text": [
      "1.2682230289001122\t8014.196009794121\r\n",
      "1.0257566989337823\t8014.940654812008\r\n",
      "0.827488425925926\t8016.1075852930335\r\n",
      "0.68084052328844\t8017.688485878752\r\n",
      "0.5590970468574635\t8020.169220196758\r\n",
      "0.47152777777777777\t8023.696106135135\r\n",
      "0.41777935606060607\t8027.704251389764\r\n"
     ]
    }
   ],
   "source": [
    "!cat /tmp/with_I-blocks.txt"
   ]
  },
  {
   "cell_type": "code",
   "execution_count": 14,
   "metadata": {},
   "outputs": [],
   "source": [
    "RD_with_Iblocks = []\n",
    "with open(\"/tmp/with_I-blocks.txt\", 'r') as f:\n",
    "    for line in f:\n",
    "        rate, _distortion = line.split('\\t')\n",
    "        RD_with_Iblocks.append((float(rate), float(_distortion)))"
   ]
  },
  {
   "cell_type": "markdown",
   "metadata": {},
   "source": [
    "## Considering also S-type blocks"
   ]
  },
  {
   "cell_type": "code",
   "execution_count": 15,
   "metadata": {},
   "outputs": [],
   "source": [
    "!sed -z -i 's/\\nimport image_IPP as codec/\\n#import image_IPP as codec/g' RD_curve.py\n",
    "!sed -z -i 's/\\n#import image_IPP_adaptive as codec\\n/\\nimport image_IPP_adaptive as codec\\n/g' RD_curve.py\n",
    "!sed -z -i 's/\\nimport MP4 as codec\\n/\\n#import MP4 as codec\\n/g' RD_curve.py\n",
    "!sed -z -i 's/\\nimport IPP_compressor as codec\\n/\\n#import IPP_compressor as codec\\n/g' RD_curve.py\n",
    "\n",
    "!sed -z -i 's!\\ntransform = \"DWT\"\\n!\\n#transform = \"DWT\"\\n!g' config.py\n",
    "!sed -z -i 's!\\ntransform = \"LT\"\\n!\\n#transform = \"LT\"\\n!g' config.py\n",
    "!sed -z -i 's!\\n#transform = None\\n!\\ntransform = None\\n!g' config.py\n",
    "\n",
    "!sed -z -i 's!  #return self.decide_types_0!  return self.decide_types_0!g' image_IPP_adaptive.py\n",
    "!sed -z -i 's!  return self.decide_types_1!  #return self.decide_types_1!g' image_IPP_adaptive.py"
   ]
  },
  {
   "cell_type": "code",
   "execution_count": 16,
   "metadata": {},
   "outputs": [
    {
     "name": "stdout",
     "output_type": "stream",
     "text": [
      "     5\timport config\n",
      "     6\timport distortion\n",
      "     7\timport frame\n",
      "    10\t#import image_interpolated_IPP as codec\n",
      "    11\t#import image_IPP as codec\n",
      "    12\timport image_IPP_adaptive as codec\n",
      "    13\t#import MP4 as codec\n",
      "    14\t#import IPP_compressor as codec\n",
      "     3\t#transform = \"DWT\"\n",
      "     4\t#transform = \"LP\"\n",
      "     5\ttransform = None\n",
      "    51\t        return self.decide_types_0(video, k, q_step, V_k, reconstructed_V_k, E_k, prediction_V_k, block_y_side, block_x_side, averages)\n",
      "    52\t        #return self.decide_types_1(video, k, q_step, V_k, reconstructed_V_k, E_k, prediction_V_k, block_y_side, block_x_side, averages)\n"
     ]
    }
   ],
   "source": [
    "!cat -n RD_curve.py | grep \"import\"\n",
    "!cat -n config.py | grep \"transform\"\n",
    "!cat -n image_IPP_adaptive.py | grep \"return self.decide_types\""
   ]
  },
  {
   "cell_type": "code",
   "execution_count": 17,
   "metadata": {},
   "outputs": [
    {
     "name": "stdout",
     "output_type": "stream",
     "text": [
      "     1\tQ_step: 21 BPP: 0.04271797839506172 KBPS: 389.75199999999995 Average AMSE: 8014.196009794121\r\n",
      "     2\tQ_step: 24 BPP: 0.038992354096520764 KBPS: 355.76 Average AMSE: 8014.940654812008\r\n",
      "     3\tQ_step: 27 BPP: 0.03603482744107744 KBPS: 328.77599999999995 Average AMSE: 8016.1075852930335\r\n",
      "     4\tQ_step: 30 BPP: 0.03360602553310887 KBPS: 306.616 Average AMSE: 8017.688485878752\r\n",
      "     5\tQ_step: 33 BPP: 0.0318655303030303 KBPS: 290.736 Average AMSE: 8020.169220196758\r\n",
      "     6\tQ_step: 36 BPP: 0.030632716049382717 KBPS: 279.488 Average AMSE: 8023.696106135135\r\n",
      "     7\tQ_step: 39 BPP: 0.02999175785634119 KBPS: 273.64 Average AMSE: 8027.704251389764\r\n"
     ]
    }
   ],
   "source": [
    "!python RD_curve.py 1> >(tee /tmp/output >&1) | grep BPP | grep Average | cat -n"
   ]
  },
  {
   "cell_type": "code",
   "execution_count": 18,
   "metadata": {},
   "outputs": [],
   "source": [
    "!grep BPP /tmp/output | grep Average | cut -d ' ' -f 4,9 | tr ' ' '\\t'  > /tmp/with_S-blocks.txt"
   ]
  },
  {
   "cell_type": "code",
   "execution_count": 19,
   "metadata": {},
   "outputs": [
    {
     "name": "stdout",
     "output_type": "stream",
     "text": [
      "0.04271797839506172\t8014.196009794121\r\n",
      "0.038992354096520764\t8014.940654812008\r\n",
      "0.03603482744107744\t8016.1075852930335\r\n",
      "0.03360602553310887\t8017.688485878752\r\n",
      "0.0318655303030303\t8020.169220196758\r\n",
      "0.030632716049382717\t8023.696106135135\r\n",
      "0.02999175785634119\t8027.704251389764\r\n"
     ]
    }
   ],
   "source": [
    "!cat /tmp/with_S-blocks.txt"
   ]
  },
  {
   "cell_type": "code",
   "execution_count": 20,
   "metadata": {},
   "outputs": [],
   "source": [
    "RD_with_Sblocks = []\n",
    "with open(\"/tmp/with_S-blocks.txt\", 'r') as f:\n",
    "    for line in f:\n",
    "        rate, _distortion = line.split('\\t')\n",
    "        RD_with_Sblocks.append((float(rate), float(_distortion)))"
   ]
  },
  {
   "cell_type": "markdown",
   "metadata": {},
   "source": [
    "## Considering all S-type blocks"
   ]
  },
  {
   "cell_type": "code",
   "execution_count": 21,
   "metadata": {},
   "outputs": [],
   "source": [
    "!sed -z -i 's/\\nimport image_IPP as codec/\\n#import image_IPP as codec/g' RD_curve.py\n",
    "!sed -z -i 's/\\n#import image_IPP_adaptive as codec\\n/\\nimport image_IPP_adaptive as codec\\n/g' RD_curve.py\n",
    "!sed -z -i 's/\\nimport MP4 as codec\\n/\\n#import MP4 as codec\\n/g' RD_curve.py\n",
    "!sed -z -i 's/\\nimport IPP_compressor as codec\\n/\\n#import IPP_compressor as codec\\n/g' RD_curve.py\n",
    "\n",
    "!sed -z -i 's!\\ntransform = \"DWT\"\\n!\\n#transform = \"DWT\"\\n!g' config.py\n",
    "!sed -z -i 's!\\ntransform = \"LT\"\\n!\\n#transform = \"LT\"\\n!g' config.py\n",
    "!sed -z -i 's!\\n#transform = None\\n!\\ntransform = None\\n!g' config.py\n",
    "\n",
    "!sed -z -i 's!  #return self.decide_types_0!  return self.decide_types_0!g' image_IPP_adaptive.py\n",
    "!sed -z -i 's!  return self.decide_types_1!  #return self.decide_types_1!g' image_IPP_adaptive.py\n",
    "\n",
    "!sed -z -i 's!E_k_block_entropy < 6!E_k_block_entropy < 106!g' image_IPP_adaptive.py"
   ]
  },
  {
   "cell_type": "code",
   "execution_count": 22,
   "metadata": {},
   "outputs": [
    {
     "name": "stdout",
     "output_type": "stream",
     "text": [
      "     5\timport config\n",
      "     6\timport distortion\n",
      "     7\timport frame\n",
      "    10\t#import image_interpolated_IPP as codec\n",
      "    11\t#import image_IPP as codec\n",
      "    12\timport image_IPP_adaptive as codec\n",
      "    13\t#import MP4 as codec\n",
      "    14\t#import IPP_compressor as codec\n",
      "     3\t#transform = \"DWT\"\n",
      "     4\t#transform = \"LP\"\n",
      "     5\ttransform = None\n",
      "    51\t        return self.decide_types_0(video, k, q_step, V_k, reconstructed_V_k, E_k, prediction_V_k, block_y_side, block_x_side, averages)\n",
      "    52\t        #return self.decide_types_1(video, k, q_step, V_k, reconstructed_V_k, E_k, prediction_V_k, block_y_side, block_x_side, averages)\n",
      "    64\t                if E_k_block_entropy < 106:\n"
     ]
    }
   ],
   "source": [
    "!cat -n RD_curve.py | grep \"import\"\n",
    "!cat -n config.py | grep \"transform\"\n",
    "!cat -n image_IPP_adaptive.py | grep \"return self.decide_types\"\n",
    "!cat -n image_IPP_adaptive.py | grep \"E_k_block_entropy\" | grep 106"
   ]
  },
  {
   "cell_type": "code",
   "execution_count": 23,
   "metadata": {},
   "outputs": [
    {
     "name": "stdout",
     "output_type": "stream",
     "text": [
      "     1\tQ_step: 21 BPP: 0.04271797839506172 KBPS: 389.75199999999995 Average AMSE: 8014.196009794121\r\n",
      "     2\tQ_step: 24 BPP: 0.038992354096520764 KBPS: 355.76 Average AMSE: 8014.940654812008\r\n",
      "     3\tQ_step: 27 BPP: 0.03603482744107744 KBPS: 328.77599999999995 Average AMSE: 8016.1075852930335\r\n",
      "     4\tQ_step: 30 BPP: 0.03360602553310887 KBPS: 306.616 Average AMSE: 8017.688485878752\r\n",
      "     5\tQ_step: 33 BPP: 0.0318655303030303 KBPS: 290.736 Average AMSE: 8020.169220196758\r\n",
      "     6\tQ_step: 36 BPP: 0.030632716049382717 KBPS: 279.488 Average AMSE: 8023.696106135135\r\n",
      "     7\tQ_step: 39 BPP: 0.02999175785634119 KBPS: 273.64 Average AMSE: 8027.704251389764\r\n"
     ]
    }
   ],
   "source": [
    "!python RD_curve.py 1> >(tee /tmp/output >&1) | grep BPP | grep Average | cat -n"
   ]
  },
  {
   "cell_type": "code",
   "execution_count": 24,
   "metadata": {},
   "outputs": [],
   "source": [
    "!grep BPP /tmp/output | grep Average | cut -d ' ' -f 4,9 | tr ' ' '\\t'  > /tmp/all_S-blocks.txt"
   ]
  },
  {
   "cell_type": "code",
   "execution_count": 25,
   "metadata": {},
   "outputs": [
    {
     "name": "stdout",
     "output_type": "stream",
     "text": [
      "0.04271797839506172\t8014.196009794121\r\n",
      "0.038992354096520764\t8014.940654812008\r\n",
      "0.03603482744107744\t8016.1075852930335\r\n",
      "0.03360602553310887\t8017.688485878752\r\n",
      "0.0318655303030303\t8020.169220196758\r\n",
      "0.030632716049382717\t8023.696106135135\r\n",
      "0.02999175785634119\t8027.704251389764\r\n"
     ]
    }
   ],
   "source": [
    "!cat /tmp/all_S-blocks.txt"
   ]
  },
  {
   "cell_type": "code",
   "execution_count": 26,
   "metadata": {},
   "outputs": [],
   "source": [
    "RD_all_Sblocks = []\n",
    "with open(\"/tmp/all_S-blocks.txt\", 'r') as f:\n",
    "    for line in f:\n",
    "        rate, _distortion = line.split('\\t')\n",
    "        RD_all_Sblocks.append((float(rate), float(_distortion)))"
   ]
  },
  {
   "cell_type": "markdown",
   "metadata": {},
   "source": [
    "## MP4"
   ]
  },
  {
   "cell_type": "code",
   "execution_count": 27,
   "metadata": {},
   "outputs": [],
   "source": [
    "!sed -z -i 's!\\nimport image_IPP as codec!\\n#import image_IPP as codec!g' RD_curve.py\n",
    "!sed -z -i 's!\\nimport image_IPP_adaptive as codec\\n!\\n#import image_IPP_adaptive as codec\\n!g' RD_curve.py\n",
    "!sed -z -i 's!\\nimport IPP_compressor as codec\\n!\\n#import IPP_compressor as codec\\n!g' RD_curve.py\n",
    "!sed -z -i 's!\\n#import MP4 as codec\\n!\\nimport MP4 as codec\\n!g' RD_curve.py\n",
    "\n",
    "!sed -z -i 's!\\ntransform = \"DWT\"\\n!\\n#transform = \"DWT\"\\n!g' config.py\n",
    "!sed -z -i 's!\\ntransform = \"LT\"\\n!\\n#transform = \"LT\"\\n!g' config.py\n",
    "!sed -z -i 's!\\n#transform = None\\n!\\ntransform = None\\n!g' config.py"
   ]
  },
  {
   "cell_type": "code",
   "execution_count": 28,
   "metadata": {},
   "outputs": [
    {
     "name": "stdout",
     "output_type": "stream",
     "text": [
      "     5\timport config\n",
      "     6\timport distortion\n",
      "     7\timport frame\n",
      "    10\t#import image_interpolated_IPP as codec\n",
      "    11\t#import image_IPP as codec\n",
      "    12\t#import image_IPP_adaptive as codec\n",
      "    13\timport MP4 as codec\n",
      "    14\t#import IPP_compressor as codec\n",
      "     3\t#transform = \"DWT\"\n",
      "     4\t#transform = \"LP\"\n",
      "     5\ttransform = None\n"
     ]
    }
   ],
   "source": [
    "!cat -n RD_curve.py | grep \"import\"\n",
    "!cat -n config.py | grep \"transform\""
   ]
  },
  {
   "cell_type": "code",
   "execution_count": 29,
   "metadata": {},
   "outputs": [
    {
     "name": "stdout",
     "output_type": "stream",
     "text": [
      "ffmpeg version n4.3.2 Copyright (c) 2000-2021 the FFmpeg developers\n",
      "  built with gcc 10.2.0 (GCC)\n",
      "  configuration: --prefix=/usr --disable-debug --disable-static --disable-stripping --enable-amf --enable-avisynth --enable-cuda-llvm --enable-lto --enable-fontconfig --enable-gmp --enable-gnutls --enable-gpl --enable-ladspa --enable-libaom --enable-libass --enable-libbluray --enable-libdav1d --enable-libdrm --enable-libfreetype --enable-libfribidi --enable-libgsm --enable-libiec61883 --enable-libjack --enable-libmfx --enable-libmodplug --enable-libmp3lame --enable-libopencore_amrnb --enable-libopencore_amrwb --enable-libopenjpeg --enable-libopus --enable-libpulse --enable-librav1e --enable-libsoxr --enable-libspeex --enable-libsrt --enable-libssh --enable-libtheora --enable-libv4l2 --enable-libvidstab --enable-libvmaf --enable-libvorbis --enable-libvpx --enable-libwebp --enable-libx264 --enable-libx265 --enable-libxcb --enable-libxml2 --enable-libxvid --enable-libzimg --enable-nvdec --enable-nvenc --enable-shared --enable-version3\n",
      "  libavutil      56. 51.100 / 56. 51.100\n",
      "  libavcodec     58. 91.100 / 58. 91.100\n",
      "  libavformat    58. 45.100 / 58. 45.100\n",
      "  libavdevice    58. 10.100 / 58. 10.100\n",
      "  libavfilter     7. 85.100 /  7. 85.100\n",
      "  libswscale      5.  7.100 /  5.  7.100\n",
      "  libswresample   3.  7.100 /  3.  7.100\n",
      "  libpostproc    55.  7.100 / 55.  7.100\n",
      "Input #0, image2, from '/tmp/original_%03d.png':\n",
      "  Duration: 00:00:06.00, start: 0.000000, bitrate: N/A\n",
      "    Stream #0:0: Video: png, rgb24(pc), 352x288 [SAR 128:117 DAR 1408:1053], 25 fps, 25 tbr, 25 tbn, 25 tbc\n",
      "Stream mapping:\n",
      "  Stream #0:0 -> #0:0 (png (native) -> h264 (libx264rgb))\n",
      "Press [q] to stop, [?] for help\n",
      "\u001b[1;36m[libx264rgb @ 0x5644d43d3dc0] \u001b[0musing SAR=128/117\n",
      "\u001b[1;36m[libx264rgb @ 0x5644d43d3dc0] \u001b[0musing cpu capabilities: MMX2 SSE2Fast SSSE3 SSE4.2 AVX FMA3 BMI2 AVX2\n",
      "\u001b[1;36m[libx264rgb @ 0x5644d43d3dc0] \u001b[0mprofile High 4:4:4 Predictive, level 1.3, 4:4:4, 8-bit\n",
      "\u001b[1;36m[libx264rgb @ 0x5644d43d3dc0] \u001b[0m264 - core 160 r3011 cde9a93 - H.264/MPEG-4 AVC codec - Copyleft 2003-2020 - http://www.videolan.org/x264.html - options: cabac=1 ref=3 deblock=1:0:0 analyse=0x3:0x113 me=hex subme=7 psy=1 psy_rd=1.00:0.00 mixed_ref=1 me_range=16 chroma_me=1 trellis=1 8x8dct=1 cqm=0 deadzone=21,11 fast_pskip=1 chroma_qp_offset=-2 threads=9 lookahead_threads=1 sliced_threads=0 nr=0 decimate=1 interlaced=0 bluray_compat=0 constrained_intra=0 bframes=0 weightp=2 keyint=30 keyint_min=3 scenecut=40 intra_refresh=0 rc_lookahead=30 rc=crf mbtree=1 crf=21.0 qcomp=0.60 qpmin=0 qpmax=69 qpstep=4 ip_ratio=1.40 aq=1:1.00\n",
      "Output #0, mp4, to '/tmp/output.mp4':\n",
      "  Metadata:\n",
      "    encoder         : Lavf58.45.100\n",
      "    Stream #0:0: Video: h264 (libx264rgb) (avc1 / 0x31637661), rgb24, 352x288 [SAR 128:117 DAR 1408:1053], q=-1--1, 25 fps, 12800 tbn, 25 tbc\n",
      "    Metadata:\n",
      "      encoder         : Lavc58.91.100 libx264rgb\n",
      "    Side data:\n",
      "      cpb: bitrate max/min/avg: 0/0/0 buffer size: 0 vbv_delay: N/A\n",
      "frame=   30 fps=0.0 q=-1.0 Lsize=     586kB time=00:00:01.16 bitrate=4139.3kbits/s speed=2.95x    \n",
      "video:585kB audio:0kB subtitle:0kB other streams:0kB global headers:0kB muxing overhead: 0.161529%\n",
      "\u001b[1;36m[libx264rgb @ 0x5644d43d3dc0] \u001b[0mframe I:1     Avg QP:28.03  size: 55771\n",
      "\u001b[1;36m[libx264rgb @ 0x5644d43d3dc0] \u001b[0mframe P:29    Avg QP:28.27  size: 18720\n",
      "\u001b[1;36m[libx264rgb @ 0x5644d43d3dc0] \u001b[0mmb I  I16..4:  2.3% 45.2% 52.5%\n",
      "\u001b[1;36m[libx264rgb @ 0x5644d43d3dc0] \u001b[0mmb P  I16..4:  0.1%  0.2%  1.0%  P16..4: 22.0% 31.1% 45.5%  0.0%  0.0%    skip: 0.2%\n",
      "\u001b[1;36m[libx264rgb @ 0x5644d43d3dc0] \u001b[0m8x8 transform intra:37.8% inter:58.1%\n",
      "\u001b[1;36m[libx264rgb @ 0x5644d43d3dc0] \u001b[0mcoded y,u,v intra: 93.8% 96.8% 95.8% inter: 54.5% 81.3% 73.3%\n",
      "\u001b[1;36m[libx264rgb @ 0x5644d43d3dc0] \u001b[0mi16 v,h,dc,p: 38% 44% 12%  6%\n",
      "\u001b[1;36m[libx264rgb @ 0x5644d43d3dc0] \u001b[0mi8 v,h,dc,ddl,ddr,vr,hd,vl,hu: 15% 16% 22%  5%  8%  6%  8%  5% 15%\n",
      "\u001b[1;36m[libx264rgb @ 0x5644d43d3dc0] \u001b[0mi4 v,h,dc,ddl,ddr,vr,hd,vl,hu: 29% 33% 11%  4%  5%  4%  5%  5%  5%\n",
      "\u001b[1;36m[libx264rgb @ 0x5644d43d3dc0] \u001b[0mWeighted P-Frames: Y:0.0% UV:0.0%\n",
      "\u001b[1;36m[libx264rgb @ 0x5644d43d3dc0] \u001b[0mref P L0: 57.0% 14.7% 19.6%  8.7%\n",
      "\u001b[1;36m[libx264rgb @ 0x5644d43d3dc0] \u001b[0mkb/s:3990.99\n",
      "ffmpeg version n4.3.2 Copyright (c) 2000-2021 the FFmpeg developers\n",
      "  built with gcc 10.2.0 (GCC)\n",
      "  configuration: --prefix=/usr --disable-debug --disable-static --disable-stripping --enable-amf --enable-avisynth --enable-cuda-llvm --enable-lto --enable-fontconfig --enable-gmp --enable-gnutls --enable-gpl --enable-ladspa --enable-libaom --enable-libass --enable-libbluray --enable-libdav1d --enable-libdrm --enable-libfreetype --enable-libfribidi --enable-libgsm --enable-libiec61883 --enable-libjack --enable-libmfx --enable-libmodplug --enable-libmp3lame --enable-libopencore_amrnb --enable-libopencore_amrwb --enable-libopenjpeg --enable-libopus --enable-libpulse --enable-librav1e --enable-libsoxr --enable-libspeex --enable-libsrt --enable-libssh --enable-libtheora --enable-libv4l2 --enable-libvidstab --enable-libvmaf --enable-libvorbis --enable-libvpx --enable-libwebp --enable-libx264 --enable-libx265 --enable-libxcb --enable-libxml2 --enable-libxvid --enable-libzimg --enable-nvdec --enable-nvenc --enable-shared --enable-version3\n",
      "  libavutil      56. 51.100 / 56. 51.100\n",
      "  libavcodec     58. 91.100 / 58. 91.100\n",
      "  libavformat    58. 45.100 / 58. 45.100\n",
      "  libavdevice    58. 10.100 / 58. 10.100\n",
      "  libavfilter     7. 85.100 /  7. 85.100\n",
      "  libswscale      5.  7.100 /  5.  7.100\n",
      "  libswresample   3.  7.100 /  3.  7.100\n",
      "  libpostproc    55.  7.100 / 55.  7.100\n",
      "Input #0, mov,mp4,m4a,3gp,3g2,mj2, from '/tmp/output.mp4':\n",
      "  Metadata:\n",
      "    major_brand     : isom\n",
      "    minor_version   : 512\n",
      "    compatible_brands: isomiso2avc1mp41\n",
      "    encoder         : Lavf58.45.100\n",
      "  Duration: 00:00:01.20, start: 0.000000, bitrate: 4001 kb/s\n",
      "    Stream #0:0(und): Video: h264 (High 4:4:4 Predictive) (avc1 / 0x31637661), gbrp(tv, gbr/unknown/unknown), 352x288 [SAR 128:117 DAR 1408:1053], 3995 kb/s, 25 fps, 25 tbr, 12800 tbn, 50 tbc (default)\n",
      "    Metadata:\n",
      "      handler_name    : VideoHandler\n",
      "Stream mapping:\n",
      "  Stream #0:0 -> #0:0 (h264 (native) -> png (native))\n",
      "Press [q] to stop, [?] for help\n",
      "Output #0, image2, to '/tmp/original_reconstructed_%03d.png':\n",
      "  Metadata:\n",
      "    major_brand     : isom\n",
      "    minor_version   : 512\n",
      "    compatible_brands: isomiso2avc1mp41\n",
      "    encoder         : Lavf58.45.100\n",
      "    Stream #0:0(und): Video: png, rgb24, 352x288 [SAR 128:117 DAR 1408:1053], q=2-31, 200 kb/s, 25 fps, 25 tbn, 25 tbc (default)\n",
      "    Metadata:\n",
      "      handler_name    : VideoHandler\n",
      "      encoder         : Lavc58.91.100 png\n",
      "frame=   30 fps=0.0 q=-0.0 Lsize=N/A time=00:00:01.20 bitrate=N/A speed= 6.8x    \n",
      "video:7579kB audio:0kB subtitle:0kB other streams:0kB global headers:0kB muxing overhead: unknown\n",
      "ffmpeg version n4.3.2 Copyright (c) 2000-2021 the FFmpeg developers\n",
      "  built with gcc 10.2.0 (GCC)\n",
      "  configuration: --prefix=/usr --disable-debug --disable-static --disable-stripping --enable-amf --enable-avisynth --enable-cuda-llvm --enable-lto --enable-fontconfig --enable-gmp --enable-gnutls --enable-gpl --enable-ladspa --enable-libaom --enable-libass --enable-libbluray --enable-libdav1d --enable-libdrm --enable-libfreetype --enable-libfribidi --enable-libgsm --enable-libiec61883 --enable-libjack --enable-libmfx --enable-libmodplug --enable-libmp3lame --enable-libopencore_amrnb --enable-libopencore_amrwb --enable-libopenjpeg --enable-libopus --enable-libpulse --enable-librav1e --enable-libsoxr --enable-libspeex --enable-libsrt --enable-libssh --enable-libtheora --enable-libv4l2 --enable-libvidstab --enable-libvmaf --enable-libvorbis --enable-libvpx --enable-libwebp --enable-libx264 --enable-libx265 --enable-libxcb --enable-libxml2 --enable-libxvid --enable-libzimg --enable-nvdec --enable-nvenc --enable-shared --enable-version3\n",
      "  libavutil      56. 51.100 / 56. 51.100\n",
      "  libavcodec     58. 91.100 / 58. 91.100\n",
      "  libavformat    58. 45.100 / 58. 45.100\n",
      "  libavdevice    58. 10.100 / 58. 10.100\n",
      "  libavfilter     7. 85.100 /  7. 85.100\n",
      "  libswscale      5.  7.100 /  5.  7.100\n",
      "  libswresample   3.  7.100 /  3.  7.100\n",
      "  libpostproc    55.  7.100 / 55.  7.100\n",
      "Input #0, image2, from '/tmp/original_%03d.png':\n",
      "  Duration: 00:00:06.00, start: 0.000000, bitrate: N/A\n",
      "    Stream #0:0: Video: png, rgb24(pc), 352x288 [SAR 128:117 DAR 1408:1053], 25 fps, 25 tbr, 25 tbn, 25 tbc\n",
      "Stream mapping:\n",
      "  Stream #0:0 -> #0:0 (png (native) -> h264 (libx264rgb))\n",
      "Press [q] to stop, [?] for help\n",
      "\u001b[1;36m[libx264rgb @ 0x5647fe6bddc0] \u001b[0musing SAR=128/117\n",
      "\u001b[1;36m[libx264rgb @ 0x5647fe6bddc0] \u001b[0musing cpu capabilities: MMX2 SSE2Fast SSSE3 SSE4.2 AVX FMA3 BMI2 AVX2\n",
      "\u001b[1;36m[libx264rgb @ 0x5647fe6bddc0] \u001b[0mprofile High 4:4:4 Predictive, level 1.3, 4:4:4, 8-bit\n",
      "\u001b[1;36m[libx264rgb @ 0x5647fe6bddc0] \u001b[0m264 - core 160 r3011 cde9a93 - H.264/MPEG-4 AVC codec - Copyleft 2003-2020 - http://www.videolan.org/x264.html - options: cabac=1 ref=3 deblock=1:0:0 analyse=0x3:0x113 me=hex subme=7 psy=1 psy_rd=1.00:0.00 mixed_ref=1 me_range=16 chroma_me=1 trellis=1 8x8dct=1 cqm=0 deadzone=21,11 fast_pskip=1 chroma_qp_offset=-2 threads=9 lookahead_threads=1 sliced_threads=0 nr=0 decimate=1 interlaced=0 bluray_compat=0 constrained_intra=0 bframes=0 weightp=2 keyint=30 keyint_min=3 scenecut=40 intra_refresh=0 rc_lookahead=30 rc=crf mbtree=1 crf=24.0 qcomp=0.60 qpmin=0 qpmax=69 qpstep=4 ip_ratio=1.40 aq=1:1.00\n",
      "Output #0, mp4, to '/tmp/output.mp4':\n",
      "  Metadata:\n",
      "    encoder         : Lavf58.45.100\n",
      "    Stream #0:0: Video: h264 (libx264rgb) (avc1 / 0x31637661), rgb24, 352x288 [SAR 128:117 DAR 1408:1053], q=-1--1, 25 fps, 12800 tbn, 25 tbc\n",
      "    Metadata:\n",
      "      encoder         : Lavc58.91.100 libx264rgb\n",
      "    Side data:\n",
      "      cpb: bitrate max/min/avg: 0/0/0 buffer size: 0 vbv_delay: N/A\n"
     ]
    },
    {
     "name": "stdout",
     "output_type": "stream",
     "text": [
      "frame=   30 fps=0.0 q=-1.0 Lsize=     377kB time=00:00:01.16 bitrate=2665.3kbits/s speed=3.87x    \n",
      "video:376kB audio:0kB subtitle:0kB other streams:0kB global headers:0kB muxing overhead: 0.251082%\n",
      "\u001b[1;36m[libx264rgb @ 0x5647fe6bddc0] \u001b[0mframe I:1     Avg QP:31.03  size: 43217\n",
      "\u001b[1;36m[libx264rgb @ 0x5647fe6bddc0] \u001b[0mframe P:29    Avg QP:31.25  size: 11782\n",
      "\u001b[1;36m[libx264rgb @ 0x5647fe6bddc0] \u001b[0mmb I  I16..4:  4.0% 41.7% 54.3%\n",
      "\u001b[1;36m[libx264rgb @ 0x5647fe6bddc0] \u001b[0mmb P  I16..4:  0.2%  0.2%  0.7%  P16..4: 27.5% 30.4% 39.6%  0.0%  0.0%    skip: 1.5%\n",
      "\u001b[1;36m[libx264rgb @ 0x5647fe6bddc0] \u001b[0m8x8 transform intra:35.7% inter:58.1%\n",
      "\u001b[1;36m[libx264rgb @ 0x5647fe6bddc0] \u001b[0mcoded y,u,v intra: 88.4% 94.0% 93.5% inter: 37.4% 62.2% 56.1%\n",
      "\u001b[1;36m[libx264rgb @ 0x5647fe6bddc0] \u001b[0mi16 v,h,dc,p: 29% 65%  3%  3%\n",
      "\u001b[1;36m[libx264rgb @ 0x5647fe6bddc0] \u001b[0mi8 v,h,dc,ddl,ddr,vr,hd,vl,hu: 17% 18% 21%  5%  7%  5%  9%  6% 12%\n",
      "\u001b[1;36m[libx264rgb @ 0x5647fe6bddc0] \u001b[0mi4 v,h,dc,ddl,ddr,vr,hd,vl,hu: 27% 30% 14%  4%  5%  5%  5%  5%  5%\n",
      "\u001b[1;36m[libx264rgb @ 0x5647fe6bddc0] \u001b[0mWeighted P-Frames: Y:0.0% UV:0.0%\n",
      "\u001b[1;36m[libx264rgb @ 0x5647fe6bddc0] \u001b[0mref P L0: 62.5% 13.3% 16.8%  7.5%\n",
      "\u001b[1;36m[libx264rgb @ 0x5647fe6bddc0] \u001b[0mkb/s:2566.03\n",
      "ffmpeg version n4.3.2 Copyright (c) 2000-2021 the FFmpeg developers\n",
      "  built with gcc 10.2.0 (GCC)\n",
      "  configuration: --prefix=/usr --disable-debug --disable-static --disable-stripping --enable-amf --enable-avisynth --enable-cuda-llvm --enable-lto --enable-fontconfig --enable-gmp --enable-gnutls --enable-gpl --enable-ladspa --enable-libaom --enable-libass --enable-libbluray --enable-libdav1d --enable-libdrm --enable-libfreetype --enable-libfribidi --enable-libgsm --enable-libiec61883 --enable-libjack --enable-libmfx --enable-libmodplug --enable-libmp3lame --enable-libopencore_amrnb --enable-libopencore_amrwb --enable-libopenjpeg --enable-libopus --enable-libpulse --enable-librav1e --enable-libsoxr --enable-libspeex --enable-libsrt --enable-libssh --enable-libtheora --enable-libv4l2 --enable-libvidstab --enable-libvmaf --enable-libvorbis --enable-libvpx --enable-libwebp --enable-libx264 --enable-libx265 --enable-libxcb --enable-libxml2 --enable-libxvid --enable-libzimg --enable-nvdec --enable-nvenc --enable-shared --enable-version3\n",
      "  libavutil      56. 51.100 / 56. 51.100\n",
      "  libavcodec     58. 91.100 / 58. 91.100\n",
      "  libavformat    58. 45.100 / 58. 45.100\n",
      "  libavdevice    58. 10.100 / 58. 10.100\n",
      "  libavfilter     7. 85.100 /  7. 85.100\n",
      "  libswscale      5.  7.100 /  5.  7.100\n",
      "  libswresample   3.  7.100 /  3.  7.100\n",
      "  libpostproc    55.  7.100 / 55.  7.100\n",
      "Input #0, mov,mp4,m4a,3gp,3g2,mj2, from '/tmp/output.mp4':\n",
      "  Metadata:\n",
      "    major_brand     : isom\n",
      "    minor_version   : 512\n",
      "    compatible_brands: isomiso2avc1mp41\n",
      "    encoder         : Lavf58.45.100\n",
      "  Duration: 00:00:01.20, start: 0.000000, bitrate: 2576 kb/s\n",
      "    Stream #0:0(und): Video: h264 (High 4:4:4 Predictive) (avc1 / 0x31637661), gbrp(tv, gbr/unknown/unknown), 352x288 [SAR 128:117 DAR 1408:1053], 2570 kb/s, 25 fps, 25 tbr, 12800 tbn, 50 tbc (default)\n",
      "    Metadata:\n",
      "      handler_name    : VideoHandler\n",
      "Stream mapping:\n",
      "  Stream #0:0 -> #0:0 (h264 (native) -> png (native))\n",
      "Press [q] to stop, [?] for help\n",
      "Output #0, image2, to '/tmp/original_reconstructed_%03d.png':\n",
      "  Metadata:\n",
      "    major_brand     : isom\n",
      "    minor_version   : 512\n",
      "    compatible_brands: isomiso2avc1mp41\n",
      "    encoder         : Lavf58.45.100\n",
      "    Stream #0:0(und): Video: png, rgb24, 352x288 [SAR 128:117 DAR 1408:1053], q=2-31, 200 kb/s, 25 fps, 25 tbn, 25 tbc (default)\n",
      "    Metadata:\n",
      "      handler_name    : VideoHandler\n",
      "      encoder         : Lavc58.91.100 png\n",
      "frame=   30 fps=0.0 q=-0.0 Lsize=N/A time=00:00:01.20 bitrate=N/A speed=6.61x    \n",
      "video:7537kB audio:0kB subtitle:0kB other streams:0kB global headers:0kB muxing overhead: unknown\n",
      "ffmpeg version n4.3.2 Copyright (c) 2000-2021 the FFmpeg developers\n",
      "  built with gcc 10.2.0 (GCC)\n",
      "  configuration: --prefix=/usr --disable-debug --disable-static --disable-stripping --enable-amf --enable-avisynth --enable-cuda-llvm --enable-lto --enable-fontconfig --enable-gmp --enable-gnutls --enable-gpl --enable-ladspa --enable-libaom --enable-libass --enable-libbluray --enable-libdav1d --enable-libdrm --enable-libfreetype --enable-libfribidi --enable-libgsm --enable-libiec61883 --enable-libjack --enable-libmfx --enable-libmodplug --enable-libmp3lame --enable-libopencore_amrnb --enable-libopencore_amrwb --enable-libopenjpeg --enable-libopus --enable-libpulse --enable-librav1e --enable-libsoxr --enable-libspeex --enable-libsrt --enable-libssh --enable-libtheora --enable-libv4l2 --enable-libvidstab --enable-libvmaf --enable-libvorbis --enable-libvpx --enable-libwebp --enable-libx264 --enable-libx265 --enable-libxcb --enable-libxml2 --enable-libxvid --enable-libzimg --enable-nvdec --enable-nvenc --enable-shared --enable-version3\n",
      "  libavutil      56. 51.100 / 56. 51.100\n",
      "  libavcodec     58. 91.100 / 58. 91.100\n",
      "  libavformat    58. 45.100 / 58. 45.100\n",
      "  libavdevice    58. 10.100 / 58. 10.100\n",
      "  libavfilter     7. 85.100 /  7. 85.100\n",
      "  libswscale      5.  7.100 /  5.  7.100\n",
      "  libswresample   3.  7.100 /  3.  7.100\n",
      "  libpostproc    55.  7.100 / 55.  7.100\n",
      "Input #0, image2, from '/tmp/original_%03d.png':\n",
      "  Duration: 00:00:06.00, start: 0.000000, bitrate: N/A\n",
      "    Stream #0:0: Video: png, rgb24(pc), 352x288 [SAR 128:117 DAR 1408:1053], 25 fps, 25 tbr, 25 tbn, 25 tbc\n",
      "Stream mapping:\n",
      "  Stream #0:0 -> #0:0 (png (native) -> h264 (libx264rgb))\n",
      "Press [q] to stop, [?] for help\n",
      "\u001b[1;36m[libx264rgb @ 0x559a1f844dc0] \u001b[0musing SAR=128/117\n",
      "\u001b[1;36m[libx264rgb @ 0x559a1f844dc0] \u001b[0musing cpu capabilities: MMX2 SSE2Fast SSSE3 SSE4.2 AVX FMA3 BMI2 AVX2\n",
      "\u001b[1;36m[libx264rgb @ 0x559a1f844dc0] \u001b[0mprofile High 4:4:4 Predictive, level 1.3, 4:4:4, 8-bit\n",
      "\u001b[1;36m[libx264rgb @ 0x559a1f844dc0] \u001b[0m264 - core 160 r3011 cde9a93 - H.264/MPEG-4 AVC codec - Copyleft 2003-2020 - http://www.videolan.org/x264.html - options: cabac=1 ref=3 deblock=1:0:0 analyse=0x3:0x113 me=hex subme=7 psy=1 psy_rd=1.00:0.00 mixed_ref=1 me_range=16 chroma_me=1 trellis=1 8x8dct=1 cqm=0 deadzone=21,11 fast_pskip=1 chroma_qp_offset=-2 threads=9 lookahead_threads=1 sliced_threads=0 nr=0 decimate=1 interlaced=0 bluray_compat=0 constrained_intra=0 bframes=0 weightp=2 keyint=30 keyint_min=3 scenecut=40 intra_refresh=0 rc_lookahead=30 rc=crf mbtree=1 crf=27.0 qcomp=0.60 qpmin=0 qpmax=69 qpstep=4 ip_ratio=1.40 aq=1:1.00\n",
      "Output #0, mp4, to '/tmp/output.mp4':\n",
      "  Metadata:\n",
      "    encoder         : Lavf58.45.100\n",
      "    Stream #0:0: Video: h264 (libx264rgb) (avc1 / 0x31637661), rgb24, 352x288 [SAR 128:117 DAR 1408:1053], q=-1--1, 25 fps, 12800 tbn, 25 tbc\n",
      "    Metadata:\n",
      "      encoder         : Lavc58.91.100 libx264rgb\n",
      "    Side data:\n",
      "      cpb: bitrate max/min/avg: 0/0/0 buffer size: 0 vbv_delay: N/A\n",
      "frame=   30 fps=0.0 q=-1.0 Lsize=     251kB time=00:00:01.16 bitrate=1769.4kbits/s speed=4.03x    \n",
      "video:250kB audio:0kB subtitle:0kB other streams:0kB global headers:0kB muxing overhead: 0.378296%\n",
      "\u001b[1;36m[libx264rgb @ 0x559a1f844dc0] \u001b[0mframe I:1     Avg QP:34.03  size: 33611\n",
      "\u001b[1;36m[libx264rgb @ 0x559a1f844dc0] \u001b[0mframe P:29    Avg QP:34.30  size:  7634\n",
      "\u001b[1;36m[libx264rgb @ 0x559a1f844dc0] \u001b[0mmb I  I16..4:  5.3% 42.2% 52.5%\n",
      "\u001b[1;36m[libx264rgb @ 0x559a1f844dc0] \u001b[0mmb P  I16..4:  0.2%  0.3%  0.8%  P16..4: 31.9% 28.6% 33.0%  0.0%  0.0%    skip: 5.2%\n",
      "\u001b[1;36m[libx264rgb @ 0x559a1f844dc0] \u001b[0m8x8 transform intra:36.6% inter:57.7%\n",
      "\u001b[1;36m[libx264rgb @ 0x559a1f844dc0] \u001b[0mcoded y,u,v intra: 82.3% 91.1% 90.5% inter: 24.5% 45.2% 43.5%\n",
      "\u001b[1;36m[libx264rgb @ 0x559a1f844dc0] \u001b[0mi16 v,h,dc,p: 23% 60% 12%  4%\n",
      "\u001b[1;36m[libx264rgb @ 0x559a1f844dc0] \u001b[0mi8 v,h,dc,ddl,ddr,vr,hd,vl,hu: 20% 17% 22%  6%  8%  6%  7%  4% 11%\n",
      "\u001b[1;36m[libx264rgb @ 0x559a1f844dc0] \u001b[0mi4 v,h,dc,ddl,ddr,vr,hd,vl,hu: 30% 28% 16%  4%  5%  4%  5%  4%  5%\n",
      "\u001b[1;36m[libx264rgb @ 0x559a1f844dc0] \u001b[0mWeighted P-Frames: Y:0.0% UV:0.0%\n",
      "\u001b[1;36m[libx264rgb @ 0x559a1f844dc0] \u001b[0mref P L0: 67.9% 12.5% 13.2%  6.4%\n",
      "\u001b[1;36m[libx264rgb @ 0x559a1f844dc0] \u001b[0mkb/s:1699.96\n",
      "ffmpeg version n4.3.2 Copyright (c) 2000-2021 the FFmpeg developers\n",
      "  built with gcc 10.2.0 (GCC)\n",
      "  configuration: --prefix=/usr --disable-debug --disable-static --disable-stripping --enable-amf --enable-avisynth --enable-cuda-llvm --enable-lto --enable-fontconfig --enable-gmp --enable-gnutls --enable-gpl --enable-ladspa --enable-libaom --enable-libass --enable-libbluray --enable-libdav1d --enable-libdrm --enable-libfreetype --enable-libfribidi --enable-libgsm --enable-libiec61883 --enable-libjack --enable-libmfx --enable-libmodplug --enable-libmp3lame --enable-libopencore_amrnb --enable-libopencore_amrwb --enable-libopenjpeg --enable-libopus --enable-libpulse --enable-librav1e --enable-libsoxr --enable-libspeex --enable-libsrt --enable-libssh --enable-libtheora --enable-libv4l2 --enable-libvidstab --enable-libvmaf --enable-libvorbis --enable-libvpx --enable-libwebp --enable-libx264 --enable-libx265 --enable-libxcb --enable-libxml2 --enable-libxvid --enable-libzimg --enable-nvdec --enable-nvenc --enable-shared --enable-version3\n",
      "  libavutil      56. 51.100 / 56. 51.100\n",
      "  libavcodec     58. 91.100 / 58. 91.100\n",
      "  libavformat    58. 45.100 / 58. 45.100\n",
      "  libavdevice    58. 10.100 / 58. 10.100\n",
      "  libavfilter     7. 85.100 /  7. 85.100\n",
      "  libswscale      5.  7.100 /  5.  7.100\n",
      "  libswresample   3.  7.100 /  3.  7.100\n",
      "  libpostproc    55.  7.100 / 55.  7.100\n",
      "Input #0, mov,mp4,m4a,3gp,3g2,mj2, from '/tmp/output.mp4':\n",
      "  Metadata:\n",
      "    major_brand     : isom\n",
      "    minor_version   : 512\n",
      "    compatible_brands: isomiso2avc1mp41\n",
      "    encoder         : Lavf58.45.100\n",
      "  Duration: 00:00:01.20, start: 0.000000, bitrate: 1710 kb/s\n",
      "    Stream #0:0(und): Video: h264 (High 4:4:4 Predictive) (avc1 / 0x31637661), gbrp(tv, gbr/unknown/unknown), 352x288 [SAR 128:117 DAR 1408:1053], 1704 kb/s, 25 fps, 25 tbr, 12800 tbn, 50 tbc (default)\n",
      "    Metadata:\n",
      "      handler_name    : VideoHandler\n",
      "Stream mapping:\n",
      "  Stream #0:0 -> #0:0 (h264 (native) -> png (native))\n",
      "Press [q] to stop, [?] for help\n",
      "Output #0, image2, to '/tmp/original_reconstructed_%03d.png':\n",
      "  Metadata:\n",
      "    major_brand     : isom\n",
      "    minor_version   : 512\n",
      "    compatible_brands: isomiso2avc1mp41\n",
      "    encoder         : Lavf58.45.100\n",
      "    Stream #0:0(und): Video: png, rgb24, 352x288 [SAR 128:117 DAR 1408:1053], q=2-31, 200 kb/s, 25 fps, 25 tbn, 25 tbc (default)\n",
      "    Metadata:\n",
      "      handler_name    : VideoHandler\n",
      "      encoder         : Lavc58.91.100 png\n"
     ]
    },
    {
     "name": "stdout",
     "output_type": "stream",
     "text": [
      "frame=   30 fps=0.0 q=-0.0 Lsize=N/A time=00:00:01.20 bitrate=N/A speed=9.17x    \n",
      "video:7478kB audio:0kB subtitle:0kB other streams:0kB global headers:0kB muxing overhead: unknown\n",
      "ffmpeg version n4.3.2 Copyright (c) 2000-2021 the FFmpeg developers\n",
      "  built with gcc 10.2.0 (GCC)\n",
      "  configuration: --prefix=/usr --disable-debug --disable-static --disable-stripping --enable-amf --enable-avisynth --enable-cuda-llvm --enable-lto --enable-fontconfig --enable-gmp --enable-gnutls --enable-gpl --enable-ladspa --enable-libaom --enable-libass --enable-libbluray --enable-libdav1d --enable-libdrm --enable-libfreetype --enable-libfribidi --enable-libgsm --enable-libiec61883 --enable-libjack --enable-libmfx --enable-libmodplug --enable-libmp3lame --enable-libopencore_amrnb --enable-libopencore_amrwb --enable-libopenjpeg --enable-libopus --enable-libpulse --enable-librav1e --enable-libsoxr --enable-libspeex --enable-libsrt --enable-libssh --enable-libtheora --enable-libv4l2 --enable-libvidstab --enable-libvmaf --enable-libvorbis --enable-libvpx --enable-libwebp --enable-libx264 --enable-libx265 --enable-libxcb --enable-libxml2 --enable-libxvid --enable-libzimg --enable-nvdec --enable-nvenc --enable-shared --enable-version3\n",
      "  libavutil      56. 51.100 / 56. 51.100\n",
      "  libavcodec     58. 91.100 / 58. 91.100\n",
      "  libavformat    58. 45.100 / 58. 45.100\n",
      "  libavdevice    58. 10.100 / 58. 10.100\n",
      "  libavfilter     7. 85.100 /  7. 85.100\n",
      "  libswscale      5.  7.100 /  5.  7.100\n",
      "  libswresample   3.  7.100 /  3.  7.100\n",
      "  libpostproc    55.  7.100 / 55.  7.100\n",
      "Input #0, image2, from '/tmp/original_%03d.png':\n",
      "  Duration: 00:00:06.00, start: 0.000000, bitrate: N/A\n",
      "    Stream #0:0: Video: png, rgb24(pc), 352x288 [SAR 128:117 DAR 1408:1053], 25 fps, 25 tbr, 25 tbn, 25 tbc\n",
      "Stream mapping:\n",
      "  Stream #0:0 -> #0:0 (png (native) -> h264 (libx264rgb))\n",
      "Press [q] to stop, [?] for help\n",
      "\u001b[1;36m[libx264rgb @ 0x55a9214efdc0] \u001b[0musing SAR=128/117\n",
      "\u001b[1;36m[libx264rgb @ 0x55a9214efdc0] \u001b[0musing cpu capabilities: MMX2 SSE2Fast SSSE3 SSE4.2 AVX FMA3 BMI2 AVX2\n",
      "\u001b[1;36m[libx264rgb @ 0x55a9214efdc0] \u001b[0mprofile High 4:4:4 Predictive, level 1.3, 4:4:4, 8-bit\n",
      "\u001b[1;36m[libx264rgb @ 0x55a9214efdc0] \u001b[0m264 - core 160 r3011 cde9a93 - H.264/MPEG-4 AVC codec - Copyleft 2003-2020 - http://www.videolan.org/x264.html - options: cabac=1 ref=3 deblock=1:0:0 analyse=0x3:0x113 me=hex subme=7 psy=1 psy_rd=1.00:0.00 mixed_ref=1 me_range=16 chroma_me=1 trellis=1 8x8dct=1 cqm=0 deadzone=21,11 fast_pskip=1 chroma_qp_offset=-2 threads=9 lookahead_threads=1 sliced_threads=0 nr=0 decimate=1 interlaced=0 bluray_compat=0 constrained_intra=0 bframes=0 weightp=2 keyint=30 keyint_min=3 scenecut=40 intra_refresh=0 rc_lookahead=30 rc=crf mbtree=1 crf=30.0 qcomp=0.60 qpmin=0 qpmax=69 qpstep=4 ip_ratio=1.40 aq=1:1.00\n",
      "Output #0, mp4, to '/tmp/output.mp4':\n",
      "  Metadata:\n",
      "    encoder         : Lavf58.45.100\n",
      "    Stream #0:0: Video: h264 (libx264rgb) (avc1 / 0x31637661), rgb24, 352x288 [SAR 128:117 DAR 1408:1053], q=-1--1, 25 fps, 12800 tbn, 25 tbc\n",
      "    Metadata:\n",
      "      encoder         : Lavc58.91.100 libx264rgb\n",
      "    Side data:\n",
      "      cpb: bitrate max/min/avg: 0/0/0 buffer size: 0 vbv_delay: N/A\n",
      "frame=   30 fps=0.0 q=-1.0 Lsize=     176kB time=00:00:01.16 bitrate=1240.6kbits/s speed=4.08x    \n",
      "video:175kB audio:0kB subtitle:0kB other streams:0kB global headers:0kB muxing overhead: 0.540985%\n",
      "\u001b[1;36m[libx264rgb @ 0x55a9214efdc0] \u001b[0mframe I:1     Avg QP:37.03  size: 25875\n",
      "\u001b[1;36m[libx264rgb @ 0x55a9214efdc0] \u001b[0mframe P:29    Avg QP:37.28  size:  5256\n",
      "\u001b[1;36m[libx264rgb @ 0x55a9214efdc0] \u001b[0mmb I  I16..4:  5.1% 48.7% 46.2%\n",
      "\u001b[1;36m[libx264rgb @ 0x55a9214efdc0] \u001b[0mmb P  I16..4:  0.3%  0.3%  0.5%  P16..4: 37.1% 24.1% 26.9%  0.0%  0.0%    skip:10.7%\n",
      "\u001b[1;36m[libx264rgb @ 0x55a9214efdc0] \u001b[0m8x8 transform intra:42.6% inter:57.5%\n",
      "\u001b[1;36m[libx264rgb @ 0x55a9214efdc0] \u001b[0mcoded y,u,v intra: 73.5% 87.3% 88.6% inter: 16.2% 34.3% 34.3%\n",
      "\u001b[1;36m[libx264rgb @ 0x55a9214efdc0] \u001b[0mi16 v,h,dc,p: 21% 57% 22%  0%\n",
      "\u001b[1;36m[libx264rgb @ 0x55a9214efdc0] \u001b[0mi8 v,h,dc,ddl,ddr,vr,hd,vl,hu: 24% 16% 23%  4%  6%  5%  7%  5% 10%\n",
      "\u001b[1;36m[libx264rgb @ 0x55a9214efdc0] \u001b[0mi4 v,h,dc,ddl,ddr,vr,hd,vl,hu: 31% 29% 17%  4%  4%  4%  5%  3%  4%\n",
      "\u001b[1;36m[libx264rgb @ 0x55a9214efdc0] \u001b[0mWeighted P-Frames: Y:0.0% UV:0.0%\n",
      "\u001b[1;36m[libx264rgb @ 0x55a9214efdc0] \u001b[0mref P L0: 72.1% 11.3% 11.4%  5.2%\n",
      "\u001b[1;36m[libx264rgb @ 0x55a9214efdc0] \u001b[0mkb/s:1188.71\n",
      "ffmpeg version n4.3.2 Copyright (c) 2000-2021 the FFmpeg developers\n",
      "  built with gcc 10.2.0 (GCC)\n",
      "  configuration: --prefix=/usr --disable-debug --disable-static --disable-stripping --enable-amf --enable-avisynth --enable-cuda-llvm --enable-lto --enable-fontconfig --enable-gmp --enable-gnutls --enable-gpl --enable-ladspa --enable-libaom --enable-libass --enable-libbluray --enable-libdav1d --enable-libdrm --enable-libfreetype --enable-libfribidi --enable-libgsm --enable-libiec61883 --enable-libjack --enable-libmfx --enable-libmodplug --enable-libmp3lame --enable-libopencore_amrnb --enable-libopencore_amrwb --enable-libopenjpeg --enable-libopus --enable-libpulse --enable-librav1e --enable-libsoxr --enable-libspeex --enable-libsrt --enable-libssh --enable-libtheora --enable-libv4l2 --enable-libvidstab --enable-libvmaf --enable-libvorbis --enable-libvpx --enable-libwebp --enable-libx264 --enable-libx265 --enable-libxcb --enable-libxml2 --enable-libxvid --enable-libzimg --enable-nvdec --enable-nvenc --enable-shared --enable-version3\n",
      "  libavutil      56. 51.100 / 56. 51.100\n",
      "  libavcodec     58. 91.100 / 58. 91.100\n",
      "  libavformat    58. 45.100 / 58. 45.100\n",
      "  libavdevice    58. 10.100 / 58. 10.100\n",
      "  libavfilter     7. 85.100 /  7. 85.100\n",
      "  libswscale      5.  7.100 /  5.  7.100\n",
      "  libswresample   3.  7.100 /  3.  7.100\n",
      "  libpostproc    55.  7.100 / 55.  7.100\n",
      "Input #0, mov,mp4,m4a,3gp,3g2,mj2, from '/tmp/output.mp4':\n",
      "  Metadata:\n",
      "    major_brand     : isom\n",
      "    minor_version   : 512\n",
      "    compatible_brands: isomiso2avc1mp41\n",
      "    encoder         : Lavf58.45.100\n",
      "  Duration: 00:00:01.20, start: 0.000000, bitrate: 1199 kb/s\n",
      "    Stream #0:0(und): Video: h264 (High 4:4:4 Predictive) (avc1 / 0x31637661), gbrp(tv, gbr/unknown/unknown), 352x288 [SAR 128:117 DAR 1408:1053], 1192 kb/s, 25 fps, 25 tbr, 12800 tbn, 50 tbc (default)\n",
      "    Metadata:\n",
      "      handler_name    : VideoHandler\n",
      "Stream mapping:\n",
      "  Stream #0:0 -> #0:0 (h264 (native) -> png (native))\n",
      "Press [q] to stop, [?] for help\n",
      "Output #0, image2, to '/tmp/original_reconstructed_%03d.png':\n",
      "  Metadata:\n",
      "    major_brand     : isom\n",
      "    minor_version   : 512\n",
      "    compatible_brands: isomiso2avc1mp41\n",
      "    encoder         : Lavf58.45.100\n",
      "    Stream #0:0(und): Video: png, rgb24, 352x288 [SAR 128:117 DAR 1408:1053], q=2-31, 200 kb/s, 25 fps, 25 tbn, 25 tbc (default)\n",
      "    Metadata:\n",
      "      handler_name    : VideoHandler\n",
      "      encoder         : Lavc58.91.100 png\n",
      "frame=   30 fps=0.0 q=-0.0 Lsize=N/A time=00:00:01.20 bitrate=N/A speed=8.56x    \n",
      "video:7417kB audio:0kB subtitle:0kB other streams:0kB global headers:0kB muxing overhead: unknown\n",
      "ffmpeg version n4.3.2 Copyright (c) 2000-2021 the FFmpeg developers\n",
      "  built with gcc 10.2.0 (GCC)\n",
      "  configuration: --prefix=/usr --disable-debug --disable-static --disable-stripping --enable-amf --enable-avisynth --enable-cuda-llvm --enable-lto --enable-fontconfig --enable-gmp --enable-gnutls --enable-gpl --enable-ladspa --enable-libaom --enable-libass --enable-libbluray --enable-libdav1d --enable-libdrm --enable-libfreetype --enable-libfribidi --enable-libgsm --enable-libiec61883 --enable-libjack --enable-libmfx --enable-libmodplug --enable-libmp3lame --enable-libopencore_amrnb --enable-libopencore_amrwb --enable-libopenjpeg --enable-libopus --enable-libpulse --enable-librav1e --enable-libsoxr --enable-libspeex --enable-libsrt --enable-libssh --enable-libtheora --enable-libv4l2 --enable-libvidstab --enable-libvmaf --enable-libvorbis --enable-libvpx --enable-libwebp --enable-libx264 --enable-libx265 --enable-libxcb --enable-libxml2 --enable-libxvid --enable-libzimg --enable-nvdec --enable-nvenc --enable-shared --enable-version3\n",
      "  libavutil      56. 51.100 / 56. 51.100\n",
      "  libavcodec     58. 91.100 / 58. 91.100\n",
      "  libavformat    58. 45.100 / 58. 45.100\n",
      "  libavdevice    58. 10.100 / 58. 10.100\n",
      "  libavfilter     7. 85.100 /  7. 85.100\n",
      "  libswscale      5.  7.100 /  5.  7.100\n",
      "  libswresample   3.  7.100 /  3.  7.100\n",
      "  libpostproc    55.  7.100 / 55.  7.100\n",
      "Input #0, image2, from '/tmp/original_%03d.png':\n",
      "  Duration: 00:00:06.00, start: 0.000000, bitrate: N/A\n",
      "    Stream #0:0: Video: png, rgb24(pc), 352x288 [SAR 128:117 DAR 1408:1053], 25 fps, 25 tbr, 25 tbn, 25 tbc\n",
      "Stream mapping:\n",
      "  Stream #0:0 -> #0:0 (png (native) -> h264 (libx264rgb))\n",
      "Press [q] to stop, [?] for help\n",
      "\u001b[1;36m[libx264rgb @ 0x56009cd38dc0] \u001b[0musing SAR=128/117\n",
      "\u001b[1;36m[libx264rgb @ 0x56009cd38dc0] \u001b[0musing cpu capabilities: MMX2 SSE2Fast SSSE3 SSE4.2 AVX FMA3 BMI2 AVX2\n",
      "\u001b[1;36m[libx264rgb @ 0x56009cd38dc0] \u001b[0mprofile High 4:4:4 Predictive, level 1.3, 4:4:4, 8-bit\n",
      "\u001b[1;36m[libx264rgb @ 0x56009cd38dc0] \u001b[0m264 - core 160 r3011 cde9a93 - H.264/MPEG-4 AVC codec - Copyleft 2003-2020 - http://www.videolan.org/x264.html - options: cabac=1 ref=3 deblock=1:0:0 analyse=0x3:0x113 me=hex subme=7 psy=1 psy_rd=1.00:0.00 mixed_ref=1 me_range=16 chroma_me=1 trellis=1 8x8dct=1 cqm=0 deadzone=21,11 fast_pskip=1 chroma_qp_offset=-2 threads=9 lookahead_threads=1 sliced_threads=0 nr=0 decimate=1 interlaced=0 bluray_compat=0 constrained_intra=0 bframes=0 weightp=2 keyint=30 keyint_min=3 scenecut=40 intra_refresh=0 rc_lookahead=30 rc=crf mbtree=1 crf=33.0 qcomp=0.60 qpmin=0 qpmax=69 qpstep=4 ip_ratio=1.40 aq=1:1.00\n",
      "Output #0, mp4, to '/tmp/output.mp4':\n",
      "  Metadata:\n",
      "    encoder         : Lavf58.45.100\n",
      "    Stream #0:0: Video: h264 (libx264rgb) (avc1 / 0x31637661), rgb24, 352x288 [SAR 128:117 DAR 1408:1053], q=-1--1, 25 fps, 12800 tbn, 25 tbc\n",
      "    Metadata:\n",
      "      encoder         : Lavc58.91.100 libx264rgb\n",
      "    Side data:\n",
      "      cpb: bitrate max/min/avg: 0/0/0 buffer size: 0 vbv_delay: N/A\n"
     ]
    },
    {
     "name": "stdout",
     "output_type": "stream",
     "text": [
      "frame=   30 fps=0.0 q=-1.0 Lsize=     132kB time=00:00:01.16 bitrate= 931.1kbits/s speed=4.95x    \n",
      "video:131kB audio:0kB subtitle:0kB other streams:0kB global headers:0kB muxing overhead: 0.722092%\n",
      "\u001b[1;36m[libx264rgb @ 0x56009cd38dc0] \u001b[0mframe I:1     Avg QP:40.03  size: 20235\n",
      "\u001b[1;36m[libx264rgb @ 0x56009cd38dc0] \u001b[0mframe P:29    Avg QP:40.37  size:  3903\n",
      "\u001b[1;36m[libx264rgb @ 0x56009cd38dc0] \u001b[0mmb I  I16..4: 11.4% 48.2% 40.4%\n",
      "\u001b[1;36m[libx264rgb @ 0x56009cd38dc0] \u001b[0mmb P  I16..4:  0.5%  0.4%  0.5%  P16..4: 39.4% 19.8% 21.9%  0.0%  0.0%    skip:17.6%\n",
      "\u001b[1;36m[libx264rgb @ 0x56009cd38dc0] \u001b[0m8x8 transform intra:42.6% inter:59.8%\n",
      "\u001b[1;36m[libx264rgb @ 0x56009cd38dc0] \u001b[0mcoded y,u,v intra: 61.8% 78.8% 82.7% inter: 10.7% 27.4% 28.1%\n",
      "\u001b[1;36m[libx264rgb @ 0x56009cd38dc0] \u001b[0mi16 v,h,dc,p: 23% 55% 16%  6%\n",
      "\u001b[1;36m[libx264rgb @ 0x56009cd38dc0] \u001b[0mi8 v,h,dc,ddl,ddr,vr,hd,vl,hu: 22% 20% 29%  4%  4%  4%  4%  4%  8%\n",
      "\u001b[1;36m[libx264rgb @ 0x56009cd38dc0] \u001b[0mi4 v,h,dc,ddl,ddr,vr,hd,vl,hu: 30% 28% 19%  3%  4%  4%  5%  3%  4%\n",
      "\u001b[1;36m[libx264rgb @ 0x56009cd38dc0] \u001b[0mWeighted P-Frames: Y:0.0% UV:0.0%\n",
      "\u001b[1;36m[libx264rgb @ 0x56009cd38dc0] \u001b[0mref P L0: 76.3% 10.9%  8.9%  3.9%\n",
      "\u001b[1;36m[libx264rgb @ 0x56009cd38dc0] \u001b[0mkb/s:889.53\n",
      "ffmpeg version n4.3.2 Copyright (c) 2000-2021 the FFmpeg developers\n",
      "  built with gcc 10.2.0 (GCC)\n",
      "  configuration: --prefix=/usr --disable-debug --disable-static --disable-stripping --enable-amf --enable-avisynth --enable-cuda-llvm --enable-lto --enable-fontconfig --enable-gmp --enable-gnutls --enable-gpl --enable-ladspa --enable-libaom --enable-libass --enable-libbluray --enable-libdav1d --enable-libdrm --enable-libfreetype --enable-libfribidi --enable-libgsm --enable-libiec61883 --enable-libjack --enable-libmfx --enable-libmodplug --enable-libmp3lame --enable-libopencore_amrnb --enable-libopencore_amrwb --enable-libopenjpeg --enable-libopus --enable-libpulse --enable-librav1e --enable-libsoxr --enable-libspeex --enable-libsrt --enable-libssh --enable-libtheora --enable-libv4l2 --enable-libvidstab --enable-libvmaf --enable-libvorbis --enable-libvpx --enable-libwebp --enable-libx264 --enable-libx265 --enable-libxcb --enable-libxml2 --enable-libxvid --enable-libzimg --enable-nvdec --enable-nvenc --enable-shared --enable-version3\n",
      "  libavutil      56. 51.100 / 56. 51.100\n",
      "  libavcodec     58. 91.100 / 58. 91.100\n",
      "  libavformat    58. 45.100 / 58. 45.100\n",
      "  libavdevice    58. 10.100 / 58. 10.100\n",
      "  libavfilter     7. 85.100 /  7. 85.100\n",
      "  libswscale      5.  7.100 /  5.  7.100\n",
      "  libswresample   3.  7.100 /  3.  7.100\n",
      "  libpostproc    55.  7.100 / 55.  7.100\n",
      "Input #0, mov,mp4,m4a,3gp,3g2,mj2, from '/tmp/output.mp4':\n",
      "  Metadata:\n",
      "    major_brand     : isom\n",
      "    minor_version   : 512\n",
      "    compatible_brands: isomiso2avc1mp41\n",
      "    encoder         : Lavf58.45.100\n",
      "  Duration: 00:00:01.20, start: 0.000000, bitrate: 900 kb/s\n",
      "    Stream #0:0(und): Video: h264 (High 4:4:4 Predictive) (avc1 / 0x31637661), gbrp(tv, gbr/unknown/unknown), 352x288 [SAR 128:117 DAR 1408:1053], 893 kb/s, 25 fps, 25 tbr, 12800 tbn, 50 tbc (default)\n",
      "    Metadata:\n",
      "      handler_name    : VideoHandler\n",
      "Stream mapping:\n",
      "  Stream #0:0 -> #0:0 (h264 (native) -> png (native))\n",
      "Press [q] to stop, [?] for help\n",
      "Output #0, image2, to '/tmp/original_reconstructed_%03d.png':\n",
      "  Metadata:\n",
      "    major_brand     : isom\n",
      "    minor_version   : 512\n",
      "    compatible_brands: isomiso2avc1mp41\n",
      "    encoder         : Lavf58.45.100\n",
      "    Stream #0:0(und): Video: png, rgb24, 352x288 [SAR 128:117 DAR 1408:1053], q=2-31, 200 kb/s, 25 fps, 25 tbn, 25 tbc (default)\n",
      "    Metadata:\n",
      "      handler_name    : VideoHandler\n",
      "      encoder         : Lavc58.91.100 png\n",
      "frame=   30 fps=0.0 q=-0.0 Lsize=N/A time=00:00:01.20 bitrate=N/A speed= 7.5x    \n",
      "video:7318kB audio:0kB subtitle:0kB other streams:0kB global headers:0kB muxing overhead: unknown\n",
      "ffmpeg version n4.3.2 Copyright (c) 2000-2021 the FFmpeg developers\n",
      "  built with gcc 10.2.0 (GCC)\n",
      "  configuration: --prefix=/usr --disable-debug --disable-static --disable-stripping --enable-amf --enable-avisynth --enable-cuda-llvm --enable-lto --enable-fontconfig --enable-gmp --enable-gnutls --enable-gpl --enable-ladspa --enable-libaom --enable-libass --enable-libbluray --enable-libdav1d --enable-libdrm --enable-libfreetype --enable-libfribidi --enable-libgsm --enable-libiec61883 --enable-libjack --enable-libmfx --enable-libmodplug --enable-libmp3lame --enable-libopencore_amrnb --enable-libopencore_amrwb --enable-libopenjpeg --enable-libopus --enable-libpulse --enable-librav1e --enable-libsoxr --enable-libspeex --enable-libsrt --enable-libssh --enable-libtheora --enable-libv4l2 --enable-libvidstab --enable-libvmaf --enable-libvorbis --enable-libvpx --enable-libwebp --enable-libx264 --enable-libx265 --enable-libxcb --enable-libxml2 --enable-libxvid --enable-libzimg --enable-nvdec --enable-nvenc --enable-shared --enable-version3\n",
      "  libavutil      56. 51.100 / 56. 51.100\n",
      "  libavcodec     58. 91.100 / 58. 91.100\n",
      "  libavformat    58. 45.100 / 58. 45.100\n",
      "  libavdevice    58. 10.100 / 58. 10.100\n",
      "  libavfilter     7. 85.100 /  7. 85.100\n",
      "  libswscale      5.  7.100 /  5.  7.100\n",
      "  libswresample   3.  7.100 /  3.  7.100\n",
      "  libpostproc    55.  7.100 / 55.  7.100\n",
      "Input #0, image2, from '/tmp/original_%03d.png':\n",
      "  Duration: 00:00:06.00, start: 0.000000, bitrate: N/A\n",
      "    Stream #0:0: Video: png, rgb24(pc), 352x288 [SAR 128:117 DAR 1408:1053], 25 fps, 25 tbr, 25 tbn, 25 tbc\n",
      "Stream mapping:\n",
      "  Stream #0:0 -> #0:0 (png (native) -> h264 (libx264rgb))\n",
      "Press [q] to stop, [?] for help\n",
      "\u001b[1;36m[libx264rgb @ 0x55a5f4df1dc0] \u001b[0musing SAR=128/117\n",
      "\u001b[1;36m[libx264rgb @ 0x55a5f4df1dc0] \u001b[0musing cpu capabilities: MMX2 SSE2Fast SSSE3 SSE4.2 AVX FMA3 BMI2 AVX2\n",
      "\u001b[1;36m[libx264rgb @ 0x55a5f4df1dc0] \u001b[0mprofile High 4:4:4 Predictive, level 1.3, 4:4:4, 8-bit\n",
      "\u001b[1;36m[libx264rgb @ 0x55a5f4df1dc0] \u001b[0m264 - core 160 r3011 cde9a93 - H.264/MPEG-4 AVC codec - Copyleft 2003-2020 - http://www.videolan.org/x264.html - options: cabac=1 ref=3 deblock=1:0:0 analyse=0x3:0x113 me=hex subme=7 psy=1 psy_rd=1.00:0.00 mixed_ref=1 me_range=16 chroma_me=1 trellis=1 8x8dct=1 cqm=0 deadzone=21,11 fast_pskip=1 chroma_qp_offset=-2 threads=9 lookahead_threads=1 sliced_threads=0 nr=0 decimate=1 interlaced=0 bluray_compat=0 constrained_intra=0 bframes=0 weightp=2 keyint=30 keyint_min=3 scenecut=40 intra_refresh=0 rc_lookahead=30 rc=crf mbtree=1 crf=36.0 qcomp=0.60 qpmin=0 qpmax=69 qpstep=4 ip_ratio=1.40 aq=1:1.00\n",
      "Output #0, mp4, to '/tmp/output.mp4':\n",
      "  Metadata:\n",
      "    encoder         : Lavf58.45.100\n",
      "    Stream #0:0: Video: h264 (libx264rgb) (avc1 / 0x31637661), rgb24, 352x288 [SAR 128:117 DAR 1408:1053], q=-1--1, 25 fps, 12800 tbn, 25 tbc\n",
      "    Metadata:\n",
      "      encoder         : Lavc58.91.100 libx264rgb\n",
      "    Side data:\n",
      "      cpb: bitrate max/min/avg: 0/0/0 buffer size: 0 vbv_delay: N/A\n",
      "frame=   30 fps=0.0 q=-1.0 Lsize=     106kB time=00:00:01.16 bitrate= 745.4kbits/s speed= 4.5x    \n",
      "video:105kB audio:0kB subtitle:0kB other streams:0kB global headers:0kB muxing overhead: 0.903659%\n",
      "\u001b[1;36m[libx264rgb @ 0x55a5f4df1dc0] \u001b[0mframe I:1     Avg QP:43.03  size: 16103\n",
      "\u001b[1;36m[libx264rgb @ 0x55a5f4df1dc0] \u001b[0mframe P:29    Avg QP:43.47  size:  3117\n",
      "\u001b[1;36m[libx264rgb @ 0x55a5f4df1dc0] \u001b[0mmb I  I16..4: 15.4% 49.7% 34.8%\n",
      "\u001b[1;36m[libx264rgb @ 0x55a5f4df1dc0] \u001b[0mmb P  I16..4:  0.9%  0.5%  0.5%  P16..4: 41.2% 14.2% 18.1%  0.0%  0.0%    skip:24.6%\n",
      "\u001b[1;36m[libx264rgb @ 0x55a5f4df1dc0] \u001b[0m8x8 transform intra:41.8% inter:59.8%\n",
      "\u001b[1;36m[libx264rgb @ 0x55a5f4df1dc0] \u001b[0mcoded y,u,v intra: 45.3% 70.2% 72.9% inter: 6.7% 22.9% 24.0%\n",
      "\u001b[1;36m[libx264rgb @ 0x55a5f4df1dc0] \u001b[0mi16 v,h,dc,p: 22% 53% 20%  5%\n",
      "\u001b[1;36m[libx264rgb @ 0x55a5f4df1dc0] \u001b[0mi8 v,h,dc,ddl,ddr,vr,hd,vl,hu: 25% 21% 30%  4%  3%  4%  5%  3%  6%\n",
      "\u001b[1;36m[libx264rgb @ 0x55a5f4df1dc0] \u001b[0mi4 v,h,dc,ddl,ddr,vr,hd,vl,hu: 31% 27% 24%  3%  4%  3%  3%  3%  3%\n",
      "\u001b[1;36m[libx264rgb @ 0x55a5f4df1dc0] \u001b[0mWeighted P-Frames: Y:0.0% UV:0.0%\n",
      "\u001b[1;36m[libx264rgb @ 0x55a5f4df1dc0] \u001b[0mref P L0: 79.7% 10.2%  6.3%  3.8%\n",
      "\u001b[1;36m[libx264rgb @ 0x55a5f4df1dc0] \u001b[0mkb/s:709.96\n",
      "ffmpeg version n4.3.2 Copyright (c) 2000-2021 the FFmpeg developers\n",
      "  built with gcc 10.2.0 (GCC)\n",
      "  configuration: --prefix=/usr --disable-debug --disable-static --disable-stripping --enable-amf --enable-avisynth --enable-cuda-llvm --enable-lto --enable-fontconfig --enable-gmp --enable-gnutls --enable-gpl --enable-ladspa --enable-libaom --enable-libass --enable-libbluray --enable-libdav1d --enable-libdrm --enable-libfreetype --enable-libfribidi --enable-libgsm --enable-libiec61883 --enable-libjack --enable-libmfx --enable-libmodplug --enable-libmp3lame --enable-libopencore_amrnb --enable-libopencore_amrwb --enable-libopenjpeg --enable-libopus --enable-libpulse --enable-librav1e --enable-libsoxr --enable-libspeex --enable-libsrt --enable-libssh --enable-libtheora --enable-libv4l2 --enable-libvidstab --enable-libvmaf --enable-libvorbis --enable-libvpx --enable-libwebp --enable-libx264 --enable-libx265 --enable-libxcb --enable-libxml2 --enable-libxvid --enable-libzimg --enable-nvdec --enable-nvenc --enable-shared --enable-version3\n",
      "  libavutil      56. 51.100 / 56. 51.100\n",
      "  libavcodec     58. 91.100 / 58. 91.100\n",
      "  libavformat    58. 45.100 / 58. 45.100\n",
      "  libavdevice    58. 10.100 / 58. 10.100\n",
      "  libavfilter     7. 85.100 /  7. 85.100\n",
      "  libswscale      5.  7.100 /  5.  7.100\n",
      "  libswresample   3.  7.100 /  3.  7.100\n",
      "  libpostproc    55.  7.100 / 55.  7.100\n",
      "Input #0, mov,mp4,m4a,3gp,3g2,mj2, from '/tmp/output.mp4':\n",
      "  Metadata:\n",
      "    major_brand     : isom\n",
      "    minor_version   : 512\n",
      "    compatible_brands: isomiso2avc1mp41\n",
      "    encoder         : Lavf58.45.100\n",
      "  Duration: 00:00:01.20, start: 0.000000, bitrate: 720 kb/s\n",
      "    Stream #0:0(und): Video: h264 (High 4:4:4 Predictive) (avc1 / 0x31637661), gbrp(tv, gbr/unknown/unknown), 352x288 [SAR 128:117 DAR 1408:1053], 714 kb/s, 25 fps, 25 tbr, 12800 tbn, 50 tbc (default)\n",
      "    Metadata:\n",
      "      handler_name    : VideoHandler\n",
      "Stream mapping:\n",
      "  Stream #0:0 -> #0:0 (h264 (native) -> png (native))\n",
      "Press [q] to stop, [?] for help\n",
      "Output #0, image2, to '/tmp/original_reconstructed_%03d.png':\n",
      "  Metadata:\n",
      "    major_brand     : isom\n",
      "    minor_version   : 512\n",
      "    compatible_brands: isomiso2avc1mp41\n",
      "    encoder         : Lavf58.45.100\n",
      "    Stream #0:0(und): Video: png, rgb24, 352x288 [SAR 128:117 DAR 1408:1053], q=2-31, 200 kb/s, 25 fps, 25 tbn, 25 tbc (default)\n",
      "    Metadata:\n",
      "      handler_name    : VideoHandler\n",
      "      encoder         : Lavc58.91.100 png\n"
     ]
    },
    {
     "name": "stdout",
     "output_type": "stream",
     "text": [
      "frame=   30 fps=0.0 q=-0.0 Lsize=N/A time=00:00:01.20 bitrate=N/A speed=6.13x    \n",
      "video:7183kB audio:0kB subtitle:0kB other streams:0kB global headers:0kB muxing overhead: unknown\n",
      "ffmpeg version n4.3.2 Copyright (c) 2000-2021 the FFmpeg developers\n",
      "  built with gcc 10.2.0 (GCC)\n",
      "  configuration: --prefix=/usr --disable-debug --disable-static --disable-stripping --enable-amf --enable-avisynth --enable-cuda-llvm --enable-lto --enable-fontconfig --enable-gmp --enable-gnutls --enable-gpl --enable-ladspa --enable-libaom --enable-libass --enable-libbluray --enable-libdav1d --enable-libdrm --enable-libfreetype --enable-libfribidi --enable-libgsm --enable-libiec61883 --enable-libjack --enable-libmfx --enable-libmodplug --enable-libmp3lame --enable-libopencore_amrnb --enable-libopencore_amrwb --enable-libopenjpeg --enable-libopus --enable-libpulse --enable-librav1e --enable-libsoxr --enable-libspeex --enable-libsrt --enable-libssh --enable-libtheora --enable-libv4l2 --enable-libvidstab --enable-libvmaf --enable-libvorbis --enable-libvpx --enable-libwebp --enable-libx264 --enable-libx265 --enable-libxcb --enable-libxml2 --enable-libxvid --enable-libzimg --enable-nvdec --enable-nvenc --enable-shared --enable-version3\n",
      "  libavutil      56. 51.100 / 56. 51.100\n",
      "  libavcodec     58. 91.100 / 58. 91.100\n",
      "  libavformat    58. 45.100 / 58. 45.100\n",
      "  libavdevice    58. 10.100 / 58. 10.100\n",
      "  libavfilter     7. 85.100 /  7. 85.100\n",
      "  libswscale      5.  7.100 /  5.  7.100\n",
      "  libswresample   3.  7.100 /  3.  7.100\n",
      "  libpostproc    55.  7.100 / 55.  7.100\n",
      "Input #0, image2, from '/tmp/original_%03d.png':\n",
      "  Duration: 00:00:06.00, start: 0.000000, bitrate: N/A\n",
      "    Stream #0:0: Video: png, rgb24(pc), 352x288 [SAR 128:117 DAR 1408:1053], 25 fps, 25 tbr, 25 tbn, 25 tbc\n",
      "Stream mapping:\n",
      "  Stream #0:0 -> #0:0 (png (native) -> h264 (libx264rgb))\n",
      "Press [q] to stop, [?] for help\n",
      "\u001b[1;36m[libx264rgb @ 0x557ca1066dc0] \u001b[0musing SAR=128/117\n",
      "\u001b[1;36m[libx264rgb @ 0x557ca1066dc0] \u001b[0musing cpu capabilities: MMX2 SSE2Fast SSSE3 SSE4.2 AVX FMA3 BMI2 AVX2\n",
      "\u001b[1;36m[libx264rgb @ 0x557ca1066dc0] \u001b[0mprofile High 4:4:4 Predictive, level 1.3, 4:4:4, 8-bit\n",
      "\u001b[1;36m[libx264rgb @ 0x557ca1066dc0] \u001b[0m264 - core 160 r3011 cde9a93 - H.264/MPEG-4 AVC codec - Copyleft 2003-2020 - http://www.videolan.org/x264.html - options: cabac=1 ref=3 deblock=1:0:0 analyse=0x3:0x113 me=hex subme=7 psy=1 psy_rd=1.00:0.00 mixed_ref=1 me_range=16 chroma_me=1 trellis=1 8x8dct=1 cqm=0 deadzone=21,11 fast_pskip=1 chroma_qp_offset=-2 threads=9 lookahead_threads=1 sliced_threads=0 nr=0 decimate=1 interlaced=0 bluray_compat=0 constrained_intra=0 bframes=0 weightp=2 keyint=30 keyint_min=3 scenecut=40 intra_refresh=0 rc_lookahead=30 rc=crf mbtree=1 crf=39.0 qcomp=0.60 qpmin=0 qpmax=69 qpstep=4 ip_ratio=1.40 aq=1:1.00\n",
      "Output #0, mp4, to '/tmp/output.mp4':\n",
      "  Metadata:\n",
      "    encoder         : Lavf58.45.100\n",
      "    Stream #0:0: Video: h264 (libx264rgb) (avc1 / 0x31637661), rgb24, 352x288 [SAR 128:117 DAR 1408:1053], q=-1--1, 25 fps, 12800 tbn, 25 tbc\n",
      "    Metadata:\n",
      "      encoder         : Lavc58.91.100 libx264rgb\n",
      "    Side data:\n",
      "      cpb: bitrate max/min/avg: 0/0/0 buffer size: 0 vbv_delay: N/A\n",
      "frame=   30 fps=0.0 q=-1.0 Lsize=      91kB time=00:00:01.16 bitrate= 641.4kbits/s speed=5.68x    \n",
      "video:90kB audio:0kB subtitle:0kB other streams:0kB global headers:0kB muxing overhead: 1.051705%\n",
      "\u001b[1;36m[libx264rgb @ 0x557ca1066dc0] \u001b[0mframe I:1     Avg QP:46.02  size: 13319\n",
      "\u001b[1;36m[libx264rgb @ 0x557ca1066dc0] \u001b[0mframe P:29    Avg QP:46.54  size:  2693\n",
      "\u001b[1;36m[libx264rgb @ 0x557ca1066dc0] \u001b[0mmb I  I16..4: 18.9% 54.3% 26.8%\n",
      "\u001b[1;36m[libx264rgb @ 0x557ca1066dc0] \u001b[0mmb P  I16..4:  1.1%  0.9%  0.3%  P16..4: 41.6% 10.1% 14.5%  0.0%  0.0%    skip:31.5%\n",
      "\u001b[1;36m[libx264rgb @ 0x557ca1066dc0] \u001b[0m8x8 transform intra:48.6% inter:59.7%\n",
      "\u001b[1;36m[libx264rgb @ 0x557ca1066dc0] \u001b[0mcoded y,u,v intra: 32.1% 67.4% 71.0% inter: 4.2% 20.0% 21.5%\n",
      "\u001b[1;36m[libx264rgb @ 0x557ca1066dc0] \u001b[0mi16 v,h,dc,p: 24% 46% 24%  6%\n",
      "\u001b[1;36m[libx264rgb @ 0x557ca1066dc0] \u001b[0mi8 v,h,dc,ddl,ddr,vr,hd,vl,hu: 27% 20% 34%  3%  4%  3%  4%  2%  4%\n",
      "\u001b[1;36m[libx264rgb @ 0x557ca1066dc0] \u001b[0mi4 v,h,dc,ddl,ddr,vr,hd,vl,hu: 33% 25% 29%  1%  2%  2%  3%  2%  2%\n",
      "\u001b[1;36m[libx264rgb @ 0x557ca1066dc0] \u001b[0mWeighted P-Frames: Y:0.0% UV:0.0%\n",
      "\u001b[1;36m[libx264rgb @ 0x557ca1066dc0] \u001b[0mref P L0: 79.6% 10.9%  6.2%  3.3%\n",
      "\u001b[1;36m[libx264rgb @ 0x557ca1066dc0] \u001b[0mkb/s:609.43\n",
      "ffmpeg version n4.3.2 Copyright (c) 2000-2021 the FFmpeg developers\n",
      "  built with gcc 10.2.0 (GCC)\n",
      "  configuration: --prefix=/usr --disable-debug --disable-static --disable-stripping --enable-amf --enable-avisynth --enable-cuda-llvm --enable-lto --enable-fontconfig --enable-gmp --enable-gnutls --enable-gpl --enable-ladspa --enable-libaom --enable-libass --enable-libbluray --enable-libdav1d --enable-libdrm --enable-libfreetype --enable-libfribidi --enable-libgsm --enable-libiec61883 --enable-libjack --enable-libmfx --enable-libmodplug --enable-libmp3lame --enable-libopencore_amrnb --enable-libopencore_amrwb --enable-libopenjpeg --enable-libopus --enable-libpulse --enable-librav1e --enable-libsoxr --enable-libspeex --enable-libsrt --enable-libssh --enable-libtheora --enable-libv4l2 --enable-libvidstab --enable-libvmaf --enable-libvorbis --enable-libvpx --enable-libwebp --enable-libx264 --enable-libx265 --enable-libxcb --enable-libxml2 --enable-libxvid --enable-libzimg --enable-nvdec --enable-nvenc --enable-shared --enable-version3\n",
      "  libavutil      56. 51.100 / 56. 51.100\n",
      "  libavcodec     58. 91.100 / 58. 91.100\n",
      "  libavformat    58. 45.100 / 58. 45.100\n",
      "  libavdevice    58. 10.100 / 58. 10.100\n",
      "  libavfilter     7. 85.100 /  7. 85.100\n",
      "  libswscale      5.  7.100 /  5.  7.100\n",
      "  libswresample   3.  7.100 /  3.  7.100\n",
      "  libpostproc    55.  7.100 / 55.  7.100\n",
      "Input #0, mov,mp4,m4a,3gp,3g2,mj2, from '/tmp/output.mp4':\n",
      "  Metadata:\n",
      "    major_brand     : isom\n",
      "    minor_version   : 512\n",
      "    compatible_brands: isomiso2avc1mp41\n",
      "    encoder         : Lavf58.45.100\n",
      "  Duration: 00:00:01.20, start: 0.000000, bitrate: 620 kb/s\n",
      "    Stream #0:0(und): Video: h264 (High 4:4:4 Predictive) (avc1 / 0x31637661), gbrp(tv, gbr/unknown/unknown), 352x288 [SAR 128:117 DAR 1408:1053], 613 kb/s, 25 fps, 25 tbr, 12800 tbn, 50 tbc (default)\n",
      "    Metadata:\n",
      "      handler_name    : VideoHandler\n",
      "Stream mapping:\n",
      "  Stream #0:0 -> #0:0 (h264 (native) -> png (native))\n",
      "Press [q] to stop, [?] for help\n",
      "Output #0, image2, to '/tmp/original_reconstructed_%03d.png':\n",
      "  Metadata:\n",
      "    major_brand     : isom\n",
      "    minor_version   : 512\n",
      "    compatible_brands: isomiso2avc1mp41\n",
      "    encoder         : Lavf58.45.100\n",
      "    Stream #0:0(und): Video: png, rgb24, 352x288 [SAR 128:117 DAR 1408:1053], q=2-31, 200 kb/s, 25 fps, 25 tbn, 25 tbc (default)\n",
      "    Metadata:\n",
      "      handler_name    : VideoHandler\n",
      "      encoder         : Lavc58.91.100 png\n",
      "frame=   30 fps=0.0 q=-0.0 Lsize=N/A time=00:00:01.20 bitrate=N/A speed=9.15x    \n",
      "video:7034kB audio:0kB subtitle:0kB other streams:0kB global headers:0kB muxing overhead: unknown\n",
      "     1\tQ_step: 21 BPP: 0.5263064674523008 KBPS: 4801.936 Average AMSE: 18.976771074459872\n",
      "     2\tQ_step: 24 BPP: 0.33889151936026934 KBPS: 3091.992 Average AMSE: 30.64055792297979\n",
      "     3\tQ_step: 27 BPP: 0.2249815867003367 KBPS: 2052.696 Average AMSE: 47.544098756663864\n",
      "     4\tQ_step: 30 BPP: 0.15774147727272728 KBPS: 1439.208 Average AMSE: 70.95086520587823\n",
      "     5\tQ_step: 33 BPP: 0.11839137906846241 KBPS: 1080.184 Average AMSE: 101.60439935378086\n",
      "     6\tQ_step: 36 BPP: 0.09477413019079686 KBPS: 864.704 Average AMSE: 141.6871334876543\n",
      "     7\tQ_step: 39 BPP: 0.0815525042087542 KBPS: 744.072 Average AMSE: 193.31282530162738\n"
     ]
    }
   ],
   "source": [
    "!python RD_curve.py 1> >(tee /tmp/output >&1) | grep BPP | grep Average | cat -n"
   ]
  },
  {
   "cell_type": "code",
   "execution_count": 30,
   "metadata": {},
   "outputs": [],
   "source": [
    "!grep BPP /tmp/output | grep Average | cut -d ' ' -f 4,9 | tr ' ' '\\t'  > /tmp/MP4.txt"
   ]
  },
  {
   "cell_type": "code",
   "execution_count": 31,
   "metadata": {},
   "outputs": [
    {
     "name": "stdout",
     "output_type": "stream",
     "text": [
      "0.5263064674523008\t18.976771074459872\r\n",
      "0.33889151936026934\t30.64055792297979\r\n",
      "0.2249815867003367\t47.544098756663864\r\n",
      "0.15774147727272728\t70.95086520587823\r\n",
      "0.11839137906846241\t101.60439935378086\r\n",
      "0.09477413019079686\t141.6871334876543\r\n",
      "0.0815525042087542\t193.31282530162738\r\n"
     ]
    }
   ],
   "source": [
    "!cat /tmp/MP4.txt"
   ]
  },
  {
   "cell_type": "code",
   "execution_count": 32,
   "metadata": {},
   "outputs": [],
   "source": [
    "RD_MP4 = []\n",
    "with open(\"/tmp/MP4.txt\", 'r') as f:\n",
    "    for line in f:\n",
    "        rate, _distortion = line.split('\\t')\n",
    "        RD_MP4.append((float(rate), float(_distortion)))"
   ]
  },
  {
   "cell_type": "markdown",
   "metadata": {},
   "source": [
    "## Comparison"
   ]
  },
  {
   "cell_type": "code",
   "execution_count": 33,
   "metadata": {},
   "outputs": [
    {
     "data": {
      "image/png": "[encoded data removed]",
      "text/plain": [
       "<Figure size 900x600 with 1 Axes>"
      ]
     },
     "metadata": {
      "needs_background": "light"
     },
     "output_type": "display_data"
    }
   ],
   "source": [
    "%matplotlib inline\n",
    "\n",
    "import matplotlib\n",
    "import matplotlib.pyplot as plt\n",
    "import matplotlib.axes as ax\n",
    "import pylab\n",
    "\n",
    "pylab.figure(dpi=150)\n",
    "pylab.plot(*zip(*RD_no_Iblocks), label=\"no I-blocks\")\n",
    "pylab.plot(*zip(*RD_with_Iblocks), label=\"with I-blocks\")\n",
    "pylab.plot(*zip(*RD_with_Sblocks), label=\"with (I- and) S-blocks\")\n",
    "pylab.plot(*zip(*RD_all_Sblocks), label=\"all S-blocks\")\n",
    "pylab.plot(*zip(*RD_MP4), label=\"MP4\")\n",
    "pylab.title(f\"{sequence}\")\n",
    "pylab.xlabel(\"bits/pixel\")\n",
    "pylab.ylabel(\"AMSE\")\n",
    "plt.legend(loc='upper right')\n",
    "pylab.show()"
   ]
  },
  {
   "cell_type": "code",
   "execution_count": 34,
   "metadata": {},
   "outputs": [
    {
     "data": {
      "image/png": "[encoded data removed]",
      "text/plain": [
       "<Figure size 900x600 with 1 Axes>"
      ]
     },
     "metadata": {
      "needs_background": "light"
     },
     "output_type": "display_data"
    }
   ],
   "source": [
    "%matplotlib inline\n",
    "\n",
    "import matplotlib\n",
    "import matplotlib.pyplot as plt\n",
    "import matplotlib.axes as ax\n",
    "import pylab\n",
    "\n",
    "pylab.figure(dpi=150)\n",
    "pylab.plot(*zip(*RD_no_Iblocks), label=\"No I-blocks\")\n",
    "pylab.plot(*zip(*RD_with_Iblocks), label=\"With I-blocks\")\n",
    "pylab.plot(*zip(*RD_MP4), label=\"MP4\")\n",
    "pylab.title(f\"{sequence}\")\n",
    "pylab.xlabel(\"Bits/Pixel\")\n",
    "pylab.ylabel(\"AMSE\")\n",
    "plt.legend(loc='upper right')\n",
    "pylab.show()"
   ]
  },
  {
   "cell_type": "code",
   "execution_count": 35,
   "metadata": {},
   "outputs": [
    {
     "data": {
      "image/png": "[encoded data removed]",
      "text/plain": [
       "<Figure size 900x600 with 1 Axes>"
      ]
     },
     "metadata": {
      "needs_background": "light"
     },
     "output_type": "display_data"
    }
   ],
   "source": [
    "%matplotlib inline\n",
    "\n",
    "import matplotlib\n",
    "import matplotlib.pyplot as plt\n",
    "import matplotlib.axes as ax\n",
    "import pylab\n",
    "\n",
    "pylab.figure(dpi=150)\n",
    "pylab.plot(*zip(*RD_no_Iblocks), label=\"No I-blocks\")\n",
    "pylab.plot(*zip(*RD_with_Iblocks), label=\"With I-blocks\")\n",
    "pylab.plot(*zip(*RD_MP4), label=\"MP4\")\n",
    "pylab.title(f\"{sequence}\")\n",
    "pylab.xlabel(\"Bits/Pixel\")\n",
    "pylab.ylabel(\"AMSE\")\n",
    "plt.legend(loc='upper right')\n",
    "pylab.show()"
   ]
  },
  {
   "cell_type": "code",
   "execution_count": 36,
   "metadata": {},
   "outputs": [
    {
     "data": {
      "image/png": "[encoded data removed]",
      "text/plain": [
       "<Figure size 900x600 with 1 Axes>"
      ]
     },
     "metadata": {
      "needs_background": "light"
     },
     "output_type": "display_data"
    }
   ],
   "source": [
    "%matplotlib inline\n",
    "\n",
    "import matplotlib\n",
    "import matplotlib.pyplot as plt\n",
    "import matplotlib.axes as ax\n",
    "import pylab\n",
    "\n",
    "pylab.figure(dpi=150)\n",
    "pylab.plot(*zip(*RD_no_Iblocks), label=\"No I-blocks\")\n",
    "pylab.plot(*zip(*RD_with_Iblocks), label=\"With I-blocks\")\n",
    "pylab.plot(*zip(*RD_MP4), label=\"MP4\")\n",
    "pylab.title(f\"{sequence}\")\n",
    "pylab.xlabel(\"Bits/Pixel\")\n",
    "pylab.ylabel(\"AMSE\")\n",
    "plt.legend(loc='upper right')\n",
    "pylab.show()"
   ]
  },
  {
   "cell_type": "code",
   "execution_count": null,
   "metadata": {},
   "outputs": [],
   "source": []
  }
 ],
 "metadata": {
  "kernelspec": {
   "display_name": "Python 3",
   "language": "python",
   "name": "python3"
  },
  "language_info": {
   "codemirror_mode": {
    "name": "ipython",
    "version": 3
   },
   "file_extension": ".py",
   "mimetype": "text/x-python",
   "name": "python",
   "nbconvert_exporter": "python",
   "pygments_lexer": "ipython3",
   "version": "3.9.2"
  }
 },
 "nbformat": 4,
 "nbformat_minor": 4
}
