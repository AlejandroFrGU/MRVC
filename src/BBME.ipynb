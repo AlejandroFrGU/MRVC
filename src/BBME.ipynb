{
 "cells": [
  {
   "cell_type": "markdown",
   "metadata": {},
   "source": [
    "# Block Based Motion Estimation"
   ]
  },
  {
   "cell_type": "code",
   "execution_count": null,
   "metadata": {},
   "outputs": [],
   "source": [
    "import numpy as np\n",
    "import frame\n",
    "import YCoCg as YUV\n",
    "import motion\n",
    "import matplotlib\n",
    "import matplotlib.pyplot as plt\n",
    "%matplotlib inline\n",
    "import LP\n",
    "import cv2 as cv"
   ]
  },
  {
   "cell_type": "code",
   "execution_count": null,
   "metadata": {},
   "outputs": [],
   "source": [
    "def normalize(img):\n",
    "    max_component = np.max(img)\n",
    "    min_component = np.min(img)\n",
    "    max_min_component = max_component - min_component\n",
    "    return (img-min_component)/max_min_component\n",
    "\n",
    "def show_frame(frame, prefix=None):\n",
    "    #frame = normalize(frame)\n",
    "    plt.figure(figsize=(10,10))\n",
    "    plt.title(prefix, fontsize=20)\n",
    "    plt.imshow(frame)"
   ]
  },
  {
   "cell_type": "code",
   "execution_count": null,
   "metadata": {},
   "outputs": [],
   "source": [
    "R = YUV.from_RGB(frame.read(\"../sequences/moving_circle/\", 0))[...,0]\n",
    "P = YUV.from_RGB(frame.read(\"../sequences/moving_circle/\", 1))[...,0]"
   ]
  },
  {
   "cell_type": "code",
   "execution_count": null,
   "metadata": {},
   "outputs": [],
   "source": [
    "flow = motion.estimate(P, R)"
   ]
  },
  {
   "cell_type": "code",
   "execution_count": null,
   "metadata": {},
   "outputs": [],
   "source": [
    "flow.shape"
   ]
  },
  {
   "cell_type": "code",
   "execution_count": null,
   "metadata": {},
   "outputs": [],
   "source": [
    "flow.min()"
   ]
  },
  {
   "cell_type": "code",
   "execution_count": null,
   "metadata": {},
   "outputs": [],
   "source": [
    "for i in range(64):\n",
    "    for j in range(64):\n",
    "        print((np.rint(flow)[i,j][1]), end=' ')\n",
    "    print()"
   ]
  },
  {
   "cell_type": "code",
   "execution_count": null,
   "metadata": {
    "scrolled": false
   },
   "outputs": [],
   "source": [
    "R = frame.read(\"../sequences/moving_circle/\", 0)\n",
    "P = frame.read(\"../sequences/moving_circle/\", 1)\n",
    "prediction = motion.make_prediction(R, flow)\n",
    "show_frame(prediction)\n",
    "show_frame(P)"
   ]
  },
  {
   "cell_type": "code",
   "execution_count": null,
   "metadata": {},
   "outputs": [],
   "source": [
    "R = YUV.from_RGB(frame.read(\"../sequences/moving_circle/\", 0))[...,0]\n",
    "P = YUV.from_RGB(frame.read(\"../sequences/moving_circle/\", 1))[...,0]"
   ]
  },
  {
   "cell_type": "code",
   "execution_count": null,
   "metadata": {},
   "outputs": [],
   "source": [
    "#      5       3       8\n",
    "#      1       0       2\n",
    "#      7       4       6\n",
    "# (-1,-1) (-1, 0) (-1, 1)\n",
    "# ( 0,-1) ( 0, 0) ( 0, 1)\n",
    "# ( 1,-1) ( 1, 0) ( 1, 1)\n",
    "#spiral  = np.array([(-1,-1), (-1, 1), ( 1,-1), ( 1, 1), (-1, 0), ( 1, 0), ( 0,-1), ( 0, 1), ( 0, 0)])\n",
    "spiral  = np.array([( 0, 0), (-1,-1), (-1, 1), ( 1,-1), ( 1, 1), (-1, 0), ( 1, 0), ( 0,-1), ( 0, 1)])\n",
    "spiral  = np.array([( 0, 0), ( 0,-1), ( 0, 1), (-1, 0), ( 1, 0), (-1,-1), ( 1, 1), ( 1,-1), (-1, 1)])\n",
    "\n",
    "# (0,0) (0,1) (0,2)\n",
    "# (1,0) (1,1) (1,2)\n",
    "# (2,0) (2,1) (2,2)\n",
    "spiral_ = np.array([( 1, 1), ( 0, 0), ( 0, 2), ( 2, 0), ( 2, 2), ( 0, 1), ( 2, 1), ( 1, 0), ( 1, 2)])\n",
    "spiral_ = np.array([( 1, 1), ( 1, 0), ( 1, 2), ( 0, 1), ( 2, 1), ( 0, 0), ( 2, 2), ( 2, 0), ( 0, 2)])"
   ]
  },
  {
   "cell_type": "code",
   "execution_count": null,
   "metadata": {},
   "outputs": [],
   "source": [
    "# (x, y)\n",
    "#      5       3       8\n",
    "#      1       0       2\n",
    "#      7       4       6\n",
    "# (-1,-1) ( 0,-1) ( 1,-1)\n",
    "# (-1, 0) ( 0, 0) ( 1, 0)\n",
    "# (-1, 1) ( 0, 1) ( 1, 1)\n",
    "spiral  = np.array([( 0, 0), (-1, 0), ( 1, 0), ( 0,-1), ( 0, 1), (-1,-1), ( 1, 1), (-1, 1), ( 1,-1)], dtype=np.int16)\n",
    "\n",
    "# (0,0) (1,0) (2,0)\n",
    "# (0,1) (1,1) (2,1)\n",
    "# (0,2) (1,2) (2,2)\n",
    "spiral_ = np.array([( 1, 1), ( 0, 1), ( 2, 1), ( 1, 0), ( 1, 2), ( 0, 0), ( 2, 2), ( 0, 2), ( 2, 0)], dtype=np.int16)"
   ]
  },
  {
   "cell_type": "code",
   "execution_count": null,
   "metadata": {},
   "outputs": [],
   "source": [
    "print(spiral.dtype)"
   ]
  },
  {
   "cell_type": "code",
   "execution_count": null,
   "metadata": {},
   "outputs": [],
   "source": [
    "extended_R = np.zeros((R.shape[0]+2, R.shape[1]+2))\n",
    "extended_R[1:R.shape[0]+1, 1:R.shape[1]+1] = R"
   ]
  },
  {
   "cell_type": "code",
   "execution_count": null,
   "metadata": {},
   "outputs": [],
   "source": [
    "extended_R = np.pad(R, (1, 1), 'edge')"
   ]
  },
  {
   "cell_type": "code",
   "execution_count": null,
   "metadata": {},
   "outputs": [],
   "source": [
    "show_frame(extended_R)"
   ]
  },
  {
   "cell_type": "code",
   "execution_count": null,
   "metadata": {},
   "outputs": [],
   "source": [
    "D = np.zeros((P.shape[0], P.shape[1], 9), dtype=np.float32)"
   ]
  },
  {
   "cell_type": "code",
   "execution_count": null,
   "metadata": {},
   "outputs": [],
   "source": [
    "for i in range(9):\n",
    "    diff = extended_R[spiral_[i][1]:R.shape[0]+spiral_[i][1], spiral_[i][0]:R.shape[1]+spiral_[i][0]] - P\n",
    "    D[:,:,i] = diff*diff"
   ]
  },
  {
   "cell_type": "code",
   "execution_count": null,
   "metadata": {},
   "outputs": [],
   "source": [
    "print(D[0,0,0], D[0,0,1], D[0,0,2], D[0,0,3])"
   ]
  },
  {
   "cell_type": "code",
   "execution_count": null,
   "metadata": {},
   "outputs": [],
   "source": [
    "DD = np.empty_like(D).astype(np.float32)\n",
    "DD[...] = D\n",
    "print(D[0,0,1])\n",
    "show_frame(D[...,0])\n",
    "kernel = np.ones((15,15),np.float32)/(15*15)\n",
    "D = cv.filter2D(DD,-1,kernel)\n",
    "#show_frame(D[...,0]+D[...,1])\n",
    "show_frame(np.rint(D[...,0]))\n"
   ]
  },
  {
   "cell_type": "code",
   "execution_count": null,
   "metadata": {},
   "outputs": [],
   "source": [
    "flow_indexes = np.argmin(np.rint(D), axis=2)\n",
    "for i in range(64):\n",
    "    for j in range(64):\n",
    "        print(flow_indexes[i,j], end=' ')\n",
    "    print()"
   ]
  },
  {
   "cell_type": "code",
   "execution_count": null,
   "metadata": {},
   "outputs": [],
   "source": [
    "show_frame(flow_indexes)"
   ]
  },
  {
   "cell_type": "code",
   "execution_count": null,
   "metadata": {},
   "outputs": [],
   "source": [
    "print(D[0,0,0], D[0,0,1], D[0,0,2], D[0,0,3])"
   ]
  },
  {
   "cell_type": "code",
   "execution_count": null,
   "metadata": {},
   "outputs": [],
   "source": [
    "flow = spiral[flow_indexes]"
   ]
  },
  {
   "cell_type": "code",
   "execution_count": null,
   "metadata": {
    "scrolled": false
   },
   "outputs": [],
   "source": [
    "for i in range(64):\n",
    "    for j in range(64):\n",
    "        print(flow[i,j][1], end=' ')\n",
    "    print()"
   ]
  },
  {
   "cell_type": "code",
   "execution_count": null,
   "metadata": {},
   "outputs": [],
   "source": [
    "show_frame(D[:,:,1] - D[:,:,8])"
   ]
  },
  {
   "cell_type": "code",
   "execution_count": null,
   "metadata": {},
   "outputs": [],
   "source": [
    "R = frame.read(\"../sequences/moving_circle/\", 0)"
   ]
  },
  {
   "cell_type": "code",
   "execution_count": null,
   "metadata": {},
   "outputs": [],
   "source": [
    "show_frame(R)"
   ]
  },
  {
   "cell_type": "code",
   "execution_count": null,
   "metadata": {},
   "outputs": [],
   "source": [
    "prediction = motion.make_prediction(R, flow.astype(np.float32))"
   ]
  },
  {
   "cell_type": "code",
   "execution_count": null,
   "metadata": {
    "scrolled": false
   },
   "outputs": [],
   "source": [
    "show_frame(prediction)"
   ]
  },
  {
   "cell_type": "code",
   "execution_count": null,
   "metadata": {},
   "outputs": [],
   "source": [
    "P = frame.read(\"../sequences/moving_circle/\", 1)\n",
    "show_frame(P)"
   ]
  },
  {
   "cell_type": "code",
   "execution_count": null,
   "metadata": {},
   "outputs": [],
   "source": [
    "R = YUV.from_RGB(frame.read(\"../sequences/moving_circle/\", 0))\n",
    "P = YUV.from_RGB(frame.read(\"../sequences/moving_circle/\", 1))"
   ]
  },
  {
   "cell_type": "code",
   "execution_count": null,
   "metadata": {},
   "outputs": [],
   "source": [
    "def spiral_estimate(P, R, window_side=15):\n",
    "    extended_R = np.zeros((R.shape[0]+2, R.shape[1]+2))\n",
    "    extended_R[1:R.shape[0]+1, 1:R.shape[1]+1] = R\n",
    "    D = np.zeros((P.shape[0], P.shape[1], 9), dtype=np.float32)\n",
    "    for i in range(9):\n",
    "        diff = extended_R[spiral_[i][1]:R.shape[0]+spiral_[i][1], spiral_[i][0]:R.shape[1]+spiral_[i][0]] - P\n",
    "        D[:,:,i] = diff*diff\n",
    "    # Tenemos la distancia L2, pixel-wise, para cada posible desplazamiento de ambas matrices, R y P.\n",
    "    # Ahora se trata de encontrar una nueva matriz de distancias donde se tenga en cuenta las distancias adyacentes.\n",
    "    DD = np.empty_like(D).astype(np.float32)\n",
    "    DD[...] = D\n",
    "    kernel = np.ones((window_side,window_side),np.float32)/(window_side*window_side)\n",
    "    D = cv.filter2D(DD,-1,kernel)\n",
    "    #show_frame(D[...,0]+D[...,1])\n",
    "    show_frame(D[...,0])\n",
    "    #for y in range(D.shape[0]):\n",
    "    #    for x in range(D.shape[1]):\n",
    "    #        print(D[y,x], end=' ')\n",
    "    #    print()\n",
    "    #print(80*\"=\")\n",
    "    flow_indexes = np.argmin(D, axis=2)\n",
    "    for i in range(flow_indexes.shape[0]):\n",
    "        for j in range(flow_indexes.shape[1]):\n",
    "            print(flow_indexes[i,j], end=' ')\n",
    "        print()\n",
    "    print(80*\"=\")\n",
    "    flow = spiral[flow_indexes]\n",
    "    return flow"
   ]
  },
  {
   "cell_type": "code",
   "execution_count": null,
   "metadata": {},
   "outputs": [],
   "source": [
    "def spiral_estimate2(initial_flow, P, R, window_side=15):\n",
    "    extended_R = np.zeros((R.shape[0]+2, R.shape[1]+2))\n",
    "    extended_R[1:R.shape[0]+1, 1:R.shape[1]+1] = R\n",
    "    D = np.zeros((P.shape[0], P.shape[1], 9), dtype=np.float32)\n",
    "    for i in range(9):\n",
    "        \n",
    "        diff = extended_R[initial_flow[1]+spiral_[i][1]:R.shape[0]+spiral_[i][1], spiral_[i][0]:R.shape[1]+spiral_[i][0]] - P\n",
    "        D[:,:,i] = diff*diff\n",
    "    # Tenemos la distancia L2, pixel-wise, para cada posible desplazamiento de ambas matrices, R y P.\n",
    "    # Ahora se trata de encontrar una nueva matriz de distancias donde se tenga en cuenta las distancias adyacentes.\n",
    "    DD = np.empty_like(D).astype(np.float32)\n",
    "    DD[...] = D\n",
    "    kernel = np.ones((window_side,window_side),np.float32)/(window_side*window_side)\n",
    "    D = cv.filter2D(DD,-1,kernel)\n",
    "    #show_frame(D[...,0]+D[...,1])\n",
    "    show_frame(D[...,0])\n",
    "    #for y in range(D.shape[0]):\n",
    "    #    for x in range(D.shape[1]):\n",
    "    #        print(D[y,x], end=' ')\n",
    "    #    print()\n",
    "    #print(80*\"=\")\n",
    "    flow_indexes = np.argmin(D, axis=2)\n",
    "    for i in range(flow_indexes.shape[0]):\n",
    "        for j in range(flow_indexes.shape[1]):\n",
    "            print(flow_indexes[i,j], end=' ')\n",
    "        print()\n",
    "    print(80*\"=\")\n",
    "    flow = initial_flow + spiral[flow_indexes]\n",
    "    return flow"
   ]
  },
  {
   "cell_type": "code",
   "execution_count": null,
   "metadata": {},
   "outputs": [],
   "source": [
    "flow = spiral_estimate(P[...,0], R[...,0])"
   ]
  },
  {
   "cell_type": "code",
   "execution_count": null,
   "metadata": {},
   "outputs": [],
   "source": [
    "for i in range(64):\n",
    "    for j in range(64):\n",
    "        print(flow[i,j][0], end=' ')\n",
    "    print()"
   ]
  },
  {
   "cell_type": "code",
   "execution_count": null,
   "metadata": {},
   "outputs": [],
   "source": [
    "def estimate(P, R, log2_search_area, n_levels):\n",
    "    if log2_search_area > 0:\n",
    "        P_pyramid = LP.analyze(P, log2_search_area)\n",
    "        R_pyramid = LP.analyze(R, log2_search_area)\n",
    "    else:\n",
    "        P_pyramid = [P]\n",
    "        R_pyramid = [R]\n",
    "    #total_flow = np.zeros(((R_pyramid[0].shape[0]+1)//2, (R_pyramid[0].shape[1]+1)//2, 2), dtype=np.int16)\n",
    "    total_flow = np.zeros((R_pyramid[0].shape[0], R_pyramid[0].shape[1], 2), dtype=np.int16)\n",
    "    for l in range(n_levels):\n",
    "        _R_pyramid = motion.make_prediction(R_pyramid[l], total_flow.astype(np.float32))\n",
    "        flow = spiral_estimate(P_pyramid[l], _R_pyramid)\n",
    "        total_flow *= 2\n",
    "        total_flow += flow\n",
    "        total_flow = total_flow.astype(np.int16)\n",
    "        #for y in range(total_flow.shape[0]):\n",
    "        #    for x in range(total_flow.shape[1]):\n",
    "        #        print(total_flow[y,x], end=' ')\n",
    "        #    print()\n",
    "        #print(80*\"=\")\n",
    "        #show_frame(R_pyramid[l+1])\n",
    "        R_pyramid[l+1] = LP.synthesize_step(R_pyramid[l], R_pyramid[l+1])\n",
    "        P_pyramid[l+1] = LP.synthesize_step(P_pyramid[l], P_pyramid[l+1])\n",
    "        total_flow = LP.synthesize_step(total_flow.astype(np.float32), np.zeros(total_flow.shape)).astype(np.int16)\n",
    "    _R = motion.make_prediction(R, total_flow.astype(np.float32))\n",
    "    flow = spiral_estimate(P, _R)\n",
    "    if log2_search_area > 0:\n",
    "        #total_flow = LP.synthesize_step(total_flow.astype(np.float32), np.zeros(total_flow.shape)).astype(np.int16)\n",
    "        #total_flow *= 2\n",
    "        total_flow += flow\n",
    "        total_flow = total_flow.astype(np.int16)\n",
    "    else:\n",
    "        return flow\n",
    "    return total_flow"
   ]
  },
  {
   "cell_type": "code",
   "execution_count": null,
   "metadata": {
    "scrolled": true
   },
   "outputs": [],
   "source": [
    "flow = estimate(P[...,0], R[...,0], 1, 1)"
   ]
  },
  {
   "cell_type": "code",
   "execution_count": null,
   "metadata": {},
   "outputs": [],
   "source": [
    "for i in range(64):\n",
    "    for j in range(64):\n",
    "        print(flow[i,j][0], end=' ')\n",
    "    print()"
   ]
  },
  {
   "cell_type": "code",
   "execution_count": null,
   "metadata": {},
   "outputs": [],
   "source": [
    "show_frame(flow[...,0])"
   ]
  },
  {
   "cell_type": "code",
   "execution_count": null,
   "metadata": {},
   "outputs": [],
   "source": [
    "show_frame(flow[...,1])"
   ]
  },
  {
   "cell_type": "code",
   "execution_count": null,
   "metadata": {},
   "outputs": [],
   "source": [
    "R = frame.read(\"../sequences/moving_circle/\", 0)\n",
    "P = frame.read(\"../sequences/moving_circle/\", 1)"
   ]
  },
  {
   "cell_type": "code",
   "execution_count": null,
   "metadata": {},
   "outputs": [],
   "source": [
    "prediction = motion.make_prediction(R, flow.astype(np.float32))"
   ]
  },
  {
   "cell_type": "code",
   "execution_count": null,
   "metadata": {},
   "outputs": [],
   "source": [
    "show_frame(prediction)"
   ]
  },
  {
   "cell_type": "code",
   "execution_count": null,
   "metadata": {},
   "outputs": [],
   "source": [
    "show_frame(P)"
   ]
  },
  {
   "cell_type": "code",
   "execution_count": null,
   "metadata": {},
   "outputs": [],
   "source": [
    "show_frame(R)"
   ]
  },
  {
   "cell_type": "code",
   "execution_count": null,
   "metadata": {},
   "outputs": [],
   "source": [
    "show_frame(prediction-P)"
   ]
  },
  {
   "cell_type": "code",
   "execution_count": null,
   "metadata": {},
   "outputs": [],
   "source": [
    "frame.write(prediction, \"/tmp/pred\", 0)"
   ]
  },
  {
   "cell_type": "code",
   "execution_count": null,
   "metadata": {},
   "outputs": [],
   "source": [
    "############################3"
   ]
  },
  {
   "cell_type": "code",
   "execution_count": null,
   "metadata": {},
   "outputs": [],
   "source": [
    "D = []\n",
    "for i in _spiral:\n",
    "    difference = extended_R[i[0]:R.shape[0]+i[0], i[1]:R.shape[1]+i[1]] - P\n",
    "    D.append(difference)"
   ]
  },
  {
   "cell_type": "code",
   "execution_count": null,
   "metadata": {},
   "outputs": [],
   "source": [
    "D[1].max()"
   ]
  }
 ],
 "metadata": {
  "kernelspec": {
   "display_name": "Python 3",
   "language": "python",
   "name": "python3"
  },
  "language_info": {
   "codemirror_mode": {
    "name": "ipython",
    "version": 3
   },
   "file_extension": ".py",
   "mimetype": "text/x-python",
   "name": "python",
   "nbconvert_exporter": "python",
   "pygments_lexer": "ipython3",
   "version": "3.9.1"
  }
 },
 "nbformat": 4,
 "nbformat_minor": 4
}
