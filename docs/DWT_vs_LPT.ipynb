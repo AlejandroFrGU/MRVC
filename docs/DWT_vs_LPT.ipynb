{
 "cells": [
  {
   "cell_type": "markdown",
   "metadata": {},
   "source": [
    "# DWT vs LPT"
   ]
  },
  {
   "cell_type": "code",
   "execution_count": null,
   "metadata": {},
   "outputs": [],
   "source": [
    "import urllib.request\n",
    "import cv2\n",
    "import numpy as np\n",
    "import pywt\n",
    "from matplotlib import pyplot as plt\n",
    "%matplotlib inline"
   ]
  },
  {
   "cell_type": "code",
   "execution_count": null,
   "metadata": {},
   "outputs": [],
   "source": [
    "# Input lena.\n",
    "HTTP_response = urllib.request.urlopen('http://www.hpca.ual.es/~vruiz/images/lena.png')\n",
    "arr = np.asarray(bytearray(HTTP_response.read()), dtype=np.uint8)\n",
    "BGR = cv2.imdecode(arr,-1)\n",
    "Y = cv2.cvtColor(BGR, cv2.COLOR_BGR2YCrCb)[:,:,0]"
   ]
  },
  {
   "cell_type": "code",
   "execution_count": null,
   "metadata": {},
   "outputs": [],
   "source": [
    "# Compute 1-iteration 2D-DWT of lena.\n",
    "wavelet = \"bior1.3\"\n",
    "LL, (LH, HL, HH) = pywt.dwt2(Y, wavelet, mode=\"per\")"
   ]
  },
  {
   "cell_type": "code",
   "execution_count": null,
   "metadata": {},
   "outputs": [],
   "source": [
    "# Show the original image and the DWT subbands.\n",
    "titles = [\"Original\", \"LL (approximation)\", \"LH (horizontal details)\",\n",
    "          \"HL (vertical details)\", \"HH (diagonal details)\"]\n",
    "fig = plt.figure(figsize=(12, 3))\n",
    "for i, a in enumerate([Y, LL, LH, HL, HH]):\n",
    "    print(titles[i], a.shape)\n",
    "    ax = fig.add_subplot(1, 5, i + 1)\n",
    "    ax.imshow(a, interpolation=\"nearest\", cmap=plt.cm.gray)\n",
    "    ax.set_title(titles[i], fontsize=10)\n",
    "    ax.set_xticks([])\n",
    "    ax.set_yticks([])\n",
    "\n",
    "fig.tight_layout()\n",
    "plt.show()"
   ]
  },
  {
   "cell_type": "code",
   "execution_count": null,
   "metadata": {},
   "outputs": [],
   "source": [
    "# Compute the inverse 1-iterations 2D-DWT of lena using only the\n",
    "# high frequency subbands. LL=0.\n",
    "H1_expanded = pywt.idwt2((None, (LH, HL, HH)), wavelet, mode='per') # Base of the LPT"
   ]
  },
  {
   "cell_type": "code",
   "execution_count": null,
   "metadata": {},
   "outputs": [],
   "source": [
    "# Show the second level of the pyramid.\n",
    "plt.imshow(LL, cmap=\"gray\")"
   ]
  },
  {
   "cell_type": "code",
   "execution_count": null,
   "metadata": {},
   "outputs": [],
   "source": [
    "# Show the first level of the pyramid.\n",
    "plt.imshow(H1_expanded, cmap=\"gray\")"
   ]
  },
  {
   "cell_type": "code",
   "execution_count": null,
   "metadata": {},
   "outputs": [],
   "source": []
  }
 ],
 "metadata": {
  "kernelspec": {
   "display_name": "Python 3",
   "language": "python",
   "name": "python3"
  },
  "language_info": {
   "codemirror_mode": {
    "name": "ipython",
    "version": 3
   },
   "file_extension": ".py",
   "mimetype": "text/x-python",
   "name": "python",
   "nbconvert_exporter": "python",
   "pygments_lexer": "ipython3",
   "version": "3.9.1"
  }
 },
 "nbformat": 4,
 "nbformat_minor": 1
}
