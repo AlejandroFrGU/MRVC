{
 "cells": [
  {
   "cell_type": "markdown",
   "metadata": {},
   "source": [
    "# Quantizing VS clipping"
   ]
  },
  {
   "cell_type": "code",
   "execution_count": 1,
   "metadata": {},
   "outputs": [],
   "source": [
    "sequence = \"bus\""
   ]
  },
  {
   "cell_type": "code",
   "execution_count": 2,
   "metadata": {},
   "outputs": [
    {
     "name": "stdout",
     "output_type": "stream",
     "text": [
      "bus_cif.y4m exists.\n",
      "ffmpeg version n4.3.1 Copyright (c) 2000-2020 the FFmpeg developers\n",
      "  built with gcc 10.2.0 (GCC)\n",
      "  configuration: --prefix=/usr --disable-debug --disable-static --disable-stripping --enable-amf --enable-avisynth --enable-cuda-llvm --enable-lto --enable-fontconfig --enable-gmp --enable-gnutls --enable-gpl --enable-ladspa --enable-libaom --enable-libass --enable-libbluray --enable-libdav1d --enable-libdrm --enable-libfreetype --enable-libfribidi --enable-libgsm --enable-libiec61883 --enable-libjack --enable-libmfx --enable-libmodplug --enable-libmp3lame --enable-libopencore_amrnb --enable-libopencore_amrwb --enable-libopenjpeg --enable-libopus --enable-libpulse --enable-librav1e --enable-libsoxr --enable-libspeex --enable-libsrt --enable-libssh --enable-libtheora --enable-libv4l2 --enable-libvidstab --enable-libvmaf --enable-libvorbis --enable-libvpx --enable-libwebp --enable-libx264 --enable-libx265 --enable-libxcb --enable-libxml2 --enable-libxvid --enable-nvdec --enable-nvenc --enable-shared --enable-version3\n",
      "  libavutil      56. 51.100 / 56. 51.100\n",
      "  libavcodec     58. 91.100 / 58. 91.100\n",
      "  libavformat    58. 45.100 / 58. 45.100\n",
      "  libavdevice    58. 10.100 / 58. 10.100\n",
      "  libavfilter     7. 85.100 /  7. 85.100\n",
      "  libswscale      5.  7.100 /  5.  7.100\n",
      "  libswresample   3.  7.100 /  3.  7.100\n",
      "  libpostproc    55.  7.100 / 55.  7.100\n",
      "Input #0, yuv4mpegpipe, from 'bus_cif.y4m':\n",
      "  Duration: 00:00:05.00, start: 0.000000, bitrate: 36496 kb/s\n",
      "    Stream #0:0: Video: rawvideo (I420 / 0x30323449), yuv420p(progressive), 352x288, SAR 128:117 DAR 1408:1053, 30 fps, 30 tbr, 30 tbn, 30 tbc\n",
      "Stream mapping:\n",
      "  Stream #0:0 -> #0:0 (rawvideo (native) -> png (native))\n",
      "Press [q] to stop, [?] for help\n",
      "Output #0, image2, to '/tmp/original_%03d.png':\n",
      "  Metadata:\n",
      "    encoder         : Lavf58.45.100\n",
      "    Stream #0:0: Video: png, rgb24, 352x288 [SAR 128:117 DAR 1408:1053], q=2-31, 200 kb/s, 30 fps, 30 tbn, 30 tbc\n",
      "    Metadata:\n",
      "      encoder         : Lavc58.91.100 png\n",
      "frame=  150 fps=0.0 q=-0.0 Lsize=N/A time=00:00:05.00 bitrate=N/A speed=6.92x    \n",
      "video:33372kB audio:0kB subtitle:0kB other streams:0kB global headers:0kB muxing overhead: unknown\n"
     ]
    }
   ],
   "source": [
    "!../sequences/$sequence/runme.sh"
   ]
  },
  {
   "cell_type": "markdown",
   "metadata": {},
   "source": [
    "## Clipping -> Quantizing"
   ]
  },
  {
   "cell_type": "code",
   "execution_count": 19,
   "metadata": {},
   "outputs": [],
   "source": [
    "!sed -z -i 's!    out = clip(YUV.to_RGB(E_k) + 128)\\n!    #out = clip(YUV.to_RGB(E_k) + 128)\\n!g' image_IPP_adaptive.py\n",
    "!sed -z -i 's!    #out = YUV.to_RGB(E_k)//2 + 128\\n!    out = YUV.to_RGB(E_k)//2 + 128\\n!g' image_IPP_adaptive.py\n",
    "!sed -z -i 's!    dq_E_k = YUV.from_RGB(frame.read(prefix, k) - 128)\\*1!    #dq_E_k = YUV.from_RGB(frame.read(prefix, k) - 128)\\*1!g' image_IPP_adaptive.py\n",
    "!sed -z -i 's!    #dq_E_k = YUV.from_RGB(frame.read(prefix, k) - 128)\\*2!    dq_E_k = YUV.from_RGB(frame.read(prefix, k) - 128)\\*2!g' image_IPP_adaptive.py"
   ]
  },
  {
   "cell_type": "code",
   "execution_count": 20,
   "metadata": {},
   "outputs": [
    {
     "name": "stdout",
     "output_type": "stream",
     "text": [
      "   134\t    #out = clip(YUV.to_RGB(E_k) + 128)\n",
      "   136\t    out = YUV.to_RGB(E_k)//2 + 128\n",
      "   107\t    dq_E_k = YUV.from_RGB(L.read(prefix + \"_from_mp4\", k))\n",
      "   144\t    #dq_E_k = YUV.from_RGB(frame.read(prefix, k))\n",
      "   146\t    #dq_E_k = YUV.from_RGB(frame.read(prefix, k) - 128)*1\n",
      "   148\t    dq_E_k = YUV.from_RGB(frame.read(prefix, k) - 128)*2\n",
      "   150\t    #dq_E_k = YUV.from_RGB(values.denorm(frame.read(prefix, k)/255, max, min))\n",
      "   151\t    #dq_E_k = YUV.from_RGB(frame.read(prefix, k))\n",
      "   159\t    dq_E_k = YUV.from_RGB(frame.read(prefix, k) - 128)\n"
     ]
    }
   ],
   "source": [
    "!cat -n image_IPP_adaptive.py | grep \"out =\" \n",
    "!cat -n image_IPP_adaptive.py | grep \"dq_E_k = YUV\" "
   ]
  },
  {
   "cell_type": "code",
   "execution_count": 21,
   "metadata": {
    "scrolled": true
   },
   "outputs": [
    {
     "name": "stdout",
     "output_type": "stream",
     "text": [
      "     1\tQ_step: 21 BPP: 0.3034538089225589 KBPS: 2768.664 Average AMSE: 82.52317960420173\r\n",
      "     2\tQ_step: 24 BPP: 0.2197434413580247 KBPS: 2004.904 Average AMSE: 128.2978638380331\r\n",
      "     3\tQ_step: 27 BPP: 0.15657004068462402 KBPS: 1428.52 Average AMSE: 195.3803177171016\r\n",
      "     4\tQ_step: 30 BPP: 0.11080509960718295 KBPS: 1010.968 Average AMSE: 290.35288606551626\r\n",
      "     5\tQ_step: 33 BPP: 0.0792929292929293 KBPS: 723.456 Average AMSE: 420.1299957035634\r\n",
      "     6\tQ_step: 36 BPP: 0.05868406285072952 KBPS: 535.424 Average AMSE: 588.6360510486812\r\n",
      "     7\tQ_step: 39 BPP: 0.046035879629629635 KBPS: 420.024 Average AMSE: 783.7232429547205\r\n"
     ]
    }
   ],
   "source": [
    "!python RD_curve.py 1> >(tee /tmp/output >&1) | grep BPP | grep Average | cat -n"
   ]
  },
  {
   "cell_type": "code",
   "execution_count": 22,
   "metadata": {},
   "outputs": [],
   "source": [
    "!grep BPP /tmp/output | grep Average | cut -d ' ' -f 4,9 | tr ' ' '\\t'  > /tmp/quantizing.txt"
   ]
  },
  {
   "cell_type": "code",
   "execution_count": 23,
   "metadata": {},
   "outputs": [
    {
     "name": "stdout",
     "output_type": "stream",
     "text": [
      "0.3034538089225589\t82.52317960420173\r\n",
      "0.2197434413580247\t128.2978638380331\r\n",
      "0.15657004068462402\t195.3803177171016\r\n",
      "0.11080509960718295\t290.35288606551626\r\n",
      "0.0792929292929293\t420.1299957035634\r\n",
      "0.05868406285072952\t588.6360510486812\r\n",
      "0.046035879629629635\t783.7232429547205\r\n"
     ]
    }
   ],
   "source": [
    "!cat /tmp/quantizing.txt"
   ]
  },
  {
   "cell_type": "code",
   "execution_count": 24,
   "metadata": {},
   "outputs": [],
   "source": [
    "RD_quantizing = []\n",
    "with open(\"/tmp/quantizing.txt\", 'r') as f:\n",
    "    for line in f:\n",
    "        rate, _distortion = line.split('\\t')\n",
    "        RD_quantizing.append((float(rate), float(_distortion)))"
   ]
  },
  {
   "cell_type": "markdown",
   "metadata": {},
   "source": [
    "## Quantizing -> Clipping"
   ]
  },
  {
   "cell_type": "code",
   "execution_count": 25,
   "metadata": {},
   "outputs": [],
   "source": [
    "!sed -z -i 's!    #out = clip(YUV.to_RGB(E_k) + 128)\\n!    out = clip(YUV.to_RGB(E_k) + 128)\\n!g' image_IPP_adaptive.py\n",
    "!sed -z -i 's!    out = YUV.to_RGB(E_k)//2 + 128\\n!    #out = YUV.to_RGB(E_k)//2 + 128\\n!g' image_IPP_adaptive.py\n",
    "!sed -z -i 's!    #dq_E_k = YUV.from_RGB(frame.read(prefix, k) - 128)\\*1!    dq_E_k = YUV.from_RGB(frame.read(prefix, k) - 128)\\*1!g' image_IPP_adaptive.py\n",
    "!sed -z -i 's!    dq_E_k = YUV.from_RGB(frame.read(prefix, k) - 128)\\*2!    #dq_E_k = YUV.from_RGB(frame.read(prefix, k) - 128)\\*2!g' image_IPP_adaptive.py"
   ]
  },
  {
   "cell_type": "code",
   "execution_count": 26,
   "metadata": {},
   "outputs": [
    {
     "name": "stdout",
     "output_type": "stream",
     "text": [
      "   134\t    out = clip(YUV.to_RGB(E_k) + 128)\n",
      "   136\t    #out = YUV.to_RGB(E_k)//2 + 128\n",
      "   107\t    dq_E_k = YUV.from_RGB(L.read(prefix + \"_from_mp4\", k))\n",
      "   144\t    #dq_E_k = YUV.from_RGB(frame.read(prefix, k))\n",
      "   146\t    dq_E_k = YUV.from_RGB(frame.read(prefix, k) - 128)*1\n",
      "   148\t    #dq_E_k = YUV.from_RGB(frame.read(prefix, k) - 128)*2\n",
      "   150\t    #dq_E_k = YUV.from_RGB(values.denorm(frame.read(prefix, k)/255, max, min))\n",
      "   151\t    #dq_E_k = YUV.from_RGB(frame.read(prefix, k))\n",
      "   159\t    dq_E_k = YUV.from_RGB(frame.read(prefix, k) - 128)\n"
     ]
    }
   ],
   "source": [
    "!cat -n image_IPP_adaptive.py | grep \"out =\" \n",
    "!cat -n image_IPP_adaptive.py | grep \"dq_E_k = YUV\" "
   ]
  },
  {
   "cell_type": "code",
   "execution_count": 27,
   "metadata": {},
   "outputs": [
    {
     "name": "stdout",
     "output_type": "stream",
     "text": [
      "     1\tQ_step: 21 BPP: 0.438279496352413 KBPS: 3998.7920000000004 Average AMSE: 40.97219153338946\r\n",
      "     2\tQ_step: 24 BPP: 0.3275550645342312 KBPS: 2988.56 Average AMSE: 63.58114324670316\r\n",
      "     3\tQ_step: 27 BPP: 0.23963155864197533 KBPS: 2186.3599999999997 Average AMSE: 99.81794540456649\r\n",
      "     4\tQ_step: 30 BPP: 0.17150059624017958 KBPS: 1564.7440000000001 Average AMSE: 156.88415425960997\r\n",
      "     5\tQ_step: 33 BPP: 0.12153303872053872 KBPS: 1108.8480000000002 Average AMSE: 239.72344352816359\r\n",
      "     6\tQ_step: 36 BPP: 0.08728079405162739 KBPS: 796.3359999999999 Average AMSE: 350.3104936079545\r\n",
      "     7\tQ_step: 39 BPP: 0.06542683782267115 KBPS: 596.9440000000001 Average AMSE: 496.22877867213805\r\n"
     ]
    }
   ],
   "source": [
    "!python RD_curve.py 1> >(tee /tmp/output >&1) | grep BPP | grep Average | cat -n"
   ]
  },
  {
   "cell_type": "code",
   "execution_count": 28,
   "metadata": {},
   "outputs": [],
   "source": [
    "!grep BPP /tmp/output | grep Average | cut -d ' ' -f 4,9 | tr ' ' '\\t'  > /tmp/clipping.txt"
   ]
  },
  {
   "cell_type": "code",
   "execution_count": 29,
   "metadata": {},
   "outputs": [
    {
     "name": "stdout",
     "output_type": "stream",
     "text": [
      "0.438279496352413\t40.97219153338946\r\n",
      "0.3275550645342312\t63.58114324670316\r\n",
      "0.23963155864197533\t99.81794540456649\r\n",
      "0.17150059624017958\t156.88415425960997\r\n",
      "0.12153303872053872\t239.72344352816359\r\n",
      "0.08728079405162739\t350.3104936079545\r\n",
      "0.06542683782267115\t496.22877867213805\r\n"
     ]
    }
   ],
   "source": [
    "!cat /tmp/clipping.txt"
   ]
  },
  {
   "cell_type": "code",
   "execution_count": 30,
   "metadata": {},
   "outputs": [],
   "source": [
    "RD_clipping = []\n",
    "with open(\"/tmp/clipping.txt\", 'r') as f:\n",
    "    for line in f:\n",
    "        rate, _distortion = line.split('\\t')\n",
    "        RD_clipping.append((float(rate), float(_distortion)))"
   ]
  },
  {
   "cell_type": "markdown",
   "metadata": {},
   "source": [
    "## Comparison"
   ]
  },
  {
   "cell_type": "code",
   "execution_count": 31,
   "metadata": {},
   "outputs": [
    {
     "data": {
      "image/png": "[encoded data removed]",
      "text/plain": [
       "<Figure size 900x600 with 1 Axes>"
      ]
     },
     "metadata": {
      "needs_background": "light"
     },
     "output_type": "display_data"
    }
   ],
   "source": [
    "%matplotlib inline\n",
    "\n",
    "import matplotlib\n",
    "import matplotlib.pyplot as plt\n",
    "import matplotlib.axes as ax\n",
    "import pylab\n",
    "\n",
    "pylab.figure(dpi=150)\n",
    "pylab.plot(*zip(*RD_quantizing), label=\"Quantizing\")\n",
    "pylab.plot(*zip(*RD_clipping), label=\"Clipping\")\n",
    "pylab.title(f\"{sequence}\")\n",
    "pylab.xlabel(\"Bits/Pixel\")\n",
    "pylab.ylabel(\"AMSE\")\n",
    "plt.legend(loc='upper right')\n",
    "pylab.show()"
   ]
  },
  {
   "cell_type": "code",
   "execution_count": null,
   "metadata": {},
   "outputs": [],
   "source": []
  }
 ],
 "metadata": {
  "kernelspec": {
   "display_name": "Python 3",
   "language": "python",
   "name": "python3"
  },
  "language_info": {
   "codemirror_mode": {
    "name": "ipython",
    "version": 3
   },
   "file_extension": ".py",
   "mimetype": "text/x-python",
   "name": "python",
   "nbconvert_exporter": "python",
   "pygments_lexer": "ipython3",
   "version": "3.9.2"
  }
 },
 "nbformat": 4,
 "nbformat_minor": 4
}
