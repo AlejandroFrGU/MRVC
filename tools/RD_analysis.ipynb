{
 "cells": [
  {
   "cell_type": "code",
   "execution_count": 84,
   "metadata": {},
   "outputs": [],
   "source": [
    "import pandas as pd\n",
    "import matplotlib.pyplot as plt\n",
    "plt.close('all')\n",
    "from ast import literal_eval as make_tuple\n",
    "import numpy as np"
   ]
  },
  {
   "cell_type": "code",
   "execution_count": 85,
   "metadata": {},
   "outputs": [
    {
     "name": "stdout",
     "output_type": "stream",
     "text": [
      "    Unnamed: 0                         HH004.png  \\\n",
      "0            0   (1, 2.0953410508897568, 506401)   \n",
      "1            1   (2, 31.346365898980036, 378859)   \n",
      "2            2    (4, 144.81563340928818, 76402)   \n",
      "3            3      (8, 394.8506244574653, 5527)   \n",
      "4            4     (16, 846.5294295925563, 3063)   \n",
      "5            5    (32, 1577.6066842990451, 2864)   \n",
      "6            6      (64, 2678.60963812934, 2864)   \n",
      "7            7    (128, 4252.730014784071, 2864)   \n",
      "8            8    (256, 6415.906721801757, 2864)   \n",
      "9            9    (512, 9296.684737887914, 2864)   \n",
      "10          10  (1024, 13036.484085218643, 2864)   \n",
      "11          11  (2048, 17789.322565511065, 2864)   \n",
      "\n",
      "                           HL004.png                         LH004.png  \\\n",
      "0    (1, 23721.995599365233, 713923)    (1, 264988.3603052436, 714535)   \n",
      "1    (2, 31013.928557061095, 623981)     (2, 307216.855050727, 633963)   \n",
      "2     (4, 39857.31315863715, 431424)   (4, 354294.63154703774, 472292)   \n",
      "3     (8, 50456.92633633084, 156542)    (8, 406578.7754318577, 243900)   \n",
      "4     (16, 63030.62919589572, 27555)   (16, 464439.41657741973, 72404)   \n",
      "5      (32, 77808.35978305392, 5626)    (32, 528259.2212636311, 15132)   \n",
      "6      (64, 95033.56607218424, 2972)     (64, 598434.4534618462, 4108)   \n",
      "7    (128, 114961.69444268123, 2864)    (128, 675372.7236553277, 2889)   \n",
      "8     (256, 137861.3843134223, 2864)    (256, 759495.4597754583, 2864)   \n",
      "9    (512, 164013.74713439943, 2864)     (512, 851235.966123725, 2864)   \n",
      "10  (1024, 193712.24817362468, 2864)   (1024, 950762.7712197537, 2864)   \n",
      "11  (2048, 227264.11288926867, 2864)  (2048, 1057023.3494984945, 2864)   \n",
      "\n",
      "                            LL004.png                         HH003.png  \\\n",
      "0      (1, 1173082.325123698, 816000)  (1, 3211590.0479724803, 1140922)   \n",
      "1     (2, 1298169.4636180284, 729509)   (2, 3395624.971563856, 1063564)   \n",
      "2      (4, 1432554.523969252, 630349)    (4, 3557630.387167901, 984344)   \n",
      "3     (8, 1575978.9176116944, 525252)   (8, 3721868.8382520885, 899290)   \n",
      "4    (16, 1730406.3662950303, 418521)  (16, 3880023.1635968015, 808576)   \n",
      "5    (32, 1895004.1436713324, 312800)  (32, 4047856.7691369625, 712976)   \n",
      "6    (64, 2072442.8718693033, 217252)    (64, 4226321.95015998, 612216)   \n",
      "7   (128, 2260185.3831825084, 120563)  (128, 4401510.308983969, 498786)   \n",
      "8     (256, 2460185.841014269, 35018)  (256, 4588954.021468912, 363961)   \n",
      "9     (512, 2642273.8195694988, 3990)  (512, 4782622.612133382, 195715)   \n",
      "10    (1024, 2853383.834876234, 2864)  (1024, 4976635.445497097, 57011)   \n",
      "11   (2048, 3045203.7419108753, 2864)  (2048, 5177017.330182021, 10371)   \n",
      "\n",
      "                            HL003.png                           LH003.png  \\\n",
      "0     (1, 5384568.400039944, 1281940)     (1, 8401700.322296482, 1362554)   \n",
      "1     (2, 5587414.544188164, 1213528)     (2, 8714927.166552667, 1310107)   \n",
      "2    (4, 5798015.3372064885, 1140514)     (4, 9040713.177469075, 1248666)   \n",
      "3     (8, 6014822.227564629, 1062880)     (8, 9371541.122388035, 1180021)   \n",
      "4     (16, 6249425.372054105, 982672)    (16, 9728935.714471232, 1105833)   \n",
      "5    (32, 6479895.7783263475, 897207)   (32, 10083939.033440823, 1026976)   \n",
      "6     (64, 6723027.387712267, 805953)     (64, 10452323.10677436, 943334)   \n",
      "7    (128, 6971234.586893651, 712099)   (128, 10813796.457032133, 853810)   \n",
      "8    (256, 7233138.877745633, 615894)   (256, 11169393.415021159, 764594)   \n",
      "9    (512, 7505691.686461995, 501536)   (512, 11520523.250908203, 669673)   \n",
      "10  (1024, 7789041.219237536, 351514)  (1024, 11869731.694448717, 566422)   \n",
      "11  (2048, 8089345.391056111, 170318)  (2048, 12216667.315739611, 443623)   \n",
      "\n",
      "                            LL003.png                          HH002.png  ...  \\\n",
      "0     (1, 12516629.291959772, 815099)     (1, 16319493.07831102, 779504)  ...   \n",
      "1     (2, 12853131.652391493, 728526)    (2, 16661088.884345908, 718753)  ...   \n",
      "2     (4, 13164653.930378485, 629585)     (4, 17035521.28630846, 623059)  ...   \n",
      "3     (8, 13472493.763116252, 524328)    (8, 17433769.436392147, 509601)  ...   \n",
      "4    (16, 13780496.208799506, 417348)   (16, 17832801.000276692, 475402)  ...   \n",
      "5    (32, 14063487.903192138, 311598)    (32, 18231625.36247518, 463057)  ...   \n",
      "6    (64, 14356111.371862521, 216077)    (64, 18659740.94629225, 415326)  ...   \n",
      "7   (128, 14655064.254094511, 119394)  (128, 19074552.746216703, 114660)  ...   \n",
      "8    (256, 14962207.849988809, 34472)   (256, 19465771.028268635, 20251)  ...   \n",
      "9     (512, 15294579.972992009, 4000)    (512, 19855982.933147788, 4256)  ...   \n",
      "10    (1024, 15622580.70127916, 2864)   (1024, 20271037.424061347, 2946)  ...   \n",
      "11   (2048, 15968373.993612736, 2864)   (2048, 20669971.974407345, 2864)  ...   \n",
      "\n",
      "                            LH002.png                          LL002.png  \\\n",
      "0     (1, 25583169.21464247, 1127570)    (1, 31019404.877599485, 815754)   \n",
      "1    (2, 26007286.327221137, 1049649)    (2, 31491123.186948378, 729140)   \n",
      "2     (4, 26443792.839036256, 967022)    (4, 31971395.548499007, 629997)   \n",
      "3      (8, 26888588.83693149, 876627)    (8, 32434174.602145523, 524916)   \n",
      "4    (16, 27325399.730314128, 786645)    (16, 32882631.40657986, 418285)   \n",
      "5     (32, 27784080.07396722, 704697)   (32, 33347688.446804542, 312416)   \n",
      "6    (64, 28234699.904289752, 611112)    (64, 33824289.72943183, 216830)   \n",
      "7    (128, 28688721.54594584, 499790)  (128, 34282913.194765896, 119775)   \n",
      "8    (256, 29136854.76044027, 382256)    (256, 34770630.81547661, 34293)   \n",
      "9   (512, 29616988.827998858, 233314)     (512, 35239896.74179687, 3966)   \n",
      "10  (1024, 30088301.200408667, 95506)    (1024, 35720459.70518507, 2864)   \n",
      "11   (2048, 30556448.07161072, 30590)    (2048, 36211306.20615465, 2864)   \n",
      "\n",
      "                            HH001.png                           HL001.png  \\\n",
      "0     (1, 36707423.23682671, 1347084)     (1, 43036167.65578132, 1419851)   \n",
      "1     (2, 37222520.27969164, 1287905)     (2, 43535555.16099379, 1381159)   \n",
      "2    (4, 37762399.226024985, 1221342)     (4, 44039926.24495043, 1328983)   \n",
      "3    (8, 38271764.640115425, 1148182)     (8, 44549060.35283149, 1264523)   \n",
      "4    (16, 38814209.53752903, 1070364)      (16, 45077949.425499, 1191123)   \n",
      "5     (32, 39365110.80772454, 989327)    (32, 45632124.66132622, 1112149)   \n",
      "6     (64, 39884785.62719225, 901725)    (64, 46181960.21053867, 1028944)   \n",
      "7    (128, 40437092.14055949, 810961)    (128, 46745437.71013882, 941873)   \n",
      "8    (256, 41003313.51198364, 718657)   (256, 47322437.944739245, 851542)   \n",
      "9   (512, 41545493.643842906, 615017)    (512, 47904513.50057624, 758246)   \n",
      "10  (1024, 42060548.39846307, 495695)   (1024, 48475913.51672913, 658019)   \n",
      "11  (2048, 42555728.32941346, 348151)  (2048, 49054805.694931574, 547249)   \n",
      "\n",
      "                             LH001.png                         LL001.png  \\\n",
      "0      (1, 49613370.12214695, 1428122)    (1, 56189650.42645705, 815015)   \n",
      "1      (2, 50142404.78899156, 1402556)    (2, 56729232.66495836, 728244)   \n",
      "2      (4, 50665157.19181817, 1354119)    (4, 57256874.48855476, 628968)   \n",
      "3      (8, 51177322.23506327, 1291526)    (8, 57765897.36140408, 523845)   \n",
      "4    (16, 51693842.348471686, 1219992)   (16, 58271553.76971064, 417417)   \n",
      "5     (32, 52223162.41850064, 1142458)   (32, 58765827.88654338, 311664)   \n",
      "6     (64, 52760047.34881903, 1060193)  (64, 59268942.236622594, 215904)   \n",
      "7     (128, 53326612.09981595, 975005)   (128, 59799089.2047771, 119454)   \n",
      "8    (256, 53875238.237448536, 886041)   (256, 60334885.11681932, 34131)   \n",
      "9     (512, 54453856.41954075, 795682)     (512, 60884958.8222602, 3900)   \n",
      "10   (1024, 55032668.20640876, 701272)   (1024, 61436588.00927653, 2864)   \n",
      "11  (2048, 55630649.901478484, 602007)   (2048, 61966549.50348191, 2864)   \n",
      "\n",
      "                          HH000.png                        HL000.png  \\\n",
      "0    (1, 62523371.74942627, 506184)   (1, 68564491.96201727, 713127)   \n",
      "1    (2, 63064428.50216228, 378646)   (2, 69075539.36712897, 623010)   \n",
      "2    (4, 63561976.306725524, 76846)   (4, 69520978.50984132, 430692)   \n",
      "3      (8, 64056995.10253248, 5128)   (8, 69973731.25389825, 155946)   \n",
      "4      (16, 64532643.6058859, 3092)   (16, 70424475.30252442, 27461)   \n",
      "5     (32, 65021122.90667339, 2864)    (32, 70892535.38717481, 5575)   \n",
      "6     (64, 65510171.13354317, 2864)     (64, 71364877.3041605, 2989)   \n",
      "7    (128, 65995923.37457764, 2864)   (128, 71833461.93590102, 2864)   \n",
      "8   (256, 66493040.493839934, 2864)   (256, 72318009.88185568, 2864)   \n",
      "9     (512, 67007183.4102278, 2864)   (512, 72826332.96092713, 2864)   \n",
      "10  (1024, 67541480.62702163, 2864)  (1024, 73323972.68998067, 2864)   \n",
      "11  (2048, 68045748.59330297, 2864)   (2048, 73819088.0427847, 2864)   \n",
      "\n",
      "                          LH000.png                         LL000.png  \n",
      "0    (1, 74276363.24488282, 714821)     (1, 79496597.9405373, 815275)  \n",
      "1    (2, 74714517.33975199, 634070)    (2, 79887171.96348098, 728500)  \n",
      "2    (4, 75138602.32503161, 472381)    (4, 80290362.41143224, 629228)  \n",
      "3    (8, 75574126.71745797, 244345)     (8, 80706413.4453778, 524190)  \n",
      "4    (16, 75999006.06842211, 71880)    (16, 81130948.1279105, 417591)  \n",
      "5    (32, 76437277.82740256, 15184)   (32, 81561875.76271519, 311997)  \n",
      "6     (64, 76870394.96278878, 4094)   (64, 81978708.89175951, 216054)  \n",
      "7     (128, 77314770.1400516, 2906)  (128, 82407149.10926276, 119498)  \n",
      "8    (256, 77781058.23507495, 2864)     (256, 82789462.376776, 34260)  \n",
      "9    (512, 78203618.43243463, 2864)    (512, 83188818.14920382, 3906)  \n",
      "10  (1024, 78640371.68726936, 2864)   (1024, 83603477.15019476, 2864)  \n",
      "11  (2048, 79076590.77151388, 2864)   (2048, 84002092.69682746, 2864)  \n",
      "\n",
      "[12 rows x 21 columns]\n"
     ]
    }
   ],
   "source": [
    "RD_data = pd.read_csv(\"RD.csv\")\n",
    "print(RD_data)"
   ]
  },
  {
   "cell_type": "code",
   "execution_count": 98,
   "metadata": {},
   "outputs": [
    {
     "data": {
      "text/plain": [
       "0        (1, 1173082.325123698, 816000)\n",
       "1       (2, 1298169.4636180284, 729509)\n",
       "2        (4, 1432554.523969252, 630349)\n",
       "3       (8, 1575978.9176116944, 525252)\n",
       "4      (16, 1730406.3662950303, 418521)\n",
       "5      (32, 1895004.1436713324, 312800)\n",
       "6      (64, 2072442.8718693033, 217252)\n",
       "7     (128, 2260185.3831825084, 120563)\n",
       "8       (256, 2460185.841014269, 35018)\n",
       "9       (512, 2642273.8195694988, 3990)\n",
       "10      (1024, 2853383.834876234, 2864)\n",
       "11     (2048, 3045203.7419108753, 2864)\n",
       "Name: LL004.png, dtype: object"
      ]
     },
     "execution_count": 98,
     "metadata": {},
     "output_type": "execute_result"
    }
   ],
   "source": [
    "RD_data['LL004.png']"
   ]
  },
  {
   "cell_type": "code",
   "execution_count": 95,
   "metadata": {},
   "outputs": [],
   "source": [
    "curve = []\n",
    "for row in RD_data['LL000.png']:\n",
    "    curve.append(make_tuple(row)[1:3][::-1])"
   ]
  },
  {
   "cell_type": "code",
   "execution_count": 96,
   "metadata": {},
   "outputs": [
    {
     "data": {
      "image/png": "[encoded data removed]",
      "text/plain": [
       "<Figure size 432x288 with 1 Axes>"
      ]
     },
     "metadata": {
      "needs_background": "light"
     },
     "output_type": "display_data"
    }
   ],
   "source": [
    "plt.scatter(*zip(*curve))\n",
    "plt.show()"
   ]
  },
  {
   "cell_type": "code",
   "execution_count": null,
   "metadata": {},
   "outputs": [],
   "source": []
  }
 ],
 "metadata": {
  "kernelspec": {
   "display_name": "Python 3",
   "language": "python",
   "name": "python3"
  },
  "language_info": {
   "codemirror_mode": {
    "name": "ipython",
    "version": 3
   },
   "file_extension": ".py",
   "mimetype": "text/x-python",
   "name": "python",
   "nbconvert_exporter": "python",
   "pygments_lexer": "ipython3",
   "version": "3.8.1"
  }
 },
 "nbformat": 4,
 "nbformat_minor": 2
}
